{
  "nbformat": 4,
  "nbformat_minor": 0,
  "metadata": {
    "colab": {
      "name": "[전처리] 기초통계 - 평균,  분산,  표준편차, 공분산, 상관계수, Rank 산출",
      "provenance": []
    },
    "kernelspec": {
      "name": "python3",
      "display_name": "Python 3"
    }
  },
  "cells": [
    {
      "cell_type": "markdown",
      "metadata": {
        "id": "3d4izUhQvh2_"
      },
      "source": [
        "### **주어진 리스트에 대해 평균, 분산, 표준편차 산출**"
      ]
    },
    {
      "cell_type": "markdown",
      "metadata": {
        "id": "AKWoc688-GpJ"
      },
      "source": [
        "* **평균**: 리스트 값들의 전체 합 / 값의 개수 n\n",
        "* **분산**: 편차의 제곱합\n",
        "* **표준편차**: 평균에 대한 오차, 분산의 루트값\n",
        "\n",
        "&nbsp;\n",
        "\n",
        "**표준편차를 구하는 이유**\n",
        "\n",
        "분산값은 편차를 제곱합(마이너스 값 우려)하여 산출된 값이므로, 실제 값보다 많이 동떨어져 있다. 따라서 표준편차를 구한다. 고로, 이는 원래 데이터값에 대한 오차범위의 근삿값이라고 할 수 있다.\n"
      ]
    },
    {
      "cell_type": "code",
      "metadata": {
        "id": "FXoiqiTQ9PHT"
      },
      "source": [
        "# 필요한 Lib Import\n",
        "\n",
        "import pandas as pd\n",
        "import numpy as np\n",
        "import matplotlib.pyplot as plt\n",
        "import random"
      ],
      "execution_count": null,
      "outputs": []
    },
    {
      "cell_type": "code",
      "metadata": {
        "id": "w1iZfYvBtEA1"
      },
      "source": [
        "# 샘플 리스트 'a' 생성\n",
        "\n",
        "a = np.array([243, 278, 184, 249, 207])"
      ],
      "execution_count": null,
      "outputs": []
    },
    {
      "cell_type": "code",
      "metadata": {
        "colab": {
          "base_uri": "https://localhost:8080/"
        },
        "id": "lSUihmGbb-vE",
        "outputId": "f990f929-66a0-458e-9620-94b017c91949"
      },
      "source": [
        "print('평균: ',sum(a)/len(a))\n",
        "print('분산: ',np.var(a))\n",
        "print('표준편차: ',np.std(a))"
      ],
      "execution_count": null,
      "outputs": [
        {
          "output_type": "stream",
          "text": [
            "평균:  232.2\n",
            "분산:  1090.96\n",
            "표준편차:  33.02968361943541\n"
          ],
          "name": "stdout"
        }
      ]
    },
    {
      "cell_type": "markdown",
      "metadata": {
        "id": "oh63KaOctEp_"
      },
      "source": [
        "### **공분산과 상관계수 산출**"
      ]
    },
    {
      "cell_type": "markdown",
      "metadata": {
        "id": "nckKR8fa-tFD"
      },
      "source": [
        "* **공분산** :  확률변수 X의 편차(평균으로부터 얼마나 떨어져 있는지)와 확률변수 Y의 편차를 곱한 것의 평균값\n",
        "\n",
        "\n",
        "공분산이  **0보다 크면 X가 증가할 때 Y도 증가**한다는 뜻이다. **공분산이 0보다 작으면 X가 증가할 때 Y는 감소**한다. **공분산이 0이면 두 변수 간에는 아무런 상관 관계가 없다**. 그러나 상관관계가 얼마나 큰지는 제대로 반영하지 못한다는 단점이 있다. 이를 해결하는 개념이 상관계수다.\n",
        "\n",
        "&nbsp;\n",
        "\n",
        "\n",
        "\n",
        "* **상관계수** : 확률변수의 절대적 크기에 영향을 받지 않도록 공분산을 단위화시킨 것. 즉, 공분산에 각 확률변수의 분산을 나눠준 것\n",
        "\n",
        "상관계수는 양의 상관관계가 있는지 or 음의 상관관계가 있는지 알려줄 뿐만 아니라, 그 상관성이 얼마나 큰지도 알려준다. **1 또는 -1에 가까울 수록 상관성이 큰 것이고, 0에 가까울 수록 상관성이 작은 것**이다. \n",
        "상관계수의 종류에는 피어슨 상관계수, 스피어만 상관계수, 켄달 상관계수 등이 있다.\n",
        "\n"
      ]
    },
    {
      "cell_type": "code",
      "metadata": {
        "id": "G7ZB0krot564",
        "colab": {
          "base_uri": "https://localhost:8080/"
        },
        "outputId": "b4ed6677-37c8-4c4a-eec1-3b1a54897ad9"
      },
      "source": [
        "b = np.array([88, 89, 83, 112, 104])\n",
        "data = pd.DataFrame({\"a\": a, \"b\": b})\n",
        "print('공분산 값 \\n',data.cov())\n",
        "print('\\n')\n",
        "print('상관계수 값 \\n',data.corr())"
      ],
      "execution_count": null,
      "outputs": [
        {
          "output_type": "stream",
          "text": [
            "공분산 값 \n",
            "         a      b\n",
            "a  1363.7   71.7\n",
            "b    71.7  149.7\n",
            "\n",
            "\n",
            "상관계수 값 \n",
            "          a        b\n",
            "a  1.00000  0.15869\n",
            "b  0.15869  1.00000\n"
          ],
          "name": "stdout"
        }
      ]
    },
    {
      "cell_type": "markdown",
      "metadata": {
        "id": "86iXLzwM2z8l"
      },
      "source": [
        "### **벡터의 Span**\n",
        "\n",
        "아래 벡터들의 Span을 산출해보겠습니다.\n",
        "\n",
        "\\begin{align}\n",
        "g = \\begin{bmatrix} 1 & 3 \\end{bmatrix}\n",
        "\\qquad\n",
        "h = \\begin{bmatrix} 2 & 6 \\end{bmatrix}\n",
        "\\end{align}"
      ]
    },
    {
      "cell_type": "code",
      "metadata": {
        "colab": {
          "base_uri": "https://localhost:8080/",
          "height": 287
        },
        "id": "i3kGnOn-0qZl",
        "outputId": "48f46a53-ac9b-4bdf-bc06-2f10ce94a7a5"
      },
      "source": [
        "g = [1,3]\n",
        "h = [2,6]\n",
        "\n",
        "plt.xlim(-10, 10)\n",
        "plt.ylim(-10, 10)\n",
        "\n",
        "x_vals = np.array(plt.gca().get_xlim())\n",
        "y_vals = 3 * x_vals\n",
        "\n",
        "plt.plot(x_vals, y_vals, '--', linewidth = 1)\n",
        "plt.arrow(0, 0, h[0], h[1], linewidth = 3, head_width = .5, head_length = .5, color = 'gray')\n",
        "plt.arrow(0, 0, g[0], g[1], linewidth = 3, head_width = .5, head_length = .5, color = 'brown')\n",
        "plt.show()\n",
        "print('숫자의 차이만 있을 뿐 방향과 길이가 같으므로, 같은 성질을 지니고 있다.')"
      ],
      "execution_count": null,
      "outputs": [
        {
          "output_type": "display_data",
          "data": {
            "image/png": "[encoded data removed]",
            "text/plain": [
              "<Figure size 432x288 with 1 Axes>"
            ]
          },
          "metadata": {
            "tags": [],
            "needs_background": "light"
          }
        },
        {
          "output_type": "stream",
          "text": [
            "숫자의 차이만 있을 뿐 방향과 길이가 같으므로, 같은 성질을 지니고 있다.\n"
          ],
          "name": "stdout"
        }
      ]
    },
    {
      "cell_type": "markdown",
      "metadata": {
        "id": "IpJwt9kw6v8U"
      },
      "source": [
        "### **Matrix Rank 산출**\n",
        "\n",
        "\\begin{align}\n",
        "P = \\begin{bmatrix} \n",
        "0 & 2 & 5 \\\\\n",
        " 3 & 6 & 12 \\\\\n",
        "3 & 2 & 2\n",
        "\\end{bmatrix}\n",
        "\\end{align}"
      ]
    },
    {
      "cell_type": "markdown",
      "metadata": {
        "id": "iVA81hhrBtL-"
      },
      "source": [
        "**Matrix Rank란?**\n",
        "\n",
        "선형대수에서 어떤 행렬 A의 **열계수(column rank)는 선형독립인 열 벡터의 최대 개수**다. 마찬가지로 **행계수(row rank)는 선형독립인 행 벡터의 최대 개수**를 뜻한다.\n",
        "\n",
        " \n",
        "행렬에서 **열계수와 행계수는 항상 같으며**, 이를 계수 정리(rank theorem)라고 한다.\n",
        "\n",
        " \n",
        "\n",
        "이에 따라 일반적으로 이 둘을 **구분없이 A의 계수(rank)**라고 부르며, 행렬 A의 계수는 **rk(A)**, 혹은 **rank A**로 표기한다.\n",
        "\n",
        "\n",
        "출처:  [R, Python 분석과 프로그래밍의 친구 (by R Friend)]"
      ]
    },
    {
      "cell_type": "code",
      "metadata": {
        "id": "8XeQZGvf5Pmn",
        "colab": {
          "base_uri": "https://localhost:8080/"
        },
        "outputId": "3891de04-5403-4cd8-992f-36e88adc2c7b"
      },
      "source": [
        "P = np.array([[0,2,5],\n",
        "              [3,6,12],\n",
        "              [3,2,2]])\n",
        "np.linalg.matrix_rank(P)"
      ],
      "execution_count": null,
      "outputs": [
        {
          "output_type": "execute_result",
          "data": {
            "text/plain": [
              "2"
            ]
          },
          "metadata": {
            "tags": []
          },
          "execution_count": 19
        }
      ]
    }
  ]
}