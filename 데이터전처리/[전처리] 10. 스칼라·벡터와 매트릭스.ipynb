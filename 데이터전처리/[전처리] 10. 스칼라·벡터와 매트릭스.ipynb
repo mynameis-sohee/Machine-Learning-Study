{
  "nbformat": 4,
  "nbformat_minor": 0,
  "metadata": {
    "colab": {
      "name": "[전처리] 스칼라·벡터와 매트릭스",
      "provenance": []
    },
    "kernelspec": {
      "name": "python3",
      "display_name": "Python 3"
    }
  },
  "cells": [
    {
      "cell_type": "markdown",
      "metadata": {
        "id": "yXA3GwWhY9KL"
      },
      "source": [
        "## **스칼라, 벡터**\n"
      ]
    },
    {
      "cell_type": "code",
      "metadata": {
        "id": "26hXc0M_HHL9"
      },
      "source": [
        "# 필요한 Lib import\n",
        "import math\n",
        "import matplotlib.pyplot as plt\n",
        "import numpy as np"
      ],
      "execution_count": null,
      "outputs": []
    },
    {
      "cell_type": "markdown",
      "metadata": {
        "id": "wrgqa6sWimbH"
      },
      "source": [
        "### **1.1 주어진 벡터, $\\vec{a}$, $\\vec{b}$ 를 그래프에 그리기**\n",
        "\n",
        "\\begin{align}\n",
        "\\vec{a} = \\begin{bmatrix} 8 \\\\ 12 \\end{bmatrix}\n",
        "\\qquad\n",
        "\\vec{b} = \\begin{bmatrix} 9 \\\\ 19 \\end{bmatrix}\n",
        "\\end{align}"
      ]
    },
    {
      "cell_type": "code",
      "metadata": {
        "colab": {
          "base_uri": "https://localhost:8080/",
          "height": 287
        },
        "id": "73wDcljtO2wC",
        "outputId": "d885b5c4-bb2d-4e1e-dd4e-6dd59b28f1aa"
      },
      "source": [
        "a=np.array([8,12])\n",
        "b=np.array([9,19])\n",
        "\n",
        "plt.arrow(0, 0, a[0], a[1], head_width = .5, head_length = .5, color = '#d63031')\n",
        "plt.arrow(0, 0, b[0], b[1], head_width = .5, head_length = .5, color = '#00b894')\n",
        "\n",
        "plt.xlim(0, 25)          \n",
        "plt.ylim(0, 25)"
      ],
      "execution_count": null,
      "outputs": [
        {
          "output_type": "execute_result",
          "data": {
            "text/plain": [
              "(0.0, 25.0)"
            ]
          },
          "metadata": {
            "tags": []
          },
          "execution_count": 15
        },
        {
          "output_type": "display_data",
          "data": {
            "image/png": "[encoded data removed]",
            "text/plain": [
              "<Figure size 432x288 with 1 Axes>"
            ]
          },
          "metadata": {
            "tags": [],
            "needs_background": "light"
          }
        }
      ]
    },
    {
      "cell_type": "markdown",
      "metadata": {
        "id": "QN6RU_3gizpw"
      },
      "source": [
        "### **1.2 $\\vec{a} - \\vec{b}$ 를 계산 후 위 결과 그래프에 같이 그리기**"
      ]
    },
    {
      "cell_type": "code",
      "metadata": {
        "colab": {
          "base_uri": "https://localhost:8080/",
          "height": 340
        },
        "id": "XmrWgsliQYas",
        "outputId": "50d4a505-6675-4662-fdc6-de6af37d80a2"
      },
      "source": [
        "c = a-b\n",
        "print(c)\n",
        "print('\\n')\n",
        "\n",
        "plt.arrow(0, 0, c[0], c[1], head_width = 0.5, head_length = 0.5, color = '#d63031')\n",
        "plt.xlim(-10,20)\n",
        "plt.ylim(-10,20)\n"
      ],
      "execution_count": null,
      "outputs": [
        {
          "output_type": "stream",
          "text": [
            "[-1 -7]\n",
            "\n",
            "\n"
          ],
          "name": "stdout"
        },
        {
          "output_type": "execute_result",
          "data": {
            "text/plain": [
              "(-10.0, 20.0)"
            ]
          },
          "metadata": {
            "tags": []
          },
          "execution_count": 30
        },
        {
          "output_type": "display_data",
          "data": {
            "image/png": "[encoded data removed]",
            "text/plain": [
              "<Figure size 432x288 with 1 Axes>"
            ]
          },
          "metadata": {
            "tags": [],
            "needs_background": "light"
          }
        }
      ]
    },
    {
      "cell_type": "markdown",
      "metadata": {
        "id": "b7qFxbKxZmI2"
      },
      "source": [
        "### **1.3 $\\vec{a}$ 를 Scale(곱하기)하고 (각각 $5$, $\\pi$, $-e$), 총 4개의 벡터를 그래프에 그리기**"
      ]
    },
    {
      "cell_type": "code",
      "metadata": {
        "id": "y-waw-TbRfSi"
      },
      "source": [
        "scale_1=a*5\n",
        "scale_2=a*math.pi\n",
        "scale_3=a*-math.e"
      ],
      "execution_count": null,
      "outputs": []
    },
    {
      "cell_type": "code",
      "metadata": {
        "colab": {
          "base_uri": "https://localhost:8080/",
          "height": 287
        },
        "id": "WWoA0zbrRy_g",
        "outputId": "12004214-5e73-4b5e-83ae-062d147b4b3f"
      },
      "source": [
        "plt.arrow(0, 0, a[0], a[1], head_width = 1.5, head_length = 1.5, color = '#e17055')\n",
        "plt.arrow(0, 0, scale_1[0], scale_1[1], head_width = 1.5, head_length = 1.5,color = '#d63031')\n",
        "plt.arrow(0, 0, scale_2[0], scale_2[1], head_width = 1.5, head_length = 1.5, color = '#00b894')\n",
        "plt.arrow(0, 0, scale_3[0], scale_3[1], head_width = 1.5, head_length = 1.5, color = '#0984e3')\n",
        "plt.xlim(-50,80)\n",
        "plt.ylim(-50,80)"
      ],
      "execution_count": null,
      "outputs": [
        {
          "output_type": "execute_result",
          "data": {
            "text/plain": [
              "(-50.0, 80.0)"
            ]
          },
          "metadata": {
            "tags": []
          },
          "execution_count": 41
        },
        {
          "output_type": "display_data",
          "data": {
            "image/png": "[encoded data removed]",
            "text/plain": [
              "<Figure size 432x288 with 1 Axes>"
            ]
          },
          "metadata": {
            "tags": [],
            "needs_background": "light"
          }
        }
      ]
    },
    {
      "cell_type": "markdown",
      "metadata": {
        "id": "1ZPVuJAlehu_"
      },
      "source": [
        "### **1.4 $c \\cdot d$ 계산하기 (내적)**\n",
        "\n",
        "\\begin{align}\n",
        "\\vec{c} = \\begin{bmatrix}4 & 7 & 20 & 19\\end{bmatrix}\n",
        "\\qquad\n",
        "\\vec{d} = \\begin{bmatrix}7 & 11 & 11 & 20\\end{bmatrix}\n",
        "\\end{align}\n"
      ]
    },
    {
      "cell_type": "code",
      "metadata": {
        "colab": {
          "base_uri": "https://localhost:8080/"
        },
        "id": "6NpMJ19vSl3u",
        "outputId": "3f1bacf6-1002-4e5d-ba5b-eace1c622fdf"
      },
      "source": [
        "c=np.array([4,7,20,19])\n",
        "d=np.array([7,11,11,20])\n",
        "np.dot(c,d)"
      ],
      "execution_count": null,
      "outputs": [
        {
          "output_type": "execute_result",
          "data": {
            "text/plain": [
              "705"
            ]
          },
          "metadata": {
            "tags": []
          },
          "execution_count": 51
        }
      ]
    },
    {
      "cell_type": "markdown",
      "metadata": {
        "id": "cLm8yokpfg9B"
      },
      "source": [
        "### **1.5 $e \\times f$ (행렬 곱)**\n",
        "\n",
        "\\begin{align}\n",
        "\\vec{e} = \\begin{bmatrix} -6 \\\\ -11 \\\\ -17 \\end{bmatrix}\n",
        "\\qquad\n",
        "\\vec{f} = \\begin{bmatrix} 13 & -4 & 19 \\end{bmatrix}\n",
        "\\end{align}"
      ]
    },
    {
      "cell_type": "code",
      "metadata": {
        "colab": {
          "base_uri": "https://localhost:8080/"
        },
        "id": "b_qyaEysT0s9",
        "outputId": "7067e736-c857-441c-f192-fd423133d498"
      },
      "source": [
        "e=np.array([[-6],[-11],[-17]])\n",
        "f=np.array([13,-4,9])\n",
        "e*f"
      ],
      "execution_count": null,
      "outputs": [
        {
          "output_type": "execute_result",
          "data": {
            "text/plain": [
              "array([[ -78,   24,  -54],\n",
              "       [-143,   44,  -99],\n",
              "       [-221,   68, -153]])"
            ]
          },
          "metadata": {
            "tags": []
          },
          "execution_count": 63
        }
      ]
    },
    {
      "cell_type": "markdown",
      "metadata": {
        "id": "-TN8wO2-h53s"
      },
      "source": [
        "### **1.8 $||g||$ 와 $||h||$ 계산.**\n",
        "\n",
        "\\begin{align}\n",
        "\\vec{g} = \\begin{bmatrix} -7 \\\\ 9 \\\\ 5 \\\\ -10 \\end{bmatrix}\n",
        "\\qquad\n",
        "\\vec{h} = \\begin{bmatrix} 1 \\\\ 1 \\\\ -8 \\\\ 17 \\end{bmatrix}\n",
        "\\end{align}"
      ]
    },
    {
      "cell_type": "code",
      "metadata": {
        "colab": {
          "base_uri": "https://localhost:8080/"
        },
        "id": "zQ3dP69EU4dj",
        "outputId": "2d4521bc-94d9-436b-ac50-23ce1cc174e6"
      },
      "source": [
        "g=np.array([[-7],[9],[5],[-10]])\n",
        "h=np.array([[1],[1],[-8],[17]])\n",
        "\n",
        "print(np.linalg.norm(g, ord=None, axis=None, keepdims=False))\n",
        "print(np.linalg.norm(h, ord=None, axis=None, keepdims=False))\n"
      ],
      "execution_count": null,
      "outputs": [
        {
          "output_type": "stream",
          "text": [
            "15.968719422671311\n",
            "18.841443681416774\n"
          ],
          "name": "stdout"
        }
      ]
    },
    {
      "cell_type": "markdown",
      "metadata": {
        "id": "njrWIMS-ZAoH"
      },
      "source": [
        "## **매트릭스**"
      ]
    },
    {
      "cell_type": "markdown",
      "metadata": {
        "id": "GjkcAVIOmOnn"
      },
      "source": [
        "### **2.1 다음을 python 에 선언**\n",
        "\n",
        "\\begin{align}\n",
        "A = \\begin{bmatrix}\n",
        "1 & 2 \\\\\n",
        "3 & 4 \\\\\n",
        "5 & 6\n",
        "\\end{bmatrix}\n",
        "\\qquad\n",
        "B = \\begin{bmatrix}\n",
        "7 & -12 & -19 \\\\\n",
        "\\end{bmatrix}\n",
        "\\qquad\n",
        "C = \\begin{bmatrix}\n",
        "14 & 10 & -11 \\\\\n",
        "-3 & 9 & -5\n",
        "\\end{bmatrix}\n",
        "\\qquad\n",
        "D = \\begin{bmatrix}\n",
        "1 & 0 & 0 \\\\\n",
        "0 & 1 & 0 \\\\\n",
        "0 & 0 & 1\n",
        "\\end{bmatrix}\n",
        "\\qquad\n",
        "E = \\begin{bmatrix}\n",
        "2 & -9 \\\\\n",
        "7 & 5\n",
        "\\end{bmatrix}\n",
        "\\end{align}"
      ]
    },
    {
      "cell_type": "code",
      "metadata": {
        "id": "vGTadeYTVo9u"
      },
      "source": [
        "A=np.array([[1,2],[3,4],[5,6]])\n",
        "B=np.array([7,-12,19])\n",
        "C=np.array([[14,10,-11],[-3,9,-5]])\n",
        "D=np.eye(3)\n",
        "E=np.array([[2,-9],[7,5]])"
      ],
      "execution_count": null,
      "outputs": []
    },
    {
      "cell_type": "markdown",
      "metadata": {
        "id": "CVZq7rC2TlPd"
      },
      "source": [
        "### **2.2 다음을 계산**"
      ]
    },
    {
      "cell_type": "code",
      "metadata": {
        "colab": {
          "base_uri": "https://localhost:8080/"
        },
        "id": "JWr4qm-cWJy0",
        "outputId": "bc74300f-8807-4186-c3b3-3f5bae19f42b"
      },
      "source": [
        "CD=C@D\n",
        "AE=A@E\n",
        "BA=B@A\n",
        "print('CD의 차원: ',CD.shape)\n",
        "print('AE의 차원: ',AE.shape)\n",
        "print('BA의 차원: ',BA.shape)"
      ],
      "execution_count": null,
      "outputs": [
        {
          "output_type": "stream",
          "text": [
            "CD의 차원:  (2, 3)\n",
            "AE의 차원:  (3, 2)\n",
            "BA의 차원:  (2,)\n"
          ],
          "name": "stdout"
        }
      ]
    },
    {
      "cell_type": "markdown",
      "metadata": {
        "id": "UTdVzPaeTmiu"
      },
      "source": [
        "### **2.3  $F^{T}$를 계산**\n",
        "\n",
        "\\begin{align}\n",
        "F = \n",
        "\\begin{bmatrix}\n",
        "15 & 2 & 8  \\\\\n",
        "-15 & -11 & 0  \\\\\n",
        "-17 & 13 & 17  \\\\\n",
        "-3 & -16 & -12 \n",
        "\\end{bmatrix}\n",
        "\\end{align}"
      ]
    },
    {
      "cell_type": "code",
      "metadata": {
        "colab": {
          "base_uri": "https://localhost:8080/"
        },
        "id": "Qwaqb5iDW2YR",
        "outputId": "bc31095d-1d47-47f4-cd56-fba44492e8f0"
      },
      "source": [
        "F=np.array([[15,2,8],[-15,-11,0],[-17,13,17],[-3,-16,-12]])\n",
        "F.T"
      ],
      "execution_count": null,
      "outputs": [
        {
          "output_type": "execute_result",
          "data": {
            "text/plain": [
              "array([[ 15, -15, -17,  -3],\n",
              "       [  2, -11,  13, -16],\n",
              "       [  8,   0,  17, -12]])"
            ]
          },
          "metadata": {
            "tags": []
          },
          "execution_count": 71
        }
      ]
    },
    {
      "cell_type": "markdown",
      "metadata": {
        "id": "jjD8dE4gTrms"
      },
      "source": [
        "\n",
        "##  **정사각 매트릭스**\n"
      ]
    },
    {
      "cell_type": "markdown",
      "metadata": {
        "id": "9N9JkPP2XhVw"
      },
      "source": [
        "### **3.1 $IG$  계산**\n",
        "\n",
        "\\begin{align}\n",
        "G= \n",
        "\\begin{bmatrix}\n",
        "-17 & 11 \\\\\n",
        "10 & 3 \n",
        "\\end{bmatrix}\n",
        "\\end{align}"
      ]
    },
    {
      "cell_type": "code",
      "metadata": {
        "id": "6b65SKrVXlE4"
      },
      "source": [
        "G=np.array([[-17,11],[10,3]])"
      ],
      "execution_count": null,
      "outputs": []
    },
    {
      "cell_type": "markdown",
      "metadata": {
        "id": "MJC0wL_0XiYH"
      },
      "source": [
        "### **3.2 $|H|$ 와 $|J|$ 계산**\n",
        "\n",
        "\\begin{align}\n",
        "H= \n",
        "\\begin{bmatrix}\n",
        "8 & 18 \\\\\n",
        "-4 & 12 \n",
        "\\end{bmatrix}\n",
        "\\qquad\n",
        "J= \n",
        "\\begin{bmatrix}\n",
        "-10 & 6 & -6 \\\\\n",
        "2 & 3 & -2 \\\\\n",
        "3 & -1 & -8\n",
        "\\end{bmatrix}\n",
        "\\end{align}\n"
      ]
    },
    {
      "cell_type": "code",
      "metadata": {
        "id": "Ani4-w86Xsvh"
      },
      "source": [
        "H=np.array([[8,18],[-4,12]])\n",
        "J=np.array([[-10,6,-6],[2,3,-2],[3,-1,-8]])"
      ],
      "execution_count": null,
      "outputs": []
    },
    {
      "cell_type": "code",
      "metadata": {
        "colab": {
          "base_uri": "https://localhost:8080/"
        },
        "id": "E8FnC1RMYMwx",
        "outputId": "8474172d-4fb7-45c8-9ad2-29ccdf6334de"
      },
      "source": [
        "np.linalg.det(H)"
      ],
      "execution_count": null,
      "outputs": [
        {
          "output_type": "execute_result",
          "data": {
            "text/plain": [
              "167.99999999999997"
            ]
          },
          "metadata": {
            "tags": []
          },
          "execution_count": 79
        }
      ]
    },
    {
      "cell_type": "code",
      "metadata": {
        "colab": {
          "base_uri": "https://localhost:8080/"
        },
        "id": "DjGSP6Z1YNoL",
        "outputId": "1def4844-28a5-42cb-d836-2bcba7449dab"
      },
      "source": [
        "np.linalg.det(J)"
      ],
      "execution_count": null,
      "outputs": [
        {
          "output_type": "execute_result",
          "data": {
            "text/plain": [
              "386.00000000000006"
            ]
          },
          "metadata": {
            "tags": []
          },
          "execution_count": 80
        }
      ]
    },
    {
      "cell_type": "markdown",
      "metadata": {
        "id": "2gZl1CFwrXSH"
      },
      "source": [
        "### **3.3 $H^{-1}$ 와 $J^{-1}$  계산**"
      ]
    },
    {
      "cell_type": "code",
      "metadata": {
        "colab": {
          "base_uri": "https://localhost:8080/"
        },
        "id": "wAvsmdkIXM9s",
        "outputId": "d3b40c31-a2fe-4dca-94bf-d0158ac2f68b"
      },
      "source": [
        "H_=np.linalg.inv(H)\n",
        "H_"
      ],
      "execution_count": null,
      "outputs": [
        {
          "output_type": "execute_result",
          "data": {
            "text/plain": [
              "array([[ 0.07142857, -0.10714286],\n",
              "       [ 0.02380952,  0.04761905]])"
            ]
          },
          "metadata": {
            "tags": []
          },
          "execution_count": 83
        }
      ]
    },
    {
      "cell_type": "code",
      "metadata": {
        "colab": {
          "base_uri": "https://localhost:8080/"
        },
        "id": "-V5a_tzHYSJA",
        "outputId": "b7bd5ab6-92fb-4905-8d0b-62625d328998"
      },
      "source": [
        "J_=np.linalg.inv(J)\n",
        "J_"
      ],
      "execution_count": null,
      "outputs": [
        {
          "output_type": "execute_result",
          "data": {
            "text/plain": [
              "array([[-0.06735751,  0.13989637,  0.01554404],\n",
              "       [ 0.02590674,  0.25388601, -0.08290155],\n",
              "       [-0.02849741,  0.02072539, -0.10880829]])"
            ]
          },
          "metadata": {
            "tags": []
          },
          "execution_count": 84
        }
      ]
    },
    {
      "cell_type": "markdown",
      "metadata": {
        "id": "Vvd4Pe86rjhW"
      },
      "source": [
        "### **3.4 $HH^{-1}$와 $J^{-1}J$를 계산후 비교**\n",
        "\n"
      ]
    },
    {
      "cell_type": "code",
      "metadata": {
        "colab": {
          "base_uri": "https://localhost:8080/"
        },
        "id": "A9Ngsjc3YUwr",
        "outputId": "2f673c6a-5c2a-40b7-b448-cacec7c63f29"
      },
      "source": [
        "H@H_"
      ],
      "execution_count": null,
      "outputs": [
        {
          "output_type": "execute_result",
          "data": {
            "text/plain": [
              "array([[1., 0.],\n",
              "       [0., 1.]])"
            ]
          },
          "metadata": {
            "tags": []
          },
          "execution_count": 85
        }
      ]
    },
    {
      "cell_type": "code",
      "metadata": {
        "colab": {
          "base_uri": "https://localhost:8080/"
        },
        "id": "fbyu6Hs1Yd-8",
        "outputId": "2bdf73c9-423b-453d-8841-56dae1e47e75"
      },
      "source": [
        "J@J_"
      ],
      "execution_count": null,
      "outputs": [
        {
          "output_type": "execute_result",
          "data": {
            "text/plain": [
              "array([[ 1.00000000e+00,  6.24500451e-17, -2.77555756e-17],\n",
              "       [ 0.00000000e+00,  1.00000000e+00,  2.77555756e-17],\n",
              "       [ 2.77555756e-17, -8.32667268e-17,  1.00000000e+00]])"
            ]
          },
          "metadata": {
            "tags": []
          },
          "execution_count": 86
        }
      ]
    },
    {
      "cell_type": "code",
      "metadata": {
        "colab": {
          "base_uri": "https://localhost:8080/"
        },
        "id": "IIMqrsY5Yk00",
        "outputId": "7b647766-e3b6-4e96-f24d-ad6316b9774f"
      },
      "source": [
        "np.round(J@J_,3)"
      ],
      "execution_count": null,
      "outputs": [
        {
          "output_type": "execute_result",
          "data": {
            "text/plain": [
              "array([[ 1.,  0., -0.],\n",
              "       [ 0.,  1.,  0.],\n",
              "       [ 0., -0.,  1.]])"
            ]
          },
          "metadata": {
            "tags": []
          },
          "execution_count": 87
        }
      ]
    },
    {
      "cell_type": "markdown",
      "metadata": {
        "id": "ScrNZfKEYqaI"
      },
      "source": [
        "$HH^{-1}$와 $J^{-1}J$ 는 해당행렬에 역행렬을 곱한 것이기 때문에, 단위매트릭스 형태가 나왔습니다. 특히 $J^{-1}J$는 소수점 형태여서 숫자가 매우 미세하게 나왔지만, round를 통해 반올림을 한 결과 $HH^{-1}$처럼 단위매트릭스 형태임을 알수있습니다. \n",
        "\n",
        "**결론: 해당 두 값은 차원의 수만 다를 뿐, 단위매트릭스라는 공통점이 있다.**"
      ]
    },
    {
      "cell_type": "markdown",
      "metadata": {
        "id": "3p45qAIGFTBZ"
      },
      "source": [
        "### **2개의 벡터와, error의 타입을 입력받아 그 결과값을 계산하는 함수 작성**\n",
        "\n",
        "에러타입: MSE, MAE\n"
      ]
    },
    {
      "cell_type": "code",
      "metadata": {
        "id": "tUBdnS0fZLxP"
      },
      "source": [
        "def MSE(a,b):\n",
        "  return np.mean(np.square(np.array(a)-np.array(b)))\n",
        "\n",
        "def MAE(a,b):\n",
        "  return np.mean(np.abs(np.array(a)-np.array(b)))"
      ],
      "execution_count": null,
      "outputs": []
    },
    {
      "cell_type": "code",
      "metadata": {
        "colab": {
          "base_uri": "https://localhost:8080/"
        },
        "id": "1T-rYSU6Z6_n",
        "outputId": "9b351a11-adab-4cce-cb76-d0b44c13d27a"
      },
      "source": [
        "MSE([1,2,3],[4,5,6])"
      ],
      "execution_count": null,
      "outputs": [
        {
          "output_type": "execute_result",
          "data": {
            "text/plain": [
              "9.0"
            ]
          },
          "metadata": {
            "tags": []
          },
          "execution_count": 96
        }
      ]
    },
    {
      "cell_type": "code",
      "metadata": {
        "colab": {
          "base_uri": "https://localhost:8080/"
        },
        "id": "HytJUne2Z-zy",
        "outputId": "0468fbaf-a3b7-42b4-971d-eb736e586a39"
      },
      "source": [
        "MAE([1,2,3],[4,5,6])"
      ],
      "execution_count": null,
      "outputs": [
        {
          "output_type": "execute_result",
          "data": {
            "text/plain": [
              "3.0"
            ]
          },
          "metadata": {
            "tags": []
          },
          "execution_count": 97
        }
      ]
    }
  ]
}