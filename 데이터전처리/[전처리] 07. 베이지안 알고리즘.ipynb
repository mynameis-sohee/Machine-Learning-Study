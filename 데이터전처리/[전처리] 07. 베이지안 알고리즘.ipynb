{
  "nbformat": 4,
  "nbformat_minor": 0,
  "metadata": {
    "colab": {
      "name": "[전처리] 07. 베이지안 알고리즘",
      "provenance": [],
      "collapsed_sections": []
    },
    "kernelspec": {
      "display_name": "Python 3",
      "language": "python",
      "name": "python3"
    },
    "language_info": {
      "codemirror_mode": {
        "name": "ipython",
        "version": 3
      },
      "file_extension": ".py",
      "mimetype": "text/x-python",
      "name": "python",
      "nbconvert_exporter": "python",
      "pygments_lexer": "ipython3",
      "version": "3.8.5"
    }
  },
  "cells": [
    {
      "cell_type": "markdown",
      "metadata": {
        "id": "P-DzzRk5bf0z"
      },
      "source": [
        "## **베이지안 알고리즘**\n",
        "\n",
        "약물 테스트에 대해서 베이지안을 적용 했습니다. 이번에는 코드를 사용하여 동일한 결과를 만들어보도록 하겠습니다.\n",
        "\n",
        "\n",
        "### **bayesian** \n",
        "**다양한 가설에 대한 기존에 알고 있는 확률값을 활용해 새로운(도출하고자 하는) 확률값을 구하는 통계방법**\n",
        "\n",
        "### **frequent**\n",
        "**확률을 여러 차례 시행하여 상대적인 빈도로 추정치를 구하는 통계방법**\n",
        "\n",
        "\n",
        "&nbsp;\n",
        "\n",
        "\n",
        "---\n",
        "\n",
        "\n",
        "\n",
        "`def prob_drunk_given_positive(prob_drunk_prior, false_positive_rate, true_positive_rate):` \n",
        "\n",
        "베이지안을 적용하기 위해서는 3개의 변수만 필요로합니다. \n",
        "\n",
        "이번 과제 문제에서는\n",
        "- 8%의 false positive rate, \n",
        "- 100%의 true positive rate \n",
        "- 그리고 일반적으로 전체 인구의 1/1000만이 실제로 음주운전을 한다고 가정하도록 하겠습니다.\n",
        " \n",
        " - 한번의 음주 테스트에서 양성이 나온 경우 실제로 음주를 했을 확률은 어느정도 입니까?\n",
        " - 두번의 음주 테스트에서 양성이 나온 경우 실제로 음주를 했을 확률은 어느정도 입니까?\n",
        " - 실제로 음주 했을 확률이 95% 이상으로 보장되기 위해서는, 몇번의 음주 테스트가 필요로 합니까?\n"
      ]
    },
    {
      "cell_type": "code",
      "metadata": {
        "id": "AFrrCB4SI6CU"
      },
      "source": [
        "def prob_drunk_given_positive(prob_drunk_prior, false_positive_rate, true_positive_rate):\n",
        "  a= (prob_drunk_prior*true_positive_rate)/((true_positive_rate*prob_drunk_prior)+(false_positive_rate*(1-prob_drunk_prior)))\n",
        "  return a"
      ],
      "execution_count": null,
      "outputs": []
    },
    {
      "cell_type": "code",
      "metadata": {
        "colab": {
          "base_uri": "https://localhost:8080/"
        },
        "id": "xpVhZyUnbf7o",
        "outputId": "fa3dd9a4-af3a-45ed-f6e5-71e160c3756c"
      },
      "source": [
        "test_1=prob_drunk_given_positive((1/1000),0.08,1)\n",
        "print('한번의 음주 테스트에서 양성이 나온 경우 실제로 음주를 했을 확률은 어느정도 입니까? ',test_1)"
      ],
      "execution_count": null,
      "outputs": [
        {
          "output_type": "stream",
          "text": [
            "한번의 음주 테스트에서 양성이 나온 경우 실제로 음주를 했을 확률은 어느정도 입니까?  0.012357884330202669\n"
          ],
          "name": "stdout"
        }
      ]
    },
    {
      "cell_type": "code",
      "metadata": {
        "colab": {
          "base_uri": "https://localhost:8080/"
        },
        "id": "p3STTrCe8mJk",
        "outputId": "15bea196-3bd4-4b9e-8312-d7dad8f25d5d"
      },
      "source": [
        "test_2=prob_drunk_given_positive(test_1,0.08,1)\n",
        "print('두번의 음주 테스트에서 양성이 나온 경우 실제로 음주를 했을 확률은 어느정도 입니까? ',test_2)"
      ],
      "execution_count": null,
      "outputs": [
        {
          "output_type": "stream",
          "text": [
            "두번의 음주 테스트에서 양성이 나온 경우 실제로 음주를 했을 확률은 어느정도 입니까?  0.9606895076105054\n"
          ],
          "name": "stdout"
        }
      ]
    },
    {
      "cell_type": "code",
      "metadata": {
        "colab": {
          "base_uri": "https://localhost:8080/"
        },
        "id": "t0spEXYyWfPB",
        "outputId": "89742aa0-b4b0-4d96-d50f-e741e0647d4e"
      },
      "source": [
        "pro=1/1000\n",
        "i=0\n",
        "\n",
        "while pro < 0.95 : \n",
        "  pro=prob_drunk_given_positive(pro,0.08,1)\n",
        "  i=i+1\n",
        "else:\n",
        "  print(i,'번의 음주 테스트가 필요합니다.')"
      ],
      "execution_count": null,
      "outputs": [
        {
          "output_type": "stream",
          "text": [
            "4 번의 음주 테스트가 필요합니다.\n"
          ],
          "name": "stdout"
        }
      ]
    }
  ]
}