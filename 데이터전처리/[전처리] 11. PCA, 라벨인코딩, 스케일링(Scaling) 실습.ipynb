{
  "nbformat": 4,
  "nbformat_minor": 0,
  "metadata": {
    "colab": {
      "name": "[전처리] PCA, 라벨인코딩, 스케일링 실습",
      "provenance": [],
      "collapsed_sections": []
    },
    "kernelspec": {
      "name": "python3",
      "display_name": "Python 3"
    }
  },
  "cells": [
    {
      "cell_type": "markdown",
      "metadata": {
        "id": "5HY0R4u7anIr"
      },
      "source": [
        "### **`eigenvalue`와 `eigenvector` 산출 방법**"
      ]
    },
    {
      "cell_type": "code",
      "metadata": {
        "id": "HDqmKGFS21PD",
        "colab": {
          "base_uri": "https://localhost:8080/"
        },
        "outputId": "6ab17c39-fba5-41c0-aec8-8d1237cbe695"
      },
      "source": [
        "# 필요한 Lib(Numpy) Import\n",
        "import numpy as np\n",
        "\n",
        "# 예시 array를 'a'로 지정\n",
        "a = np.array([[4,2],[2,4]])\n",
        "\n",
        "# eigenvalue, eigenvector 산출\n",
        "eigenvalue, eigenvector = np.linalg.eig(a)\n",
        "print(\"eigenvalue: \", eigenvalue)\n",
        "print(\"eigenvector: \", eigenvector)"
      ],
      "execution_count": null,
      "outputs": [
        {
          "output_type": "stream",
          "text": [
            "eigenvalue:  [6. 2.]\n",
            "eigenvector:  [[ 0.70710678 -0.70710678]\n",
            " [ 0.70710678  0.70710678]]\n"
          ],
          "name": "stdout"
        }
      ]
    },
    {
      "cell_type": "markdown",
      "metadata": {
        "id": "7iEheetpbJdN"
      },
      "source": [
        "### **Penguins DataSet의 Numerical Feature 6개에 대해 PCA 시행**\n",
        "\n",
        "<img src='https://github.com/allisonhorst/palmerpenguins/raw/master/man/figures/lter_penguins.png' width = 450>\n",
        "\n",
        "\n",
        "**데이터셋 Load 링크**\n",
        "- [Palmer-penguins](https://github.com/allisonhorst/palmerpenguins) \n",
        "<http://seaborn.pydata.org/generated/seaborn.load_dataset.html#seaborn.load_dataset>\n",
        "\n"
      ]
    },
    {
      "cell_type": "code",
      "metadata": {
        "id": "52b2hh45jgkR",
        "colab": {
          "base_uri": "https://localhost:8080/",
          "height": 402
        },
        "outputId": "03a2f50f-4ced-4d56-e4ad-5c1070d0ac96"
      },
      "source": [
        "# 필요한 Lib Import\n",
        "import pandas as pd\n",
        "import seaborn as sns\n",
        "from sklearn import preprocessing\n",
        "from sklearn.preprocessing import StandardScaler\n",
        "from sklearn.decomposition import PCA\n",
        "import matplotlib.pyplot as plt\n",
        "\n",
        "# 내장데이터에서 결측값 0으로 채운 뒤 데이터셋 Load (해당 모델링은 PCA 실습에 중점을 두었으므로, PCA 학습을 위한 최소한의 데이터 전처리만 진행합니다.)\n",
        "penguins = sns.load_dataset('penguins').fillna(0)\n",
        "penguins"
      ],
      "execution_count": null,
      "outputs": [
        {
          "output_type": "execute_result",
          "data": {
            "text/html": [
              "<div>\n",
              "<style scoped>\n",
              "    .dataframe tbody tr th:only-of-type {\n",
              "        vertical-align: middle;\n",
              "    }\n",
              "\n",
              "    .dataframe tbody tr th {\n",
              "        vertical-align: top;\n",
              "    }\n",
              "\n",
              "    .dataframe thead th {\n",
              "        text-align: right;\n",
              "    }\n",
              "</style>\n",
              "<table border=\"1\" class=\"dataframe\">\n",
              "  <thead>\n",
              "    <tr style=\"text-align: right;\">\n",
              "      <th></th>\n",
              "      <th>species</th>\n",
              "      <th>island</th>\n",
              "      <th>bill_length_mm</th>\n",
              "      <th>bill_depth_mm</th>\n",
              "      <th>flipper_length_mm</th>\n",
              "      <th>body_mass_g</th>\n",
              "      <th>sex</th>\n",
              "    </tr>\n",
              "  </thead>\n",
              "  <tbody>\n",
              "    <tr>\n",
              "      <th>0</th>\n",
              "      <td>Adelie</td>\n",
              "      <td>Torgersen</td>\n",
              "      <td>39.1</td>\n",
              "      <td>18.7</td>\n",
              "      <td>181.0</td>\n",
              "      <td>3750.0</td>\n",
              "      <td>Male</td>\n",
              "    </tr>\n",
              "    <tr>\n",
              "      <th>1</th>\n",
              "      <td>Adelie</td>\n",
              "      <td>Torgersen</td>\n",
              "      <td>39.5</td>\n",
              "      <td>17.4</td>\n",
              "      <td>186.0</td>\n",
              "      <td>3800.0</td>\n",
              "      <td>Female</td>\n",
              "    </tr>\n",
              "    <tr>\n",
              "      <th>2</th>\n",
              "      <td>Adelie</td>\n",
              "      <td>Torgersen</td>\n",
              "      <td>40.3</td>\n",
              "      <td>18.0</td>\n",
              "      <td>195.0</td>\n",
              "      <td>3250.0</td>\n",
              "      <td>Female</td>\n",
              "    </tr>\n",
              "    <tr>\n",
              "      <th>3</th>\n",
              "      <td>Adelie</td>\n",
              "      <td>Torgersen</td>\n",
              "      <td>0.0</td>\n",
              "      <td>0.0</td>\n",
              "      <td>0.0</td>\n",
              "      <td>0.0</td>\n",
              "      <td>0</td>\n",
              "    </tr>\n",
              "    <tr>\n",
              "      <th>4</th>\n",
              "      <td>Adelie</td>\n",
              "      <td>Torgersen</td>\n",
              "      <td>36.7</td>\n",
              "      <td>19.3</td>\n",
              "      <td>193.0</td>\n",
              "      <td>3450.0</td>\n",
              "      <td>Female</td>\n",
              "    </tr>\n",
              "    <tr>\n",
              "      <th>...</th>\n",
              "      <td>...</td>\n",
              "      <td>...</td>\n",
              "      <td>...</td>\n",
              "      <td>...</td>\n",
              "      <td>...</td>\n",
              "      <td>...</td>\n",
              "      <td>...</td>\n",
              "    </tr>\n",
              "    <tr>\n",
              "      <th>339</th>\n",
              "      <td>Gentoo</td>\n",
              "      <td>Biscoe</td>\n",
              "      <td>0.0</td>\n",
              "      <td>0.0</td>\n",
              "      <td>0.0</td>\n",
              "      <td>0.0</td>\n",
              "      <td>0</td>\n",
              "    </tr>\n",
              "    <tr>\n",
              "      <th>340</th>\n",
              "      <td>Gentoo</td>\n",
              "      <td>Biscoe</td>\n",
              "      <td>46.8</td>\n",
              "      <td>14.3</td>\n",
              "      <td>215.0</td>\n",
              "      <td>4850.0</td>\n",
              "      <td>Female</td>\n",
              "    </tr>\n",
              "    <tr>\n",
              "      <th>341</th>\n",
              "      <td>Gentoo</td>\n",
              "      <td>Biscoe</td>\n",
              "      <td>50.4</td>\n",
              "      <td>15.7</td>\n",
              "      <td>222.0</td>\n",
              "      <td>5750.0</td>\n",
              "      <td>Male</td>\n",
              "    </tr>\n",
              "    <tr>\n",
              "      <th>342</th>\n",
              "      <td>Gentoo</td>\n",
              "      <td>Biscoe</td>\n",
              "      <td>45.2</td>\n",
              "      <td>14.8</td>\n",
              "      <td>212.0</td>\n",
              "      <td>5200.0</td>\n",
              "      <td>Female</td>\n",
              "    </tr>\n",
              "    <tr>\n",
              "      <th>343</th>\n",
              "      <td>Gentoo</td>\n",
              "      <td>Biscoe</td>\n",
              "      <td>49.9</td>\n",
              "      <td>16.1</td>\n",
              "      <td>213.0</td>\n",
              "      <td>5400.0</td>\n",
              "      <td>Male</td>\n",
              "    </tr>\n",
              "  </tbody>\n",
              "</table>\n",
              "<p>344 rows × 7 columns</p>\n",
              "</div>"
            ],
            "text/plain": [
              "    species     island  bill_length_mm  ...  flipper_length_mm  body_mass_g     sex\n",
              "0    Adelie  Torgersen            39.1  ...              181.0       3750.0    Male\n",
              "1    Adelie  Torgersen            39.5  ...              186.0       3800.0  Female\n",
              "2    Adelie  Torgersen            40.3  ...              195.0       3250.0  Female\n",
              "3    Adelie  Torgersen             0.0  ...                0.0          0.0       0\n",
              "4    Adelie  Torgersen            36.7  ...              193.0       3450.0  Female\n",
              "..      ...        ...             ...  ...                ...          ...     ...\n",
              "339  Gentoo     Biscoe             0.0  ...                0.0          0.0       0\n",
              "340  Gentoo     Biscoe            46.8  ...              215.0       4850.0  Female\n",
              "341  Gentoo     Biscoe            50.4  ...              222.0       5750.0    Male\n",
              "342  Gentoo     Biscoe            45.2  ...              212.0       5200.0  Female\n",
              "343  Gentoo     Biscoe            49.9  ...              213.0       5400.0    Male\n",
              "\n",
              "[344 rows x 7 columns]"
            ]
          },
          "metadata": {
            "tags": []
          },
          "execution_count": 34
        }
      ]
    },
    {
      "cell_type": "code",
      "metadata": {
        "id": "aMKiusF9ktuc"
      },
      "source": [
        "# 라벨인코더를 활용해 인코딩을 수행합니다.\n",
        "\n",
        "le = preprocessing.LabelEncoder()\n",
        "le = le.fit(penguins['species'])\n",
        "penguins['species'] = le.transform(penguins['species'])\n",
        "\n",
        "le = le.fit(penguins['island'])\n",
        "penguins['island'] = le.transform(penguins['island'])"
      ],
      "execution_count": null,
      "outputs": []
    },
    {
      "cell_type": "code",
      "metadata": {
        "id": "Cc7eWy91mFBV"
      },
      "source": [
        "# 'sex' feature의 '0'은 이상치이므로, 삭제합니다. (해당 모델링은 PCA 실습에 중점을 두었으므로, PCA 학습을 위한 최소한의 데이터 전처리만 진행합니다.)\n",
        "\n",
        "penguins['sex'] = penguins['sex'].str.replace('0','')\n",
        "penguins.dropna(subset=['sex'],how='any',inplace=True,axis=0)"
      ],
      "execution_count": null,
      "outputs": []
    },
    {
      "cell_type": "code",
      "metadata": {
        "id": "YeFyPCdSnEC-",
        "colab": {
          "base_uri": "https://localhost:8080/"
        },
        "outputId": "d8c45563-7bb3-4bea-bbc7-8796a406a7cc"
      },
      "source": [
        "# 전처리가 잘 진행되었는지 확인합니다.\n",
        "penguins['sex'].unique()"
      ],
      "execution_count": null,
      "outputs": [
        {
          "output_type": "execute_result",
          "data": {
            "text/plain": [
              "array(['Male', 'Female'], dtype=object)"
            ]
          },
          "metadata": {
            "tags": []
          },
          "execution_count": 48
        }
      ]
    },
    {
      "cell_type": "code",
      "metadata": {
        "id": "ZH-HYuUXl_Dx"
      },
      "source": [
        "# 'sex' feature도 이상치 제거가 완료되었으므로, 라벨인코딩을 진행합니다.\n",
        "\n",
        "le = le.fit(penguins['sex'])\n",
        "penguins['sex'] = le.transform(penguins['sex'])"
      ],
      "execution_count": null,
      "outputs": []
    },
    {
      "cell_type": "markdown",
      "metadata": {
        "id": "WCxaH1avHtpV"
      },
      "source": [
        "### **Scaling**\n",
        "\n",
        "데이터를 모델링하기 전에는 반드시 스케일링 과정을 거쳐야 합니다. 스케일링을 통해 다차원의 값들을 비교 분석하기 쉽게 만들어주며, 자료의 오버플로우(overflow)나 언더플로우(underflow)를 방지하고, 독립 변수의 공분산 행렬의 조건수(condition number)를 감소시켜 최적화 과정에서의 안정성 및 수렴 속도를 향상시킵니다.\n",
        "\n",
        "\n",
        "1.\t**StandardScaler**\t기본 스케일. 평균과 표준편차 사용 - 즉, 데이터를 정규분포화. (각 특성의 평균을 0 분산을 1로 변경)\n",
        "2.\t**MinMaxScaler**\t최대/최소값이 각각 1, 0이 되도록 스케일링\n",
        "3.\t**MaxAbsScaler**\t최대/절댓값과 0이 각각 1, 0이 되도록 스케일링\n",
        "4.\t**RobustScaler**\t중앙값(median)과 IQR(interquartile range) 사용. 아웃라이어의 영향을 최소화\n",
        "\n",
        "&nbsp;\n",
        "\n",
        "**이외 자세한 Scaler 설명은 GitHub Blog에 별도 포스팅하겠습니다.**\n",
        "\n",
        "\n",
        "\n",
        "&nbsp;\n",
        "\n",
        "\n",
        "*참고링크*\n",
        "\n",
        "*https://wooono.tistory.com/96*\n",
        "\n",
        "*https://mkjjo.github.io/python/2019/01/10/scaler.html*\n"
      ]
    },
    {
      "cell_type": "code",
      "metadata": {
        "id": "VM3-UP43jUU7",
        "colab": {
          "base_uri": "https://localhost:8080/"
        },
        "outputId": "45a28359-82fa-42ba-8bc5-be290f122076"
      },
      "source": [
        "# Standard Scaling을 수행합니다.\n",
        "\n",
        "scaled = StandardScaler().fit_transform(penguins.iloc[:, :-1])\n",
        "scaled.shape"
      ],
      "execution_count": null,
      "outputs": [
        {
          "output_type": "execute_result",
          "data": {
            "text/plain": [
              "(333, 6)"
            ]
          },
          "metadata": {
            "tags": []
          },
          "execution_count": 54
        }
      ]
    },
    {
      "cell_type": "code",
      "metadata": {
        "id": "VrVGkW4ElnUW",
        "colab": {
          "base_uri": "https://localhost:8080/"
        },
        "outputId": "57186a51-6de7-4438-d51a-1fdc01324195"
      },
      "source": [
        "scaled"
      ],
      "execution_count": null,
      "outputs": [
        {
          "output_type": "execute_result",
          "data": {
            "text/plain": [
              "array([[-1.03437424,  1.88939197, -0.89604189,  0.7807321 , -1.42675157,\n",
              "        -0.56847478],\n",
              "       [-1.03437424,  1.88939197, -0.82278787,  0.11958397, -1.06947358,\n",
              "        -0.50628618],\n",
              "       [-1.03437424,  1.88939197, -0.67627982,  0.42472926, -0.42637319,\n",
              "        -1.1903608 ],\n",
              "       ...,\n",
              "       [ 1.21691087, -0.91313599,  1.17338426, -0.74499437,  1.50292796,\n",
              "         1.91906927],\n",
              "       [ 1.21691087, -0.91313599,  0.22108196, -1.20271231,  0.78837197,\n",
              "         1.23499466],\n",
              "       [ 1.21691087, -0.91313599,  1.08181673, -0.54156417,  0.85982757,\n",
              "         1.48374906]])"
            ]
          },
          "metadata": {
            "tags": []
          },
          "execution_count": 56
        }
      ]
    },
    {
      "cell_type": "markdown",
      "metadata": {
        "id": "gcHENhniIpw8"
      },
      "source": [
        "### **PCA**\n",
        "\n",
        "한글로는 주성분분석으로 불리며, 차원축소 방법론 중 하나입니다.\n",
        "\n",
        "주성분 분석은 고차원의 데이터를 저차원의 데이터로 환원시키는 기법을 말합니다. 이 때 서로 연관 가능성이 있는 고차원 공간의 표본들을 선형 연관성이 없는 저차원 공간의 표본으로 변환하기 위해 직교 변환을 사용합니다.\n",
        "\n",
        "&nbsp;\n",
        "\n",
        "**이외 자세한 Scaler 설명은 GitHub Blog에 별도 포스팅하겠습니다.**\n",
        "\n"
      ]
    },
    {
      "cell_type": "code",
      "metadata": {
        "id": "O9iMJRYuheix"
      },
      "source": [
        "# Numerical Feature 6개에 대해 PCA(차원축소)를 수행합니다.\n",
        "\n",
        "pca = PCA(n_components=6)\n",
        "\n",
        "pca.fit(scaled)\n",
        "pca_data = pca.transform(scaled)"
      ],
      "execution_count": null,
      "outputs": []
    },
    {
      "cell_type": "code",
      "metadata": {
        "id": "ZwPPhnUPn4Ka",
        "colab": {
          "base_uri": "https://localhost:8080/",
          "height": 282
        },
        "outputId": "dde6abbb-d918-4ca7-93ee-e37e181ed59b"
      },
      "source": [
        "# Scatter Plot을 활용해 PCA 결과를 확인합니다.\n",
        "\n",
        "%matplotlib inline\n",
        "plt.scatter(pca_data[:,0],pca_data[:,1])"
      ],
      "execution_count": null,
      "outputs": [
        {
          "output_type": "execute_result",
          "data": {
            "text/plain": [
              "<matplotlib.collections.PathCollection at 0x7fed409e0668>"
            ]
          },
          "metadata": {
            "tags": []
          },
          "execution_count": 70
        },
        {
          "output_type": "display_data",
          "data": {
            "image/png": "[encoded data removed]",
            "text/plain": [
              "<Figure size 432x288 with 1 Axes>"
            ]
          },
          "metadata": {
            "tags": [],
            "needs_background": "light"
          }
        }
      ]
    }
  ]
}