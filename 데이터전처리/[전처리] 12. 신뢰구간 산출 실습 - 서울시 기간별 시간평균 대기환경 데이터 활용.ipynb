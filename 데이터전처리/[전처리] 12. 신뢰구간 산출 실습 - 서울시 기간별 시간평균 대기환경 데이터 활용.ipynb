{
  "nbformat": 4,
  "nbformat_minor": 0,
  "metadata": {
    "colab": {
      "name": "[전처리] 신뢰구간",
      "provenance": [],
      "collapsed_sections": []
    },
    "kernelspec": {
      "display_name": "Python 3",
      "language": "python",
      "name": "python3"
    },
    "language_info": {
      "codemirror_mode": {
        "name": "ipython",
        "version": 3
      },
      "file_extension": ".py",
      "mimetype": "text/x-python",
      "name": "python",
      "nbconvert_exporter": "python",
      "pygments_lexer": "ipython3",
      "version": "3.8.5"
    }
  },
  "cells": [
    {
      "cell_type": "markdown",
      "metadata": {
        "id": "g_c3L9CeANiJ"
      },
      "source": [
        "### **신뢰구간**\n",
        "\n",
        "서울시 기간별 시간평균 대기환경 정보 데이터셋을 이용해 신뢰구간을 구해보는 연습을 해보겠습니다.\n",
        "\n",
        "<img src='https://user-images.githubusercontent.com/6457691/89852263-740add80-dbc9-11ea-9e6b-8059b3f7e479.png'>\n",
        "\n",
        "<https://data.seoul.go.kr/dataList/OA-2221/S/1/datasetView.do>\n",
        "\n",
        "**20년 3월의 송파구** 데이터만 사용합니다.\n",
        "\n"
      ]
    },
    {
      "cell_type": "markdown",
      "metadata": {
        "id": "WrWF_f0PoINC"
      },
      "source": [
        "### **1. 데이터 로드(Load)**"
      ]
    },
    {
      "cell_type": "code",
      "metadata": {
        "id": "yXwMJQGrAIbO",
        "colab": {
          "resources": {
            "http://localhost:8080/nbextensions/google.colab/files.js": {
              "data": "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",
              "ok": true,
              "headers": [
                [
                  "content-type",
                  "application/javascript"
                ]
              ],
              "status": 200,
              "status_text": ""
            }
          },
          "base_uri": "https://localhost:8080/",
          "height": 76
        },
        "outputId": "19f6f5e0-f9fd-4c75-eccf-3e6b5ac146f9"
      },
      "source": [
        "# 필요한 Lib Import, 데이터셋 Load\n",
        "\n",
        "import pandas as pd\n",
        "from google.colab import files\n",
        "import io\n",
        "from scipy import stats\n",
        "import numpy as np\n",
        "import matplotlib.pyplot as plt\n",
        "\n",
        "\n",
        "data = files.upload()"
      ],
      "execution_count": null,
      "outputs": [
        {
          "output_type": "display_data",
          "data": {
            "text/html": [
              "\n",
              "     <input type=\"file\" id=\"files-f3d4fdc8-cc20-4e99-8cae-e6d5d785b7c5\" name=\"files[]\" multiple disabled\n",
              "        style=\"border:none\" />\n",
              "     <output id=\"result-f3d4fdc8-cc20-4e99-8cae-e6d5d785b7c5\">\n",
              "      Upload widget is only available when the cell has been executed in the\n",
              "      current browser session. Please rerun this cell to enable.\n",
              "      </output>\n",
              "      <script src=\"/nbextensions/google.colab/files.js\"></script> "
            ],
            "text/plain": [
              "<IPython.core.display.HTML object>"
            ]
          },
          "metadata": {
            "tags": []
          }
        },
        {
          "output_type": "stream",
          "text": [
            "Saving 서울시_기간별_시간평균_대기환경_정보_2020.03 (1).csv to 서울시_기간별_시간평균_대기환경_정보_2020.03 (1).csv\n"
          ],
          "name": "stdout"
        }
      ]
    },
    {
      "cell_type": "code",
      "metadata": {
        "id": "9W8GIVDzlAK7",
        "colab": {
          "base_uri": "https://localhost:8080/",
          "height": 399
        },
        "outputId": "ac1a05b0-338c-4af6-af09-0d5c10469cec"
      },
      "source": [
        "data = pd.read_csv(io.BytesIO(data['서울시_기간별_시간평균_대기환경_정보_2020.03 (1).csv']))\n",
        "data"
      ],
      "execution_count": null,
      "outputs": [
        {
          "output_type": "execute_result",
          "data": {
            "text/html": [
              "<div>\n",
              "<style scoped>\n",
              "    .dataframe tbody tr th:only-of-type {\n",
              "        vertical-align: middle;\n",
              "    }\n",
              "\n",
              "    .dataframe tbody tr th {\n",
              "        vertical-align: top;\n",
              "    }\n",
              "\n",
              "    .dataframe thead th {\n",
              "        text-align: right;\n",
              "    }\n",
              "</style>\n",
              "<table border=\"1\" class=\"dataframe\">\n",
              "  <thead>\n",
              "    <tr style=\"text-align: right;\">\n",
              "      <th></th>\n",
              "      <th>측정일시</th>\n",
              "      <th>권역코드</th>\n",
              "      <th>권역명</th>\n",
              "      <th>측정소코드</th>\n",
              "      <th>측정소명</th>\n",
              "      <th>미세먼지 1시간(㎍/㎥)</th>\n",
              "      <th>미세먼지 24시간(㎍/㎥)</th>\n",
              "      <th>초미세먼지(㎍/㎥)</th>\n",
              "      <th>오존(ppm)</th>\n",
              "      <th>이산화질소농도(ppm)</th>\n",
              "      <th>일산화탄소농도(ppm)</th>\n",
              "      <th>아황산가스농도(ppm)</th>\n",
              "    </tr>\n",
              "  </thead>\n",
              "  <tbody>\n",
              "    <tr>\n",
              "      <th>0</th>\n",
              "      <td>202003312300</td>\n",
              "      <td>100</td>\n",
              "      <td>도심권</td>\n",
              "      <td>111123</td>\n",
              "      <td>종로구</td>\n",
              "      <td>47</td>\n",
              "      <td>48</td>\n",
              "      <td>22</td>\n",
              "      <td>0.036</td>\n",
              "      <td>0.018</td>\n",
              "      <td>0.4</td>\n",
              "      <td>0.004</td>\n",
              "    </tr>\n",
              "    <tr>\n",
              "      <th>1</th>\n",
              "      <td>202003312300</td>\n",
              "      <td>100</td>\n",
              "      <td>도심권</td>\n",
              "      <td>111131</td>\n",
              "      <td>용산구</td>\n",
              "      <td>55</td>\n",
              "      <td>52</td>\n",
              "      <td>21</td>\n",
              "      <td>0.024</td>\n",
              "      <td>0.033</td>\n",
              "      <td>0.5</td>\n",
              "      <td>0.003</td>\n",
              "    </tr>\n",
              "    <tr>\n",
              "      <th>2</th>\n",
              "      <td>202003312300</td>\n",
              "      <td>100</td>\n",
              "      <td>도심권</td>\n",
              "      <td>111121</td>\n",
              "      <td>중구</td>\n",
              "      <td>43</td>\n",
              "      <td>43</td>\n",
              "      <td>24</td>\n",
              "      <td>0.034</td>\n",
              "      <td>0.020</td>\n",
              "      <td>0.4</td>\n",
              "      <td>0.003</td>\n",
              "    </tr>\n",
              "    <tr>\n",
              "      <th>3</th>\n",
              "      <td>202003312300</td>\n",
              "      <td>101</td>\n",
              "      <td>서북권</td>\n",
              "      <td>111181</td>\n",
              "      <td>은평구</td>\n",
              "      <td>51</td>\n",
              "      <td>54</td>\n",
              "      <td>18</td>\n",
              "      <td>0.047</td>\n",
              "      <td>0.010</td>\n",
              "      <td>0.3</td>\n",
              "      <td>0.003</td>\n",
              "    </tr>\n",
              "    <tr>\n",
              "      <th>4</th>\n",
              "      <td>202003312300</td>\n",
              "      <td>101</td>\n",
              "      <td>서북권</td>\n",
              "      <td>111191</td>\n",
              "      <td>서대문구</td>\n",
              "      <td>58</td>\n",
              "      <td>57</td>\n",
              "      <td>21</td>\n",
              "      <td>0.047</td>\n",
              "      <td>0.012</td>\n",
              "      <td>0.6</td>\n",
              "      <td>0.003</td>\n",
              "    </tr>\n",
              "    <tr>\n",
              "      <th>...</th>\n",
              "      <td>...</td>\n",
              "      <td>...</td>\n",
              "      <td>...</td>\n",
              "      <td>...</td>\n",
              "      <td>...</td>\n",
              "      <td>...</td>\n",
              "      <td>...</td>\n",
              "      <td>...</td>\n",
              "      <td>...</td>\n",
              "      <td>...</td>\n",
              "      <td>...</td>\n",
              "      <td>...</td>\n",
              "    </tr>\n",
              "    <tr>\n",
              "      <th>18595</th>\n",
              "      <td>202003010000</td>\n",
              "      <td>103</td>\n",
              "      <td>서남권</td>\n",
              "      <td>111231</td>\n",
              "      <td>영등포구</td>\n",
              "      <td>33</td>\n",
              "      <td>29</td>\n",
              "      <td>23</td>\n",
              "      <td>0.002</td>\n",
              "      <td>0.050</td>\n",
              "      <td>0.8</td>\n",
              "      <td>0.003</td>\n",
              "    </tr>\n",
              "    <tr>\n",
              "      <th>18596</th>\n",
              "      <td>202003010000</td>\n",
              "      <td>104</td>\n",
              "      <td>동남권</td>\n",
              "      <td>111261</td>\n",
              "      <td>강남구</td>\n",
              "      <td>26</td>\n",
              "      <td>25</td>\n",
              "      <td>19</td>\n",
              "      <td>0.008</td>\n",
              "      <td>0.046</td>\n",
              "      <td>0.7</td>\n",
              "      <td>0.002</td>\n",
              "    </tr>\n",
              "    <tr>\n",
              "      <th>18597</th>\n",
              "      <td>202003010000</td>\n",
              "      <td>104</td>\n",
              "      <td>동남권</td>\n",
              "      <td>111262</td>\n",
              "      <td>서초구</td>\n",
              "      <td>46</td>\n",
              "      <td>35</td>\n",
              "      <td>27</td>\n",
              "      <td>0.007</td>\n",
              "      <td>0.054</td>\n",
              "      <td>0.5</td>\n",
              "      <td>0.003</td>\n",
              "    </tr>\n",
              "    <tr>\n",
              "      <th>18598</th>\n",
              "      <td>202003010000</td>\n",
              "      <td>104</td>\n",
              "      <td>동남권</td>\n",
              "      <td>111274</td>\n",
              "      <td>강동구</td>\n",
              "      <td>36</td>\n",
              "      <td>31</td>\n",
              "      <td>22</td>\n",
              "      <td>0.002</td>\n",
              "      <td>0.043</td>\n",
              "      <td>0.6</td>\n",
              "      <td>0.002</td>\n",
              "    </tr>\n",
              "    <tr>\n",
              "      <th>18599</th>\n",
              "      <td>202003010000</td>\n",
              "      <td>104</td>\n",
              "      <td>동남권</td>\n",
              "      <td>111273</td>\n",
              "      <td>송파구</td>\n",
              "      <td>31</td>\n",
              "      <td>30</td>\n",
              "      <td>21</td>\n",
              "      <td>0.002</td>\n",
              "      <td>0.047</td>\n",
              "      <td>1.3</td>\n",
              "      <td>0.003</td>\n",
              "    </tr>\n",
              "  </tbody>\n",
              "</table>\n",
              "<p>18600 rows × 12 columns</p>\n",
              "</div>"
            ],
            "text/plain": [
              "               측정일시  권역코드  권역명  ...  이산화질소농도(ppm) 일산화탄소농도(ppm)  아황산가스농도(ppm)\n",
              "0      202003312300   100  도심권  ...         0.018          0.4         0.004\n",
              "1      202003312300   100  도심권  ...         0.033          0.5         0.003\n",
              "2      202003312300   100  도심권  ...         0.020          0.4         0.003\n",
              "3      202003312300   101  서북권  ...         0.010          0.3         0.003\n",
              "4      202003312300   101  서북권  ...         0.012          0.6         0.003\n",
              "...             ...   ...  ...  ...           ...          ...           ...\n",
              "18595  202003010000   103  서남권  ...         0.050          0.8         0.003\n",
              "18596  202003010000   104  동남권  ...         0.046          0.7         0.002\n",
              "18597  202003010000   104  동남권  ...         0.054          0.5         0.003\n",
              "18598  202003010000   104  동남권  ...         0.043          0.6         0.002\n",
              "18599  202003010000   104  동남권  ...         0.047          1.3         0.003\n",
              "\n",
              "[18600 rows x 12 columns]"
            ]
          },
          "metadata": {
            "tags": []
          },
          "execution_count": 3
        }
      ]
    },
    {
      "cell_type": "code",
      "metadata": {
        "id": "BY9MK0EMYAmx",
        "colab": {
          "base_uri": "https://localhost:8080/",
          "height": 399
        },
        "outputId": "e947fb13-3906-4f2d-ed15-54249f0db895"
      },
      "source": [
        "# 송파구 데이터셋만 이용할 예정이므로, 조건을 걸어 필터링해줍니다.\n",
        "data_samp = data[data['측정소명']=='송파구']\n",
        "\n",
        "data_samp"
      ],
      "execution_count": null,
      "outputs": [
        {
          "output_type": "execute_result",
          "data": {
            "text/html": [
              "<div>\n",
              "<style scoped>\n",
              "    .dataframe tbody tr th:only-of-type {\n",
              "        vertical-align: middle;\n",
              "    }\n",
              "\n",
              "    .dataframe tbody tr th {\n",
              "        vertical-align: top;\n",
              "    }\n",
              "\n",
              "    .dataframe thead th {\n",
              "        text-align: right;\n",
              "    }\n",
              "</style>\n",
              "<table border=\"1\" class=\"dataframe\">\n",
              "  <thead>\n",
              "    <tr style=\"text-align: right;\">\n",
              "      <th></th>\n",
              "      <th>측정일시</th>\n",
              "      <th>권역코드</th>\n",
              "      <th>권역명</th>\n",
              "      <th>측정소코드</th>\n",
              "      <th>측정소명</th>\n",
              "      <th>미세먼지 1시간(㎍/㎥)</th>\n",
              "      <th>미세먼지 24시간(㎍/㎥)</th>\n",
              "      <th>초미세먼지(㎍/㎥)</th>\n",
              "      <th>오존(ppm)</th>\n",
              "      <th>이산화질소농도(ppm)</th>\n",
              "      <th>일산화탄소농도(ppm)</th>\n",
              "      <th>아황산가스농도(ppm)</th>\n",
              "    </tr>\n",
              "  </thead>\n",
              "  <tbody>\n",
              "    <tr>\n",
              "      <th>24</th>\n",
              "      <td>202003312300</td>\n",
              "      <td>104</td>\n",
              "      <td>동남권</td>\n",
              "      <td>111273</td>\n",
              "      <td>송파구</td>\n",
              "      <td>49</td>\n",
              "      <td>47</td>\n",
              "      <td>23</td>\n",
              "      <td>0.020</td>\n",
              "      <td>0.044</td>\n",
              "      <td>0.5</td>\n",
              "      <td>0.004</td>\n",
              "    </tr>\n",
              "    <tr>\n",
              "      <th>49</th>\n",
              "      <td>202003312200</td>\n",
              "      <td>104</td>\n",
              "      <td>동남권</td>\n",
              "      <td>111273</td>\n",
              "      <td>송파구</td>\n",
              "      <td>41</td>\n",
              "      <td>48</td>\n",
              "      <td>19</td>\n",
              "      <td>0.021</td>\n",
              "      <td>0.045</td>\n",
              "      <td>0.6</td>\n",
              "      <td>0.004</td>\n",
              "    </tr>\n",
              "    <tr>\n",
              "      <th>73</th>\n",
              "      <td>202003312100</td>\n",
              "      <td>104</td>\n",
              "      <td>동남권</td>\n",
              "      <td>111273</td>\n",
              "      <td>송파구</td>\n",
              "      <td>42</td>\n",
              "      <td>50</td>\n",
              "      <td>17</td>\n",
              "      <td>0.025</td>\n",
              "      <td>0.042</td>\n",
              "      <td>0.6</td>\n",
              "      <td>0.004</td>\n",
              "    </tr>\n",
              "    <tr>\n",
              "      <th>99</th>\n",
              "      <td>202003312000</td>\n",
              "      <td>104</td>\n",
              "      <td>동남권</td>\n",
              "      <td>111273</td>\n",
              "      <td>송파구</td>\n",
              "      <td>43</td>\n",
              "      <td>54</td>\n",
              "      <td>18</td>\n",
              "      <td>0.032</td>\n",
              "      <td>0.040</td>\n",
              "      <td>0.5</td>\n",
              "      <td>0.004</td>\n",
              "    </tr>\n",
              "    <tr>\n",
              "      <th>124</th>\n",
              "      <td>202003311900</td>\n",
              "      <td>104</td>\n",
              "      <td>동남권</td>\n",
              "      <td>111273</td>\n",
              "      <td>송파구</td>\n",
              "      <td>52</td>\n",
              "      <td>55</td>\n",
              "      <td>22</td>\n",
              "      <td>0.034</td>\n",
              "      <td>0.045</td>\n",
              "      <td>0.5</td>\n",
              "      <td>0.004</td>\n",
              "    </tr>\n",
              "    <tr>\n",
              "      <th>...</th>\n",
              "      <td>...</td>\n",
              "      <td>...</td>\n",
              "      <td>...</td>\n",
              "      <td>...</td>\n",
              "      <td>...</td>\n",
              "      <td>...</td>\n",
              "      <td>...</td>\n",
              "      <td>...</td>\n",
              "      <td>...</td>\n",
              "      <td>...</td>\n",
              "      <td>...</td>\n",
              "      <td>...</td>\n",
              "    </tr>\n",
              "    <tr>\n",
              "      <th>18499</th>\n",
              "      <td>202003010400</td>\n",
              "      <td>104</td>\n",
              "      <td>동남권</td>\n",
              "      <td>111273</td>\n",
              "      <td>송파구</td>\n",
              "      <td>30</td>\n",
              "      <td>30</td>\n",
              "      <td>21</td>\n",
              "      <td>0.002</td>\n",
              "      <td>0.039</td>\n",
              "      <td>1.2</td>\n",
              "      <td>0.002</td>\n",
              "    </tr>\n",
              "    <tr>\n",
              "      <th>18524</th>\n",
              "      <td>202003010300</td>\n",
              "      <td>104</td>\n",
              "      <td>동남권</td>\n",
              "      <td>111273</td>\n",
              "      <td>송파구</td>\n",
              "      <td>31</td>\n",
              "      <td>30</td>\n",
              "      <td>20</td>\n",
              "      <td>0.002</td>\n",
              "      <td>0.040</td>\n",
              "      <td>1.2</td>\n",
              "      <td>0.002</td>\n",
              "    </tr>\n",
              "    <tr>\n",
              "      <th>18547</th>\n",
              "      <td>202003010200</td>\n",
              "      <td>104</td>\n",
              "      <td>동남권</td>\n",
              "      <td>111273</td>\n",
              "      <td>송파구</td>\n",
              "      <td>29</td>\n",
              "      <td>30</td>\n",
              "      <td>21</td>\n",
              "      <td>0.002</td>\n",
              "      <td>0.042</td>\n",
              "      <td>1.1</td>\n",
              "      <td>0.002</td>\n",
              "    </tr>\n",
              "    <tr>\n",
              "      <th>18573</th>\n",
              "      <td>202003010100</td>\n",
              "      <td>104</td>\n",
              "      <td>동남권</td>\n",
              "      <td>111273</td>\n",
              "      <td>송파구</td>\n",
              "      <td>30</td>\n",
              "      <td>30</td>\n",
              "      <td>20</td>\n",
              "      <td>0.002</td>\n",
              "      <td>0.042</td>\n",
              "      <td>1.1</td>\n",
              "      <td>0.002</td>\n",
              "    </tr>\n",
              "    <tr>\n",
              "      <th>18599</th>\n",
              "      <td>202003010000</td>\n",
              "      <td>104</td>\n",
              "      <td>동남권</td>\n",
              "      <td>111273</td>\n",
              "      <td>송파구</td>\n",
              "      <td>31</td>\n",
              "      <td>30</td>\n",
              "      <td>21</td>\n",
              "      <td>0.002</td>\n",
              "      <td>0.047</td>\n",
              "      <td>1.3</td>\n",
              "      <td>0.003</td>\n",
              "    </tr>\n",
              "  </tbody>\n",
              "</table>\n",
              "<p>744 rows × 12 columns</p>\n",
              "</div>"
            ],
            "text/plain": [
              "               측정일시  권역코드  권역명  ...  이산화질소농도(ppm) 일산화탄소농도(ppm)  아황산가스농도(ppm)\n",
              "24     202003312300   104  동남권  ...         0.044          0.5         0.004\n",
              "49     202003312200   104  동남권  ...         0.045          0.6         0.004\n",
              "73     202003312100   104  동남권  ...         0.042          0.6         0.004\n",
              "99     202003312000   104  동남권  ...         0.040          0.5         0.004\n",
              "124    202003311900   104  동남권  ...         0.045          0.5         0.004\n",
              "...             ...   ...  ...  ...           ...          ...           ...\n",
              "18499  202003010400   104  동남권  ...         0.039          1.2         0.002\n",
              "18524  202003010300   104  동남권  ...         0.040          1.2         0.002\n",
              "18547  202003010200   104  동남권  ...         0.042          1.1         0.002\n",
              "18573  202003010100   104  동남권  ...         0.042          1.1         0.002\n",
              "18599  202003010000   104  동남권  ...         0.047          1.3         0.003\n",
              "\n",
              "[744 rows x 12 columns]"
            ]
          },
          "metadata": {
            "tags": []
          },
          "execution_count": 5
        }
      ]
    },
    {
      "cell_type": "markdown",
      "metadata": {
        "id": "wOQ-9E8uYcni"
      },
      "source": [
        "### **2. 데이터셋으로 부터 2개의 샘플 생성**\n",
        "\n",
        "- 신뢰구간 비교를 위해, 1개는 20개의 데이터, 다른 1개는 200개의 데이터로 셋을 형성합니다.\n",
        "- 동일한 결과물을 위해 `42`를 처음에 한번 `random_state`로 설정합니다."
      ]
    },
    {
      "cell_type": "code",
      "metadata": {
        "id": "m1vuFGxVQo64"
      },
      "source": [
        "# 2개의 샘플 데이터셋 생성\n",
        "samp_small = data_samp.sample(n=20,random_state=42)\n",
        "samp_large = data_samp.sample(n=200,random_state=42)"
      ],
      "execution_count": null,
      "outputs": []
    },
    {
      "cell_type": "markdown",
      "metadata": {
        "id": "5uVEZaC4oNQq"
      },
      "source": [
        "### **통계분석**"
      ]
    },
    {
      "cell_type": "markdown",
      "metadata": {
        "id": "y2Rz-8O-YmF9"
      },
      "source": [
        "**1) 두 샘플데이터에 대해서 `오존(ppm)`항목의 표본 평균을 계산**"
      ]
    },
    {
      "cell_type": "code",
      "metadata": {
        "id": "ti9x37XSQ_yL",
        "colab": {
          "base_uri": "https://localhost:8080/"
        },
        "outputId": "e2dc74a7-24a8-4afb-d060-a3a85ac4465c"
      },
      "source": [
        "# 두 샘플데이터에 대해 '오존(ppm)' 항목의 표본 평균 계산\n",
        "\n",
        "so = samp_small['오존(ppm)'].mean()\n",
        "sl = samp_large['오존(ppm)'].mean()\n",
        "\n",
        "print('20개의 데이터 중 오존의 표본 평균: ',so)\n",
        "print('200개의 데이터 중 오존의 표본 평균: ',sl)"
      ],
      "execution_count": null,
      "outputs": [
        {
          "output_type": "stream",
          "text": [
            "20개의 데이터 중 오존의 표본 평균:  0.021750000000000002\n",
            "200개의 데이터 중 오존의 표본 평균:  0.02291999999999995\n"
          ],
          "name": "stdout"
        }
      ]
    },
    {
      "cell_type": "markdown",
      "metadata": {
        "id": "-2ulIAGmYudp"
      },
      "source": [
        "**2) 모집단의 평균에 대한 추정 (95% 신뢰구간)**"
      ]
    },
    {
      "cell_type": "code",
      "metadata": {
        "id": "MIP8tUJDy4pr"
      },
      "source": [
        "# 각 데이터셋에 대한 표준오차 산출\n",
        "\n",
        "n1 = len(samp_small)\n",
        "n2 = len(samp_large)\n",
        "\n",
        "confidence = 0.95\n",
        "\n",
        "stderr1 = stats.sem(samp_small['오존(ppm)']) \n",
        "stderr2 = stats.sem(samp_large['오존(ppm)'])"
      ],
      "execution_count": null,
      "outputs": []
    },
    {
      "cell_type": "markdown",
      "metadata": {
        "id": "irvgSBD_ooHr"
      },
      "source": [
        "### **신뢰구간 산출**"
      ]
    },
    {
      "cell_type": "code",
      "metadata": {
        "id": "mJGPLBljjYoZ"
      },
      "source": [
        "# 신뢰구간 함수 생성\n",
        "def confidence_interval(data, confidence = 0.95):\n",
        "  data = np.array(data)\n",
        "  mean = np.mean(data)\n",
        "  n = len(data)\n",
        "\n",
        "  stderr = stats.sem(data)\n",
        "\n",
        "  interval = stderr * stats.t.ppf((1 + confidence) / 2, n-1)\n",
        "  return (mean, mean - interval, mean + interval)"
      ],
      "execution_count": null,
      "outputs": []
    },
    {
      "cell_type": "code",
      "metadata": {
        "id": "WuySnDeRjfhc",
        "colab": {
          "base_uri": "https://localhost:8080/"
        },
        "outputId": "520995c2-024a-485f-c923-54e8034ab809"
      },
      "source": [
        "# 각 샘플 데이터셋 별 신뢰구간 산출\n",
        "\n",
        "print(confidence_interval(samp_small['오존(ppm)']))\n",
        "print(confidence_interval(samp_large['오존(ppm)']))"
      ],
      "execution_count": null,
      "outputs": [
        {
          "output_type": "stream",
          "text": [
            "(0.02175, 0.015060460813957321, 0.028439539186042674)\n",
            "(0.02292, 0.02100651526262625, 0.02483348473737375)\n"
          ],
          "name": "stdout"
        }
      ]
    },
    {
      "cell_type": "code",
      "metadata": {
        "id": "Ouw3CLo7y4pr",
        "colab": {
          "base_uri": "https://localhost:8080/"
        },
        "outputId": "2c0d796d-e668-4b23-b6aa-4ae0b8909a3a"
      },
      "source": [
        "# 각 샘플에 대해 추정치에 대한 오차 산출\n",
        "print('샘플 20개일 경우의 오차: ' ,stderr1, ', 샘플 200개일 경우의 오차: ' ,stderr2)"
      ],
      "execution_count": null,
      "outputs": [
        {
          "output_type": "stream",
          "text": [
            "샘플 20개일 경우의 오차:  0.0031961119471863573 , 샘플 200개일 경우의 오차:  0.00097034832889895\n"
          ],
          "name": "stdout"
        }
      ]
    },
    {
      "cell_type": "code",
      "metadata": {
        "id": "hfCO0gHEUOrE",
        "colab": {
          "base_uri": "https://localhost:8080/"
        },
        "outputId": "7fd22bee-18d8-4c83-9cad-86b953f948b8"
      },
      "source": [
        "# 위 추정값 바탕으로, 95%에 해당하는 신뢰구간 산출\n",
        "\n",
        "interval1 = stderr1 * stats.t.ppf( (1 + confidence) / 2 , n1 - 1)\n",
        "interval2 = stderr2 * stats.t.ppf( (1 + confidence) / 2 , n2 - 1)\n",
        "\n",
        "upper_1 = so + interval1\n",
        "lower_1 = so - interval1\n",
        "upper_2 = sl + interval2\n",
        "lower_2 = sl - interval2\n",
        "\n",
        "print('20개의 데이터 샘플로 확인한 결과, 모집단의 평균의 95% 신뢰 구간은 ',lower_1,'<= 모집단 평균 <=',upper_1)\n",
        "print('200개의 데이터 샘플로 확인한 결과, 모집단의 평균의 95% 신뢰 구간은 ',lower_2,'<= 모집단 평균 <=',upper_2)"
      ],
      "execution_count": null,
      "outputs": [
        {
          "output_type": "stream",
          "text": [
            "20개의 데이터 샘플로 확인한 결과, 모집단의 평균의 95% 신뢰 구간은  0.015060460813957325 <= 모집단 평균 <= 0.02843953918604268\n",
            "200개의 데이터 샘플로 확인한 결과, 모집단의 평균의 95% 신뢰 구간은  0.021006515262626202 <= 모집단 평균 <= 0.0248334847373737\n"
          ],
          "name": "stdout"
        }
      ]
    },
    {
      "cell_type": "code",
      "metadata": {
        "id": "Qv9R_jniiC4u",
        "colab": {
          "base_uri": "https://localhost:8080/"
        },
        "outputId": "04bc9d6f-b3f4-4c1f-d464-31c95aa40add"
      },
      "source": [
        "# 두 샘플데이터셋에 대한 신뢰구간 비교\n",
        "print(upper_1-lower_1)\n",
        "print(upper_2-lower_2)"
      ],
      "execution_count": null,
      "outputs": [
        {
          "output_type": "stream",
          "text": [
            "0.013379078372085356\n",
            "0.0038269694747474978\n"
          ],
          "name": "stdout"
        }
      ]
    },
    {
      "cell_type": "markdown",
      "metadata": {
        "id": "p5KGlyvYZ1Qq"
      },
      "source": [
        "**결론**\n",
        "\n",
        "샘플이 **20개인 경우의 신뢰구간이 더 넓습니다.** 그 이유는, 샘플이 많으면 많을수록 정확도가 더 올라가기 때문에 구간이 좁아지기 때문입니다."
      ]
    },
    {
      "cell_type": "markdown",
      "metadata": {
        "id": "iOtfJ_oppMtV"
      },
      "source": [
        "### **신뢰구간 시각화**"
      ]
    },
    {
      "cell_type": "code",
      "metadata": {
        "id": "2QOQGVfsVfFZ",
        "colab": {
          "base_uri": "https://localhost:8080/",
          "height": 265
        },
        "outputId": "7ca626c9-e8b1-4808-b3d4-45e6f6df7be5"
      },
      "source": [
        "# 에러바(error bar) 활용\n",
        "\n",
        "x = ['20', '200']\n",
        "y = [so, sl]\n",
        "\n",
        "plt.errorbar(x, y, \n",
        "             yerr=[stderr1,stderr1], \n",
        "             fmt = 'o')\n",
        "\n",
        "plt.show()"
      ],
      "execution_count": null,
      "outputs": [
        {
          "output_type": "display_data",
          "data": {
            "image/png": "[encoded data removed]",
            "text/plain": [
              "<Figure size 432x288 with 1 Axes>"
            ]
          },
          "metadata": {
            "tags": [],
            "needs_background": "light"
          }
        }
      ]
    },
    {
      "cell_type": "code",
      "metadata": {
        "id": "UE1fxaoKW1Xg",
        "colab": {
          "base_uri": "https://localhost:8080/",
          "height": 265
        },
        "outputId": "be326671-867a-4960-e631-6806cfe30152"
      },
      "source": [
        "# Plt.bar 활용\n",
        "\n",
        "p1 = plt.bar('20', so, yerr=stderr1, capsize=50)\n",
        "p2 = plt.bar('200', sl,yerr=stderr2, capsize=50)\n",
        "plt.show()"
      ],
      "execution_count": null,
      "outputs": [
        {
          "output_type": "display_data",
          "data": {
            "image/png": "[encoded data removed]",
            "text/plain": [
              "<Figure size 432x288 with 1 Axes>"
            ]
          },
          "metadata": {
            "tags": [],
            "needs_background": "light"
          }
        }
      ]
    },
    {
      "cell_type": "code",
      "metadata": {
        "id": "3puy99D6esLn",
        "colab": {
          "base_uri": "https://localhost:8080/"
        },
        "outputId": "f9eb58f7-a96b-400b-a459-664cab7a65ec"
      },
      "source": [
        "# 전체 데이터의 평균과, 추측된 평균값과 비교\n",
        "\n",
        "sd = data['오존(ppm)'].mean()\n",
        "\n",
        "print(' 실제 모평균 값은 ',sd,'이다. \\n 샘플 20으로 추측한 모평균값의 95% 신뢰 구간은 ',lower_1,'<= 모집단 평균 <=',upper_1,'이다. \\n 샘플 200으로 추측한 모평균값의 95% 신뢰 구간은 ',lower_2,'<= 모집단 평균 <=',upper_2,'이다. \\n')\n",
        "print(' 따라서 샘플 20으로 추측한 95% 신뢰 구간에 포함된다. ')"
      ],
      "execution_count": null,
      "outputs": [
        {
          "output_type": "stream",
          "text": [
            " 실제 모평균 값은  0.02612661290322519 이다. \n",
            " 샘플 20으로 추측한 모평균값의 95% 신뢰 구간은  0.015060460813957325 <= 모집단 평균 <= 0.02843953918604268 이다. \n",
            " 샘플 200으로 추측한 모평균값의 95% 신뢰 구간은  0.021006515262626202 <= 모집단 평균 <= 0.0248334847373737 이다. \n",
            "\n",
            " 따라서 샘플 20으로 추측한 95% 신뢰 구간에 포함된다. \n"
          ],
          "name": "stdout"
        }
      ]
    }
  ]
}