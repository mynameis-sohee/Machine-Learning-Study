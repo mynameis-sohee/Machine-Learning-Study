{
  "nbformat": 4,
  "nbformat_minor": 0,
  "metadata": {
    "colab": {
      "name": "[모델링] LogisticRegression 실습 ",
      "provenance": [],
      "collapsed_sections": []
    },
    "kernelspec": {
      "name": "python3",
      "display_name": "Python 3"
    }
  },
  "cells": [
    {
      "cell_type": "markdown",
      "metadata": {
        "id": "e3l1hf_wMBY6"
      },
      "source": [
        "## **로지스틱회귀 알고리즘을 활용한 예측 학습**"
      ]
    },
    {
      "cell_type": "markdown",
      "metadata": {
        "id": "J_FtJJ9WKvzn"
      },
      "source": [
        "#### **DataSet Upload**"
      ]
    },
    {
      "cell_type": "code",
      "metadata": {
        "id": "Gv38mwcELwBn"
      },
      "source": [
        "# 필요한 라이브러리 import \n",
        "import pandas as pd\n",
        "import numpy as np\n",
        "from sklearn.model_selection import train_test_split\n",
        "import seaborn as sns\n",
        "import matplotlib.pyplot as plt\n",
        "from sklearn.impute import SimpleImputer\n",
        "from sklearn.linear_model import LogisticRegression\n",
        "from sklearn.preprocessing import StandardScaler\n",
        "from google.colab import files"
      ],
      "execution_count": null,
      "outputs": []
    },
    {
      "cell_type": "code",
      "metadata": {
        "colab": {
          "base_uri": "https://localhost:8080/"
        },
        "id": "LTqaxh6uMNNL",
        "outputId": "7430cc38-1be4-4280-d0d5-9bab74cd27a0"
      },
      "source": [
        "# train 데이터와 test 데이터 로드 및 확인\n",
        "train = pd.read_csv('https://ds-lecture-data.s3.ap-northeast-2.amazonaws.com/titanic/train.csv')\n",
        "test = pd.read_csv('https://ds-lecture-data.s3.ap-northeast-2.amazonaws.com/titanic/test.csv')\n",
        "\n",
        "print('Test 데이터에 존재하지 않는 Feature : ',train.columns.difference(test.columns)[0])"
      ],
      "execution_count": null,
      "outputs": [
        {
          "output_type": "stream",
          "text": [
            "Test 데이터에 존재하지 않는 Feature :  Survived\n"
          ],
          "name": "stdout"
        }
      ]
    },
    {
      "cell_type": "code",
      "metadata": {
        "id": "G7F7IyZ_NMsq"
      },
      "source": [
        "# 학습 위한 Validation 데이터셋 설정\n",
        "X_train, X_val, y_train, y_val = train_test_split(train.drop(['Survived'],axis=1),train['Survived'], test_size=0.3)\n",
        "for i in X_train, X_val, y_train, y_val: i.reset_index(drop=True, inplace=True)"
      ],
      "execution_count": null,
      "outputs": []
    },
    {
      "cell_type": "code",
      "metadata": {
        "colab": {
          "base_uri": "https://localhost:8080/",
          "height": 334
        },
        "id": "gDu8ei7AO1lV",
        "outputId": "83c781c9-ee88-4184-f636-e6fc9478de3c"
      },
      "source": [
        "#  y_train의 데이터 비율 확인\n",
        "y_train.value_counts()\n",
        "sns.countplot(y_train);"
      ],
      "execution_count": null,
      "outputs": [
        {
          "output_type": "stream",
          "text": [
            "/usr/local/lib/python3.6/dist-packages/seaborn/_decorators.py:43: FutureWarning: Pass the following variable as a keyword arg: x. From version 0.12, the only valid positional argument will be `data`, and passing other arguments without an explicit keyword will result in an error or misinterpretation.\n",
            "  FutureWarning\n"
          ],
          "name": "stderr"
        },
        {
          "output_type": "display_data",
          "data": {
            "image/png": "[encoded data removed]",
            "text/plain": [
              "<Figure size 432x288 with 1 Axes>"
            ]
          },
          "metadata": {
            "tags": [],
            "needs_background": "light"
          }
        }
      ]
    },
    {
      "cell_type": "markdown",
      "metadata": {
        "id": "S0PtEvaHK4-1"
      },
      "source": [
        "#### **Preprocessing - (1) 순차적 진행**"
      ]
    },
    {
      "cell_type": "code",
      "metadata": {
        "colab": {
          "base_uri": "https://localhost:8080/"
        },
        "id": "7I6SIUZNGSfj",
        "outputId": "a08647da-92ef-40c0-9e86-729bc9c6d8a2"
      },
      "source": [
        "# 정보 확인 후 순차적 전처리 진행\n",
        "X_train.info()"
      ],
      "execution_count": null,
      "outputs": [
        {
          "output_type": "stream",
          "text": [
            "<class 'pandas.core.frame.DataFrame'>\n",
            "RangeIndex: 623 entries, 0 to 622\n",
            "Data columns (total 11 columns):\n",
            " #   Column       Non-Null Count  Dtype  \n",
            "---  ------       --------------  -----  \n",
            " 0   PassengerId  623 non-null    int64  \n",
            " 1   Pclass       623 non-null    int64  \n",
            " 2   Name         623 non-null    object \n",
            " 3   Sex          623 non-null    object \n",
            " 4   Age          493 non-null    float64\n",
            " 5   SibSp        623 non-null    int64  \n",
            " 6   Parch        623 non-null    int64  \n",
            " 7   Ticket       623 non-null    object \n",
            " 8   Fare         623 non-null    float64\n",
            " 9   Cabin        143 non-null    object \n",
            " 10  Embarked     622 non-null    object \n",
            "dtypes: float64(2), int64(4), object(5)\n",
            "memory usage: 53.7+ KB\n"
          ],
          "name": "stdout"
        }
      ]
    },
    {
      "cell_type": "code",
      "metadata": {
        "id": "kLTN1-nnO_U4"
      },
      "source": [
        "# (1) PassengerId - 필요 없는 속성 삭제\n",
        "X_train.drop(['PassengerId'], inplace=True, axis=1)"
      ],
      "execution_count": null,
      "outputs": []
    },
    {
      "cell_type": "code",
      "metadata": {
        "id": "LOmfG7ipIBze"
      },
      "source": [
        "# (2) Name - 필요 없는 속성 삭제\n",
        "X_train.drop(['Name'], inplace=True, axis=1)"
      ],
      "execution_count": null,
      "outputs": []
    },
    {
      "cell_type": "code",
      "metadata": {
        "id": "XK1oqM5SI2zr"
      },
      "source": [
        "# (3) Ticket - 필요 없는 속성 삭제\n",
        "X_train.drop(['Ticket'], inplace=True, axis=1)"
      ],
      "execution_count": null,
      "outputs": []
    },
    {
      "cell_type": "code",
      "metadata": {
        "colab": {
          "base_uri": "https://localhost:8080/"
        },
        "id": "5gFGuzUDIM5G",
        "outputId": "f5cc5c8f-2898-4871-9554-bbce57b7e624"
      },
      "source": [
        "# (4) Cabin - 값이 너무 다양하여, 알파벳으로 대분류\n",
        "print(X_train['Cabin'].unique())\n",
        "X_train['Cabin']=X_train['Cabin'].str[:1]"
      ],
      "execution_count": null,
      "outputs": [
        {
          "output_type": "stream",
          "text": [
            "['E8' nan 'E49' 'C111' 'D7' 'C68' 'C93' 'B51 B53 B55' 'B96 B98' 'A36'\n",
            " 'C23 C25 C27' 'F33' 'D46' 'E101' 'C65' 'C22 C26' 'G6' 'B5' 'B49' 'C92'\n",
            " 'B35' 'B22' 'B101' 'D19' 'C62 C64' 'D50' 'C148' 'B80' 'E33' 'A24' 'A19'\n",
            " 'A23' 'D20' 'D' 'B30' 'B20' 'C49' 'F G73' 'B19' 'E121' 'C87' 'E50' 'E67'\n",
            " 'E31' 'B42' 'C124' 'C99' 'F4' 'E38' 'E44' 'D35' 'D11' 'A32' 'B77' 'E58'\n",
            " 'E25' 'B28' 'C106' 'D15' 'C47' 'D36' 'B39' 'D48' 'C125' 'B37' 'D9' 'B73'\n",
            " 'F2' 'C78' 'C104' 'B58 B60' 'C86' 'C32' 'A31' 'T' 'C90' 'F G63' 'D33'\n",
            " 'B82 B84' 'D17' 'E10' 'A7' 'A14' 'B50' 'B38' 'C50' 'D26' 'B69' 'C82'\n",
            " 'B18' 'E12' 'D30' 'C30' 'B3' 'A6' 'C83' 'F38' 'C126' 'C91' 'C123' 'E24'\n",
            " 'D49' 'E68' 'D56' 'C128' 'E46' 'E63' 'C52' 'C95' 'C2' 'E36' 'C70' 'B79'\n",
            " 'B86' 'D21' 'A16' 'E34']\n"
          ],
          "name": "stdout"
        }
      ]
    },
    {
      "cell_type": "code",
      "metadata": {
        "colab": {
          "base_uri": "https://localhost:8080/",
          "height": 106
        },
        "id": "vYLCj34NKDMl",
        "outputId": "be6c4c17-dbb7-4500-edbb-6f40697d1b13"
      },
      "source": [
        "# (5) Cabin & Sex - 원핫 인코딩\n",
        "X_train = pd.get_dummies(X_train)\n",
        "X_train.head(2)"
      ],
      "execution_count": null,
      "outputs": [
        {
          "output_type": "execute_result",
          "data": {
            "text/html": [
              "<div>\n",
              "<style scoped>\n",
              "    .dataframe tbody tr th:only-of-type {\n",
              "        vertical-align: middle;\n",
              "    }\n",
              "\n",
              "    .dataframe tbody tr th {\n",
              "        vertical-align: top;\n",
              "    }\n",
              "\n",
              "    .dataframe thead th {\n",
              "        text-align: right;\n",
              "    }\n",
              "</style>\n",
              "<table border=\"1\" class=\"dataframe\">\n",
              "  <thead>\n",
              "    <tr style=\"text-align: right;\">\n",
              "      <th></th>\n",
              "      <th>Pclass</th>\n",
              "      <th>Age</th>\n",
              "      <th>SibSp</th>\n",
              "      <th>Parch</th>\n",
              "      <th>Fare</th>\n",
              "      <th>Sex_female</th>\n",
              "      <th>Sex_male</th>\n",
              "      <th>Cabin_A</th>\n",
              "      <th>Cabin_B</th>\n",
              "      <th>Cabin_C</th>\n",
              "      <th>Cabin_D</th>\n",
              "      <th>Cabin_E</th>\n",
              "      <th>Cabin_F</th>\n",
              "      <th>Cabin_G</th>\n",
              "      <th>Cabin_T</th>\n",
              "      <th>Embarked_C</th>\n",
              "      <th>Embarked_Q</th>\n",
              "      <th>Embarked_S</th>\n",
              "    </tr>\n",
              "  </thead>\n",
              "  <tbody>\n",
              "    <tr>\n",
              "      <th>0</th>\n",
              "      <td>1</td>\n",
              "      <td>33.0</td>\n",
              "      <td>1</td>\n",
              "      <td>0</td>\n",
              "      <td>53.100</td>\n",
              "      <td>1</td>\n",
              "      <td>0</td>\n",
              "      <td>0</td>\n",
              "      <td>0</td>\n",
              "      <td>0</td>\n",
              "      <td>0</td>\n",
              "      <td>1</td>\n",
              "      <td>0</td>\n",
              "      <td>0</td>\n",
              "      <td>0</td>\n",
              "      <td>0</td>\n",
              "      <td>0</td>\n",
              "      <td>1</td>\n",
              "    </tr>\n",
              "    <tr>\n",
              "      <th>1</th>\n",
              "      <td>3</td>\n",
              "      <td>15.0</td>\n",
              "      <td>0</td>\n",
              "      <td>0</td>\n",
              "      <td>7.225</td>\n",
              "      <td>1</td>\n",
              "      <td>0</td>\n",
              "      <td>0</td>\n",
              "      <td>0</td>\n",
              "      <td>0</td>\n",
              "      <td>0</td>\n",
              "      <td>0</td>\n",
              "      <td>0</td>\n",
              "      <td>0</td>\n",
              "      <td>0</td>\n",
              "      <td>1</td>\n",
              "      <td>0</td>\n",
              "      <td>0</td>\n",
              "    </tr>\n",
              "  </tbody>\n",
              "</table>\n",
              "</div>"
            ],
            "text/plain": [
              "   Pclass   Age  SibSp  Parch  ...  Cabin_T  Embarked_C  Embarked_Q  Embarked_S\n",
              "0       1  33.0      1      0  ...        0           0           0           1\n",
              "1       3  15.0      0      0  ...        0           1           0           0\n",
              "\n",
              "[2 rows x 18 columns]"
            ]
          },
          "metadata": {
            "tags": []
          },
          "execution_count": 10
        }
      ]
    },
    {
      "cell_type": "code",
      "metadata": {
        "id": "Ofl1MqCyG3P2"
      },
      "source": [
        "# (6) Age, Cabin - 평균값으로 결측치 대체\n",
        "imputer = SimpleImputer()\n",
        "X_train_impute = imputer.fit_transform(X_train)"
      ],
      "execution_count": null,
      "outputs": []
    },
    {
      "cell_type": "code",
      "metadata": {
        "colab": {
          "base_uri": "https://localhost:8080/"
        },
        "id": "TPng3GEjKbXW",
        "outputId": "3d5e6cf7-a7aa-4d47-8ff4-91f3336fdfbd"
      },
      "source": [
        "# (7) X_train 값 확인\n",
        "X_train_impute_df = pd.DataFrame(X_train_impute,columns=X_train.columns)\n",
        "\n",
        "print(X_train_impute_df.info())\n",
        "print(X_train_impute_df.describe())"
      ],
      "execution_count": null,
      "outputs": [
        {
          "output_type": "stream",
          "text": [
            "<class 'pandas.core.frame.DataFrame'>\n",
            "RangeIndex: 623 entries, 0 to 622\n",
            "Data columns (total 18 columns):\n",
            " #   Column      Non-Null Count  Dtype  \n",
            "---  ------      --------------  -----  \n",
            " 0   Pclass      623 non-null    float64\n",
            " 1   Age         623 non-null    float64\n",
            " 2   SibSp       623 non-null    float64\n",
            " 3   Parch       623 non-null    float64\n",
            " 4   Fare        623 non-null    float64\n",
            " 5   Sex_female  623 non-null    float64\n",
            " 6   Sex_male    623 non-null    float64\n",
            " 7   Cabin_A     623 non-null    float64\n",
            " 8   Cabin_B     623 non-null    float64\n",
            " 9   Cabin_C     623 non-null    float64\n",
            " 10  Cabin_D     623 non-null    float64\n",
            " 11  Cabin_E     623 non-null    float64\n",
            " 12  Cabin_F     623 non-null    float64\n",
            " 13  Cabin_G     623 non-null    float64\n",
            " 14  Cabin_T     623 non-null    float64\n",
            " 15  Embarked_C  623 non-null    float64\n",
            " 16  Embarked_Q  623 non-null    float64\n",
            " 17  Embarked_S  623 non-null    float64\n",
            "dtypes: float64(18)\n",
            "memory usage: 87.7 KB\n",
            "None\n",
            "           Pclass         Age       SibSp  ...  Embarked_C  Embarked_Q  Embarked_S\n",
            "count  623.000000  623.000000  623.000000  ...  623.000000  623.000000  623.000000\n",
            "mean     2.293740   30.346187    0.483146  ...    0.179775    0.080257    0.738363\n",
            "std      0.840347   12.731207    0.988335  ...    0.384309    0.271909    0.439879\n",
            "min      1.000000    0.670000    0.000000  ...    0.000000    0.000000    0.000000\n",
            "25%      2.000000   23.000000    0.000000  ...    0.000000    0.000000    0.000000\n",
            "50%      3.000000   30.346187    0.000000  ...    0.000000    0.000000    1.000000\n",
            "75%      3.000000   35.000000    1.000000  ...    0.000000    0.000000    1.000000\n",
            "max      3.000000   80.000000    8.000000  ...    1.000000    1.000000    1.000000\n",
            "\n",
            "[8 rows x 18 columns]\n"
          ],
          "name": "stdout"
        }
      ]
    },
    {
      "cell_type": "markdown",
      "metadata": {
        "id": "pWXQORRzLE-h"
      },
      "source": [
        "#### **Preprocessing - (2) 함수 생성**"
      ]
    },
    {
      "cell_type": "code",
      "metadata": {
        "id": "cJYUx6jXmL-W"
      },
      "source": [
        "# train 데이터 로드\n",
        "train = pd.read_csv('https://ds-lecture-data.s3.ap-northeast-2.amazonaws.com/titanic/train.csv')"
      ],
      "execution_count": null,
      "outputs": []
    },
    {
      "cell_type": "code",
      "metadata": {
        "id": "PEsHtvLcLKnS"
      },
      "source": [
        "# 함수를 만들어 위 전처리를 프로세스화\n",
        "\n",
        "def preprocessing(df):\n",
        "  df.drop(['PassengerId', 'Name', 'Ticket'], inplace=True, axis=1)\n",
        "  df['Cabin']=df['Cabin'].str[:1]\n",
        "  df = pd.get_dummies(df)\n",
        "  \n",
        "  df_columns = pd.get_dummies(df).columns\n",
        "  X_train, X_val, y_train, y_val = train_test_split(df.drop(['Survived'],axis=1),df['Survived'], test_size=0.3)\n",
        "\n",
        "  imputer = SimpleImputer()\n",
        "  X_train = imputer.fit_transform(X_train)\n",
        "  X_val = imputer.transform(X_val)\n",
        "  return X_train, X_val, y_train, y_val, df_columns"
      ],
      "execution_count": null,
      "outputs": []
    },
    {
      "cell_type": "code",
      "metadata": {
        "colab": {
          "base_uri": "https://localhost:8080/"
        },
        "id": "yabfYCzSSxGY",
        "outputId": "220f5077-d7c1-47ef-e5c2-e0bd394b79e4"
      },
      "source": [
        "X_train, X_val, y_train, y_val, train_columns = preprocessing(train)\n",
        "X_val.shape, X_train.shape"
      ],
      "execution_count": null,
      "outputs": [
        {
          "output_type": "execute_result",
          "data": {
            "text/plain": [
              "((268, 18), (623, 18))"
            ]
          },
          "metadata": {
            "tags": []
          },
          "execution_count": 19
        }
      ]
    },
    {
      "cell_type": "markdown",
      "metadata": {
        "id": "wSAKKFtCQrBC"
      },
      "source": [
        "### **Modeling**"
      ]
    },
    {
      "cell_type": "code",
      "metadata": {
        "colab": {
          "base_uri": "https://localhost:8080/"
        },
        "id": "XyrN5EaSOVtQ",
        "outputId": "56418969-aff9-46d6-8aac-4a1c85d61247"
      },
      "source": [
        "# 로지스틱 회귀분석 활용해 모델링\n",
        "lr = LogisticRegression()\n",
        "lr.fit(X_train, y_train)\n",
        "\n",
        "# 모델 정확도 Validation\n",
        "print('정확도: ',lr.score(X_val,y_val).round(2))\n",
        "print('Coef: ',lr.coef_.round(2),'\\n\\n')"
      ],
      "execution_count": null,
      "outputs": [
        {
          "output_type": "stream",
          "text": [
            "정확도:  0.79\n",
            "Coef:  [[-0.92 -0.03 -0.28 -0.15  0.    2.02 -0.6   0.43  0.33  0.37  0.6   0.61\n",
            "   0.87 -0.1  -0.08  0.71  0.46  0.15]] \n",
            "\n",
            "\n"
          ],
          "name": "stdout"
        },
        {
          "output_type": "stream",
          "text": [
            "/usr/local/lib/python3.6/dist-packages/sklearn/linear_model/_logistic.py:940: ConvergenceWarning: lbfgs failed to converge (status=1):\n",
            "STOP: TOTAL NO. of ITERATIONS REACHED LIMIT.\n",
            "\n",
            "Increase the number of iterations (max_iter) or scale the data as shown in:\n",
            "    https://scikit-learn.org/stable/modules/preprocessing.html\n",
            "Please also refer to the documentation for alternative solver options:\n",
            "    https://scikit-learn.org/stable/modules/linear_model.html#logistic-regression\n",
            "  extra_warning_msg=_LOGISTIC_SOLVER_CONVERGENCE_MSG)\n"
          ],
          "name": "stderr"
        }
      ]
    },
    {
      "cell_type": "code",
      "metadata": {
        "colab": {
          "base_uri": "https://localhost:8080/"
        },
        "id": "fPL2l2ZgQa6u",
        "outputId": "d6d5ba0c-fdf1-43e6-bcf9-eb79b72208a9"
      },
      "source": [
        "# 각 범주에 속할 확률\n",
        "lr.predict_proba(X_val)"
      ],
      "execution_count": null,
      "outputs": [
        {
          "output_type": "execute_result",
          "data": {
            "text/plain": [
              "array([[0.83180468, 0.16819532],\n",
              "       [0.66205155, 0.33794845],\n",
              "       [0.9166002 , 0.0833998 ],\n",
              "       [0.13471173, 0.86528827],\n",
              "       [0.37013928, 0.62986072],\n",
              "       [0.07329476, 0.92670524],\n",
              "       [0.39218739, 0.60781261],\n",
              "       [0.81336488, 0.18663512],\n",
              "       [0.60600922, 0.39399078],\n",
              "       [0.86958113, 0.13041887],\n",
              "       [0.74177133, 0.25822867],\n",
              "       [0.89327017, 0.10672983],\n",
              "       [0.46083907, 0.53916093],\n",
              "       [0.04136991, 0.95863009],\n",
              "       [0.22714459, 0.77285541],\n",
              "       [0.90508014, 0.09491986],\n",
              "       [0.23738382, 0.76261618],\n",
              "       [0.39050277, 0.60949723],\n",
              "       [0.09287655, 0.90712345],\n",
              "       [0.92655044, 0.07344956],\n",
              "       [0.91656575, 0.08343425],\n",
              "       [0.39244867, 0.60755133],\n",
              "       [0.8610688 , 0.1389312 ],\n",
              "       [0.49812382, 0.50187618],\n",
              "       [0.18675756, 0.81324244],\n",
              "       [0.27360939, 0.72639061],\n",
              "       [0.74052617, 0.25947383],\n",
              "       [0.06842499, 0.93157501],\n",
              "       [0.92338221, 0.07661779],\n",
              "       [0.75358417, 0.24641583],\n",
              "       [0.91821455, 0.08178545],\n",
              "       [0.01874649, 0.98125351],\n",
              "       [0.04284279, 0.95715721],\n",
              "       [0.92038266, 0.07961734],\n",
              "       [0.56319895, 0.43680105],\n",
              "       [0.7970404 , 0.2029596 ],\n",
              "       [0.06154318, 0.93845682],\n",
              "       [0.39852748, 0.60147252],\n",
              "       [0.61493875, 0.38506125],\n",
              "       [0.86703473, 0.13296527],\n",
              "       [0.39236122, 0.60763878],\n",
              "       [0.89056085, 0.10943915],\n",
              "       [0.81085507, 0.18914493],\n",
              "       [0.69182743, 0.30817257],\n",
              "       [0.07741501, 0.92258499],\n",
              "       [0.83629707, 0.16370293],\n",
              "       [0.9092247 , 0.0907753 ],\n",
              "       [0.95186407, 0.04813593],\n",
              "       [0.89004829, 0.10995171],\n",
              "       [0.77131082, 0.22868918],\n",
              "       [0.44372014, 0.55627986],\n",
              "       [0.07924337, 0.92075663],\n",
              "       [0.88578652, 0.11421348],\n",
              "       [0.9166002 , 0.0833998 ],\n",
              "       [0.89007147, 0.10992853],\n",
              "       [0.95272565, 0.04727435],\n",
              "       [0.87407412, 0.12592588],\n",
              "       [0.35910219, 0.64089781],\n",
              "       [0.11754972, 0.88245028],\n",
              "       [0.93232708, 0.06767292],\n",
              "       [0.32133112, 0.67866888],\n",
              "       [0.07070114, 0.92929886],\n",
              "       [0.93319553, 0.06680447],\n",
              "       [0.91919051, 0.08080949],\n",
              "       [0.10909058, 0.89090942],\n",
              "       [0.61075116, 0.38924884],\n",
              "       [0.14448503, 0.85551497],\n",
              "       [0.90106802, 0.09893198],\n",
              "       [0.9065558 , 0.0934442 ],\n",
              "       [0.47387921, 0.52612079],\n",
              "       [0.87872202, 0.12127798],\n",
              "       [0.62060244, 0.37939756],\n",
              "       [0.7832467 , 0.2167533 ],\n",
              "       [0.91656575, 0.08343425],\n",
              "       [0.91372788, 0.08627212],\n",
              "       [0.93006068, 0.06993932],\n",
              "       [0.94628607, 0.05371393],\n",
              "       [0.28683578, 0.71316422],\n",
              "       [0.93615225, 0.06384775],\n",
              "       [0.13239765, 0.86760235],\n",
              "       [0.88153168, 0.11846832],\n",
              "       [0.91609594, 0.08390406],\n",
              "       [0.51522556, 0.48477444],\n",
              "       [0.94860137, 0.05139863],\n",
              "       [0.8876482 , 0.1123518 ],\n",
              "       [0.82772255, 0.17227745],\n",
              "       [0.33665207, 0.66334793],\n",
              "       [0.91596468, 0.08403532],\n",
              "       [0.62365976, 0.37634024],\n",
              "       [0.9286222 , 0.0713778 ],\n",
              "       [0.27323345, 0.72676655],\n",
              "       [0.27339039, 0.72660961],\n",
              "       [0.91708267, 0.08291733],\n",
              "       [0.66865952, 0.33134048],\n",
              "       [0.92673421, 0.07326579],\n",
              "       [0.77853471, 0.22146529],\n",
              "       [0.86296198, 0.13703802],\n",
              "       [0.38571033, 0.61428967],\n",
              "       [0.27703873, 0.72296127],\n",
              "       [0.8900703 , 0.1099297 ],\n",
              "       [0.4942583 , 0.5057417 ],\n",
              "       [0.87479562, 0.12520438],\n",
              "       [0.91368756, 0.08631244],\n",
              "       [0.89337692, 0.10662308],\n",
              "       [0.92038891, 0.07961109],\n",
              "       [0.78372838, 0.21627162],\n",
              "       [0.48570787, 0.51429213],\n",
              "       [0.91423741, 0.08576259],\n",
              "       [0.33160118, 0.66839882],\n",
              "       [0.51515256, 0.48484744],\n",
              "       [0.88465811, 0.11534189],\n",
              "       [0.92038266, 0.07961734],\n",
              "       [0.88064685, 0.11935315],\n",
              "       [0.91662719, 0.08337281],\n",
              "       [0.81205367, 0.18794633],\n",
              "       [0.94689153, 0.05310847],\n",
              "       [0.04575971, 0.95424029],\n",
              "       [0.91278015, 0.08721985],\n",
              "       [0.06733598, 0.93266402],\n",
              "       [0.50724523, 0.49275477],\n",
              "       [0.41521239, 0.58478761],\n",
              "       [0.94676272, 0.05323728],\n",
              "       [0.04642334, 0.95357666],\n",
              "       [0.07435567, 0.92564433],\n",
              "       [0.82067778, 0.17932222],\n",
              "       [0.88138541, 0.11861459],\n",
              "       [0.85931146, 0.14068854],\n",
              "       [0.36404556, 0.63595444],\n",
              "       [0.91667742, 0.08332258],\n",
              "       [0.93323927, 0.06676073],\n",
              "       [0.04318032, 0.95681968],\n",
              "       [0.89006552, 0.10993448],\n",
              "       [0.84371705, 0.15628295],\n",
              "       [0.64563995, 0.35436005],\n",
              "       [0.37023869, 0.62976131],\n",
              "       [0.63362303, 0.36637697],\n",
              "       [0.15722809, 0.84277191],\n",
              "       [0.07875093, 0.92124907],\n",
              "       [0.92674909, 0.07325091],\n",
              "       [0.91656575, 0.08343425],\n",
              "       [0.89006552, 0.10993448],\n",
              "       [0.89887007, 0.10112993],\n",
              "       [0.76860114, 0.23139886],\n",
              "       [0.37022731, 0.62977269],\n",
              "       [0.80172715, 0.19827285],\n",
              "       [0.88153168, 0.11846832],\n",
              "       [0.89612897, 0.10387103],\n",
              "       [0.81778361, 0.18221639],\n",
              "       [0.8378474 , 0.1621526 ],\n",
              "       [0.62211634, 0.37788366],\n",
              "       [0.99120943, 0.00879057],\n",
              "       [0.89852757, 0.10147243],\n",
              "       [0.27360939, 0.72639061],\n",
              "       [0.26999874, 0.73000126],\n",
              "       [0.89007267, 0.10992733],\n",
              "       [0.60129489, 0.39870511],\n",
              "       [0.03515124, 0.96484876],\n",
              "       [0.55115834, 0.44884166],\n",
              "       [0.8610688 , 0.1389312 ],\n",
              "       [0.90777895, 0.09222105],\n",
              "       [0.9065558 , 0.0934442 ],\n",
              "       [0.37017335, 0.62982665],\n",
              "       [0.89061923, 0.10938077],\n",
              "       [0.38536416, 0.61463584],\n",
              "       [0.26834468, 0.73165532],\n",
              "       [0.92250424, 0.07749576],\n",
              "       [0.95856541, 0.04143459],\n",
              "       [0.90934042, 0.09065958],\n",
              "       [0.55879568, 0.44120432],\n",
              "       [0.58582035, 0.41417965],\n",
              "       [0.92039782, 0.07960218],\n",
              "       [0.7970404 , 0.2029596 ],\n",
              "       [0.89617091, 0.10382909],\n",
              "       [0.90655786, 0.09344214],\n",
              "       [0.41617385, 0.58382615],\n",
              "       [0.36823938, 0.63176062],\n",
              "       [0.94976295, 0.05023705],\n",
              "       [0.06428252, 0.93571748],\n",
              "       [0.90170449, 0.09829551],\n",
              "       [0.93889791, 0.06110209],\n",
              "       [0.6649514 , 0.3350486 ],\n",
              "       [0.71822297, 0.28177703],\n",
              "       [0.93699674, 0.06300326],\n",
              "       [0.78742058, 0.21257942],\n",
              "       [0.88772468, 0.11227532],\n",
              "       [0.89006552, 0.10993448],\n",
              "       [0.48110283, 0.51889717],\n",
              "       [0.90168073, 0.09831927],\n",
              "       [0.88556033, 0.11443967],\n",
              "       [0.30653538, 0.69346462],\n",
              "       [0.93724937, 0.06275063],\n",
              "       [0.37013928, 0.62986072],\n",
              "       [0.72475601, 0.27524399],\n",
              "       [0.88473264, 0.11526736],\n",
              "       [0.95733478, 0.04266522],\n",
              "       [0.05210468, 0.94789532],\n",
              "       [0.3708503 , 0.6291497 ],\n",
              "       [0.07848016, 0.92151984],\n",
              "       [0.09233095, 0.90766905],\n",
              "       [0.30794168, 0.69205832],\n",
              "       [0.17839503, 0.82160497],\n",
              "       [0.74622667, 0.25377333],\n",
              "       [0.92542945, 0.07457055],\n",
              "       [0.89757376, 0.10242624],\n",
              "       [0.89014716, 0.10985284],\n",
              "       [0.17123103, 0.82876897],\n",
              "       [0.8992306 , 0.1007694 ],\n",
              "       [0.19552146, 0.80447854],\n",
              "       [0.48096827, 0.51903173],\n",
              "       [0.41254537, 0.58745463],\n",
              "       [0.88498078, 0.11501922],\n",
              "       [0.91656575, 0.08343425],\n",
              "       [0.35805468, 0.64194532],\n",
              "       [0.28665747, 0.71334253],\n",
              "       [0.90421402, 0.09578598],\n",
              "       [0.09205745, 0.90794255],\n",
              "       [0.91101175, 0.08898825],\n",
              "       [0.72146944, 0.27853056],\n",
              "       [0.90158895, 0.09841105],\n",
              "       [0.82720182, 0.17279818],\n",
              "       [0.88802314, 0.11197686],\n",
              "       [0.44134587, 0.55865413],\n",
              "       [0.59855596, 0.40144404],\n",
              "       [0.59822045, 0.40177955],\n",
              "       [0.90426463, 0.09573537],\n",
              "       [0.94360214, 0.05639786],\n",
              "       [0.59097081, 0.40902919],\n",
              "       [0.14515352, 0.85484648],\n",
              "       [0.9511545 , 0.0488455 ],\n",
              "       [0.22244816, 0.77755184],\n",
              "       [0.89006552, 0.10993448],\n",
              "       [0.7774721 , 0.2225279 ],\n",
              "       [0.05103398, 0.94896602],\n",
              "       [0.73271119, 0.26728881],\n",
              "       [0.50637292, 0.49362708],\n",
              "       [0.93291437, 0.06708563],\n",
              "       [0.40970958, 0.59029042],\n",
              "       [0.66865952, 0.33134048],\n",
              "       [0.34038981, 0.65961019],\n",
              "       [0.41396607, 0.58603393],\n",
              "       [0.87166423, 0.12833577],\n",
              "       [0.07150011, 0.92849989],\n",
              "       [0.91656575, 0.08343425],\n",
              "       [0.59494607, 0.40505393],\n",
              "       [0.53545246, 0.46454754],\n",
              "       [0.4770408 , 0.5229592 ],\n",
              "       [0.87818373, 0.12181627],\n",
              "       [0.82482832, 0.17517168],\n",
              "       [0.93414265, 0.06585735],\n",
              "       [0.02367993, 0.97632007],\n",
              "       [0.35824225, 0.64175775],\n",
              "       [0.84794944, 0.15205056],\n",
              "       [0.27122346, 0.72877654],\n",
              "       [0.84311405, 0.15688595],\n",
              "       [0.84298595, 0.15701405],\n",
              "       [0.07144527, 0.92855473],\n",
              "       [0.90273579, 0.09726421],\n",
              "       [0.81085507, 0.18914493],\n",
              "       [0.81661725, 0.18338275],\n",
              "       [0.83720071, 0.16279929],\n",
              "       [0.73553955, 0.26446045],\n",
              "       [0.48570787, 0.51429213],\n",
              "       [0.47892457, 0.52107543],\n",
              "       [0.28900405, 0.71099595],\n",
              "       [0.17216494, 0.82783506],\n",
              "       [0.94121871, 0.05878129],\n",
              "       [0.22967385, 0.77032615],\n",
              "       [0.8609008 , 0.1390992 ]])"
            ]
          },
          "metadata": {
            "tags": []
          },
          "execution_count": 25
        }
      ]
    },
    {
      "cell_type": "markdown",
      "metadata": {
        "id": "xUE-6aiVV5s8"
      },
      "source": [
        "### **알고리즘 성능 향상을 위한 표준화**"
      ]
    },
    {
      "cell_type": "code",
      "metadata": {
        "colab": {
          "base_uri": "https://localhost:8080/"
        },
        "id": "B2zJdZ_QV-VZ",
        "outputId": "78b22a55-f856-48ee-d57d-492d85215256"
      },
      "source": [
        "# 표준화 진행 후 로지스틱 회귀모형 재학습\n",
        "# (추가: Feature Engineering, 하이퍼 파라미터 튜닝 예정)\n",
        "\n",
        "sd = StandardScaler()\n",
        "X_train_scaled = sd.fit_transform(X_train)\n",
        "X_val_scaled = sd.transform(X_val)\n",
        "\n",
        "lr.fit(X_train_scaled, y_train)\n",
        "\n",
        "print('정확도: ',lr.score(X_val_scaled,y_val).round(2))\n",
        "print('Coef: ',lr.coef_.round(2),'\\n\\n')"
      ],
      "execution_count": null,
      "outputs": [
        {
          "output_type": "stream",
          "text": [
            "정확도:  0.82\n",
            "Coef:  [[-0.75 -0.4  -0.37 -0.15  0.14  0.68 -0.68  0.09  0.11  0.12  0.16  0.17\n",
            "   0.24 -0.04 -0.16 -0.01 -0.06 -0.24]] \n",
            "\n",
            "\n"
          ],
          "name": "stdout"
        }
      ]
    },
    {
      "cell_type": "markdown",
      "metadata": {
        "id": "dG7XxsauXiw1"
      },
      "source": [
        "### **최종 Test 데이터 학습**"
      ]
    },
    {
      "cell_type": "code",
      "metadata": {
        "id": "LaGjLOa8mEFD"
      },
      "source": [
        "# test 데이터 로드\n",
        "test = pd.read_csv('https://ds-lecture-data.s3.ap-northeast-2.amazonaws.com/titanic/test.csv')"
      ],
      "execution_count": null,
      "outputs": []
    },
    {
      "cell_type": "code",
      "metadata": {
        "id": "PrEPGjoOXwSP"
      },
      "source": [
        "# Test 데이터 형식을 맞춰주기 위한 preprocessing 함수\n",
        "\n",
        "def preprocessing_test(df):\n",
        "  data = df.drop(['PassengerId', 'Name', 'Ticket'], axis=1)\n",
        "  data['Cabin']=df['Cabin'].str[:1]\n",
        "  data = pd.get_dummies(data)\n",
        "  df_columns = data.columns\n",
        "\n",
        "  imputer = SimpleImputer()\n",
        "  data = imputer.fit_transform(data)\n",
        "\n",
        "  return data, df_columns\n",
        "\n",
        "X_test, test_columns = preprocessing_test(test)"
      ],
      "execution_count": null,
      "outputs": []
    },
    {
      "cell_type": "code",
      "metadata": {
        "colab": {
          "base_uri": "https://localhost:8080/"
        },
        "id": "wptAEVmaZeJg",
        "outputId": "52580375-0329-4d1e-ec1c-833c336af52c"
      },
      "source": [
        "# column 확인 및 조정\n",
        "\n",
        "print(X_test.shape,X_train.shape)\n",
        "train_columns.difference(test_columns)"
      ],
      "execution_count": null,
      "outputs": [
        {
          "output_type": "stream",
          "text": [
            "(418, 17) (623, 18)\n"
          ],
          "name": "stdout"
        },
        {
          "output_type": "execute_result",
          "data": {
            "text/plain": [
              "Index(['Cabin_T', 'Survived'], dtype='object')"
            ]
          },
          "metadata": {
            "tags": []
          },
          "execution_count": 34
        }
      ]
    },
    {
      "cell_type": "code",
      "metadata": {
        "colab": {
          "base_uri": "https://localhost:8080/",
          "height": 136
        },
        "id": "8jfmrkwFXJkE",
        "outputId": "6bd9afc0-0e9c-4200-ab0b-99200c5d97e9"
      },
      "source": [
        "# 모델 학습 후 Submission 파일 생성\n",
        "\n",
        "# Validation 데이터와 Train 데이터를 모두 학습해야 하므로, Data Set 설정\n",
        "X_train_total = np.concatenate((X_train_scaled,X_val_scaled),axis=0)\n",
        "X_train_total = np.delete(X_train_total,15,axis=1) # 'Cabin_T' 삭제\n",
        "y_train_total = pd.concat([y_val,y_train]).reset_index(drop=True)\n",
        "\n",
        "# 모델 학습\n",
        "lr.fit(X_train_total,y_train_total)\n",
        "pred = lr.predict(X_test)\n",
        "\n",
        "# Submission 파일 생성\n",
        "submission = test[['PassengerId']].copy()\n",
        "submission['Pred'] = pred\n",
        "submission.head(3)"
      ],
      "execution_count": null,
      "outputs": [
        {
          "output_type": "execute_result",
          "data": {
            "text/html": [
              "<div>\n",
              "<style scoped>\n",
              "    .dataframe tbody tr th:only-of-type {\n",
              "        vertical-align: middle;\n",
              "    }\n",
              "\n",
              "    .dataframe tbody tr th {\n",
              "        vertical-align: top;\n",
              "    }\n",
              "\n",
              "    .dataframe thead th {\n",
              "        text-align: right;\n",
              "    }\n",
              "</style>\n",
              "<table border=\"1\" class=\"dataframe\">\n",
              "  <thead>\n",
              "    <tr style=\"text-align: right;\">\n",
              "      <th></th>\n",
              "      <th>PassengerId</th>\n",
              "      <th>Pred</th>\n",
              "    </tr>\n",
              "  </thead>\n",
              "  <tbody>\n",
              "    <tr>\n",
              "      <th>0</th>\n",
              "      <td>892</td>\n",
              "      <td>1</td>\n",
              "    </tr>\n",
              "    <tr>\n",
              "      <th>1</th>\n",
              "      <td>893</td>\n",
              "      <td>1</td>\n",
              "    </tr>\n",
              "    <tr>\n",
              "      <th>2</th>\n",
              "      <td>894</td>\n",
              "      <td>1</td>\n",
              "    </tr>\n",
              "  </tbody>\n",
              "</table>\n",
              "</div>"
            ],
            "text/plain": [
              "   PassengerId  Pred\n",
              "0          892     1\n",
              "1          893     1\n",
              "2          894     1"
            ]
          },
          "metadata": {
            "tags": []
          },
          "execution_count": 52
        }
      ]
    },
    {
      "cell_type": "code",
      "metadata": {
        "colab": {
          "base_uri": "https://localhost:8080/",
          "height": 17
        },
        "id": "xRFhqA5Nn4ZL",
        "outputId": "fde4dd75-4a6c-445d-db05-ee83f23ff71f"
      },
      "source": [
        "# Submission 파일 export\n",
        "submission.to_csv('Submission_Titanic.csv')\n",
        "files.download('Submission_Titanic.csv')"
      ],
      "execution_count": null,
      "outputs": [
        {
          "output_type": "display_data",
          "data": {
            "application/javascript": [
              "\n",
              "    async function download(id, filename, size) {\n",
              "      if (!google.colab.kernel.accessAllowed) {\n",
              "        return;\n",
              "      }\n",
              "      const div = document.createElement('div');\n",
              "      const label = document.createElement('label');\n",
              "      label.textContent = `Downloading \"${filename}\": `;\n",
              "      div.appendChild(label);\n",
              "      const progress = document.createElement('progress');\n",
              "      progress.max = size;\n",
              "      div.appendChild(progress);\n",
              "      document.body.appendChild(div);\n",
              "\n",
              "      const buffers = [];\n",
              "      let downloaded = 0;\n",
              "\n",
              "      const channel = await google.colab.kernel.comms.open(id);\n",
              "      // Send a message to notify the kernel that we're ready.\n",
              "      channel.send({})\n",
              "\n",
              "      for await (const message of channel.messages) {\n",
              "        // Send a message to notify the kernel that we're ready.\n",
              "        channel.send({})\n",
              "        if (message.buffers) {\n",
              "          for (const buffer of message.buffers) {\n",
              "            buffers.push(buffer);\n",
              "            downloaded += buffer.byteLength;\n",
              "            progress.value = downloaded;\n",
              "          }\n",
              "        }\n",
              "      }\n",
              "      const blob = new Blob(buffers, {type: 'application/binary'});\n",
              "      const a = document.createElement('a');\n",
              "      a.href = window.URL.createObjectURL(blob);\n",
              "      a.download = filename;\n",
              "      div.appendChild(a);\n",
              "      a.click();\n",
              "      div.remove();\n",
              "    }\n",
              "  "
            ],
            "text/plain": [
              "<IPython.core.display.Javascript object>"
            ]
          },
          "metadata": {
            "tags": []
          }
        },
        {
          "output_type": "display_data",
          "data": {
            "application/javascript": [
              "download(\"download_b066d3f9-5397-489c-bc99-8c24cc0be58f\", \"Submission_Titanic.csv\", 4398)"
            ],
            "text/plain": [
              "<IPython.core.display.Javascript object>"
            ]
          },
          "metadata": {
            "tags": []
          }
        }
      ]
    }
  ]
}