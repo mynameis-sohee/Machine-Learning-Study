{
  "nbformat": 4,
  "nbformat_minor": 0,
  "metadata": {
    "kernelspec": {
      "name": "python3",
      "display_name": "Python 3",
      "language": "python"
    },
    "language_info": {
      "name": "python",
      "version": "3.7.9",
      "mimetype": "text/x-python",
      "codemirror_mode": {
        "name": "ipython",
        "version": 3
      },
      "pygments_lexer": "ipython3",
      "nbconvert_exporter": "python",
      "file_extension": ".py"
    },
    "colab": {
      "name": "Faeture Selection, LogisticRegression",
      "provenance": []
    }
  },
  "cells": [
    {
      "cell_type": "markdown",
      "metadata": {
        "id": "OZ2QAT4UyO3x"
      },
      "source": [
        "\n",
        "## **특징 선택**\n",
        "\n",
        "(이 파일 이전,'[모델링] 04. Feature Selection(SelectKBest), Ridge Regression.ipynb' 을 우선 확인 부탁드립니다.)\n",
        "\n",
        "\n",
        "\n",
        "모델링을 진행할 경우, features가 너무 적다면 정확도가 떨어집니다. 분류기준이 명확하지 않기 때문이죠.\n",
        "\n",
        "그런데, 분류 기준이 너무 많아도 모델 성능이 떨어진다는 사실, 알고 계셨나요?\n",
        "\n",
        "분류 기준이 과한 경우, 중요한 분류 기준 특징들만을 추출해 모델링을 하는 것이 도움이 될 수 있습니다.\n",
        "\n",
        "이때의 포인트는, 적당한 Features를 사용해야 한다는 것인데요, 너무 적지 않는 선에서, 모델이 과적합되지 않을 수 있도록 Feature를 선택하는 것이 좋습니다. 이때, 특정 K개의 Features를 선택해 모델링을 진행하여 최적 Feature개수를 추출하는 방법론이 바로 SelectKBest입니다.\n",
        "\n",
        "오늘은 **SelectKBest를 활용해 Features의 개수를 추출**하여, **Best Logistic Regression 모델**을 구성해보도록 하겠습니다.\n",
        "\n",
        "---"
      ]
    },
    {
      "cell_type": "code",
      "metadata": {
        "id": "7ERlk60GtCpd"
      },
      "source": [
        "# 필요한 Lib Import\n",
        "\n",
        "import numpy as np\n",
        "import pandas as pd\n",
        "import os\n",
        "import seaborn as sns\n",
        "from sklearn.model_selection import train_test_split\n",
        "from sklearn.linear_model import LogisticRegression\n",
        "from sklearn.metrics import accuracy_score\n",
        "from sklearn.metrics import mean_absolute_error\n",
        "from sklearn.feature_selection import f_regression, SelectKBest"
      ],
      "execution_count": null,
      "outputs": []
    },
    {
      "cell_type": "code",
      "metadata": {
        "trusted": true,
        "id": "v_F-EwwO5NTr",
        "outputId": "9901a789-760b-441c-9e85-5754b77ca200"
      },
      "source": [
        "# 데이터셋 Load\n",
        "\n",
        "for dirname, _, filenames in os.walk('/kaggle/input'):\n",
        "    for filename in filenames:\n",
        "        print(os.path.join(dirname, filename))\n",
        "\n",
        "df=pd.read_csv('/kaggle/input/cardiovascular-disease-dataset/cardio_train.csv',sep=';')\n",
        "df.head()"
      ],
      "execution_count": null,
      "outputs": [
        {
          "output_type": "execute_result",
          "data": {
            "text/plain": [
              "   id    age  gender  height  weight  ap_hi  ap_lo  cholesterol  gluc  smoke  \\\n",
              "0   0  18393       2     168    62.0    110     80            1     1      0   \n",
              "1   1  20228       1     156    85.0    140     90            3     1      0   \n",
              "2   2  18857       1     165    64.0    130     70            3     1      0   \n",
              "3   3  17623       2     169    82.0    150    100            1     1      0   \n",
              "4   4  17474       1     156    56.0    100     60            1     1      0   \n",
              "\n",
              "   alco  active  cardio  \n",
              "0     0       1       0  \n",
              "1     0       1       1  \n",
              "2     0       0       1  \n",
              "3     0       1       1  \n",
              "4     0       0       0  "
            ],
            "text/html": [
              "<div>\n",
              "<style scoped>\n",
              "    .dataframe tbody tr th:only-of-type {\n",
              "        vertical-align: middle;\n",
              "    }\n",
              "\n",
              "    .dataframe tbody tr th {\n",
              "        vertical-align: top;\n",
              "    }\n",
              "\n",
              "    .dataframe thead th {\n",
              "        text-align: right;\n",
              "    }\n",
              "</style>\n",
              "<table border=\"1\" class=\"dataframe\">\n",
              "  <thead>\n",
              "    <tr style=\"text-align: right;\">\n",
              "      <th></th>\n",
              "      <th>id</th>\n",
              "      <th>age</th>\n",
              "      <th>gender</th>\n",
              "      <th>height</th>\n",
              "      <th>weight</th>\n",
              "      <th>ap_hi</th>\n",
              "      <th>ap_lo</th>\n",
              "      <th>cholesterol</th>\n",
              "      <th>gluc</th>\n",
              "      <th>smoke</th>\n",
              "      <th>alco</th>\n",
              "      <th>active</th>\n",
              "      <th>cardio</th>\n",
              "    </tr>\n",
              "  </thead>\n",
              "  <tbody>\n",
              "    <tr>\n",
              "      <th>0</th>\n",
              "      <td>0</td>\n",
              "      <td>18393</td>\n",
              "      <td>2</td>\n",
              "      <td>168</td>\n",
              "      <td>62.0</td>\n",
              "      <td>110</td>\n",
              "      <td>80</td>\n",
              "      <td>1</td>\n",
              "      <td>1</td>\n",
              "      <td>0</td>\n",
              "      <td>0</td>\n",
              "      <td>1</td>\n",
              "      <td>0</td>\n",
              "    </tr>\n",
              "    <tr>\n",
              "      <th>1</th>\n",
              "      <td>1</td>\n",
              "      <td>20228</td>\n",
              "      <td>1</td>\n",
              "      <td>156</td>\n",
              "      <td>85.0</td>\n",
              "      <td>140</td>\n",
              "      <td>90</td>\n",
              "      <td>3</td>\n",
              "      <td>1</td>\n",
              "      <td>0</td>\n",
              "      <td>0</td>\n",
              "      <td>1</td>\n",
              "      <td>1</td>\n",
              "    </tr>\n",
              "    <tr>\n",
              "      <th>2</th>\n",
              "      <td>2</td>\n",
              "      <td>18857</td>\n",
              "      <td>1</td>\n",
              "      <td>165</td>\n",
              "      <td>64.0</td>\n",
              "      <td>130</td>\n",
              "      <td>70</td>\n",
              "      <td>3</td>\n",
              "      <td>1</td>\n",
              "      <td>0</td>\n",
              "      <td>0</td>\n",
              "      <td>0</td>\n",
              "      <td>1</td>\n",
              "    </tr>\n",
              "    <tr>\n",
              "      <th>3</th>\n",
              "      <td>3</td>\n",
              "      <td>17623</td>\n",
              "      <td>2</td>\n",
              "      <td>169</td>\n",
              "      <td>82.0</td>\n",
              "      <td>150</td>\n",
              "      <td>100</td>\n",
              "      <td>1</td>\n",
              "      <td>1</td>\n",
              "      <td>0</td>\n",
              "      <td>0</td>\n",
              "      <td>1</td>\n",
              "      <td>1</td>\n",
              "    </tr>\n",
              "    <tr>\n",
              "      <th>4</th>\n",
              "      <td>4</td>\n",
              "      <td>17474</td>\n",
              "      <td>1</td>\n",
              "      <td>156</td>\n",
              "      <td>56.0</td>\n",
              "      <td>100</td>\n",
              "      <td>60</td>\n",
              "      <td>1</td>\n",
              "      <td>1</td>\n",
              "      <td>0</td>\n",
              "      <td>0</td>\n",
              "      <td>0</td>\n",
              "      <td>0</td>\n",
              "    </tr>\n",
              "  </tbody>\n",
              "</table>\n",
              "</div>"
            ]
          },
          "metadata": {
            "tags": []
          },
          "execution_count": 2
        }
      ]
    },
    {
      "cell_type": "markdown",
      "metadata": {
        "id": "m3VNioXM5NTu"
      },
      "source": [
        "### **전처리 수행**\n",
        "\n",
        "모델링을 실습해보기 위한 파일이므로, 최소한의 전처리만 수행합니다."
      ]
    },
    {
      "cell_type": "code",
      "metadata": {
        "trusted": true,
        "id": "kZfAHlyK5NTv"
      },
      "source": [
        "# 데이터 중 id (필요없는 feature) 제거\n",
        "df = df.drop(['id'],axis=1)"
      ],
      "execution_count": null,
      "outputs": []
    },
    {
      "cell_type": "code",
      "metadata": {
        "trusted": true,
        "id": "6cOg1WOd5NTw",
        "outputId": "4daf1d89-6bba-4490-9bf1-3a472703f32a"
      },
      "source": [
        "# 데이터의 null값 확인\n",
        "df.isnull().sum()"
      ],
      "execution_count": null,
      "outputs": [
        {
          "output_type": "execute_result",
          "data": {
            "text/plain": [
              "age            0\n",
              "gender         0\n",
              "height         0\n",
              "weight         0\n",
              "ap_hi          0\n",
              "ap_lo          0\n",
              "cholesterol    0\n",
              "gluc           0\n",
              "smoke          0\n",
              "alco           0\n",
              "active         0\n",
              "cardio         0\n",
              "dtype: int64"
            ]
          },
          "metadata": {
            "tags": []
          },
          "execution_count": 4
        }
      ]
    },
    {
      "cell_type": "code",
      "metadata": {
        "trusted": true,
        "id": "SLeyJHYS5NTw",
        "outputId": "86f90d56-ce18-46cc-ef24-36cfa9e603a5"
      },
      "source": [
        "# 데이터의 이상치를 시각화로 간단하게 확인해봅니다. (강조: 전처리 실습이 아니라, Feature Selection '실습'을 위한 파일이므로, 최소한의 전처리만 수행하는 것이오니 이점 참고부탁드립니다.)\n",
        "\n",
        "col = df.columns\n",
        "\n",
        "for i in col:\n",
        "    print(sns.displot(df[i]))"
      ],
      "execution_count": null,
      "outputs": [
        {
          "output_type": "stream",
          "text": [
            "<seaborn.axisgrid.FacetGrid object at 0x7fe96e12c110>\n",
            "<seaborn.axisgrid.FacetGrid object at 0x7fe96d98a950>\n",
            "<seaborn.axisgrid.FacetGrid object at 0x7fe96b529a90>\n",
            "<seaborn.axisgrid.FacetGrid object at 0x7fe96b51f090>\n",
            "<seaborn.axisgrid.FacetGrid object at 0x7fe96afe3310>\n",
            "<seaborn.axisgrid.FacetGrid object at 0x7fe96adb2690>\n",
            "<seaborn.axisgrid.FacetGrid object at 0x7fe96b442e50>\n",
            "<seaborn.axisgrid.FacetGrid object at 0x7fe93d12fcd0>\n",
            "<seaborn.axisgrid.FacetGrid object at 0x7fe93d031110>\n",
            "<seaborn.axisgrid.FacetGrid object at 0x7fe93cffb250>\n",
            "<seaborn.axisgrid.FacetGrid object at 0x7fe93cedbd90>\n",
            "<seaborn.axisgrid.FacetGrid object at 0x7fe93ce7e0d0>\n"
          ],
          "name": "stdout"
        },
        {
          "output_type": "display_data",
          "data": {
            "text/plain": [
              "<Figure size 360x360 with 1 Axes>"
            ],
            "image/png": "[encoded data removed]"
          },
          "metadata": {
            "tags": [],
            "needs_background": "light"
          }
        },
        {
          "output_type": "display_data",
          "data": {
            "text/plain": [
              "<Figure size 360x360 with 1 Axes>"
            ],
            "image/png": "[encoded data removed]"
          },
          "metadata": {
            "tags": [],
            "needs_background": "light"
          }
        },
        {
          "output_type": "display_data",
          "data": {
            "text/plain": [
              "<Figure size 360x360 with 1 Axes>"
            ],
            "image/png": "[encoded data removed]"
          },
          "metadata": {
            "tags": [],
            "needs_background": "light"
          }
        },
        {
          "output_type": "display_data",
          "data": {
            "text/plain": [
              "<Figure size 360x360 with 1 Axes>"
            ],
            "image/png": "[encoded data removed]"
          },
          "metadata": {
            "tags": [],
            "needs_background": "light"
          }
        },
        {
          "output_type": "display_data",
          "data": {
            "text/plain": [
              "<Figure size 360x360 with 1 Axes>"
            ],
            "image/png": "[encoded data removed]"
          },
          "metadata": {
            "tags": [],
            "needs_background": "light"
          }
        },
        {
          "output_type": "display_data",
          "data": {
            "text/plain": [
              "<Figure size 360x360 with 1 Axes>"
            ],
            "image/png": "[encoded data removed]"
          },
          "metadata": {
            "tags": [],
            "needs_background": "light"
          }
        },
        {
          "output_type": "display_data",
          "data": {
            "text/plain": [
              "<Figure size 360x360 with 1 Axes>"
            ],
            "image/png": "[encoded data removed]"
          },
          "metadata": {
            "tags": [],
            "needs_background": "light"
          }
        },
        {
          "output_type": "display_data",
          "data": {
            "text/plain": [
              "<Figure size 360x360 with 1 Axes>"
            ],
            "image/png": "[encoded data removed]"
          },
          "metadata": {
            "tags": [],
            "needs_background": "light"
          }
        },
        {
          "output_type": "display_data",
          "data": {
            "text/plain": [
              "<Figure size 360x360 with 1 Axes>"
            ],
            "image/png": "[encoded data removed]"
          },
          "metadata": {
            "tags": [],
            "needs_background": "light"
          }
        },
        {
          "output_type": "display_data",
          "data": {
            "text/plain": [
              "<Figure size 360x360 with 1 Axes>"
            ],
            "image/png": "[encoded data removed]"
          },
          "metadata": {
            "tags": [],
            "needs_background": "light"
          }
        },
        {
          "output_type": "display_data",
          "data": {
            "text/plain": [
              "<Figure size 360x360 with 1 Axes>"
            ],
            "image/png": "[encoded data removed]"
          },
          "metadata": {
            "tags": [],
            "needs_background": "light"
          }
        },
        {
          "output_type": "display_data",
          "data": {
            "text/plain": [
              "<Figure size 360x360 with 1 Axes>"
            ],
            "image/png": "[encoded data removed]"
          },
          "metadata": {
            "tags": [],
            "needs_background": "light"
          }
        }
      ]
    },
    {
      "cell_type": "code",
      "metadata": {
        "trusted": true,
        "id": "hlWNk9q85NTy"
      },
      "source": [
        "# train, val, test 데이터셋 분리합니다.\n",
        "# 일반적으로 test, val 데이터의 비율은 train데이터의 10%-20% 의 데이터 양을 차지합니다.\n",
        "\n",
        "train_val, test = train_test_split(df, random_state=111, test_size=0.3)\n",
        "train, val = train_test_split(df, random_state=111, train_size=0.8)"
      ],
      "execution_count": null,
      "outputs": []
    },
    {
      "cell_type": "markdown",
      "metadata": {
        "id": "_dJ2tee35NTz"
      },
      "source": [
        "### **사이킷런의 LogisticRegression을 사용해 모델 생성** "
      ]
    },
    {
      "cell_type": "code",
      "metadata": {
        "trusted": true,
        "id": "wtIQu-sZ5NT0"
      },
      "source": [
        "#각 테스트, 학습, 평가 모델의 features와 target을 분리\n",
        "\n",
        "X_train = train.drop(['cardio'],axis=1)\n",
        "X_val = val.drop(['cardio'],axis=1)\n",
        "X_test = test.drop(['cardio'],axis=1)\n",
        "\n",
        "y_train = train['cardio']\n",
        "y_val = val['cardio']\n",
        "y_test = test['cardio']"
      ],
      "execution_count": null,
      "outputs": []
    },
    {
      "cell_type": "code",
      "metadata": {
        "trusted": true,
        "id": "xEKzwEN15NT1",
        "outputId": "e16c7ac7-93b2-42cf-f79d-f264e2a00022"
      },
      "source": [
        "# 모델 학습\n",
        "\n",
        "lr = LogisticRegression()\n",
        "lr.fit(X_train, y_train)"
      ],
      "execution_count": null,
      "outputs": [
        {
          "output_type": "stream",
          "text": [
            "/opt/conda/lib/python3.7/site-packages/sklearn/linear_model/_logistic.py:764: ConvergenceWarning: lbfgs failed to converge (status=1):\n",
            "STOP: TOTAL NO. of ITERATIONS REACHED LIMIT.\n",
            "\n",
            "Increase the number of iterations (max_iter) or scale the data as shown in:\n",
            "    https://scikit-learn.org/stable/modules/preprocessing.html\n",
            "Please also refer to the documentation for alternative solver options:\n",
            "    https://scikit-learn.org/stable/modules/linear_model.html#logistic-regression\n",
            "  extra_warning_msg=_LOGISTIC_SOLVER_CONVERGENCE_MSG)\n"
          ],
          "name": "stderr"
        },
        {
          "output_type": "execute_result",
          "data": {
            "text/plain": [
              "LogisticRegression()"
            ]
          },
          "metadata": {
            "tags": []
          },
          "execution_count": 9
        }
      ]
    },
    {
      "cell_type": "code",
      "metadata": {
        "trusted": true,
        "id": "vLjVkqgo5NT2",
        "outputId": "d7907d97-a02b-4428-c05d-26baff35a3fc"
      },
      "source": [
        "# 예측 후 정확도 확인\n",
        "\n",
        "y_val_pred = lr.predict(X_val)\n",
        "accuracy_score(y_val,y_val_pred)"
      ],
      "execution_count": null,
      "outputs": [
        {
          "output_type": "execute_result",
          "data": {
            "text/plain": [
              "0.6988571428571428"
            ]
          },
          "metadata": {
            "tags": []
          },
          "execution_count": 11
        }
      ]
    },
    {
      "cell_type": "markdown",
      "metadata": {
        "id": "iappRqPV5NT3"
      },
      "source": [
        "### **데이터에서 범주형 성질을 지닌 특성을 찾아 원핫인코딩**"
      ]
    },
    {
      "cell_type": "code",
      "metadata": {
        "trusted": true,
        "id": "z_9IHZeN5NT3",
        "outputId": "0252b070-305c-41eb-b0c3-b1374453342a"
      },
      "source": [
        "# 숫자의 차이가 의미없는 것을 원핫 인코딩\n",
        "# 이는 gender, smoke, alco, active가 있다.\n",
        "\n",
        "# 데이터타입 변경\n",
        "df['gender'] = df['gender'].astype('category')\n",
        "df['smoke'] = df['smoke'].astype('category')\n",
        "df['alco'] = df['alco'].astype('category')\n",
        "df['active'] = df['active'].astype('category')\n",
        "\n",
        "# 원핫 인코딩\n",
        "encoder = OneHotEncoder(use_cat_names = True)\n",
        "df = encoder.fit_transform(df)"
      ],
      "execution_count": null,
      "outputs": [
        {
          "output_type": "stream",
          "text": [
            "/opt/conda/lib/python3.7/site-packages/category_encoders/utils.py:21: FutureWarning: is_categorical is deprecated and will be removed in a future version.  Use is_categorical_dtype instead\n",
            "  elif pd.api.types.is_categorical(cols):\n"
          ],
          "name": "stderr"
        }
      ]
    },
    {
      "cell_type": "code",
      "metadata": {
        "trusted": true,
        "id": "mwYisrBe5NT3"
      },
      "source": [
        "# 원핫 인코딩한 df 데이터셋으로 새로운 train, test 데이터를 제작\n",
        "\n",
        "train_val, test = train_test_split(df, random_state=111, test_size=0.3)\n",
        "train, val = train_test_split(df, random_state=111, train_size=0.8)\n",
        "\n",
        "X_train = train.drop(['cardio'],axis=1)\n",
        "X_val = val.drop(['cardio'],axis=1)\n",
        "X_test = test.drop(['cardio'],axis=1)\n",
        "\n",
        "y_train = train['cardio']\n",
        "y_val = val['cardio']\n",
        "y_test = test['cardio']"
      ],
      "execution_count": null,
      "outputs": []
    },
    {
      "cell_type": "markdown",
      "metadata": {
        "id": "d8mqu-Cb5NT4"
      },
      "source": [
        "### **feature scaling 을 진행**"
      ]
    },
    {
      "cell_type": "code",
      "metadata": {
        "trusted": true,
        "id": "wrFf_8i25NT5",
        "outputId": "e9d8927b-b116-4bd6-c84d-79f308636a32"
      },
      "source": [
        "# Feature Scaling 별 MAE(선형회귀 평가지표 중 하나)값을 살펴보고, 최적의 MAE값이 도출되는 Columns를 확인합니다.\n",
        "\n",
        "for i in range(1,len(X_train.columns)):\n",
        "    selector = SelectKBest(score_func=f_regression, k=i)\n",
        "    X_train_sel = selector.fit_transform(X_train, y_train)\n",
        "    X_val_sel = selector.transform(X_val)\n",
        "    lr.fit(X_train_sel, y_train)\n",
        "    pred = lr.predict(X_val_sel)\n",
        "    mae = mean_absolute_error(y_val, pred)\n",
        "    print('{}개일 때 mae: '.format(i),round(mae,2),'\\n',X_train.columns[selector.get_support()])"
      ],
      "execution_count": null,
      "outputs": [
        {
          "output_type": "stream",
          "text": [
            "1개일 때 mae:  0.5 \n",
            " Index(['age'], dtype='object')\n",
            "2개일 때 mae:  0.5 \n",
            " Index(['age', 'cholesterol'], dtype='object')\n",
            "3개일 때 mae:  0.36 \n",
            " Index(['age', 'weight', 'cholesterol'], dtype='object')\n",
            "4개일 때 mae:  0.44 \n",
            " Index(['age', 'weight', 'cholesterol', 'gluc'], dtype='object')\n"
          ],
          "name": "stdout"
        },
        {
          "output_type": "stream",
          "text": [
            "/opt/conda/lib/python3.7/site-packages/sklearn/linear_model/_logistic.py:764: ConvergenceWarning: lbfgs failed to converge (status=1):\n",
            "STOP: TOTAL NO. of ITERATIONS REACHED LIMIT.\n",
            "\n",
            "Increase the number of iterations (max_iter) or scale the data as shown in:\n",
            "    https://scikit-learn.org/stable/modules/preprocessing.html\n",
            "Please also refer to the documentation for alternative solver options:\n",
            "    https://scikit-learn.org/stable/modules/linear_model.html#logistic-regression\n",
            "  extra_warning_msg=_LOGISTIC_SOLVER_CONVERGENCE_MSG)\n"
          ],
          "name": "stderr"
        },
        {
          "output_type": "stream",
          "text": [
            "5개일 때 mae:  0.4 \n",
            " Index(['age', 'weight', 'ap_lo', 'cholesterol', 'gluc'], dtype='object')\n",
            "6개일 때 mae:  0.45 \n",
            " Index(['age', 'weight', 'ap_hi', 'ap_lo', 'cholesterol', 'gluc'], dtype='object')\n",
            "7개일 때 mae:  0.45 \n",
            " Index(['age', 'weight', 'ap_hi', 'ap_lo', 'cholesterol', 'gluc', 'active_1.0'], dtype='object')\n",
            "8개일 때 mae:  0.45 \n",
            " Index(['age', 'weight', 'ap_hi', 'ap_lo', 'cholesterol', 'gluc', 'active_1.0',\n",
            "       'active_0.0'],\n",
            "      dtype='object')\n",
            "9개일 때 mae:  0.45 \n",
            " Index(['age', 'weight', 'ap_hi', 'ap_lo', 'cholesterol', 'gluc', 'smoke_1.0',\n",
            "       'active_1.0', 'active_0.0'],\n",
            "      dtype='object')\n",
            "10개일 때 mae:  0.39 \n",
            " Index(['age', 'weight', 'ap_hi', 'ap_lo', 'cholesterol', 'gluc', 'smoke_0.0',\n",
            "       'smoke_1.0', 'active_1.0', 'active_0.0'],\n",
            "      dtype='object')\n",
            "11개일 때 mae:  0.39 \n",
            " Index(['age', 'gender_1.0', 'weight', 'ap_hi', 'ap_lo', 'cholesterol', 'gluc',\n",
            "       'smoke_0.0', 'smoke_1.0', 'active_1.0', 'active_0.0'],\n",
            "      dtype='object')\n",
            "12개일 때 mae:  0.39 \n",
            " Index(['age', 'gender_2.0', 'gender_1.0', 'weight', 'ap_hi', 'ap_lo',\n",
            "       'cholesterol', 'gluc', 'smoke_0.0', 'smoke_1.0', 'active_1.0',\n",
            "       'active_0.0'],\n",
            "      dtype='object')\n"
          ],
          "name": "stdout"
        },
        {
          "output_type": "stream",
          "text": [
            "/opt/conda/lib/python3.7/site-packages/sklearn/linear_model/_logistic.py:764: ConvergenceWarning: lbfgs failed to converge (status=1):\n",
            "STOP: TOTAL NO. of ITERATIONS REACHED LIMIT.\n",
            "\n",
            "Increase the number of iterations (max_iter) or scale the data as shown in:\n",
            "    https://scikit-learn.org/stable/modules/preprocessing.html\n",
            "Please also refer to the documentation for alternative solver options:\n",
            "    https://scikit-learn.org/stable/modules/linear_model.html#logistic-regression\n",
            "  extra_warning_msg=_LOGISTIC_SOLVER_CONVERGENCE_MSG)\n"
          ],
          "name": "stderr"
        },
        {
          "output_type": "stream",
          "text": [
            "13개일 때 mae:  0.3 \n",
            " Index(['age', 'gender_2.0', 'gender_1.0', 'height', 'weight', 'ap_hi', 'ap_lo',\n",
            "       'cholesterol', 'gluc', 'smoke_0.0', 'smoke_1.0', 'active_1.0',\n",
            "       'active_0.0'],\n",
            "      dtype='object')\n",
            "14개일 때 mae:  0.31 \n",
            " Index(['age', 'gender_2.0', 'gender_1.0', 'height', 'weight', 'ap_hi', 'ap_lo',\n",
            "       'cholesterol', 'gluc', 'smoke_0.0', 'smoke_1.0', 'alco_0.0',\n",
            "       'active_1.0', 'active_0.0'],\n",
            "      dtype='object')\n"
          ],
          "name": "stdout"
        }
      ]
    },
    {
      "cell_type": "code",
      "metadata": {
        "trusted": true,
        "id": "zbF3URSg5NT5",
        "outputId": "4f0e212c-eb79-408d-b150-3c678ee0fada"
      },
      "source": [
        "# 13개일 때 mae가 가장 작으므로, feature는 13개로 진행합니다.\n",
        "# 이 때의 columns값이 무엇인지 확인하여, 해당 features로 데이터셋을 생성합니다.\n",
        "\n",
        "df[['age', 'gender_2.0', 'gender_1.0', 'height', 'weight', 'ap_hi', 'ap_lo', 'cholesterol',\n",
        "    'gluc', 'smoke_0.0', 'smoke_1.0', 'active_1.0','active_0.0']]"
      ],
      "execution_count": null,
      "outputs": [
        {
          "output_type": "execute_result",
          "data": {
            "text/plain": [
              "         age  gender_2.0  gender_1.0  height  weight  ap_hi  ap_lo  \\\n",
              "0      18393           1           0     168    62.0    110     80   \n",
              "1      20228           0           1     156    85.0    140     90   \n",
              "2      18857           0           1     165    64.0    130     70   \n",
              "3      17623           1           0     169    82.0    150    100   \n",
              "4      17474           0           1     156    56.0    100     60   \n",
              "...      ...         ...         ...     ...     ...    ...    ...   \n",
              "69995  19240           1           0     168    76.0    120     80   \n",
              "69996  22601           0           1     158   126.0    140     90   \n",
              "69997  19066           1           0     183   105.0    180     90   \n",
              "69998  22431           0           1     163    72.0    135     80   \n",
              "69999  20540           0           1     170    72.0    120     80   \n",
              "\n",
              "       cholesterol  gluc  smoke_0.0  smoke_1.0  active_1.0  active_0.0  \n",
              "0                1     1          1          0           1           0  \n",
              "1                3     1          1          0           1           0  \n",
              "2                3     1          1          0           0           1  \n",
              "3                1     1          1          0           1           0  \n",
              "4                1     1          1          0           0           1  \n",
              "...            ...   ...        ...        ...         ...         ...  \n",
              "69995            1     1          0          1           1           0  \n",
              "69996            2     2          1          0           1           0  \n",
              "69997            3     1          1          0           0           1  \n",
              "69998            1     2          1          0           0           1  \n",
              "69999            2     1          1          0           1           0  \n",
              "\n",
              "[70000 rows x 13 columns]"
            ],
            "text/html": [
              "<div>\n",
              "<style scoped>\n",
              "    .dataframe tbody tr th:only-of-type {\n",
              "        vertical-align: middle;\n",
              "    }\n",
              "\n",
              "    .dataframe tbody tr th {\n",
              "        vertical-align: top;\n",
              "    }\n",
              "\n",
              "    .dataframe thead th {\n",
              "        text-align: right;\n",
              "    }\n",
              "</style>\n",
              "<table border=\"1\" class=\"dataframe\">\n",
              "  <thead>\n",
              "    <tr style=\"text-align: right;\">\n",
              "      <th></th>\n",
              "      <th>age</th>\n",
              "      <th>gender_2.0</th>\n",
              "      <th>gender_1.0</th>\n",
              "      <th>height</th>\n",
              "      <th>weight</th>\n",
              "      <th>ap_hi</th>\n",
              "      <th>ap_lo</th>\n",
              "      <th>cholesterol</th>\n",
              "      <th>gluc</th>\n",
              "      <th>smoke_0.0</th>\n",
              "      <th>smoke_1.0</th>\n",
              "      <th>active_1.0</th>\n",
              "      <th>active_0.0</th>\n",
              "    </tr>\n",
              "  </thead>\n",
              "  <tbody>\n",
              "    <tr>\n",
              "      <th>0</th>\n",
              "      <td>18393</td>\n",
              "      <td>1</td>\n",
              "      <td>0</td>\n",
              "      <td>168</td>\n",
              "      <td>62.0</td>\n",
              "      <td>110</td>\n",
              "      <td>80</td>\n",
              "      <td>1</td>\n",
              "      <td>1</td>\n",
              "      <td>1</td>\n",
              "      <td>0</td>\n",
              "      <td>1</td>\n",
              "      <td>0</td>\n",
              "    </tr>\n",
              "    <tr>\n",
              "      <th>1</th>\n",
              "      <td>20228</td>\n",
              "      <td>0</td>\n",
              "      <td>1</td>\n",
              "      <td>156</td>\n",
              "      <td>85.0</td>\n",
              "      <td>140</td>\n",
              "      <td>90</td>\n",
              "      <td>3</td>\n",
              "      <td>1</td>\n",
              "      <td>1</td>\n",
              "      <td>0</td>\n",
              "      <td>1</td>\n",
              "      <td>0</td>\n",
              "    </tr>\n",
              "    <tr>\n",
              "      <th>2</th>\n",
              "      <td>18857</td>\n",
              "      <td>0</td>\n",
              "      <td>1</td>\n",
              "      <td>165</td>\n",
              "      <td>64.0</td>\n",
              "      <td>130</td>\n",
              "      <td>70</td>\n",
              "      <td>3</td>\n",
              "      <td>1</td>\n",
              "      <td>1</td>\n",
              "      <td>0</td>\n",
              "      <td>0</td>\n",
              "      <td>1</td>\n",
              "    </tr>\n",
              "    <tr>\n",
              "      <th>3</th>\n",
              "      <td>17623</td>\n",
              "      <td>1</td>\n",
              "      <td>0</td>\n",
              "      <td>169</td>\n",
              "      <td>82.0</td>\n",
              "      <td>150</td>\n",
              "      <td>100</td>\n",
              "      <td>1</td>\n",
              "      <td>1</td>\n",
              "      <td>1</td>\n",
              "      <td>0</td>\n",
              "      <td>1</td>\n",
              "      <td>0</td>\n",
              "    </tr>\n",
              "    <tr>\n",
              "      <th>4</th>\n",
              "      <td>17474</td>\n",
              "      <td>0</td>\n",
              "      <td>1</td>\n",
              "      <td>156</td>\n",
              "      <td>56.0</td>\n",
              "      <td>100</td>\n",
              "      <td>60</td>\n",
              "      <td>1</td>\n",
              "      <td>1</td>\n",
              "      <td>1</td>\n",
              "      <td>0</td>\n",
              "      <td>0</td>\n",
              "      <td>1</td>\n",
              "    </tr>\n",
              "    <tr>\n",
              "      <th>...</th>\n",
              "      <td>...</td>\n",
              "      <td>...</td>\n",
              "      <td>...</td>\n",
              "      <td>...</td>\n",
              "      <td>...</td>\n",
              "      <td>...</td>\n",
              "      <td>...</td>\n",
              "      <td>...</td>\n",
              "      <td>...</td>\n",
              "      <td>...</td>\n",
              "      <td>...</td>\n",
              "      <td>...</td>\n",
              "      <td>...</td>\n",
              "    </tr>\n",
              "    <tr>\n",
              "      <th>69995</th>\n",
              "      <td>19240</td>\n",
              "      <td>1</td>\n",
              "      <td>0</td>\n",
              "      <td>168</td>\n",
              "      <td>76.0</td>\n",
              "      <td>120</td>\n",
              "      <td>80</td>\n",
              "      <td>1</td>\n",
              "      <td>1</td>\n",
              "      <td>0</td>\n",
              "      <td>1</td>\n",
              "      <td>1</td>\n",
              "      <td>0</td>\n",
              "    </tr>\n",
              "    <tr>\n",
              "      <th>69996</th>\n",
              "      <td>22601</td>\n",
              "      <td>0</td>\n",
              "      <td>1</td>\n",
              "      <td>158</td>\n",
              "      <td>126.0</td>\n",
              "      <td>140</td>\n",
              "      <td>90</td>\n",
              "      <td>2</td>\n",
              "      <td>2</td>\n",
              "      <td>1</td>\n",
              "      <td>0</td>\n",
              "      <td>1</td>\n",
              "      <td>0</td>\n",
              "    </tr>\n",
              "    <tr>\n",
              "      <th>69997</th>\n",
              "      <td>19066</td>\n",
              "      <td>1</td>\n",
              "      <td>0</td>\n",
              "      <td>183</td>\n",
              "      <td>105.0</td>\n",
              "      <td>180</td>\n",
              "      <td>90</td>\n",
              "      <td>3</td>\n",
              "      <td>1</td>\n",
              "      <td>1</td>\n",
              "      <td>0</td>\n",
              "      <td>0</td>\n",
              "      <td>1</td>\n",
              "    </tr>\n",
              "    <tr>\n",
              "      <th>69998</th>\n",
              "      <td>22431</td>\n",
              "      <td>0</td>\n",
              "      <td>1</td>\n",
              "      <td>163</td>\n",
              "      <td>72.0</td>\n",
              "      <td>135</td>\n",
              "      <td>80</td>\n",
              "      <td>1</td>\n",
              "      <td>2</td>\n",
              "      <td>1</td>\n",
              "      <td>0</td>\n",
              "      <td>0</td>\n",
              "      <td>1</td>\n",
              "    </tr>\n",
              "    <tr>\n",
              "      <th>69999</th>\n",
              "      <td>20540</td>\n",
              "      <td>0</td>\n",
              "      <td>1</td>\n",
              "      <td>170</td>\n",
              "      <td>72.0</td>\n",
              "      <td>120</td>\n",
              "      <td>80</td>\n",
              "      <td>2</td>\n",
              "      <td>1</td>\n",
              "      <td>1</td>\n",
              "      <td>0</td>\n",
              "      <td>1</td>\n",
              "      <td>0</td>\n",
              "    </tr>\n",
              "  </tbody>\n",
              "</table>\n",
              "<p>70000 rows × 13 columns</p>\n",
              "</div>"
            ]
          },
          "metadata": {
            "tags": []
          },
          "execution_count": 36
        }
      ]
    },
    {
      "cell_type": "markdown",
      "metadata": {
        "id": "6EvvHx7a5NT6"
      },
      "source": [
        "### **검증세트에서 정확도 확인**\n"
      ]
    },
    {
      "cell_type": "code",
      "metadata": {
        "trusted": true,
        "id": "tkf0u4xe5NT6"
      },
      "source": [
        "select_features = ['age', 'gender_2.0', 'gender_1.0', 'height', 'weight', 'ap_hi', 'ap_lo', 'cholesterol',\n",
        "    'gluc', 'smoke_0.0', 'smoke_1.0', 'active_1.0','active_0.0']\n",
        "\n",
        "X_train = X_train[select_features]\n",
        "X_test = X_test[select_features]\n",
        "X_val = X_val[select_features]"
      ],
      "execution_count": null,
      "outputs": []
    },
    {
      "cell_type": "code",
      "metadata": {
        "trusted": true,
        "id": "JD8zkaiE5NT6",
        "outputId": "e47272fa-4a37-4f84-dedd-552606a73d2d"
      },
      "source": [
        "# 모델학습 및 예측, 정확도 확인\n",
        "\n",
        "lr.fit(X_train,y_train)\n",
        "pred = lr.predict(X_val)\n",
        "\n",
        "print(\"training accuracy: \", accuracy_score(y_val, pred))"
      ],
      "execution_count": null,
      "outputs": [
        {
          "output_type": "stream",
          "text": [
            "training accuracy:  0.7002857142857143\n"
          ],
          "name": "stdout"
        },
        {
          "output_type": "stream",
          "text": [
            "/opt/conda/lib/python3.7/site-packages/sklearn/linear_model/_logistic.py:764: ConvergenceWarning: lbfgs failed to converge (status=1):\n",
            "STOP: TOTAL NO. of ITERATIONS REACHED LIMIT.\n",
            "\n",
            "Increase the number of iterations (max_iter) or scale the data as shown in:\n",
            "    https://scikit-learn.org/stable/modules/preprocessing.html\n",
            "Please also refer to the documentation for alternative solver options:\n",
            "    https://scikit-learn.org/stable/modules/linear_model.html#logistic-regression\n",
            "  extra_warning_msg=_LOGISTIC_SOLVER_CONVERGENCE_MSG)\n"
          ],
          "name": "stderr"
        }
      ]
    }
  ]
}