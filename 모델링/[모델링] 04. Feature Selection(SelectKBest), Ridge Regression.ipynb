{
  "nbformat": 4,
  "nbformat_minor": 0,
  "metadata": {
    "colab": {
      "name": "[모델링] Feature Selection(SelectKBest), Ridge Regression",
      "provenance": []
    },
    "kernelspec": {
      "name": "python3",
      "display_name": "Python 3"
    },
    "language_info": {
      "name": "python"
    }
  },
  "cells": [
    {
      "cell_type": "markdown",
      "metadata": {
        "id": "_Mw7wbTBjFk8"
      },
      "source": [
        "## **특징 선택**\n",
        "\n",
        "모델링을 진행할 경우, features가 너무 적다면 정확도가 떨어집니다.\n",
        "분류기준이 명확하지 않기 때문이죠.\n",
        "\n",
        "그런데, 분류 기준이 너무 많아도 모델 성능이 떨어진다는 사실, 알고 계셨나요?\n",
        "\n",
        "분류 기준이 과한 경우, 중요한 분류 기준 특징들만을 추출해 모델링을 하는 것이 도움이 될 수 있습니다. \n",
        "\n",
        "이때의 포인트는, 적당한 Features를 사용해야 한다는 것인데요,\n",
        "너무 적지 않는 선에서, 모델이 과적합되지 않을 수 있도록 Feature를 선택하는 것이 좋습니다. 이때, 특정 K개의 Features를 선택해 모델링을 진행하여 최적 Feature개수를 추출하는 방법론이 바로 SelectKBest입니다.\n"
      ]
    },
    {
      "cell_type": "markdown",
      "metadata": {
        "id": "AC-lxbYqr5Xz"
      },
      "source": [
        "오늘은 **SelectKBest를 활용해 Features의 개수를 추출하여, Best Ridge Regression 모델을 구성**해보도록 하겠습니다.\n",
        "\n",
        "---\n",
        "\n"
      ]
    },
    {
      "cell_type": "markdown",
      "metadata": {
        "id": "fHBu9OJiiPeR"
      },
      "source": [
        "## **1. 데이터 전처리**\n",
        "\n",
        "원핫인코딩을 수행할 수 있을 정도로만, 매우 간단히 전처리를 수행해보겠습니다."
      ]
    },
    {
      "cell_type": "code",
      "metadata": {
        "id": "SFx6JqJt42iZ",
        "colab": {
          "base_uri": "https://localhost:8080/",
          "height": 380
        },
        "outputId": "6d56584e-d1ac-4f4d-b1f7-9f4eaa8ca4a6"
      },
      "source": [
        "# 필요한 Lib Import\n",
        "\n",
        "import pandas as pd\n",
        "from category_encoders import OneHotEncoder\n",
        "from sklearn.model_selection import train_test_split\n",
        "from sklearn.feature_selection import f_regression, SelectKBest\n",
        "from sklearn.linear_model import LinearRegression\n",
        "from sklearn.metrics import mean_absolute_error, r2_score\n",
        "import matplotlib.pyplot as plt\n",
        "from sklearn.linear_model import Ridge\n",
        "from sklearn.linear_model import RidgeCV"
      ],
      "execution_count": 1,
      "outputs": [
        {
          "output_type": "error",
          "ename": "ModuleNotFoundError",
          "evalue": "ignored",
          "traceback": [
            "\u001b[0;31m---------------------------------------------------------------------------\u001b[0m",
            "\u001b[0;31mModuleNotFoundError\u001b[0m                       Traceback (most recent call last)",
            "\u001b[0;32m<ipython-input-1-6d65298d710b>\u001b[0m in \u001b[0;36m<module>\u001b[0;34m()\u001b[0m\n\u001b[1;32m      2\u001b[0m \u001b[0;34m\u001b[0m\u001b[0m\n\u001b[1;32m      3\u001b[0m \u001b[0;32mimport\u001b[0m \u001b[0mpandas\u001b[0m \u001b[0;32mas\u001b[0m \u001b[0mpd\u001b[0m\u001b[0;34m\u001b[0m\u001b[0;34m\u001b[0m\u001b[0m\n\u001b[0;32m----> 4\u001b[0;31m \u001b[0;32mfrom\u001b[0m \u001b[0mcategory_encoders\u001b[0m \u001b[0;32mimport\u001b[0m \u001b[0mOneHotEncoder\u001b[0m\u001b[0;34m\u001b[0m\u001b[0;34m\u001b[0m\u001b[0m\n\u001b[0m\u001b[1;32m      5\u001b[0m \u001b[0;32mfrom\u001b[0m \u001b[0msklearn\u001b[0m\u001b[0;34m.\u001b[0m\u001b[0mmodel_selection\u001b[0m \u001b[0;32mimport\u001b[0m \u001b[0mtrain_test_split\u001b[0m\u001b[0;34m\u001b[0m\u001b[0;34m\u001b[0m\u001b[0m\n\u001b[1;32m      6\u001b[0m \u001b[0;32mfrom\u001b[0m \u001b[0msklearn\u001b[0m\u001b[0;34m.\u001b[0m\u001b[0mfeature_selection\u001b[0m \u001b[0;32mimport\u001b[0m \u001b[0mf_regression\u001b[0m\u001b[0;34m,\u001b[0m \u001b[0mSelectKBest\u001b[0m\u001b[0;34m\u001b[0m\u001b[0;34m\u001b[0m\u001b[0m\n",
            "\u001b[0;31mModuleNotFoundError\u001b[0m: No module named 'category_encoders'",
            "",
            "\u001b[0;31m---------------------------------------------------------------------------\u001b[0;32m\nNOTE: If your import is failing due to a missing package, you can\nmanually install dependencies using either !pip or !apt.\n\nTo view examples of installing some common dependencies, click the\n\"Open Examples\" button below.\n\u001b[0;31m---------------------------------------------------------------------------\u001b[0m\n"
          ]
        }
      ]
    },
    {
      "cell_type": "code",
      "metadata": {
        "colab": {
          "base_uri": "https://localhost:8080/",
          "height": 402
        },
        "id": "6njlOFTf46s0",
        "outputId": "4823a379-dbd8-448d-da05-5d15d2817872"
      },
      "source": [
        "# 데이터 Load\n",
        "df = pd.read_csv('https://ds-lecture-data.s3.ap-northeast-2.amazonaws.com/melbourne_house_prices/MELBOURNE_HOUSE_PRICES_LESS.csv')\n",
        "\n",
        "# Cardinality가 높은 상위 4개 Features를 삭제\n",
        "df.drop(columns=['Suburb','Address','SellerG','Date', 'CouncilArea'], inplace=True)\n",
        "\n",
        "# 'Price'데이터에서, null값인 행 삭제\n",
        "df.dropna(subset=['Price'], inplace=True)\n",
        "\n",
        "# Duplicated rows 삭제\n",
        "df.drop_duplicates(inplace=True)\n",
        "\n",
        "# 데이터 확인\n",
        "df=pd.DataFrame(df)\n",
        "df"
      ],
      "execution_count": null,
      "outputs": [
        {
          "output_type": "execute_result",
          "data": {
            "text/html": [
              "<div>\n",
              "<style scoped>\n",
              "    .dataframe tbody tr th:only-of-type {\n",
              "        vertical-align: middle;\n",
              "    }\n",
              "\n",
              "    .dataframe tbody tr th {\n",
              "        vertical-align: top;\n",
              "    }\n",
              "\n",
              "    .dataframe thead th {\n",
              "        text-align: right;\n",
              "    }\n",
              "</style>\n",
              "<table border=\"1\" class=\"dataframe\">\n",
              "  <thead>\n",
              "    <tr style=\"text-align: right;\">\n",
              "      <th></th>\n",
              "      <th>Rooms</th>\n",
              "      <th>Type</th>\n",
              "      <th>Price</th>\n",
              "      <th>Method</th>\n",
              "      <th>Postcode</th>\n",
              "      <th>Regionname</th>\n",
              "      <th>Propertycount</th>\n",
              "      <th>Distance</th>\n",
              "      <th>CouncilArea</th>\n",
              "    </tr>\n",
              "  </thead>\n",
              "  <tbody>\n",
              "    <tr>\n",
              "      <th>0</th>\n",
              "      <td>3</td>\n",
              "      <td>h</td>\n",
              "      <td>1490000.0</td>\n",
              "      <td>S</td>\n",
              "      <td>3067</td>\n",
              "      <td>Northern Metropolitan</td>\n",
              "      <td>4019</td>\n",
              "      <td>3.0</td>\n",
              "      <td>Yarra City Council</td>\n",
              "    </tr>\n",
              "    <tr>\n",
              "      <th>1</th>\n",
              "      <td>3</td>\n",
              "      <td>h</td>\n",
              "      <td>1220000.0</td>\n",
              "      <td>S</td>\n",
              "      <td>3067</td>\n",
              "      <td>Northern Metropolitan</td>\n",
              "      <td>4019</td>\n",
              "      <td>3.0</td>\n",
              "      <td>Yarra City Council</td>\n",
              "    </tr>\n",
              "    <tr>\n",
              "      <th>2</th>\n",
              "      <td>3</td>\n",
              "      <td>h</td>\n",
              "      <td>1420000.0</td>\n",
              "      <td>S</td>\n",
              "      <td>3067</td>\n",
              "      <td>Northern Metropolitan</td>\n",
              "      <td>4019</td>\n",
              "      <td>3.0</td>\n",
              "      <td>Yarra City Council</td>\n",
              "    </tr>\n",
              "    <tr>\n",
              "      <th>3</th>\n",
              "      <td>3</td>\n",
              "      <td>h</td>\n",
              "      <td>1515000.0</td>\n",
              "      <td>S</td>\n",
              "      <td>3040</td>\n",
              "      <td>Western Metropolitan</td>\n",
              "      <td>1543</td>\n",
              "      <td>7.5</td>\n",
              "      <td>Moonee Valley City Council</td>\n",
              "    </tr>\n",
              "    <tr>\n",
              "      <th>4</th>\n",
              "      <td>2</td>\n",
              "      <td>h</td>\n",
              "      <td>670000.0</td>\n",
              "      <td>S</td>\n",
              "      <td>3042</td>\n",
              "      <td>Western Metropolitan</td>\n",
              "      <td>3464</td>\n",
              "      <td>10.4</td>\n",
              "      <td>Moonee Valley City Council</td>\n",
              "    </tr>\n",
              "    <tr>\n",
              "      <th>...</th>\n",
              "      <td>...</td>\n",
              "      <td>...</td>\n",
              "      <td>...</td>\n",
              "      <td>...</td>\n",
              "      <td>...</td>\n",
              "      <td>...</td>\n",
              "      <td>...</td>\n",
              "      <td>...</td>\n",
              "      <td>...</td>\n",
              "    </tr>\n",
              "    <tr>\n",
              "      <th>63015</th>\n",
              "      <td>2</td>\n",
              "      <td>u</td>\n",
              "      <td>340000.0</td>\n",
              "      <td>SP</td>\n",
              "      <td>3199</td>\n",
              "      <td>South-Eastern Metropolitan</td>\n",
              "      <td>17055</td>\n",
              "      <td>38.0</td>\n",
              "      <td>Frankston City Council</td>\n",
              "    </tr>\n",
              "    <tr>\n",
              "      <th>63016</th>\n",
              "      <td>2</td>\n",
              "      <td>u</td>\n",
              "      <td>347700.0</td>\n",
              "      <td>SP</td>\n",
              "      <td>3199</td>\n",
              "      <td>South-Eastern Metropolitan</td>\n",
              "      <td>17055</td>\n",
              "      <td>38.0</td>\n",
              "      <td>Frankston City Council</td>\n",
              "    </tr>\n",
              "    <tr>\n",
              "      <th>63017</th>\n",
              "      <td>3</td>\n",
              "      <td>h</td>\n",
              "      <td>808000.0</td>\n",
              "      <td>S</td>\n",
              "      <td>3072</td>\n",
              "      <td>Northern Metropolitan</td>\n",
              "      <td>14577</td>\n",
              "      <td>8.4</td>\n",
              "      <td>Darebin City Council</td>\n",
              "    </tr>\n",
              "    <tr>\n",
              "      <th>63018</th>\n",
              "      <td>3</td>\n",
              "      <td>h</td>\n",
              "      <td>566000.0</td>\n",
              "      <td>S</td>\n",
              "      <td>3064</td>\n",
              "      <td>Northern Metropolitan</td>\n",
              "      <td>5833</td>\n",
              "      <td>20.6</td>\n",
              "      <td>Hume City Council</td>\n",
              "    </tr>\n",
              "    <tr>\n",
              "      <th>63020</th>\n",
              "      <td>3</td>\n",
              "      <td>h</td>\n",
              "      <td>545000.0</td>\n",
              "      <td>S</td>\n",
              "      <td>3064</td>\n",
              "      <td>Northern Metropolitan</td>\n",
              "      <td>5833</td>\n",
              "      <td>20.6</td>\n",
              "      <td>Hume City Council</td>\n",
              "    </tr>\n",
              "  </tbody>\n",
              "</table>\n",
              "<p>42515 rows × 9 columns</p>\n",
              "</div>"
            ],
            "text/plain": [
              "       Rooms Type  ...  Distance                 CouncilArea\n",
              "0          3    h  ...       3.0          Yarra City Council\n",
              "1          3    h  ...       3.0          Yarra City Council\n",
              "2          3    h  ...       3.0          Yarra City Council\n",
              "3          3    h  ...       7.5  Moonee Valley City Council\n",
              "4          2    h  ...      10.4  Moonee Valley City Council\n",
              "...      ...  ...  ...       ...                         ...\n",
              "63015      2    u  ...      38.0      Frankston City Council\n",
              "63016      2    u  ...      38.0      Frankston City Council\n",
              "63017      3    h  ...       8.4        Darebin City Council\n",
              "63018      3    h  ...      20.6           Hume City Council\n",
              "63020      3    h  ...      20.6           Hume City Council\n",
              "\n",
              "[42515 rows x 9 columns]"
            ]
          },
          "metadata": {
            "tags": []
          },
          "execution_count": 2
        }
      ]
    },
    {
      "cell_type": "markdown",
      "metadata": {
        "id": "9vt02gdUi4Tu"
      },
      "source": [
        "## **2. 원핫인코딩(One-Hot Encoding) 수행**"
      ]
    },
    {
      "cell_type": "code",
      "metadata": {
        "colab": {
          "base_uri": "https://localhost:8080/"
        },
        "id": "rjlAo_5h8JTu",
        "outputId": "2e3fc5c7-09c9-4bce-9d97-f0722f50b791"
      },
      "source": [
        "encoder = OneHotEncoder(use_cat_names = True)\n",
        "df_encoding = encoder.fit_transform(df)"
      ],
      "execution_count": null,
      "outputs": [
        {
          "output_type": "stream",
          "text": [
            "/usr/local/lib/python3.6/dist-packages/category_encoders/utils.py:21: FutureWarning: is_categorical is deprecated and will be removed in a future version.  Use is_categorical_dtype instead\n",
            "  elif pd.api.types.is_categorical(cols):\n"
          ],
          "name": "stderr"
        }
      ]
    },
    {
      "cell_type": "code",
      "metadata": {
        "colab": {
          "base_uri": "https://localhost:8080/",
          "height": 455
        },
        "id": "TwMoxClq9EpP",
        "outputId": "133f995f-5d2c-414c-bd7c-91fd1342064f"
      },
      "source": [
        "# 잘 수행되었는지 확인\n",
        "df_encoding"
      ],
      "execution_count": null,
      "outputs": [
        {
          "output_type": "execute_result",
          "data": {
            "text/html": [
              "<div>\n",
              "<style scoped>\n",
              "    .dataframe tbody tr th:only-of-type {\n",
              "        vertical-align: middle;\n",
              "    }\n",
              "\n",
              "    .dataframe tbody tr th {\n",
              "        vertical-align: top;\n",
              "    }\n",
              "\n",
              "    .dataframe thead th {\n",
              "        text-align: right;\n",
              "    }\n",
              "</style>\n",
              "<table border=\"1\" class=\"dataframe\">\n",
              "  <thead>\n",
              "    <tr style=\"text-align: right;\">\n",
              "      <th></th>\n",
              "      <th>Rooms</th>\n",
              "      <th>Type_h</th>\n",
              "      <th>Type_t</th>\n",
              "      <th>Type_u</th>\n",
              "      <th>Price</th>\n",
              "      <th>Method_S</th>\n",
              "      <th>Method_SP</th>\n",
              "      <th>Method_VB</th>\n",
              "      <th>Method_PI</th>\n",
              "      <th>Method_SA</th>\n",
              "      <th>Postcode</th>\n",
              "      <th>Regionname_Northern Metropolitan</th>\n",
              "      <th>Regionname_Western Metropolitan</th>\n",
              "      <th>Regionname_Southern Metropolitan</th>\n",
              "      <th>Regionname_South-Eastern Metropolitan</th>\n",
              "      <th>Regionname_Eastern Metropolitan</th>\n",
              "      <th>Regionname_Northern Victoria</th>\n",
              "      <th>Regionname_Eastern Victoria</th>\n",
              "      <th>Regionname_Western Victoria</th>\n",
              "      <th>Propertycount</th>\n",
              "      <th>Distance</th>\n",
              "    </tr>\n",
              "  </thead>\n",
              "  <tbody>\n",
              "    <tr>\n",
              "      <th>0</th>\n",
              "      <td>3</td>\n",
              "      <td>1</td>\n",
              "      <td>0</td>\n",
              "      <td>0</td>\n",
              "      <td>1490000.0</td>\n",
              "      <td>1</td>\n",
              "      <td>0</td>\n",
              "      <td>0</td>\n",
              "      <td>0</td>\n",
              "      <td>0</td>\n",
              "      <td>3067</td>\n",
              "      <td>1</td>\n",
              "      <td>0</td>\n",
              "      <td>0</td>\n",
              "      <td>0</td>\n",
              "      <td>0</td>\n",
              "      <td>0</td>\n",
              "      <td>0</td>\n",
              "      <td>0</td>\n",
              "      <td>4019</td>\n",
              "      <td>3.0</td>\n",
              "    </tr>\n",
              "    <tr>\n",
              "      <th>1</th>\n",
              "      <td>3</td>\n",
              "      <td>1</td>\n",
              "      <td>0</td>\n",
              "      <td>0</td>\n",
              "      <td>1220000.0</td>\n",
              "      <td>1</td>\n",
              "      <td>0</td>\n",
              "      <td>0</td>\n",
              "      <td>0</td>\n",
              "      <td>0</td>\n",
              "      <td>3067</td>\n",
              "      <td>1</td>\n",
              "      <td>0</td>\n",
              "      <td>0</td>\n",
              "      <td>0</td>\n",
              "      <td>0</td>\n",
              "      <td>0</td>\n",
              "      <td>0</td>\n",
              "      <td>0</td>\n",
              "      <td>4019</td>\n",
              "      <td>3.0</td>\n",
              "    </tr>\n",
              "    <tr>\n",
              "      <th>2</th>\n",
              "      <td>3</td>\n",
              "      <td>1</td>\n",
              "      <td>0</td>\n",
              "      <td>0</td>\n",
              "      <td>1420000.0</td>\n",
              "      <td>1</td>\n",
              "      <td>0</td>\n",
              "      <td>0</td>\n",
              "      <td>0</td>\n",
              "      <td>0</td>\n",
              "      <td>3067</td>\n",
              "      <td>1</td>\n",
              "      <td>0</td>\n",
              "      <td>0</td>\n",
              "      <td>0</td>\n",
              "      <td>0</td>\n",
              "      <td>0</td>\n",
              "      <td>0</td>\n",
              "      <td>0</td>\n",
              "      <td>4019</td>\n",
              "      <td>3.0</td>\n",
              "    </tr>\n",
              "    <tr>\n",
              "      <th>3</th>\n",
              "      <td>3</td>\n",
              "      <td>1</td>\n",
              "      <td>0</td>\n",
              "      <td>0</td>\n",
              "      <td>1515000.0</td>\n",
              "      <td>1</td>\n",
              "      <td>0</td>\n",
              "      <td>0</td>\n",
              "      <td>0</td>\n",
              "      <td>0</td>\n",
              "      <td>3040</td>\n",
              "      <td>0</td>\n",
              "      <td>1</td>\n",
              "      <td>0</td>\n",
              "      <td>0</td>\n",
              "      <td>0</td>\n",
              "      <td>0</td>\n",
              "      <td>0</td>\n",
              "      <td>0</td>\n",
              "      <td>1543</td>\n",
              "      <td>7.5</td>\n",
              "    </tr>\n",
              "    <tr>\n",
              "      <th>4</th>\n",
              "      <td>2</td>\n",
              "      <td>1</td>\n",
              "      <td>0</td>\n",
              "      <td>0</td>\n",
              "      <td>670000.0</td>\n",
              "      <td>1</td>\n",
              "      <td>0</td>\n",
              "      <td>0</td>\n",
              "      <td>0</td>\n",
              "      <td>0</td>\n",
              "      <td>3042</td>\n",
              "      <td>0</td>\n",
              "      <td>1</td>\n",
              "      <td>0</td>\n",
              "      <td>0</td>\n",
              "      <td>0</td>\n",
              "      <td>0</td>\n",
              "      <td>0</td>\n",
              "      <td>0</td>\n",
              "      <td>3464</td>\n",
              "      <td>10.4</td>\n",
              "    </tr>\n",
              "    <tr>\n",
              "      <th>...</th>\n",
              "      <td>...</td>\n",
              "      <td>...</td>\n",
              "      <td>...</td>\n",
              "      <td>...</td>\n",
              "      <td>...</td>\n",
              "      <td>...</td>\n",
              "      <td>...</td>\n",
              "      <td>...</td>\n",
              "      <td>...</td>\n",
              "      <td>...</td>\n",
              "      <td>...</td>\n",
              "      <td>...</td>\n",
              "      <td>...</td>\n",
              "      <td>...</td>\n",
              "      <td>...</td>\n",
              "      <td>...</td>\n",
              "      <td>...</td>\n",
              "      <td>...</td>\n",
              "      <td>...</td>\n",
              "      <td>...</td>\n",
              "      <td>...</td>\n",
              "    </tr>\n",
              "    <tr>\n",
              "      <th>63015</th>\n",
              "      <td>2</td>\n",
              "      <td>0</td>\n",
              "      <td>0</td>\n",
              "      <td>1</td>\n",
              "      <td>340000.0</td>\n",
              "      <td>0</td>\n",
              "      <td>1</td>\n",
              "      <td>0</td>\n",
              "      <td>0</td>\n",
              "      <td>0</td>\n",
              "      <td>3199</td>\n",
              "      <td>0</td>\n",
              "      <td>0</td>\n",
              "      <td>0</td>\n",
              "      <td>1</td>\n",
              "      <td>0</td>\n",
              "      <td>0</td>\n",
              "      <td>0</td>\n",
              "      <td>0</td>\n",
              "      <td>17055</td>\n",
              "      <td>38.0</td>\n",
              "    </tr>\n",
              "    <tr>\n",
              "      <th>63016</th>\n",
              "      <td>2</td>\n",
              "      <td>0</td>\n",
              "      <td>0</td>\n",
              "      <td>1</td>\n",
              "      <td>347700.0</td>\n",
              "      <td>0</td>\n",
              "      <td>1</td>\n",
              "      <td>0</td>\n",
              "      <td>0</td>\n",
              "      <td>0</td>\n",
              "      <td>3199</td>\n",
              "      <td>0</td>\n",
              "      <td>0</td>\n",
              "      <td>0</td>\n",
              "      <td>1</td>\n",
              "      <td>0</td>\n",
              "      <td>0</td>\n",
              "      <td>0</td>\n",
              "      <td>0</td>\n",
              "      <td>17055</td>\n",
              "      <td>38.0</td>\n",
              "    </tr>\n",
              "    <tr>\n",
              "      <th>63017</th>\n",
              "      <td>3</td>\n",
              "      <td>1</td>\n",
              "      <td>0</td>\n",
              "      <td>0</td>\n",
              "      <td>808000.0</td>\n",
              "      <td>1</td>\n",
              "      <td>0</td>\n",
              "      <td>0</td>\n",
              "      <td>0</td>\n",
              "      <td>0</td>\n",
              "      <td>3072</td>\n",
              "      <td>1</td>\n",
              "      <td>0</td>\n",
              "      <td>0</td>\n",
              "      <td>0</td>\n",
              "      <td>0</td>\n",
              "      <td>0</td>\n",
              "      <td>0</td>\n",
              "      <td>0</td>\n",
              "      <td>14577</td>\n",
              "      <td>8.4</td>\n",
              "    </tr>\n",
              "    <tr>\n",
              "      <th>63018</th>\n",
              "      <td>3</td>\n",
              "      <td>1</td>\n",
              "      <td>0</td>\n",
              "      <td>0</td>\n",
              "      <td>566000.0</td>\n",
              "      <td>1</td>\n",
              "      <td>0</td>\n",
              "      <td>0</td>\n",
              "      <td>0</td>\n",
              "      <td>0</td>\n",
              "      <td>3064</td>\n",
              "      <td>1</td>\n",
              "      <td>0</td>\n",
              "      <td>0</td>\n",
              "      <td>0</td>\n",
              "      <td>0</td>\n",
              "      <td>0</td>\n",
              "      <td>0</td>\n",
              "      <td>0</td>\n",
              "      <td>5833</td>\n",
              "      <td>20.6</td>\n",
              "    </tr>\n",
              "    <tr>\n",
              "      <th>63020</th>\n",
              "      <td>3</td>\n",
              "      <td>1</td>\n",
              "      <td>0</td>\n",
              "      <td>0</td>\n",
              "      <td>545000.0</td>\n",
              "      <td>1</td>\n",
              "      <td>0</td>\n",
              "      <td>0</td>\n",
              "      <td>0</td>\n",
              "      <td>0</td>\n",
              "      <td>3064</td>\n",
              "      <td>1</td>\n",
              "      <td>0</td>\n",
              "      <td>0</td>\n",
              "      <td>0</td>\n",
              "      <td>0</td>\n",
              "      <td>0</td>\n",
              "      <td>0</td>\n",
              "      <td>0</td>\n",
              "      <td>5833</td>\n",
              "      <td>20.6</td>\n",
              "    </tr>\n",
              "  </tbody>\n",
              "</table>\n",
              "<p>42515 rows × 21 columns</p>\n",
              "</div>"
            ],
            "text/plain": [
              "       Rooms  Type_h  ...  Propertycount  Distance\n",
              "0          3       1  ...           4019       3.0\n",
              "1          3       1  ...           4019       3.0\n",
              "2          3       1  ...           4019       3.0\n",
              "3          3       1  ...           1543       7.5\n",
              "4          2       1  ...           3464      10.4\n",
              "...      ...     ...  ...            ...       ...\n",
              "63015      2       0  ...          17055      38.0\n",
              "63016      2       0  ...          17055      38.0\n",
              "63017      3       1  ...          14577       8.4\n",
              "63018      3       1  ...           5833      20.6\n",
              "63020      3       1  ...           5833      20.6\n",
              "\n",
              "[42515 rows x 21 columns]"
            ]
          },
          "metadata": {
            "tags": []
          },
          "execution_count": 11
        }
      ]
    },
    {
      "cell_type": "markdown",
      "metadata": {
        "id": "bdG3t-W09NtJ"
      },
      "source": [
        "### **3. 데이터를 train/test 셋으로 무작위 분할(80:20)**"
      ]
    },
    {
      "cell_type": "code",
      "metadata": {
        "id": "KfYvniKE9PCv"
      },
      "source": [
        "X =df_encoding.drop(['Price'],axis=1)\n",
        "y = df_encoding['Price']"
      ],
      "execution_count": null,
      "outputs": []
    },
    {
      "cell_type": "code",
      "metadata": {
        "id": "63j15Sj9-kF1"
      },
      "source": [
        "X_train, X_test, y_train, y_test = train_test_split(X, y, test_size=0.2)"
      ],
      "execution_count": null,
      "outputs": []
    },
    {
      "cell_type": "markdown",
      "metadata": {
        "id": "OHrxMEng_ME-"
      },
      "source": [
        "### **4. Feature Selection 수행 (SelectKBest 사용, k = 20)**"
      ]
    },
    {
      "cell_type": "code",
      "metadata": {
        "colab": {
          "base_uri": "https://localhost:8080/"
        },
        "id": "igb_kDyQ_Ozk",
        "outputId": "20e1dfaf-94eb-44f4-c734-0d25948ee0fa"
      },
      "source": [
        "selector = SelectKBest(score_func=f_regression, k=20)\n",
        "\n",
        "X_train_selected = selector.fit_transform(X_train, y_train)\n",
        "X_test_selected = selector.transform(X_test)\n",
        "\n",
        "# SelectKBest 수행 후 shape 확인\n",
        "X_train_selected.shape, X_test_selected.shape"
      ],
      "execution_count": null,
      "outputs": [
        {
          "output_type": "execute_result",
          "data": {
            "text/plain": [
              "((34012, 20), (8503, 20))"
            ]
          },
          "metadata": {
            "tags": []
          },
          "execution_count": 14
        }
      ]
    },
    {
      "cell_type": "code",
      "metadata": {
        "id": "XJd-4o_pAsdm"
      },
      "source": [
        "# Select 된 Columns값, 그렇지 않은 Columns값 추출\n",
        "\n",
        "all_names = X_train.columns\n",
        "selected_mask = selector.get_support()\n",
        "\n",
        "selected_names = all_names[selected_mask]\n",
        "unselected_names = all_names[~selected_mask] "
      ],
      "execution_count": null,
      "outputs": []
    },
    {
      "cell_type": "markdown",
      "metadata": {
        "id": "KrauRl9Xmkb5"
      },
      "source": [
        "### **5. LinearRegression 적용했을 때, Select K값 별 회귀 평가지표값 산출, 최적 Features값 도출**"
      ]
    },
    {
      "cell_type": "code",
      "metadata": {
        "colab": {
          "base_uri": "https://localhost:8080/",
          "height": 1000
        },
        "id": "D8DP4SidA7TI",
        "outputId": "8079c57e-d659-46c3-9e37-d5709aa17da3"
      },
      "source": [
        "training = []\n",
        "testing = []\n",
        "ks = range(1, len(X_train.columns)+1)\n",
        "\n",
        "for k in range(1, len(X_train.columns)+ 1):\n",
        "    print(f'{k} features')\n",
        "    \n",
        "    selector = SelectKBest(score_func=f_regression, k=k)\n",
        "    \n",
        "    X_train_selected = selector.fit_transform(X_train, y_train)\n",
        "    X_test_selected = selector.transform(X_test)\n",
        "    \n",
        "    all_names = X_train.columns\n",
        "    selected_mask = selector.get_support()\n",
        "    selected_names = all_names[selected_mask]\n",
        "    print('Selected names: ', selected_names)\n",
        "\n",
        "    \n",
        "    model = LinearRegression()\n",
        "    model.fit(X_train_selected, y_train)\n",
        "    y_pred = model.predict(X_train_selected)\n",
        "    mae = mean_absolute_error(y_train, y_pred)\n",
        "    training.append(mae)\n",
        "    \n",
        "    y_pred = model.predict(X_test_selected)\n",
        "    mae = mean_absolute_error(y_test, y_pred)\n",
        "    r2 = r2_score(y_test, y_pred)\n",
        "    testing.append(mae)\n",
        "    print(f'Test MAE: ${mae:,.0f}')\n",
        "    print(f'Test R2: {r2} \\n')\n",
        "\n",
        "plt.plot(ks, training, label='Training Score', color='b')\n",
        "plt.plot(ks, testing, label='Testing Score', color='g')\n",
        "plt.ylabel(\"MAE ($)\")\n",
        "plt.xlabel(\"Number of Features\")\n",
        "plt.title('Validation Curve')\n",
        "plt.legend()\n",
        "plt.show()"
      ],
      "execution_count": null,
      "outputs": [
        {
          "output_type": "stream",
          "text": [
            "1 features\n",
            "Selected names:  Index(['Rooms'], dtype='object')\n",
            "Test MAE: $382,454\n",
            "Test R2: 0.1713455207640796 \n",
            "\n",
            "2 features\n",
            "Selected names:  Index(['Rooms', 'Regionname_Southern Metropolitan'], dtype='object')\n",
            "Test MAE: $346,618\n",
            "Test R2: 0.3413352238500944 \n",
            "\n",
            "3 features\n",
            "Selected names:  Index(['Rooms', 'Type_u', 'Regionname_Southern Metropolitan'], dtype='object')\n",
            "Test MAE: $341,179\n",
            "Test R2: 0.3714387896186431 \n",
            "\n",
            "4 features\n",
            "Selected names:  Index(['Rooms', 'Type_h', 'Type_u', 'Regionname_Southern Metropolitan'], dtype='object')\n",
            "Test MAE: $340,359\n",
            "Test R2: 0.37881903196958 \n",
            "\n",
            "5 features\n",
            "Selected names:  Index(['Rooms', 'Type_h', 'Type_u', 'Regionname_Southern Metropolitan',\n",
            "       'Distance'],\n",
            "      dtype='object')\n",
            "Test MAE: $307,135\n",
            "Test R2: 0.47066109274755896 \n",
            "\n",
            "6 features\n",
            "Selected names:  Index(['Rooms', 'Type_h', 'Type_u', 'Regionname_Northern Metropolitan',\n",
            "       'Regionname_Southern Metropolitan', 'Distance'],\n",
            "      dtype='object')\n",
            "Test MAE: $304,377\n",
            "Test R2: 0.4750940350280959 \n",
            "\n",
            "7 features\n",
            "Selected names:  Index(['Rooms', 'Type_h', 'Type_u', 'Regionname_Northern Metropolitan',\n",
            "       'Regionname_Western Metropolitan', 'Regionname_Southern Metropolitan',\n",
            "       'Distance'],\n",
            "      dtype='object')\n",
            "Test MAE: $284,596\n",
            "Test R2: 0.5185113781382065 \n",
            "\n",
            "8 features\n",
            "Selected names:  Index(['Rooms', 'Type_h', 'Type_u', 'Method_SP',\n",
            "       'Regionname_Northern Metropolitan', 'Regionname_Western Metropolitan',\n",
            "       'Regionname_Southern Metropolitan', 'Distance'],\n",
            "      dtype='object')\n",
            "Test MAE: $284,461\n",
            "Test R2: 0.5186663331540002 \n",
            "\n",
            "9 features\n",
            "Selected names:  Index(['Rooms', 'Type_h', 'Type_u', 'Method_SP', 'Method_VB',\n",
            "       'Regionname_Northern Metropolitan', 'Regionname_Western Metropolitan',\n",
            "       'Regionname_Southern Metropolitan', 'Distance'],\n",
            "      dtype='object')\n",
            "Test MAE: $284,541\n",
            "Test R2: 0.5189543598112072 \n",
            "\n",
            "10 features\n",
            "Selected names:  Index(['Rooms', 'Type_h', 'Type_u', 'Method_SP', 'Method_VB',\n",
            "       'Regionname_Northern Metropolitan', 'Regionname_Western Metropolitan',\n",
            "       'Regionname_Southern Metropolitan',\n",
            "       'Regionname_South-Eastern Metropolitan', 'Distance'],\n",
            "      dtype='object')\n",
            "Test MAE: $283,174\n",
            "Test R2: 0.5221024627323412 \n",
            "\n",
            "11 features\n",
            "Selected names:  Index(['Rooms', 'Type_h', 'Type_u', 'Method_SP', 'Method_VB',\n",
            "       'Regionname_Northern Metropolitan', 'Regionname_Western Metropolitan',\n",
            "       'Regionname_Southern Metropolitan',\n",
            "       'Regionname_South-Eastern Metropolitan', 'Regionname_Western Victoria',\n",
            "       'Distance'],\n",
            "      dtype='object')\n",
            "Test MAE: $283,017\n",
            "Test R2: 0.522226751078461 \n",
            "\n",
            "12 features\n",
            "Selected names:  Index(['Rooms', 'Type_h', 'Type_t', 'Type_u', 'Method_SP', 'Method_VB',\n",
            "       'Regionname_Northern Metropolitan', 'Regionname_Western Metropolitan',\n",
            "       'Regionname_Southern Metropolitan',\n",
            "       'Regionname_South-Eastern Metropolitan', 'Regionname_Western Victoria',\n",
            "       'Distance'],\n",
            "      dtype='object')\n",
            "Test MAE: $283,017\n",
            "Test R2: 0.5222267510784608 \n",
            "\n",
            "13 features\n",
            "Selected names:  Index(['Rooms', 'Type_h', 'Type_t', 'Type_u', 'Method_SP', 'Method_VB',\n",
            "       'Regionname_Northern Metropolitan', 'Regionname_Western Metropolitan',\n",
            "       'Regionname_Southern Metropolitan',\n",
            "       'Regionname_South-Eastern Metropolitan', 'Regionname_Northern Victoria',\n",
            "       'Regionname_Western Victoria', 'Distance'],\n",
            "      dtype='object')\n",
            "Test MAE: $283,478\n",
            "Test R2: 0.5219631903862079 \n",
            "\n",
            "14 features\n",
            "Selected names:  Index(['Rooms', 'Type_h', 'Type_t', 'Type_u', 'Method_SP', 'Method_VB',\n",
            "       'Regionname_Northern Metropolitan', 'Regionname_Western Metropolitan',\n",
            "       'Regionname_Southern Metropolitan',\n",
            "       'Regionname_South-Eastern Metropolitan', 'Regionname_Northern Victoria',\n",
            "       'Regionname_Western Victoria', 'Propertycount', 'Distance'],\n",
            "      dtype='object')\n",
            "Test MAE: $283,315\n",
            "Test R2: 0.5223447802013392 \n",
            "\n",
            "15 features\n",
            "Selected names:  Index(['Rooms', 'Type_h', 'Type_t', 'Type_u', 'Method_SP', 'Method_VB',\n",
            "       'Regionname_Northern Metropolitan', 'Regionname_Western Metropolitan',\n",
            "       'Regionname_Southern Metropolitan',\n",
            "       'Regionname_South-Eastern Metropolitan',\n",
            "       'Regionname_Eastern Metropolitan', 'Regionname_Northern Victoria',\n",
            "       'Regionname_Western Victoria', 'Propertycount', 'Distance'],\n",
            "      dtype='object')\n",
            "Test MAE: $282,917\n",
            "Test R2: 0.523425641812954 \n",
            "\n",
            "16 features\n",
            "Selected names:  Index(['Rooms', 'Type_h', 'Type_t', 'Type_u', 'Method_SP', 'Method_VB',\n",
            "       'Regionname_Northern Metropolitan', 'Regionname_Western Metropolitan',\n",
            "       'Regionname_Southern Metropolitan',\n",
            "       'Regionname_South-Eastern Metropolitan',\n",
            "       'Regionname_Eastern Metropolitan', 'Regionname_Northern Victoria',\n",
            "       'Regionname_Eastern Victoria', 'Regionname_Western Victoria',\n",
            "       'Propertycount', 'Distance'],\n",
            "      dtype='object')\n",
            "Test MAE: $282,917\n",
            "Test R2: 0.5234256418129523 \n",
            "\n",
            "17 features\n",
            "Selected names:  Index(['Rooms', 'Type_h', 'Type_t', 'Type_u', 'Method_SP', 'Method_VB',\n",
            "       'Method_PI', 'Regionname_Northern Metropolitan',\n",
            "       'Regionname_Western Metropolitan', 'Regionname_Southern Metropolitan',\n",
            "       'Regionname_South-Eastern Metropolitan',\n",
            "       'Regionname_Eastern Metropolitan', 'Regionname_Northern Victoria',\n",
            "       'Regionname_Eastern Victoria', 'Regionname_Western Victoria',\n",
            "       'Propertycount', 'Distance'],\n",
            "      dtype='object')\n",
            "Test MAE: $282,729\n",
            "Test R2: 0.5236385163166792 \n",
            "\n",
            "18 features\n",
            "Selected names:  Index(['Rooms', 'Type_h', 'Type_t', 'Type_u', 'Method_SP', 'Method_VB',\n",
            "       'Method_PI', 'Method_SA', 'Regionname_Northern Metropolitan',\n",
            "       'Regionname_Western Metropolitan', 'Regionname_Southern Metropolitan',\n",
            "       'Regionname_South-Eastern Metropolitan',\n",
            "       'Regionname_Eastern Metropolitan', 'Regionname_Northern Victoria',\n",
            "       'Regionname_Eastern Victoria', 'Regionname_Western Victoria',\n",
            "       'Propertycount', 'Distance'],\n",
            "      dtype='object')\n",
            "Test MAE: $282,666\n",
            "Test R2: 0.5236820628778556 \n",
            "\n",
            "19 features\n",
            "Selected names:  Index(['Rooms', 'Type_h', 'Type_t', 'Type_u', 'Method_SP', 'Method_VB',\n",
            "       'Method_PI', 'Method_SA', 'Postcode',\n",
            "       'Regionname_Northern Metropolitan', 'Regionname_Western Metropolitan',\n",
            "       'Regionname_Southern Metropolitan',\n",
            "       'Regionname_South-Eastern Metropolitan',\n",
            "       'Regionname_Eastern Metropolitan', 'Regionname_Northern Victoria',\n",
            "       'Regionname_Eastern Victoria', 'Regionname_Western Victoria',\n",
            "       'Propertycount', 'Distance'],\n",
            "      dtype='object')\n",
            "Test MAE: $282,053\n",
            "Test R2: 0.5246351419809523 \n",
            "\n",
            "20 features\n",
            "Selected names:  Index(['Rooms', 'Type_h', 'Type_t', 'Type_u', 'Method_S', 'Method_SP',\n",
            "       'Method_VB', 'Method_PI', 'Method_SA', 'Postcode',\n",
            "       'Regionname_Northern Metropolitan', 'Regionname_Western Metropolitan',\n",
            "       'Regionname_Southern Metropolitan',\n",
            "       'Regionname_South-Eastern Metropolitan',\n",
            "       'Regionname_Eastern Metropolitan', 'Regionname_Northern Victoria',\n",
            "       'Regionname_Eastern Victoria', 'Regionname_Western Victoria',\n",
            "       'Propertycount', 'Distance'],\n",
            "      dtype='object')\n",
            "Test MAE: $282,053\n",
            "Test R2: 0.5246351419809475 \n",
            "\n"
          ],
          "name": "stdout"
        },
        {
          "output_type": "display_data",
          "data": {
            "image/png": "[encoded data removed]",
            "text/plain": [
              "<Figure size 800x550 with 1 Axes>"
            ]
          },
          "metadata": {
            "tags": []
          }
        }
      ]
    },
    {
      "cell_type": "markdown",
      "metadata": {
        "id": "a7RMIttXB8p8"
      },
      "source": [
        "**결론**: 12 Features 산출 시 최적 값 도출. (그보다 많은 경우보다 Val Curve의 차이도 크지 않으므로 12개로 지정)\n",
        "\n",
        "Selected names:  Index(['Rooms', 'Type_h', 'Type_u', 'Method_SP', 'Method_VB',\n",
        "       'Regionname_Northern Metropolitan', 'Regionname_Western Metropolitan',\n",
        "       'Regionname_Southern Metropolitan',\n",
        "       'Regionname_South-Eastern Metropolitan', 'Regionname_Northern Victoria',\n",
        "       'Regionname_Western Victoria', 'Distance'],\n",
        "      dtype='object')\n",
        "Test MAE: $282,820\n",
        "Test R2: 0.5107460063617557 "
      ]
    },
    {
      "cell_type": "markdown",
      "metadata": {
        "id": "T5AoErV2nF_L"
      },
      "source": [
        "### **6. 선택한 Features 사용해 Best Ridge Regression 모델링**\n"
      ]
    },
    {
      "cell_type": "code",
      "metadata": {
        "id": "QFTQRvs6BXHj"
      },
      "source": [
        "bestreg = dff[['Rooms', 'Type_h', 'Type_u', 'Method_SP', 'Method_VB',\n",
        "       'Regionname_Northern Metropolitan', 'Regionname_Western Metropolitan',\n",
        "       'Regionname_Southern Metropolitan',\n",
        "       'Regionname_South-Eastern Metropolitan', 'Regionname_Northern Victoria',\n",
        "       'Regionname_Western Victoria', 'Distance','Price']]\n",
        "\n",
        "X = bestreg.drop(['Price'],axis=1)\n",
        "y = bestreg['Price']\n",
        "X_train, X_test, y_train, y_test = train_test_split(X, y, test_size=0.2)"
      ],
      "execution_count": null,
      "outputs": []
    },
    {
      "cell_type": "code",
      "metadata": {
        "id": "S382FlIxDMlz"
      },
      "source": [
        "# scikit-learn 업그레이드\n",
        "!pip install --upgrade scikit-learn"
      ],
      "execution_count": null,
      "outputs": []
    },
    {
      "cell_type": "code",
      "metadata": {
        "id": "QFZeoZMpCaU-"
      },
      "source": [
        "# RidgeCV 실행, 하이퍼파라미터값: alphas\n",
        "\n",
        "alphas = [0.01, 0.05, 0.1, 0.2, 1.0, 10.0, 100.0]\n",
        "\n",
        "ridge = RidgeCV(alphas=alphas, normalize=True, cv=3)\n",
        "ridge.fit(X, y)\n",
        "\n",
        "print(\"alpha: \", ridge.alpha_)"
      ],
      "execution_count": null,
      "outputs": []
    },
    {
      "cell_type": "markdown",
      "metadata": {
        "id": "u-Ylvey6nncx"
      },
      "source": [
        "결론: 최적 alphas값은 0.01"
      ]
    },
    {
      "cell_type": "markdown",
      "metadata": {
        "id": "xRlp6KHAGPd6"
      },
      "source": [
        "### **6. 최적 하이퍼파라미터 적용 후 Ridge Regression 모델링**"
      ]
    },
    {
      "cell_type": "code",
      "metadata": {
        "colab": {
          "base_uri": "https://localhost:8080/"
        },
        "id": "ryqvVZMxHECd",
        "outputId": "2dd64f6c-d975-43a1-828a-6781f94a53d0"
      },
      "source": [
        "model = Ridge(alpha=ridge.alpha_, normalize=True)\n",
        "model.fit(X_train, y_train)\n",
        "\n",
        "y_pred = model.predict(X_test)"
      ],
      "execution_count": null,
      "outputs": [
        {
          "output_type": "execute_result",
          "data": {
            "text/plain": [
              "Ridge(alpha=0.01, copy_X=True, fit_intercept=True, max_iter=None,\n",
              "      normalize=True, random_state=None, solver='auto', tol=0.001)"
            ]
          },
          "metadata": {
            "tags": []
          },
          "execution_count": 24
        }
      ]
    },
    {
      "cell_type": "code",
      "metadata": {
        "colab": {
          "base_uri": "https://localhost:8080/",
          "height": 402
        },
        "id": "ob9zhsD-HWtA",
        "outputId": "3d725198-a7c9-4ef8-ea13-27d7181b3ffe"
      },
      "source": [
        "pd.DataFrame(y_pred)"
      ],
      "execution_count": null,
      "outputs": [
        {
          "output_type": "execute_result",
          "data": {
            "text/html": [
              "<div>\n",
              "<style scoped>\n",
              "    .dataframe tbody tr th:only-of-type {\n",
              "        vertical-align: middle;\n",
              "    }\n",
              "\n",
              "    .dataframe tbody tr th {\n",
              "        vertical-align: top;\n",
              "    }\n",
              "\n",
              "    .dataframe thead th {\n",
              "        text-align: right;\n",
              "    }\n",
              "</style>\n",
              "<table border=\"1\" class=\"dataframe\">\n",
              "  <thead>\n",
              "    <tr style=\"text-align: right;\">\n",
              "      <th></th>\n",
              "      <th>0</th>\n",
              "    </tr>\n",
              "  </thead>\n",
              "  <tbody>\n",
              "    <tr>\n",
              "      <th>0</th>\n",
              "      <td>8.394072e+05</td>\n",
              "    </tr>\n",
              "    <tr>\n",
              "      <th>1</th>\n",
              "      <td>9.921947e+05</td>\n",
              "    </tr>\n",
              "    <tr>\n",
              "      <th>2</th>\n",
              "      <td>1.057827e+06</td>\n",
              "    </tr>\n",
              "    <tr>\n",
              "      <th>3</th>\n",
              "      <td>6.099836e+05</td>\n",
              "    </tr>\n",
              "    <tr>\n",
              "      <th>4</th>\n",
              "      <td>8.741980e+05</td>\n",
              "    </tr>\n",
              "    <tr>\n",
              "      <th>...</th>\n",
              "      <td>...</td>\n",
              "    </tr>\n",
              "    <tr>\n",
              "      <th>8498</th>\n",
              "      <td>1.322865e+06</td>\n",
              "    </tr>\n",
              "    <tr>\n",
              "      <th>8499</th>\n",
              "      <td>1.039290e+06</td>\n",
              "    </tr>\n",
              "    <tr>\n",
              "      <th>8500</th>\n",
              "      <td>7.803010e+05</td>\n",
              "    </tr>\n",
              "    <tr>\n",
              "      <th>8501</th>\n",
              "      <td>8.163911e+05</td>\n",
              "    </tr>\n",
              "    <tr>\n",
              "      <th>8502</th>\n",
              "      <td>1.265814e+06</td>\n",
              "    </tr>\n",
              "  </tbody>\n",
              "</table>\n",
              "<p>8503 rows × 1 columns</p>\n",
              "</div>"
            ],
            "text/plain": [
              "                 0\n",
              "0     8.394072e+05\n",
              "1     9.921947e+05\n",
              "2     1.057827e+06\n",
              "3     6.099836e+05\n",
              "4     8.741980e+05\n",
              "...            ...\n",
              "8498  1.322865e+06\n",
              "8499  1.039290e+06\n",
              "8500  7.803010e+05\n",
              "8501  8.163911e+05\n",
              "8502  1.265814e+06\n",
              "\n",
              "[8503 rows x 1 columns]"
            ]
          },
          "metadata": {
            "tags": []
          },
          "execution_count": 40
        }
      ]
    },
    {
      "cell_type": "code",
      "metadata": {
        "colab": {
          "base_uri": "https://localhost:8080/"
        },
        "id": "oS61SmKZICpC",
        "outputId": "250ff8eb-4101-4e9b-eb2e-d6d4a61d68ed"
      },
      "source": [
        "# 회귀모델 평가지표로 MAE 선택, MAE값 확인\n",
        "mae = mean_absolute_error(y_test, y_pred)\n",
        "mae"
      ],
      "execution_count": null,
      "outputs": [
        {
          "output_type": "execute_result",
          "data": {
            "text/plain": [
              "551605.7870678687"
            ]
          },
          "metadata": {
            "tags": []
          },
          "execution_count": 43
        }
      ]
    }
  ]
}