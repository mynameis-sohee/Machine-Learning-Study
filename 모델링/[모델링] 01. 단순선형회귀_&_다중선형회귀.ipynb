{
  "nbformat": 4,
  "nbformat_minor": 0,
  "metadata": {
    "colab": {
      "name": "[Regression] 단순선형회귀 & 다중선형회귀",
      "provenance": [],
      "collapsed_sections": [],
      "authorship_tag": "ABX9TyOvSBJkkBNfQLBUe0nvVH5P",
      "include_colab_link": true
    },
    "kernelspec": {
      "name": "python3",
      "display_name": "Python 3"
    }
  },
  "cells": [
    {
      "cell_type": "markdown",
      "metadata": {
        "id": "view-in-github",
        "colab_type": "text"
      },
      "source": [
        "<a href=\"https://colab.research.google.com/github/mynameis-sohee/Machine-Learning-Study/blob/main/%5BRegression%5D_%EB%8B%A8%EC%88%9C%EC%84%A0%ED%98%95%ED%9A%8C%EA%B7%80_%26_%EB%8B%A4%EC%A4%91%EC%84%A0%ED%98%95%ED%9A%8C%EA%B7%80.ipynb\" target=\"_parent\"><img src=\"https://colab.research.google.com/assets/colab-badge.svg\" alt=\"Open In Colab\"/></a>"
      ]
    },
    {
      "cell_type": "markdown",
      "metadata": {
        "id": "FjyYSb4yM8oN"
      },
      "source": [
        "### House Price 연습 데이터셋을 활용하여, **단순선형회귀와 다중선형회귀의 기본적 사용법**을 알아보겠습니다."
      ]
    },
    {
      "cell_type": "code",
      "metadata": {
        "id": "EY-TtZRQjGmK"
      },
      "source": [
        "# 필요한 라이브러리 import\r\n",
        "import pandas as pd\r\n",
        "import matplotlib.pyplot as plt\r\n",
        "import seaborn as sns\r\n",
        "from sklearn.linear_model import LinearRegression\r\n",
        "import plotly.express as px\r\n",
        "from matplotlib import style\r\n",
        "from sklearn.metrics import mean_squared_error,r2_score,mean_absolute_error"
      ],
      "execution_count": null,
      "outputs": []
    },
    {
      "cell_type": "markdown",
      "metadata": {
        "id": "z2CnTK7LlBkP"
      },
      "source": [
        "## **Upload Data Set**"
      ]
    },
    {
      "cell_type": "code",
      "metadata": {
        "id": "r-AD0iJ5jiP_"
      },
      "source": [
        "# data set 로드\r\n",
        "df = pd.read_csv('https://ds-lecture-data.s3.ap-northeast-2.amazonaws.com/house-prices/house_prices_train.csv')"
      ],
      "execution_count": null,
      "outputs": []
    },
    {
      "cell_type": "code",
      "metadata": {
        "colab": {
          "base_uri": "https://localhost:8080/",
          "height": 185
        },
        "id": "bbptxPoqjoST",
        "outputId": "6faec284-1500-4835-ca04-92e7e5301a6b"
      },
      "source": [
        "# data set 확인\r\n",
        "df.head(3)"
      ],
      "execution_count": null,
      "outputs": [
        {
          "output_type": "execute_result",
          "data": {
            "text/html": [
              "<div>\n",
              "<style scoped>\n",
              "    .dataframe tbody tr th:only-of-type {\n",
              "        vertical-align: middle;\n",
              "    }\n",
              "\n",
              "    .dataframe tbody tr th {\n",
              "        vertical-align: top;\n",
              "    }\n",
              "\n",
              "    .dataframe thead th {\n",
              "        text-align: right;\n",
              "    }\n",
              "</style>\n",
              "<table border=\"1\" class=\"dataframe\">\n",
              "  <thead>\n",
              "    <tr style=\"text-align: right;\">\n",
              "      <th></th>\n",
              "      <th>Id</th>\n",
              "      <th>MSSubClass</th>\n",
              "      <th>MSZoning</th>\n",
              "      <th>LotFrontage</th>\n",
              "      <th>LotArea</th>\n",
              "      <th>Street</th>\n",
              "      <th>Alley</th>\n",
              "      <th>LotShape</th>\n",
              "      <th>LandContour</th>\n",
              "      <th>Utilities</th>\n",
              "      <th>LotConfig</th>\n",
              "      <th>LandSlope</th>\n",
              "      <th>Neighborhood</th>\n",
              "      <th>Condition1</th>\n",
              "      <th>Condition2</th>\n",
              "      <th>BldgType</th>\n",
              "      <th>HouseStyle</th>\n",
              "      <th>OverallQual</th>\n",
              "      <th>OverallCond</th>\n",
              "      <th>YearBuilt</th>\n",
              "      <th>YearRemodAdd</th>\n",
              "      <th>RoofStyle</th>\n",
              "      <th>RoofMatl</th>\n",
              "      <th>Exterior1st</th>\n",
              "      <th>Exterior2nd</th>\n",
              "      <th>MasVnrType</th>\n",
              "      <th>MasVnrArea</th>\n",
              "      <th>ExterQual</th>\n",
              "      <th>ExterCond</th>\n",
              "      <th>Foundation</th>\n",
              "      <th>BsmtQual</th>\n",
              "      <th>BsmtCond</th>\n",
              "      <th>BsmtExposure</th>\n",
              "      <th>BsmtFinType1</th>\n",
              "      <th>BsmtFinSF1</th>\n",
              "      <th>BsmtFinType2</th>\n",
              "      <th>BsmtFinSF2</th>\n",
              "      <th>BsmtUnfSF</th>\n",
              "      <th>TotalBsmtSF</th>\n",
              "      <th>Heating</th>\n",
              "      <th>...</th>\n",
              "      <th>CentralAir</th>\n",
              "      <th>Electrical</th>\n",
              "      <th>1stFlrSF</th>\n",
              "      <th>2ndFlrSF</th>\n",
              "      <th>LowQualFinSF</th>\n",
              "      <th>GrLivArea</th>\n",
              "      <th>BsmtFullBath</th>\n",
              "      <th>BsmtHalfBath</th>\n",
              "      <th>FullBath</th>\n",
              "      <th>HalfBath</th>\n",
              "      <th>BedroomAbvGr</th>\n",
              "      <th>KitchenAbvGr</th>\n",
              "      <th>KitchenQual</th>\n",
              "      <th>TotRmsAbvGrd</th>\n",
              "      <th>Functional</th>\n",
              "      <th>Fireplaces</th>\n",
              "      <th>FireplaceQu</th>\n",
              "      <th>GarageType</th>\n",
              "      <th>GarageYrBlt</th>\n",
              "      <th>GarageFinish</th>\n",
              "      <th>GarageCars</th>\n",
              "      <th>GarageArea</th>\n",
              "      <th>GarageQual</th>\n",
              "      <th>GarageCond</th>\n",
              "      <th>PavedDrive</th>\n",
              "      <th>WoodDeckSF</th>\n",
              "      <th>OpenPorchSF</th>\n",
              "      <th>EnclosedPorch</th>\n",
              "      <th>3SsnPorch</th>\n",
              "      <th>ScreenPorch</th>\n",
              "      <th>PoolArea</th>\n",
              "      <th>PoolQC</th>\n",
              "      <th>Fence</th>\n",
              "      <th>MiscFeature</th>\n",
              "      <th>MiscVal</th>\n",
              "      <th>MoSold</th>\n",
              "      <th>YrSold</th>\n",
              "      <th>SaleType</th>\n",
              "      <th>SaleCondition</th>\n",
              "      <th>SalePrice</th>\n",
              "    </tr>\n",
              "  </thead>\n",
              "  <tbody>\n",
              "    <tr>\n",
              "      <th>0</th>\n",
              "      <td>1</td>\n",
              "      <td>60</td>\n",
              "      <td>RL</td>\n",
              "      <td>65.0</td>\n",
              "      <td>8450</td>\n",
              "      <td>Pave</td>\n",
              "      <td>NaN</td>\n",
              "      <td>Reg</td>\n",
              "      <td>Lvl</td>\n",
              "      <td>AllPub</td>\n",
              "      <td>Inside</td>\n",
              "      <td>Gtl</td>\n",
              "      <td>CollgCr</td>\n",
              "      <td>Norm</td>\n",
              "      <td>Norm</td>\n",
              "      <td>1Fam</td>\n",
              "      <td>2Story</td>\n",
              "      <td>7</td>\n",
              "      <td>5</td>\n",
              "      <td>2003</td>\n",
              "      <td>2003</td>\n",
              "      <td>Gable</td>\n",
              "      <td>CompShg</td>\n",
              "      <td>VinylSd</td>\n",
              "      <td>VinylSd</td>\n",
              "      <td>BrkFace</td>\n",
              "      <td>196.0</td>\n",
              "      <td>Gd</td>\n",
              "      <td>TA</td>\n",
              "      <td>PConc</td>\n",
              "      <td>Gd</td>\n",
              "      <td>TA</td>\n",
              "      <td>No</td>\n",
              "      <td>GLQ</td>\n",
              "      <td>706</td>\n",
              "      <td>Unf</td>\n",
              "      <td>0</td>\n",
              "      <td>150</td>\n",
              "      <td>856</td>\n",
              "      <td>GasA</td>\n",
              "      <td>...</td>\n",
              "      <td>Y</td>\n",
              "      <td>SBrkr</td>\n",
              "      <td>856</td>\n",
              "      <td>854</td>\n",
              "      <td>0</td>\n",
              "      <td>1710</td>\n",
              "      <td>1</td>\n",
              "      <td>0</td>\n",
              "      <td>2</td>\n",
              "      <td>1</td>\n",
              "      <td>3</td>\n",
              "      <td>1</td>\n",
              "      <td>Gd</td>\n",
              "      <td>8</td>\n",
              "      <td>Typ</td>\n",
              "      <td>0</td>\n",
              "      <td>NaN</td>\n",
              "      <td>Attchd</td>\n",
              "      <td>2003.0</td>\n",
              "      <td>RFn</td>\n",
              "      <td>2</td>\n",
              "      <td>548</td>\n",
              "      <td>TA</td>\n",
              "      <td>TA</td>\n",
              "      <td>Y</td>\n",
              "      <td>0</td>\n",
              "      <td>61</td>\n",
              "      <td>0</td>\n",
              "      <td>0</td>\n",
              "      <td>0</td>\n",
              "      <td>0</td>\n",
              "      <td>NaN</td>\n",
              "      <td>NaN</td>\n",
              "      <td>NaN</td>\n",
              "      <td>0</td>\n",
              "      <td>2</td>\n",
              "      <td>2008</td>\n",
              "      <td>WD</td>\n",
              "      <td>Normal</td>\n",
              "      <td>208500</td>\n",
              "    </tr>\n",
              "    <tr>\n",
              "      <th>1</th>\n",
              "      <td>2</td>\n",
              "      <td>20</td>\n",
              "      <td>RL</td>\n",
              "      <td>80.0</td>\n",
              "      <td>9600</td>\n",
              "      <td>Pave</td>\n",
              "      <td>NaN</td>\n",
              "      <td>Reg</td>\n",
              "      <td>Lvl</td>\n",
              "      <td>AllPub</td>\n",
              "      <td>FR2</td>\n",
              "      <td>Gtl</td>\n",
              "      <td>Veenker</td>\n",
              "      <td>Feedr</td>\n",
              "      <td>Norm</td>\n",
              "      <td>1Fam</td>\n",
              "      <td>1Story</td>\n",
              "      <td>6</td>\n",
              "      <td>8</td>\n",
              "      <td>1976</td>\n",
              "      <td>1976</td>\n",
              "      <td>Gable</td>\n",
              "      <td>CompShg</td>\n",
              "      <td>MetalSd</td>\n",
              "      <td>MetalSd</td>\n",
              "      <td>None</td>\n",
              "      <td>0.0</td>\n",
              "      <td>TA</td>\n",
              "      <td>TA</td>\n",
              "      <td>CBlock</td>\n",
              "      <td>Gd</td>\n",
              "      <td>TA</td>\n",
              "      <td>Gd</td>\n",
              "      <td>ALQ</td>\n",
              "      <td>978</td>\n",
              "      <td>Unf</td>\n",
              "      <td>0</td>\n",
              "      <td>284</td>\n",
              "      <td>1262</td>\n",
              "      <td>GasA</td>\n",
              "      <td>...</td>\n",
              "      <td>Y</td>\n",
              "      <td>SBrkr</td>\n",
              "      <td>1262</td>\n",
              "      <td>0</td>\n",
              "      <td>0</td>\n",
              "      <td>1262</td>\n",
              "      <td>0</td>\n",
              "      <td>1</td>\n",
              "      <td>2</td>\n",
              "      <td>0</td>\n",
              "      <td>3</td>\n",
              "      <td>1</td>\n",
              "      <td>TA</td>\n",
              "      <td>6</td>\n",
              "      <td>Typ</td>\n",
              "      <td>1</td>\n",
              "      <td>TA</td>\n",
              "      <td>Attchd</td>\n",
              "      <td>1976.0</td>\n",
              "      <td>RFn</td>\n",
              "      <td>2</td>\n",
              "      <td>460</td>\n",
              "      <td>TA</td>\n",
              "      <td>TA</td>\n",
              "      <td>Y</td>\n",
              "      <td>298</td>\n",
              "      <td>0</td>\n",
              "      <td>0</td>\n",
              "      <td>0</td>\n",
              "      <td>0</td>\n",
              "      <td>0</td>\n",
              "      <td>NaN</td>\n",
              "      <td>NaN</td>\n",
              "      <td>NaN</td>\n",
              "      <td>0</td>\n",
              "      <td>5</td>\n",
              "      <td>2007</td>\n",
              "      <td>WD</td>\n",
              "      <td>Normal</td>\n",
              "      <td>181500</td>\n",
              "    </tr>\n",
              "    <tr>\n",
              "      <th>2</th>\n",
              "      <td>3</td>\n",
              "      <td>60</td>\n",
              "      <td>RL</td>\n",
              "      <td>68.0</td>\n",
              "      <td>11250</td>\n",
              "      <td>Pave</td>\n",
              "      <td>NaN</td>\n",
              "      <td>IR1</td>\n",
              "      <td>Lvl</td>\n",
              "      <td>AllPub</td>\n",
              "      <td>Inside</td>\n",
              "      <td>Gtl</td>\n",
              "      <td>CollgCr</td>\n",
              "      <td>Norm</td>\n",
              "      <td>Norm</td>\n",
              "      <td>1Fam</td>\n",
              "      <td>2Story</td>\n",
              "      <td>7</td>\n",
              "      <td>5</td>\n",
              "      <td>2001</td>\n",
              "      <td>2002</td>\n",
              "      <td>Gable</td>\n",
              "      <td>CompShg</td>\n",
              "      <td>VinylSd</td>\n",
              "      <td>VinylSd</td>\n",
              "      <td>BrkFace</td>\n",
              "      <td>162.0</td>\n",
              "      <td>Gd</td>\n",
              "      <td>TA</td>\n",
              "      <td>PConc</td>\n",
              "      <td>Gd</td>\n",
              "      <td>TA</td>\n",
              "      <td>Mn</td>\n",
              "      <td>GLQ</td>\n",
              "      <td>486</td>\n",
              "      <td>Unf</td>\n",
              "      <td>0</td>\n",
              "      <td>434</td>\n",
              "      <td>920</td>\n",
              "      <td>GasA</td>\n",
              "      <td>...</td>\n",
              "      <td>Y</td>\n",
              "      <td>SBrkr</td>\n",
              "      <td>920</td>\n",
              "      <td>866</td>\n",
              "      <td>0</td>\n",
              "      <td>1786</td>\n",
              "      <td>1</td>\n",
              "      <td>0</td>\n",
              "      <td>2</td>\n",
              "      <td>1</td>\n",
              "      <td>3</td>\n",
              "      <td>1</td>\n",
              "      <td>Gd</td>\n",
              "      <td>6</td>\n",
              "      <td>Typ</td>\n",
              "      <td>1</td>\n",
              "      <td>TA</td>\n",
              "      <td>Attchd</td>\n",
              "      <td>2001.0</td>\n",
              "      <td>RFn</td>\n",
              "      <td>2</td>\n",
              "      <td>608</td>\n",
              "      <td>TA</td>\n",
              "      <td>TA</td>\n",
              "      <td>Y</td>\n",
              "      <td>0</td>\n",
              "      <td>42</td>\n",
              "      <td>0</td>\n",
              "      <td>0</td>\n",
              "      <td>0</td>\n",
              "      <td>0</td>\n",
              "      <td>NaN</td>\n",
              "      <td>NaN</td>\n",
              "      <td>NaN</td>\n",
              "      <td>0</td>\n",
              "      <td>9</td>\n",
              "      <td>2008</td>\n",
              "      <td>WD</td>\n",
              "      <td>Normal</td>\n",
              "      <td>223500</td>\n",
              "    </tr>\n",
              "  </tbody>\n",
              "</table>\n",
              "<p>3 rows × 81 columns</p>\n",
              "</div>"
            ],
            "text/plain": [
              "   Id  MSSubClass MSZoning  ...  SaleType  SaleCondition SalePrice\n",
              "0   1          60       RL  ...        WD         Normal    208500\n",
              "1   2          20       RL  ...        WD         Normal    181500\n",
              "2   3          60       RL  ...        WD         Normal    223500\n",
              "\n",
              "[3 rows x 81 columns]"
            ]
          },
          "metadata": {
            "tags": []
          },
          "execution_count": 3
        }
      ]
    },
    {
      "cell_type": "code",
      "metadata": {
        "colab": {
          "base_uri": "https://localhost:8080/"
        },
        "id": "JjoWgSITK9pl",
        "outputId": "c6aec5f5-59ff-4e9c-f0fb-841f4a62ac85"
      },
      "source": [
        "# data set 확인\r\n",
        "df.info()"
      ],
      "execution_count": null,
      "outputs": [
        {
          "output_type": "stream",
          "text": [
            "<class 'pandas.core.frame.DataFrame'>\n",
            "RangeIndex: 1460 entries, 0 to 1459\n",
            "Data columns (total 81 columns):\n",
            " #   Column         Non-Null Count  Dtype  \n",
            "---  ------         --------------  -----  \n",
            " 0   Id             1460 non-null   int64  \n",
            " 1   MSSubClass     1460 non-null   int64  \n",
            " 2   MSZoning       1460 non-null   object \n",
            " 3   LotFrontage    1201 non-null   float64\n",
            " 4   LotArea        1460 non-null   int64  \n",
            " 5   Street         1460 non-null   object \n",
            " 6   Alley          91 non-null     object \n",
            " 7   LotShape       1460 non-null   object \n",
            " 8   LandContour    1460 non-null   object \n",
            " 9   Utilities      1460 non-null   object \n",
            " 10  LotConfig      1460 non-null   object \n",
            " 11  LandSlope      1460 non-null   object \n",
            " 12  Neighborhood   1460 non-null   object \n",
            " 13  Condition1     1460 non-null   object \n",
            " 14  Condition2     1460 non-null   object \n",
            " 15  BldgType       1460 non-null   object \n",
            " 16  HouseStyle     1460 non-null   object \n",
            " 17  OverallQual    1460 non-null   int64  \n",
            " 18  OverallCond    1460 non-null   int64  \n",
            " 19  YearBuilt      1460 non-null   int64  \n",
            " 20  YearRemodAdd   1460 non-null   int64  \n",
            " 21  RoofStyle      1460 non-null   object \n",
            " 22  RoofMatl       1460 non-null   object \n",
            " 23  Exterior1st    1460 non-null   object \n",
            " 24  Exterior2nd    1460 non-null   object \n",
            " 25  MasVnrType     1452 non-null   object \n",
            " 26  MasVnrArea     1452 non-null   float64\n",
            " 27  ExterQual      1460 non-null   object \n",
            " 28  ExterCond      1460 non-null   object \n",
            " 29  Foundation     1460 non-null   object \n",
            " 30  BsmtQual       1423 non-null   object \n",
            " 31  BsmtCond       1423 non-null   object \n",
            " 32  BsmtExposure   1422 non-null   object \n",
            " 33  BsmtFinType1   1423 non-null   object \n",
            " 34  BsmtFinSF1     1460 non-null   int64  \n",
            " 35  BsmtFinType2   1422 non-null   object \n",
            " 36  BsmtFinSF2     1460 non-null   int64  \n",
            " 37  BsmtUnfSF      1460 non-null   int64  \n",
            " 38  TotalBsmtSF    1460 non-null   int64  \n",
            " 39  Heating        1460 non-null   object \n",
            " 40  HeatingQC      1460 non-null   object \n",
            " 41  CentralAir     1460 non-null   object \n",
            " 42  Electrical     1459 non-null   object \n",
            " 43  1stFlrSF       1460 non-null   int64  \n",
            " 44  2ndFlrSF       1460 non-null   int64  \n",
            " 45  LowQualFinSF   1460 non-null   int64  \n",
            " 46  GrLivArea      1460 non-null   int64  \n",
            " 47  BsmtFullBath   1460 non-null   int64  \n",
            " 48  BsmtHalfBath   1460 non-null   int64  \n",
            " 49  FullBath       1460 non-null   int64  \n",
            " 50  HalfBath       1460 non-null   int64  \n",
            " 51  BedroomAbvGr   1460 non-null   int64  \n",
            " 52  KitchenAbvGr   1460 non-null   int64  \n",
            " 53  KitchenQual    1460 non-null   object \n",
            " 54  TotRmsAbvGrd   1460 non-null   int64  \n",
            " 55  Functional     1460 non-null   object \n",
            " 56  Fireplaces     1460 non-null   int64  \n",
            " 57  FireplaceQu    770 non-null    object \n",
            " 58  GarageType     1379 non-null   object \n",
            " 59  GarageYrBlt    1379 non-null   float64\n",
            " 60  GarageFinish   1379 non-null   object \n",
            " 61  GarageCars     1460 non-null   int64  \n",
            " 62  GarageArea     1460 non-null   int64  \n",
            " 63  GarageQual     1379 non-null   object \n",
            " 64  GarageCond     1379 non-null   object \n",
            " 65  PavedDrive     1460 non-null   object \n",
            " 66  WoodDeckSF     1460 non-null   int64  \n",
            " 67  OpenPorchSF    1460 non-null   int64  \n",
            " 68  EnclosedPorch  1460 non-null   int64  \n",
            " 69  3SsnPorch      1460 non-null   int64  \n",
            " 70  ScreenPorch    1460 non-null   int64  \n",
            " 71  PoolArea       1460 non-null   int64  \n",
            " 72  PoolQC         7 non-null      object \n",
            " 73  Fence          281 non-null    object \n",
            " 74  MiscFeature    54 non-null     object \n",
            " 75  MiscVal        1460 non-null   int64  \n",
            " 76  MoSold         1460 non-null   int64  \n",
            " 77  YrSold         1460 non-null   int64  \n",
            " 78  SaleType       1460 non-null   object \n",
            " 79  SaleCondition  1460 non-null   object \n",
            " 80  SalePrice      1460 non-null   int64  \n",
            "dtypes: float64(3), int64(35), object(43)\n",
            "memory usage: 924.0+ KB\n"
          ],
          "name": "stdout"
        }
      ]
    },
    {
      "cell_type": "code",
      "metadata": {
        "id": "ZkFg7OIcj7eI",
        "colab": {
          "base_uri": "https://localhost:8080/",
          "height": 185
        },
        "outputId": "7ec33fcd-3f9d-4e82-b1c0-d9024fd57e64"
      },
      "source": [
        "# data float 형태 변환 0000 -> 0,000 (ex:GarageYrBlt)\r\n",
        "pd.set_option('display.float_format','{:,.1f}'.format)\r\n",
        "df.head(3)"
      ],
      "execution_count": null,
      "outputs": [
        {
          "output_type": "execute_result",
          "data": {
            "text/html": [
              "<div>\n",
              "<style scoped>\n",
              "    .dataframe tbody tr th:only-of-type {\n",
              "        vertical-align: middle;\n",
              "    }\n",
              "\n",
              "    .dataframe tbody tr th {\n",
              "        vertical-align: top;\n",
              "    }\n",
              "\n",
              "    .dataframe thead th {\n",
              "        text-align: right;\n",
              "    }\n",
              "</style>\n",
              "<table border=\"1\" class=\"dataframe\">\n",
              "  <thead>\n",
              "    <tr style=\"text-align: right;\">\n",
              "      <th></th>\n",
              "      <th>Id</th>\n",
              "      <th>MSSubClass</th>\n",
              "      <th>MSZoning</th>\n",
              "      <th>LotFrontage</th>\n",
              "      <th>LotArea</th>\n",
              "      <th>Street</th>\n",
              "      <th>Alley</th>\n",
              "      <th>LotShape</th>\n",
              "      <th>LandContour</th>\n",
              "      <th>Utilities</th>\n",
              "      <th>LotConfig</th>\n",
              "      <th>LandSlope</th>\n",
              "      <th>Neighborhood</th>\n",
              "      <th>Condition1</th>\n",
              "      <th>Condition2</th>\n",
              "      <th>BldgType</th>\n",
              "      <th>HouseStyle</th>\n",
              "      <th>OverallQual</th>\n",
              "      <th>OverallCond</th>\n",
              "      <th>YearBuilt</th>\n",
              "      <th>YearRemodAdd</th>\n",
              "      <th>RoofStyle</th>\n",
              "      <th>RoofMatl</th>\n",
              "      <th>Exterior1st</th>\n",
              "      <th>Exterior2nd</th>\n",
              "      <th>MasVnrType</th>\n",
              "      <th>MasVnrArea</th>\n",
              "      <th>ExterQual</th>\n",
              "      <th>ExterCond</th>\n",
              "      <th>Foundation</th>\n",
              "      <th>BsmtQual</th>\n",
              "      <th>BsmtCond</th>\n",
              "      <th>BsmtExposure</th>\n",
              "      <th>BsmtFinType1</th>\n",
              "      <th>BsmtFinSF1</th>\n",
              "      <th>BsmtFinType2</th>\n",
              "      <th>BsmtFinSF2</th>\n",
              "      <th>BsmtUnfSF</th>\n",
              "      <th>TotalBsmtSF</th>\n",
              "      <th>Heating</th>\n",
              "      <th>...</th>\n",
              "      <th>CentralAir</th>\n",
              "      <th>Electrical</th>\n",
              "      <th>1stFlrSF</th>\n",
              "      <th>2ndFlrSF</th>\n",
              "      <th>LowQualFinSF</th>\n",
              "      <th>GrLivArea</th>\n",
              "      <th>BsmtFullBath</th>\n",
              "      <th>BsmtHalfBath</th>\n",
              "      <th>FullBath</th>\n",
              "      <th>HalfBath</th>\n",
              "      <th>BedroomAbvGr</th>\n",
              "      <th>KitchenAbvGr</th>\n",
              "      <th>KitchenQual</th>\n",
              "      <th>TotRmsAbvGrd</th>\n",
              "      <th>Functional</th>\n",
              "      <th>Fireplaces</th>\n",
              "      <th>FireplaceQu</th>\n",
              "      <th>GarageType</th>\n",
              "      <th>GarageYrBlt</th>\n",
              "      <th>GarageFinish</th>\n",
              "      <th>GarageCars</th>\n",
              "      <th>GarageArea</th>\n",
              "      <th>GarageQual</th>\n",
              "      <th>GarageCond</th>\n",
              "      <th>PavedDrive</th>\n",
              "      <th>WoodDeckSF</th>\n",
              "      <th>OpenPorchSF</th>\n",
              "      <th>EnclosedPorch</th>\n",
              "      <th>3SsnPorch</th>\n",
              "      <th>ScreenPorch</th>\n",
              "      <th>PoolArea</th>\n",
              "      <th>PoolQC</th>\n",
              "      <th>Fence</th>\n",
              "      <th>MiscFeature</th>\n",
              "      <th>MiscVal</th>\n",
              "      <th>MoSold</th>\n",
              "      <th>YrSold</th>\n",
              "      <th>SaleType</th>\n",
              "      <th>SaleCondition</th>\n",
              "      <th>SalePrice</th>\n",
              "    </tr>\n",
              "  </thead>\n",
              "  <tbody>\n",
              "    <tr>\n",
              "      <th>0</th>\n",
              "      <td>1</td>\n",
              "      <td>60</td>\n",
              "      <td>RL</td>\n",
              "      <td>65.0</td>\n",
              "      <td>8450</td>\n",
              "      <td>Pave</td>\n",
              "      <td>NaN</td>\n",
              "      <td>Reg</td>\n",
              "      <td>Lvl</td>\n",
              "      <td>AllPub</td>\n",
              "      <td>Inside</td>\n",
              "      <td>Gtl</td>\n",
              "      <td>CollgCr</td>\n",
              "      <td>Norm</td>\n",
              "      <td>Norm</td>\n",
              "      <td>1Fam</td>\n",
              "      <td>2Story</td>\n",
              "      <td>7</td>\n",
              "      <td>5</td>\n",
              "      <td>2003</td>\n",
              "      <td>2003</td>\n",
              "      <td>Gable</td>\n",
              "      <td>CompShg</td>\n",
              "      <td>VinylSd</td>\n",
              "      <td>VinylSd</td>\n",
              "      <td>BrkFace</td>\n",
              "      <td>196.0</td>\n",
              "      <td>Gd</td>\n",
              "      <td>TA</td>\n",
              "      <td>PConc</td>\n",
              "      <td>Gd</td>\n",
              "      <td>TA</td>\n",
              "      <td>No</td>\n",
              "      <td>GLQ</td>\n",
              "      <td>706</td>\n",
              "      <td>Unf</td>\n",
              "      <td>0</td>\n",
              "      <td>150</td>\n",
              "      <td>856</td>\n",
              "      <td>GasA</td>\n",
              "      <td>...</td>\n",
              "      <td>Y</td>\n",
              "      <td>SBrkr</td>\n",
              "      <td>856</td>\n",
              "      <td>854</td>\n",
              "      <td>0</td>\n",
              "      <td>1710</td>\n",
              "      <td>1</td>\n",
              "      <td>0</td>\n",
              "      <td>2</td>\n",
              "      <td>1</td>\n",
              "      <td>3</td>\n",
              "      <td>1</td>\n",
              "      <td>Gd</td>\n",
              "      <td>8</td>\n",
              "      <td>Typ</td>\n",
              "      <td>0</td>\n",
              "      <td>NaN</td>\n",
              "      <td>Attchd</td>\n",
              "      <td>2,003.0</td>\n",
              "      <td>RFn</td>\n",
              "      <td>2</td>\n",
              "      <td>548</td>\n",
              "      <td>TA</td>\n",
              "      <td>TA</td>\n",
              "      <td>Y</td>\n",
              "      <td>0</td>\n",
              "      <td>61</td>\n",
              "      <td>0</td>\n",
              "      <td>0</td>\n",
              "      <td>0</td>\n",
              "      <td>0</td>\n",
              "      <td>NaN</td>\n",
              "      <td>NaN</td>\n",
              "      <td>NaN</td>\n",
              "      <td>0</td>\n",
              "      <td>2</td>\n",
              "      <td>2008</td>\n",
              "      <td>WD</td>\n",
              "      <td>Normal</td>\n",
              "      <td>208500</td>\n",
              "    </tr>\n",
              "    <tr>\n",
              "      <th>1</th>\n",
              "      <td>2</td>\n",
              "      <td>20</td>\n",
              "      <td>RL</td>\n",
              "      <td>80.0</td>\n",
              "      <td>9600</td>\n",
              "      <td>Pave</td>\n",
              "      <td>NaN</td>\n",
              "      <td>Reg</td>\n",
              "      <td>Lvl</td>\n",
              "      <td>AllPub</td>\n",
              "      <td>FR2</td>\n",
              "      <td>Gtl</td>\n",
              "      <td>Veenker</td>\n",
              "      <td>Feedr</td>\n",
              "      <td>Norm</td>\n",
              "      <td>1Fam</td>\n",
              "      <td>1Story</td>\n",
              "      <td>6</td>\n",
              "      <td>8</td>\n",
              "      <td>1976</td>\n",
              "      <td>1976</td>\n",
              "      <td>Gable</td>\n",
              "      <td>CompShg</td>\n",
              "      <td>MetalSd</td>\n",
              "      <td>MetalSd</td>\n",
              "      <td>None</td>\n",
              "      <td>0.0</td>\n",
              "      <td>TA</td>\n",
              "      <td>TA</td>\n",
              "      <td>CBlock</td>\n",
              "      <td>Gd</td>\n",
              "      <td>TA</td>\n",
              "      <td>Gd</td>\n",
              "      <td>ALQ</td>\n",
              "      <td>978</td>\n",
              "      <td>Unf</td>\n",
              "      <td>0</td>\n",
              "      <td>284</td>\n",
              "      <td>1262</td>\n",
              "      <td>GasA</td>\n",
              "      <td>...</td>\n",
              "      <td>Y</td>\n",
              "      <td>SBrkr</td>\n",
              "      <td>1262</td>\n",
              "      <td>0</td>\n",
              "      <td>0</td>\n",
              "      <td>1262</td>\n",
              "      <td>0</td>\n",
              "      <td>1</td>\n",
              "      <td>2</td>\n",
              "      <td>0</td>\n",
              "      <td>3</td>\n",
              "      <td>1</td>\n",
              "      <td>TA</td>\n",
              "      <td>6</td>\n",
              "      <td>Typ</td>\n",
              "      <td>1</td>\n",
              "      <td>TA</td>\n",
              "      <td>Attchd</td>\n",
              "      <td>1,976.0</td>\n",
              "      <td>RFn</td>\n",
              "      <td>2</td>\n",
              "      <td>460</td>\n",
              "      <td>TA</td>\n",
              "      <td>TA</td>\n",
              "      <td>Y</td>\n",
              "      <td>298</td>\n",
              "      <td>0</td>\n",
              "      <td>0</td>\n",
              "      <td>0</td>\n",
              "      <td>0</td>\n",
              "      <td>0</td>\n",
              "      <td>NaN</td>\n",
              "      <td>NaN</td>\n",
              "      <td>NaN</td>\n",
              "      <td>0</td>\n",
              "      <td>5</td>\n",
              "      <td>2007</td>\n",
              "      <td>WD</td>\n",
              "      <td>Normal</td>\n",
              "      <td>181500</td>\n",
              "    </tr>\n",
              "    <tr>\n",
              "      <th>2</th>\n",
              "      <td>3</td>\n",
              "      <td>60</td>\n",
              "      <td>RL</td>\n",
              "      <td>68.0</td>\n",
              "      <td>11250</td>\n",
              "      <td>Pave</td>\n",
              "      <td>NaN</td>\n",
              "      <td>IR1</td>\n",
              "      <td>Lvl</td>\n",
              "      <td>AllPub</td>\n",
              "      <td>Inside</td>\n",
              "      <td>Gtl</td>\n",
              "      <td>CollgCr</td>\n",
              "      <td>Norm</td>\n",
              "      <td>Norm</td>\n",
              "      <td>1Fam</td>\n",
              "      <td>2Story</td>\n",
              "      <td>7</td>\n",
              "      <td>5</td>\n",
              "      <td>2001</td>\n",
              "      <td>2002</td>\n",
              "      <td>Gable</td>\n",
              "      <td>CompShg</td>\n",
              "      <td>VinylSd</td>\n",
              "      <td>VinylSd</td>\n",
              "      <td>BrkFace</td>\n",
              "      <td>162.0</td>\n",
              "      <td>Gd</td>\n",
              "      <td>TA</td>\n",
              "      <td>PConc</td>\n",
              "      <td>Gd</td>\n",
              "      <td>TA</td>\n",
              "      <td>Mn</td>\n",
              "      <td>GLQ</td>\n",
              "      <td>486</td>\n",
              "      <td>Unf</td>\n",
              "      <td>0</td>\n",
              "      <td>434</td>\n",
              "      <td>920</td>\n",
              "      <td>GasA</td>\n",
              "      <td>...</td>\n",
              "      <td>Y</td>\n",
              "      <td>SBrkr</td>\n",
              "      <td>920</td>\n",
              "      <td>866</td>\n",
              "      <td>0</td>\n",
              "      <td>1786</td>\n",
              "      <td>1</td>\n",
              "      <td>0</td>\n",
              "      <td>2</td>\n",
              "      <td>1</td>\n",
              "      <td>3</td>\n",
              "      <td>1</td>\n",
              "      <td>Gd</td>\n",
              "      <td>6</td>\n",
              "      <td>Typ</td>\n",
              "      <td>1</td>\n",
              "      <td>TA</td>\n",
              "      <td>Attchd</td>\n",
              "      <td>2,001.0</td>\n",
              "      <td>RFn</td>\n",
              "      <td>2</td>\n",
              "      <td>608</td>\n",
              "      <td>TA</td>\n",
              "      <td>TA</td>\n",
              "      <td>Y</td>\n",
              "      <td>0</td>\n",
              "      <td>42</td>\n",
              "      <td>0</td>\n",
              "      <td>0</td>\n",
              "      <td>0</td>\n",
              "      <td>0</td>\n",
              "      <td>NaN</td>\n",
              "      <td>NaN</td>\n",
              "      <td>NaN</td>\n",
              "      <td>0</td>\n",
              "      <td>9</td>\n",
              "      <td>2008</td>\n",
              "      <td>WD</td>\n",
              "      <td>Normal</td>\n",
              "      <td>223500</td>\n",
              "    </tr>\n",
              "  </tbody>\n",
              "</table>\n",
              "<p>3 rows × 81 columns</p>\n",
              "</div>"
            ],
            "text/plain": [
              "   Id  MSSubClass MSZoning  ...  SaleType  SaleCondition SalePrice\n",
              "0   1          60       RL  ...        WD         Normal    208500\n",
              "1   2          20       RL  ...        WD         Normal    181500\n",
              "2   3          60       RL  ...        WD         Normal    223500\n",
              "\n",
              "[3 rows x 81 columns]"
            ]
          },
          "metadata": {
            "tags": []
          },
          "execution_count": 7
        }
      ]
    },
    {
      "cell_type": "code",
      "metadata": {
        "colab": {
          "base_uri": "https://localhost:8080/"
        },
        "id": "28DnxhMZkcEn",
        "outputId": "a04e40f1-d26f-4a8d-94a3-060b8855b727"
      },
      "source": [
        "df['SalePrice'].describe()"
      ],
      "execution_count": null,
      "outputs": [
        {
          "output_type": "execute_result",
          "data": {
            "text/plain": [
              "count     1,460.0\n",
              "mean    180,921.2\n",
              "std      79,442.5\n",
              "min      34,900.0\n",
              "25%     129,975.0\n",
              "50%     163,000.0\n",
              "75%     214,000.0\n",
              "max     755,000.0\n",
              "Name: SalePrice, dtype: float64"
            ]
          },
          "metadata": {
            "tags": []
          },
          "execution_count": 9
        }
      ]
    },
    {
      "cell_type": "markdown",
      "metadata": {
        "id": "_PjS6lzKMLJz"
      },
      "source": [
        "## **Split Test Data & Train Data**"
      ]
    },
    {
      "cell_type": "code",
      "metadata": {
        "id": "B6tGEBuLMPs3"
      },
      "source": [
        "# test 데이터와 train 데이터 분리\r\n",
        "from sklearn.model_selection import train_test_split\r\n",
        "df_train, df_test = train_test_split(df, test_size = 0.2)\r\n",
        "for i in df_train, df_test : i=i.reset_index(inplace=True,drop=True)"
      ],
      "execution_count": null,
      "outputs": []
    },
    {
      "cell_type": "code",
      "metadata": {
        "colab": {
          "base_uri": "https://localhost:8080/"
        },
        "id": "Lt7ZttFHMk0G",
        "outputId": "60a31c61-1a56-4d27-dd67-e45e2e628862"
      },
      "source": [
        "# df가 잘 분리되었는지 확인\r\n",
        "print(df_train.count().sum())\r\n",
        "print(df_test.count().sum())"
      ],
      "execution_count": null,
      "outputs": [
        {
          "output_type": "stream",
          "text": [
            "89052\n",
            "22243\n"
          ],
          "name": "stdout"
        }
      ]
    },
    {
      "cell_type": "code",
      "metadata": {
        "colab": {
          "base_uri": "https://localhost:8080/",
          "height": 155
        },
        "id": "XcX7eoRiRgeL",
        "outputId": "e8affb46-5017-4acc-9171-4c7e863d07c6"
      },
      "source": [
        "df_train.head(2)"
      ],
      "execution_count": null,
      "outputs": [
        {
          "output_type": "execute_result",
          "data": {
            "text/html": [
              "<div>\n",
              "<style scoped>\n",
              "    .dataframe tbody tr th:only-of-type {\n",
              "        vertical-align: middle;\n",
              "    }\n",
              "\n",
              "    .dataframe tbody tr th {\n",
              "        vertical-align: top;\n",
              "    }\n",
              "\n",
              "    .dataframe thead th {\n",
              "        text-align: right;\n",
              "    }\n",
              "</style>\n",
              "<table border=\"1\" class=\"dataframe\">\n",
              "  <thead>\n",
              "    <tr style=\"text-align: right;\">\n",
              "      <th></th>\n",
              "      <th>Id</th>\n",
              "      <th>MSSubClass</th>\n",
              "      <th>MSZoning</th>\n",
              "      <th>LotFrontage</th>\n",
              "      <th>LotArea</th>\n",
              "      <th>Street</th>\n",
              "      <th>Alley</th>\n",
              "      <th>LotShape</th>\n",
              "      <th>LandContour</th>\n",
              "      <th>Utilities</th>\n",
              "      <th>LotConfig</th>\n",
              "      <th>LandSlope</th>\n",
              "      <th>Neighborhood</th>\n",
              "      <th>Condition1</th>\n",
              "      <th>Condition2</th>\n",
              "      <th>BldgType</th>\n",
              "      <th>HouseStyle</th>\n",
              "      <th>OverallQual</th>\n",
              "      <th>OverallCond</th>\n",
              "      <th>YearBuilt</th>\n",
              "      <th>YearRemodAdd</th>\n",
              "      <th>RoofStyle</th>\n",
              "      <th>RoofMatl</th>\n",
              "      <th>Exterior1st</th>\n",
              "      <th>Exterior2nd</th>\n",
              "      <th>MasVnrType</th>\n",
              "      <th>MasVnrArea</th>\n",
              "      <th>ExterQual</th>\n",
              "      <th>ExterCond</th>\n",
              "      <th>Foundation</th>\n",
              "      <th>BsmtQual</th>\n",
              "      <th>BsmtCond</th>\n",
              "      <th>BsmtExposure</th>\n",
              "      <th>BsmtFinType1</th>\n",
              "      <th>BsmtFinSF1</th>\n",
              "      <th>BsmtFinType2</th>\n",
              "      <th>BsmtFinSF2</th>\n",
              "      <th>BsmtUnfSF</th>\n",
              "      <th>TotalBsmtSF</th>\n",
              "      <th>Heating</th>\n",
              "      <th>...</th>\n",
              "      <th>CentralAir</th>\n",
              "      <th>Electrical</th>\n",
              "      <th>1stFlrSF</th>\n",
              "      <th>2ndFlrSF</th>\n",
              "      <th>LowQualFinSF</th>\n",
              "      <th>GrLivArea</th>\n",
              "      <th>BsmtFullBath</th>\n",
              "      <th>BsmtHalfBath</th>\n",
              "      <th>FullBath</th>\n",
              "      <th>HalfBath</th>\n",
              "      <th>BedroomAbvGr</th>\n",
              "      <th>KitchenAbvGr</th>\n",
              "      <th>KitchenQual</th>\n",
              "      <th>TotRmsAbvGrd</th>\n",
              "      <th>Functional</th>\n",
              "      <th>Fireplaces</th>\n",
              "      <th>FireplaceQu</th>\n",
              "      <th>GarageType</th>\n",
              "      <th>GarageYrBlt</th>\n",
              "      <th>GarageFinish</th>\n",
              "      <th>GarageCars</th>\n",
              "      <th>GarageArea</th>\n",
              "      <th>GarageQual</th>\n",
              "      <th>GarageCond</th>\n",
              "      <th>PavedDrive</th>\n",
              "      <th>WoodDeckSF</th>\n",
              "      <th>OpenPorchSF</th>\n",
              "      <th>EnclosedPorch</th>\n",
              "      <th>3SsnPorch</th>\n",
              "      <th>ScreenPorch</th>\n",
              "      <th>PoolArea</th>\n",
              "      <th>PoolQC</th>\n",
              "      <th>Fence</th>\n",
              "      <th>MiscFeature</th>\n",
              "      <th>MiscVal</th>\n",
              "      <th>MoSold</th>\n",
              "      <th>YrSold</th>\n",
              "      <th>SaleType</th>\n",
              "      <th>SaleCondition</th>\n",
              "      <th>SalePrice</th>\n",
              "    </tr>\n",
              "  </thead>\n",
              "  <tbody>\n",
              "    <tr>\n",
              "      <th>0</th>\n",
              "      <td>1433</td>\n",
              "      <td>30</td>\n",
              "      <td>RL</td>\n",
              "      <td>60.0</td>\n",
              "      <td>10800</td>\n",
              "      <td>Pave</td>\n",
              "      <td>Grvl</td>\n",
              "      <td>Reg</td>\n",
              "      <td>Lvl</td>\n",
              "      <td>AllPub</td>\n",
              "      <td>Inside</td>\n",
              "      <td>Gtl</td>\n",
              "      <td>OldTown</td>\n",
              "      <td>Norm</td>\n",
              "      <td>Norm</td>\n",
              "      <td>1Fam</td>\n",
              "      <td>1Story</td>\n",
              "      <td>4</td>\n",
              "      <td>6</td>\n",
              "      <td>1927</td>\n",
              "      <td>2007</td>\n",
              "      <td>Gable</td>\n",
              "      <td>CompShg</td>\n",
              "      <td>Wd Sdng</td>\n",
              "      <td>Wd Sdng</td>\n",
              "      <td>None</td>\n",
              "      <td>0.0</td>\n",
              "      <td>TA</td>\n",
              "      <td>TA</td>\n",
              "      <td>BrkTil</td>\n",
              "      <td>TA</td>\n",
              "      <td>TA</td>\n",
              "      <td>No</td>\n",
              "      <td>Unf</td>\n",
              "      <td>0</td>\n",
              "      <td>Unf</td>\n",
              "      <td>0</td>\n",
              "      <td>656</td>\n",
              "      <td>656</td>\n",
              "      <td>GasA</td>\n",
              "      <td>...</td>\n",
              "      <td>Y</td>\n",
              "      <td>SBrkr</td>\n",
              "      <td>968</td>\n",
              "      <td>0</td>\n",
              "      <td>0</td>\n",
              "      <td>968</td>\n",
              "      <td>0</td>\n",
              "      <td>0</td>\n",
              "      <td>2</td>\n",
              "      <td>0</td>\n",
              "      <td>4</td>\n",
              "      <td>1</td>\n",
              "      <td>TA</td>\n",
              "      <td>5</td>\n",
              "      <td>Typ</td>\n",
              "      <td>0</td>\n",
              "      <td>NaN</td>\n",
              "      <td>Detchd</td>\n",
              "      <td>1,928.0</td>\n",
              "      <td>Unf</td>\n",
              "      <td>1</td>\n",
              "      <td>216</td>\n",
              "      <td>Fa</td>\n",
              "      <td>Fa</td>\n",
              "      <td>Y</td>\n",
              "      <td>0</td>\n",
              "      <td>0</td>\n",
              "      <td>0</td>\n",
              "      <td>0</td>\n",
              "      <td>0</td>\n",
              "      <td>0</td>\n",
              "      <td>NaN</td>\n",
              "      <td>NaN</td>\n",
              "      <td>NaN</td>\n",
              "      <td>0</td>\n",
              "      <td>8</td>\n",
              "      <td>2007</td>\n",
              "      <td>WD</td>\n",
              "      <td>Normal</td>\n",
              "      <td>64500</td>\n",
              "    </tr>\n",
              "    <tr>\n",
              "      <th>1</th>\n",
              "      <td>1156</td>\n",
              "      <td>20</td>\n",
              "      <td>RL</td>\n",
              "      <td>90.0</td>\n",
              "      <td>10768</td>\n",
              "      <td>Pave</td>\n",
              "      <td>NaN</td>\n",
              "      <td>IR1</td>\n",
              "      <td>Lvl</td>\n",
              "      <td>AllPub</td>\n",
              "      <td>Corner</td>\n",
              "      <td>Gtl</td>\n",
              "      <td>Veenker</td>\n",
              "      <td>Norm</td>\n",
              "      <td>Norm</td>\n",
              "      <td>1Fam</td>\n",
              "      <td>1Story</td>\n",
              "      <td>5</td>\n",
              "      <td>8</td>\n",
              "      <td>1976</td>\n",
              "      <td>2004</td>\n",
              "      <td>Gable</td>\n",
              "      <td>CompShg</td>\n",
              "      <td>Plywood</td>\n",
              "      <td>Plywood</td>\n",
              "      <td>None</td>\n",
              "      <td>0.0</td>\n",
              "      <td>Gd</td>\n",
              "      <td>Gd</td>\n",
              "      <td>CBlock</td>\n",
              "      <td>Gd</td>\n",
              "      <td>TA</td>\n",
              "      <td>Gd</td>\n",
              "      <td>ALQ</td>\n",
              "      <td>1157</td>\n",
              "      <td>Unf</td>\n",
              "      <td>0</td>\n",
              "      <td>280</td>\n",
              "      <td>1437</td>\n",
              "      <td>GasA</td>\n",
              "      <td>...</td>\n",
              "      <td>Y</td>\n",
              "      <td>SBrkr</td>\n",
              "      <td>1437</td>\n",
              "      <td>0</td>\n",
              "      <td>0</td>\n",
              "      <td>1437</td>\n",
              "      <td>1</td>\n",
              "      <td>0</td>\n",
              "      <td>2</td>\n",
              "      <td>0</td>\n",
              "      <td>3</td>\n",
              "      <td>1</td>\n",
              "      <td>Gd</td>\n",
              "      <td>6</td>\n",
              "      <td>Typ</td>\n",
              "      <td>1</td>\n",
              "      <td>Fa</td>\n",
              "      <td>Attchd</td>\n",
              "      <td>1,976.0</td>\n",
              "      <td>RFn</td>\n",
              "      <td>2</td>\n",
              "      <td>528</td>\n",
              "      <td>TA</td>\n",
              "      <td>TA</td>\n",
              "      <td>Y</td>\n",
              "      <td>0</td>\n",
              "      <td>21</td>\n",
              "      <td>0</td>\n",
              "      <td>0</td>\n",
              "      <td>180</td>\n",
              "      <td>0</td>\n",
              "      <td>NaN</td>\n",
              "      <td>NaN</td>\n",
              "      <td>NaN</td>\n",
              "      <td>0</td>\n",
              "      <td>7</td>\n",
              "      <td>2007</td>\n",
              "      <td>WD</td>\n",
              "      <td>Normal</td>\n",
              "      <td>218000</td>\n",
              "    </tr>\n",
              "  </tbody>\n",
              "</table>\n",
              "<p>2 rows × 81 columns</p>\n",
              "</div>"
            ],
            "text/plain": [
              "     Id  MSSubClass MSZoning  ...  SaleType  SaleCondition SalePrice\n",
              "0  1433          30       RL  ...        WD         Normal     64500\n",
              "1  1156          20       RL  ...        WD         Normal    218000\n",
              "\n",
              "[2 rows x 81 columns]"
            ]
          },
          "metadata": {
            "tags": []
          },
          "execution_count": 15
        }
      ]
    },
    {
      "cell_type": "markdown",
      "metadata": {
        "id": "LN8JmCtzlPia"
      },
      "source": [
        "## **Find Outliers - Using Baseline Model** "
      ]
    },
    {
      "cell_type": "code",
      "metadata": {
        "colab": {
          "base_uri": "https://localhost:8080/",
          "height": 386
        },
        "id": "YUoFNjx0k0aJ",
        "outputId": "53d624ec-79a4-4a79-b7e0-47fe0c49bad4"
      },
      "source": [
        "## 확률밀도함수\r\n",
        "sns.displot(df_train['SalePrice'])\r\n",
        "\r\n",
        "#평균과 중간값 수직선\r\n",
        "plt.axvline(df_train['SalePrice'].mean(),color='red')\r\n",
        "plt.axvline(df_train['SalePrice'].median(),color='yellow')"
      ],
      "execution_count": null,
      "outputs": [
        {
          "output_type": "execute_result",
          "data": {
            "text/plain": [
              "<matplotlib.lines.Line2D at 0x7f033b541310>"
            ]
          },
          "metadata": {
            "tags": []
          },
          "execution_count": 16
        },
        {
          "output_type": "display_data",
          "data": {
            "image/png": "[encoded data removed]",
            "text/plain": [
              "<Figure size 360x360 with 1 Axes>"
            ]
          },
          "metadata": {
            "tags": [],
            "needs_background": "light"
          }
        }
      ]
    },
    {
      "cell_type": "markdown",
      "metadata": {
        "id": "km4yEIzWo8hg"
      },
      "source": [
        " **(1) Mean값 활용해 간단한 기준모델 구현 - 결과 : 선형 데이터의 특성을 읽지 못하며 오류가 매우 큼**"
      ]
    },
    {
      "cell_type": "code",
      "metadata": {
        "colab": {
          "base_uri": "https://localhost:8080/",
          "height": 458
        },
        "id": "4sA94k79mNYV",
        "outputId": "92320ea9-d646-4049-e4af-1192c77ec2fb"
      },
      "source": [
        "pred = df_train['SalePrice'].mean()\r\n",
        "error = pred - df_train['SalePrice']\r\n",
        "mae = error.abs().mean()\r\n",
        "\r\n",
        "sns.scatterplot(df_train['GrLivArea'],df_train['SalePrice'])\r\n",
        "sns.lineplot(df_train['GrLivArea'],pred)"
      ],
      "execution_count": null,
      "outputs": [
        {
          "output_type": "stream",
          "text": [
            "/usr/local/lib/python3.7/dist-packages/seaborn/_decorators.py:43: FutureWarning:\n",
            "\n",
            "Pass the following variables as keyword args: x, y. From version 0.12, the only valid positional argument will be `data`, and passing other arguments without an explicit keyword will result in an error or misinterpretation.\n",
            "\n",
            "/usr/local/lib/python3.7/dist-packages/seaborn/_decorators.py:43: FutureWarning:\n",
            "\n",
            "Pass the following variables as keyword args: x, y. From version 0.12, the only valid positional argument will be `data`, and passing other arguments without an explicit keyword will result in an error or misinterpretation.\n",
            "\n"
          ],
          "name": "stderr"
        },
        {
          "output_type": "execute_result",
          "data": {
            "text/plain": [
              "<matplotlib.axes._subplots.AxesSubplot at 0x7f032d0fe5d0>"
            ]
          },
          "metadata": {
            "tags": []
          },
          "execution_count": 17
        },
        {
          "output_type": "display_data",
          "data": {
            "image/png": "[encoded data removed]",
            "text/plain": [
              "<Figure size 432x288 with 1 Axes>"
            ]
          },
          "metadata": {
            "tags": [],
            "needs_background": "light"
          }
        }
      ]
    },
    {
      "cell_type": "markdown",
      "metadata": {
        "id": "rat3RV7ppC18"
      },
      "source": [
        "**(2) 단순선형회귀**"
      ]
    },
    {
      "cell_type": "code",
      "metadata": {
        "colab": {
          "base_uri": "https://localhost:8080/",
          "height": 403
        },
        "id": "etdr5cWcoXOw",
        "outputId": "78354b12-d021-46c6-8d2c-4b854a52c758"
      },
      "source": [
        "sns.regplot(df_train['GrLivArea'],df_train['SalePrice']).set_title('House Price')"
      ],
      "execution_count": null,
      "outputs": [
        {
          "output_type": "stream",
          "text": [
            "/usr/local/lib/python3.7/dist-packages/seaborn/_decorators.py:43: FutureWarning:\n",
            "\n",
            "Pass the following variables as keyword args: x, y. From version 0.12, the only valid positional argument will be `data`, and passing other arguments without an explicit keyword will result in an error or misinterpretation.\n",
            "\n"
          ],
          "name": "stderr"
        },
        {
          "output_type": "execute_result",
          "data": {
            "text/plain": [
              "Text(0.5, 1.0, 'House Price')"
            ]
          },
          "metadata": {
            "tags": []
          },
          "execution_count": 18
        },
        {
          "output_type": "display_data",
          "data": {
            "image/png": "[encoded data removed]",
            "text/plain": [
              "<Figure size 432x288 with 1 Axes>"
            ]
          },
          "metadata": {
            "tags": [],
            "needs_background": "light"
          }
        }
      ]
    },
    {
      "cell_type": "code",
      "metadata": {
        "colab": {
          "base_uri": "https://localhost:8080/"
        },
        "id": "WZvu3_sbo3Ja",
        "outputId": "08dcd503-0cb3-43bc-a55f-71064d48670a"
      },
      "source": [
        "# 선형회귀모델 인스턴스\r\n",
        "lr=LinearRegression()\r\n",
        "\r\n",
        "feature=['GrLivArea']\r\n",
        "target=['SalePrice']\r\n",
        "\r\n",
        "X_train, X_test=df_train[feature], df_test[feature]\r\n",
        "y_train, y_test=df_train[target], df_test[target]\r\n",
        "\r\n",
        "lr.fit(X_train, y_train)"
      ],
      "execution_count": null,
      "outputs": [
        {
          "output_type": "execute_result",
          "data": {
            "text/plain": [
              "LinearRegression(copy_X=True, fit_intercept=True, n_jobs=None, normalize=False)"
            ]
          },
          "metadata": {
            "tags": []
          },
          "execution_count": 19
        }
      ]
    },
    {
      "cell_type": "code",
      "metadata": {
        "colab": {
          "base_uri": "https://localhost:8080/"
        },
        "id": "KHtGDy26qjuc",
        "outputId": "364c69ae-1a67-4992-b776-f0c3d3383598"
      },
      "source": [
        "# 새로운 target값으로 예측\r\n",
        "pred=lr.predict([[4000]])\r\n",
        "print('GrLivArea가 4000일 때 예측값 : ',pred.round(2))"
      ],
      "execution_count": null,
      "outputs": [
        {
          "output_type": "stream",
          "text": [
            "GrLivArea가 4000일 때 예측값 :  [[457397.21]]\n"
          ],
          "name": "stdout"
        }
      ]
    },
    {
      "cell_type": "code",
      "metadata": {
        "colab": {
          "base_uri": "https://localhost:8080/",
          "height": 282
        },
        "id": "qosNL4sWrnCK",
        "outputId": "9da5e7d8-dc10-4d8e-88cb-8bc9aa697032"
      },
      "source": [
        "# 실제 X_test값으로 예측\r\n",
        "pred=lr.predict(X_test)\r\n",
        "plt.scatter(X_train,y_train)\r\n",
        "plt.scatter(X_test,pred)"
      ],
      "execution_count": null,
      "outputs": [
        {
          "output_type": "execute_result",
          "data": {
            "text/plain": [
              "<matplotlib.collections.PathCollection at 0x7f032c37f750>"
            ]
          },
          "metadata": {
            "tags": []
          },
          "execution_count": 22
        },
        {
          "output_type": "display_data",
          "data": {
            "image/png": "[encoded data removed]",
            "text/plain": [
              "<Figure size 432x288 with 1 Axes>"
            ]
          },
          "metadata": {
            "tags": [],
            "needs_background": "light"
          }
        }
      ]
    },
    {
      "cell_type": "code",
      "metadata": {
        "colab": {
          "base_uri": "https://localhost:8080/"
        },
        "id": "PZ81V5MEJHZT",
        "outputId": "1ad050ca-7325-4b6f-bb3f-1d0721d8a126"
      },
      "source": [
        "#mae 확인\r\n",
        "mae = mean_absolute_error(y_test, pred)\r\n",
        "print('mae: ',mae)"
      ],
      "execution_count": null,
      "outputs": [
        {
          "output_type": "stream",
          "text": [
            "mae:  39497.38011523304\n"
          ],
          "name": "stdout"
        }
      ]
    },
    {
      "cell_type": "code",
      "metadata": {
        "colab": {
          "base_uri": "https://localhost:8080/"
        },
        "id": "_U9-XloUsVeP",
        "outputId": "c1434234-7b88-4729-c40d-4a564136248c"
      },
      "source": [
        "# Coefficients & intercept(절편: 독립변수가 모두 0일때 종속변수 y 값)\r\n",
        "print(lr.coef_, lr.intercept_) "
      ],
      "execution_count": null,
      "outputs": [
        {
          "output_type": "stream",
          "text": [
            "[[110.66740979]] [14727.57127662]\n"
          ],
          "name": "stdout"
        }
      ]
    },
    {
      "cell_type": "markdown",
      "metadata": {
        "id": "RJMf8gv7Ijwn"
      },
      "source": [
        "**(2) 다중선형회귀 활용**"
      ]
    },
    {
      "cell_type": "code",
      "metadata": {
        "colab": {
          "base_uri": "https://localhost:8080/",
          "height": 489
        },
        "id": "C-YrS0O0NgFK",
        "outputId": "5b4ab712-49ed-4069-bea5-246bc48c8069"
      },
      "source": [
        "#OverallQual 특성을 추가해 분석 - 그래프 (1)\r\n",
        "feature = ['GrLivArea','OverallQual']\r\n",
        "style.use('seaborn-talk')\r\n",
        "\r\n",
        "ax=plt.figure().gca(projection='3d')\r\n",
        "ax.scatter(df_train[feature[0]], df_train[feature[1]], df_train[target])\r\n",
        "ax.set_xlabel(feature[0],labelpad=15) #라벨 간격\r\n",
        "ax.set_ylabel(feature[1], labelpad=10)\r\n",
        "ax.set_zlabel(target[0], labelpad=15)\r\n",
        "\r\n",
        "plt.suptitle('House Price', fontsize=20)"
      ],
      "execution_count": null,
      "outputs": [
        {
          "output_type": "execute_result",
          "data": {
            "text/plain": [
              "Text(0.5, 0.98, 'House Price')"
            ]
          },
          "metadata": {
            "tags": []
          },
          "execution_count": 27
        },
        {
          "output_type": "display_data",
          "data": {
            "image/png": "[encoded data removed]",
            "text/plain": [
              "<Figure size 748.8x514.8 with 1 Axes>"
            ]
          },
          "metadata": {
            "tags": [],
            "needs_background": "light"
          }
        }
      ]
    },
    {
      "cell_type": "code",
      "metadata": {
        "id": "jhP0-mo3QIQh",
        "colab": {
          "base_uri": "https://localhost:8080/",
          "height": 542
        },
        "outputId": "6e1e4e21-0c52-40d3-a19b-bb5795c5c14e"
      },
      "source": [
        "#OverallQual 특성을 추가해 분석 - 그래프 (2)\r\n",
        "px.scatter_3d(df_train, x='GrLivArea', y='OverallQual', z='SalePrice',title='House Price')"
      ],
      "execution_count": null,
      "outputs": [
        {
          "output_type": "display_data",
          "data": {
            "text/html": [
              "<html>\n",
              "<head><meta charset=\"utf-8\" /></head>\n",
              "<body>\n",
              "    <div>\n",
              "            <script src=\"https://cdnjs.cloudflare.com/ajax/libs/mathjax/2.7.5/MathJax.js?config=TeX-AMS-MML_SVG\"></script><script type=\"text/javascript\">if (window.MathJax) {MathJax.Hub.Config({SVG: {font: \"STIX-Web\"}});}</script>\n",
              "                <script type=\"text/javascript\">window.PlotlyConfig = {MathJaxConfig: 'local'};</script>\n",
              "        <script src=\"https://cdn.plot.ly/plotly-latest.min.js\"></script>    \n",
              "            <div id=\"e7828dc4-5896-4c55-b685-1f845c7c4ac1\" class=\"plotly-graph-div\" style=\"height:525px; width:100%;\"></div>\n",
              "            <script type=\"text/javascript\">\n",
              "                \n",
              "                    window.PLOTLYENV=window.PLOTLYENV || {};\n",
              "                    \n",
              "                if (document.getElementById(\"e7828dc4-5896-4c55-b685-1f845c7c4ac1\")) {\n",
              "                    Plotly.newPlot(\n",
              "                        'e7828dc4-5896-4c55-b685-1f845c7c4ac1',\n",
              "                        [{\"hoverlabel\": {\"namelength\": 0}, \"hovertemplate\": \"GrLivArea=%{x}<br>OverallQual=%{y}<br>SalePrice=%{z}\", \"legendgroup\": \"\", \"marker\": {\"color\": \"#636efa\", \"symbol\": \"circle\"}, \"mode\": \"markers\", \"name\": \"\", \"scene\": \"scene\", \"showlegend\": false, \"type\": \"scatter3d\", \"x\": [968, 1437, 858, 1541, 988, 996, 2448, 1065, 1656, 1392, 2110, 1487, 1547, 864, 1310, 1252, 1097, 1775, 1656, 1357, 848, 1476, 1486, 1756, 1067, 2060, 1054, 2473, 987, 1041, 1482, 1364, 1640, 1960, 2113, 1056, 1340, 1412, 1431, 858, 1224, 1472, 987, 1060, 1113, 1114, 1264, 960, 1797, 1044, 1494, 1572, 918, 1383, 1074, 1694, 2060, 894, 1700, 848, 1148, 2337, 1621, 1846, 1710, 1516, 1552, 1744, 1113, 1659, 1742, 2054, 1456, 864, 2468, 848, 2945, 813, 1040, 1338, 960, 1716, 1992, 1788, 1230, 892, 864, 1221, 1285, 951, 1040, 1344, 1276, 2080, 2640, 907, 2601, 1214, 1796, 2482, 1588, 1604, 1494, 2153, 2364, 2730, 1479, 2263, 1504, 1524, 1601, 1456, 1125, 1680, 1092, 1441, 833, 1212, 2084, 943, 854, 996, 1040, 1710, 1365, 1034, 1072, 1983, 1314, 2097, 1520, 1112, 1348, 1252, 1478, 1464, 2270, 1414, 1634, 1552, 860, 1886, 1478, 1694, 1660, 1818, 1868, 2713, 1688, 1582, 1632, 1279, 1933, 1973, 1294, 792, 1458, 1513, 2810, 1056, 1664, 1567, 1419, 1469, 1668, 1564, 894, 912, 1541, 1304, 1836, 1386, 2223, 1130, 912, 1728, 825, 892, 1768, 1505, 1800, 1167, 1220, 2046, 1574, 1657, 1734, 1993, 2614, 2633, 1428, 1784, 1839, 1473, 1392, 1134, 1422, 864, 1034, 1350, 1440, 1636, 1525, 2007, 1720, 1452, 1750, 1372, 1092, 1588, 1675, 1852, 630, 1912, 1053, 630, 864, 1869, 1196, 1976, 1936, 1344, 1500, 1063, 1496, 1052, 1339, 1252, 1652, 2207, 1180, 925, 1708, 1733, 2098, 2574, 1795, 1571, 1792, 1382, 1301, 1668, 1762, 1800, 1620, 900, 1829, 1520, 1523, 1123, 1630, 1752, 1572, 1595, 1828, 964, 1511, 1574, 924, 1924, 1720, 1116, 1452, 2000, 1068, 1416, 720, 1803, 1689, 848, 1682, 2868, 875, 1787, 985, 1728, 1600, 1959, 1048, 2121, 1108, 2236, 1344, 1092, 2062, 816, 864, 1004, 974, 1294, 1725, 1968, 1048, 1699, 1792, 2353, 1721, 1968, 1225, 2031, 1964, 1395, 1015, 2090, 1456, 2285, 1656, 1128, 952, 1266, 780, 2156, 864, 2291, 1352, 1580, 2224, 1334, 2080, 882, 1509, 1362, 1640, 1986, 1392, 1336, 1494, 1479, 936, 2634, 1004, 1077, 1221, 1118, 1086, 1661, 768, 1786, 2380, 1378, 987, 840, 1164, 990, 1908, 1412, 2418, 2108, 1234, 1548, 1426, 912, 1154, 2267, 754, 1167, 1173, 1375, 334, 2087, 3279, 1178, 1080, 1208, 1056, 1716, 1593, 894, 1235, 1734, 1802, 1683, 2013, 848, 1564, 835, 1840, 1247, 1368, 1336, 1953, 1518, 1414, 1436, 1412, 1586, 1600, 1456, 1482, 1739, 2008, 1040, 2374, 1319, 1509, 789, 2084, 1382, 1302, 904, 1668, 1716, 864, 1350, 1355, 1100, 1431, 3238, 1792, 912, 1684, 1674, 804, 1512, 520, 1190, 1603, 2526, 1216, 1558, 1504, 864, 1629, 999, 2127, 1136, 1466, 1689, 980, 1888, 796, 1848, 1262, 1635, 2210, 1376, 1368, 1252, 773, 1092, 1128, 1248, 2295, 1464, 2217, 1200, 2201, 1743, 1251, 932, 960, 845, 1077, 1530, 2599, 1704, 1324, 1382, 1556, 1717, 480, 1661, 1482, 1779, 2450, 1164, 1072, 1713, 1948, 1728, 2417, 1392, 1073, 438, 1742, 1109, 720, 1641, 1200, 1774, 1626, 1183, 1078, 3608, 1920, 2978, 1728, 708, 1852, 1430, 1710, 1344, 2094, 1082, 864, 1710, 1644, 1466, 1040, 1287, 1647, 1872, 1557, 1092, 1555, 605, 2531, 1826, 1040, 788, 827, 1262, 1558, 2157, 1393, 1132, 1194, 1144, 1200, 1724, 1991, 1441, 1349, 1776, 2822, 3086, 1507, 1484, 1718, 1271, 1664, 971, 1317, 864, 1950, 1176, 2192, 841, 1466, 1616, 1246, 912, 858, 1057, 1432, 1522, 1839, 1003, 1400, 1647, 1102, 928, 1573, 1362, 886, 1362, 1121, 1658, 1962, 1629, 1496, 2020, 2704, 1261, 1256, 2046, 2158, 1456, 1212, 1721, 958, 1440, 1820, 1442, 1095, 1479, 1584, 1181, 1131, 1954, 1709, 1343, 864, 2132, 1355, 1644, 2169, 999, 948, 1919, 1131, 1939, 1148, 1646, 1050, 1268, 1360, 1652, 1663, 1928, 816, 1283, 1241, 930, 1505, 1500, 1296, 864, 864, 1248, 2358, 1940, 1098, 1073, 2447, 1456, 893, 1944, 1320, 784, 1250, 784, 2646, 1969, 1679, 3627, 1218, 958, 1575, 1656, 1078, 2668, 1277, 1086, 1517, 2620, 1694, 1309, 2555, 987, 1475, 1626, 1692, 1776, 774, 1192, 1867, 2161, 894, 1740, 1152, 999, 912, 1550, 1391, 4476, 1244, 1419, 1691, 1394, 1533, 1665, 1719, 2234, 720, 1498, 1895, 864, 1654, 1422, 2872, 693, 1959, 1232, 958, 1092, 1698, 1200, 1228, 1647, 1232, 1203, 1253, 2240, 1118, 972, 672, 1114, 1804, 1576, 1060, 1117, 2149, 1922, 698, 864, 1548, 1302, 2020, 2126, 1726, 1047, 2462, 1502, 1184, 1768, 1477, 2358, 1204, 1502, 1856, 1302, 1242, 874, 1709, 1337, 935, 2398, 955, 1268, 1524, 1344, 1229, 1268, 2243, 1625, 1144, 2019, 1381, 2069, 1224, 1474, 1176, 1370, 1573, 1709, 2728, 864, 1224, 2117, 1442, 1240, 1121, 1646, 1484, 816, 2344, 1347, 1126, 912, 1913, 1610, 1200, 1981, 1054, 1228, 848, 1375, 1638, 1539, 1844, 1040, 1484, 1088, 1144, 1052, 1426, 1382, 1510, 1159, 2002, 1368, 2136, 1801, 1442, 1724, 767, 1122, 1134, 1601, 1556, 2256, 1096, 1577, 1324, 1509, 2198, 1008, 1348, 1302, 1674, 1530, 2172, 1604, 910, 2073, 1472, 1792, 970, 1593, 1826, 1553, 902, 1506, 1253, 768, 1363, 969, 1306, 948, 1002, 1908, 1344, 954, 1126, 1301, 2521, 1666, 1069, 1646, 935, 1964, 1208, 1620, 990, 1728, 1194, 1795, 1416, 1525, 1360, 1026, 1346, 1188, 1982, 1494, 2320, 1339, 1178, 1600, 1306, 630, 1811, 1040, 1768, 1573, 1536, 1211, 1601, 1040, 1430, 1958, 1387, 2612, 1920, 1005, 1306, 2775, 1456, 2596, 1971, 630, 1920, 2320, 832, 1218, 900, 1504, 1337, 1056, 1567, 1022, 2514, 833, 1363, 1416, 1537, 1987, 1374, 848, 2376, 1314, 988, 1489, 1555, 4316, 1566, 803, 1434, 1269, 864, 2196, 2345, 752, 1970, 1501, 1865, 2332, 2365, 1053, 1437, 2872, 1812, 914, 2291, 1710, 2715, 1839, 1370, 816, 2654, 1077, 1652, 800, 1352, 1716, 1489, 1800, 2144, 1040, 1732, 1733, 1561, 1471, 1199, 1932, 630, 1611, 1717, 912, 1788, 1446, 1376, 2119, 2828, 1048, 1569, 864, 1869, 858, 2392, 2034, 1258, 2403, 1459, 1367, 938, 894, 1928, 864, 1935, 1224, 924, 1671, 1836, 1322, 1040, 816, 3140, 1302, 1977, 1660, 1935, 2287, 1369, 1872, 1214, 884, 1478, 1949, 1746, 2057, 872, 894, 1216, 1152, 2262, 1120, 1728, 1535, 1080, 3082, 1560, 3447, 894, 990, 1224, 1718, 838, 1961, 1429, 2142, 1851, 1316, 864, 1588, 1158, 1214, 2263, 1297, 1709, 1660, 1768, 1215, 1958, 2329, 990, 1258, 1155, 1506, 2036, 1904, 1026, 1680, 1501, 1324, 1294, 1812, 1560, 3395, 1040, 2624, 1414, 1236, 1140, 796, 928, 1111, 2340, 1820, 1166, 1456, 901, 1165, 1786, 1252, 2554, 1200, 1320, 1923, 1032, 1960, 987, 768, 1092, 954, 1632, 1850, 1922, 869, 1226, 3493, 1911, 1328, 1632, 1535, 3228, 1236, 1554, 904, 2018, 1062, 1050, 1200, 2076, 990, 2112, 1470, 1651, 1824, 1761, 1230, 902, 1526, 1855, 1229, 2466, 1358, 1288, 1750, 894, 1327, 882, 1947, 1734, 1498, 864, 2097, 3194, 1484, 2520, 1786, 2792, 1571, 1668, 1110, 1845, 3112, 2183, 1056, 1796, 1057, 848, 1501, 894, 2519, 672, 1425, 924, 1652, 1125, 1576, 2082, 1406, 1700, 1365, 1702, 1468, 2402, 1212, 1593, 2259, 1422, 5642, 1389, 1687, 2058, 1006, 1385, 1396, 1440, 1989, 1902, 1493, 882, 1630, 1656, 1069, 1717, 1764, 948, 1484, 2290, 1445, 2274, 1008, 2022, 1274, 2035, 1269, 1894, 965, 1639, 2898, 1099, 1250, 1405, 1838, 1056, 1362, 988, 1670, 1489, 1470, 816, 2167, 1192, 1824], \"y\": [4, 5, 5, 7, 5, 6, 8, 5, 5, 6, 7, 6, 7, 5, 6, 5, 5, 7, 6, 6, 6, 6, 5, 6, 4, 7, 6, 8, 6, 5, 6, 7, 6, 5, 8, 5, 7, 6, 7, 5, 6, 7, 6, 5, 5, 6, 5, 4, 7, 5, 7, 5, 6, 5, 5, 8, 6, 5, 5, 6, 5, 5, 7, 6, 6, 6, 7, 7, 6, 8, 8, 6, 7, 5, 8, 6, 10, 6, 4, 8, 4, 5, 8, 8, 4, 5, 5, 5, 5, 4, 5, 5, 5, 7, 7, 4, 5, 3, 6, 8, 8, 7, 7, 9, 9, 7, 7, 7, 7, 7, 7, 8, 6, 6, 4, 8, 5, 6, 7, 5, 7, 5, 3, 8, 5, 6, 5, 7, 7, 7, 6, 5, 6, 6, 6, 8, 8, 6, 8, 6, 5, 7, 7, 6, 7, 7, 5, 9, 6, 7, 7, 6, 6, 8, 4, 5, 6, 5, 8, 5, 6, 8, 8, 6, 8, 6, 5, 6, 7, 5, 8, 6, 7, 5, 4, 5, 5, 5, 5, 6, 6, 6, 7, 8, 8, 6, 8, 6, 6, 10, 7, 5, 7, 5, 6, 5, 6, 5, 5, 6, 4, 8, 7, 10, 7, 7, 6, 7, 4, 4, 6, 7, 5, 6, 5, 4, 5, 9, 6, 8, 8, 4, 6, 5, 7, 6, 7, 7, 8, 7, 4, 5, 7, 7, 8, 8, 8, 6, 6, 6, 7, 9, 7, 5, 5, 5, 7, 5, 6, 4, 7, 8, 6, 6, 9, 5, 6, 6, 5, 8, 7, 6, 4, 8, 6, 7, 4, 5, 7, 6, 6, 9, 5, 8, 5, 5, 5, 7, 5, 9, 7, 7, 5, 5, 7, 6, 4, 6, 5, 7, 7, 8, 5, 3, 5, 7, 5, 5, 4, 8, 5, 6, 5, 7, 6, 8, 5, 4, 6, 7, 5, 7, 5, 6, 6, 8, 9, 6, 5, 5, 7, 6, 7, 7, 7, 5, 8, 7, 5, 5, 6, 5, 7, 6, 5, 6, 5, 7, 6, 7, 6, 5, 7, 4, 7, 6, 7, 6, 8, 6, 7, 5, 5, 6, 6, 5, 7, 6, 1, 6, 8, 5, 6, 6, 5, 7, 6, 5, 5, 5, 7, 6, 7, 6, 7, 5, 7, 8, 7, 4, 6, 8, 8, 7, 6, 6, 8, 7, 7, 8, 5, 5, 8, 5, 6, 5, 10, 4, 6, 5, 6, 5, 4, 6, 6, 4, 6, 8, 7, 6, 9, 6, 5, 6, 4, 5, 6, 8, 5, 5, 7, 5, 8, 5, 7, 6, 5, 8, 6, 6, 5, 6, 6, 6, 6, 5, 7, 6, 5, 6, 5, 5, 7, 5, 8, 6, 6, 6, 6, 6, 4, 4, 3, 7, 9, 8, 4, 5, 6, 8, 2, 7, 7, 5, 8, 5, 6, 8, 7, 6, 8, 5, 5, 2, 8, 5, 6, 7, 7, 7, 7, 3, 5, 10, 5, 7, 5, 4, 8, 7, 7, 7, 7, 6, 4, 7, 7, 5, 3, 5, 6, 8, 7, 4, 7, 4, 8, 8, 4, 4, 5, 6, 5, 7, 5, 4, 6, 5, 5, 7, 6, 6, 7, 5, 9, 5, 5, 6, 10, 5, 6, 5, 4, 6, 7, 6, 5, 4, 8, 6, 5, 5, 4, 5, 5, 5, 6, 6, 6, 5, 7, 5, 6, 5, 5, 6, 4, 6, 7, 8, 8, 8, 8, 6, 5, 7, 6, 6, 6, 6, 6, 6, 7, 6, 6, 6, 5, 4, 4, 7, 6, 5, 5, 8, 5, 6, 8, 5, 4, 8, 5, 8, 5, 8, 5, 5, 8, 5, 4, 7, 5, 5, 7, 4, 5, 7, 4, 6, 4, 7, 8, 9, 5, 5, 6, 7, 5, 9, 5, 5, 7, 6, 7, 7, 6, 10, 6, 6, 6, 7, 5, 9, 7, 5, 5, 5, 8, 6, 6, 6, 5, 7, 7, 7, 3, 5, 5, 8, 5, 7, 4, 7, 5, 7, 7, 10, 6, 8, 5, 5, 7, 8, 8, 9, 3, 7, 7, 5, 7, 5, 6, 4, 8, 7, 6, 5, 9, 5, 5, 6, 6, 5, 7, 5, 6, 6, 5, 5, 7, 5, 5, 6, 7, 7, 5, 4, 7, 5, 10, 5, 7, 4, 7, 8, 5, 4, 7, 6, 6, 7, 9, 5, 7, 5, 7, 7, 5, 7, 5, 5, 5, 5, 6, 5, 7, 8, 5, 7, 6, 7, 4, 7, 6, 7, 4, 7, 9, 4, 6, 6, 7, 7, 5, 8, 6, 5, 7, 5, 5, 5, 6, 6, 6, 4, 6, 8, 6, 6, 6, 5, 6, 3, 5, 8, 5, 5, 6, 7, 4, 5, 5, 6, 5, 8, 6, 6, 7, 5, 5, 8, 6, 7, 6, 6, 8, 6, 8, 5, 5, 5, 7, 7, 7, 5, 5, 6, 7, 9, 5, 6, 7, 7, 5, 7, 6, 5, 5, 5, 6, 4, 5, 8, 6, 5, 5, 5, 6, 8, 6, 7, 5, 7, 4, 9, 5, 7, 6, 8, 6, 6, 5, 6, 4, 5, 7, 6, 6, 5, 4, 6, 5, 4, 6, 5, 8, 5, 7, 5, 5, 5, 7, 6, 5, 8, 7, 4, 3, 10, 6, 9, 7, 4, 5, 5, 6, 6, 5, 7, 6, 6, 6, 5, 7, 5, 7, 5, 6, 8, 4, 6, 8, 6, 4, 6, 7, 10, 8, 5, 7, 5, 3, 7, 6, 6, 8, 7, 7, 10, 8, 5, 5, 8, 5, 5, 7, 7, 8, 6, 8, 5, 6, 5, 8, 2, 7, 6, 6, 9, 6, 5, 6, 3, 9, 6, 6, 8, 4, 6, 7, 5, 4, 7, 6, 6, 8, 5, 7, 4, 5, 4, 8, 7, 4, 7, 7, 5, 5, 4, 6, 3, 8, 6, 5, 6, 7, 6, 5, 5, 9, 7, 6, 6, 7, 7, 6, 7, 5, 5, 6, 7, 9, 7, 4, 5, 6, 6, 8, 5, 5, 5, 7, 7, 6, 8, 5, 5, 6, 8, 6, 6, 6, 6, 6, 6, 4, 7, 6, 5, 8, 5, 9, 8, 7, 6, 7, 7, 5, 6, 5, 9, 7, 8, 6, 6, 7, 6, 6, 5, 7, 6, 4, 6, 7, 5, 5, 4, 5, 5, 7, 7, 7, 5, 4, 6, 6, 6, 7, 7, 7, 7, 6, 6, 6, 5, 4, 5, 5, 7, 9, 4, 7, 7, 8, 4, 6, 7, 8, 6, 8, 6, 9, 6, 5, 7, 10, 5, 6, 6, 6, 7, 7, 5, 5, 5, 6, 4, 8, 7, 8, 5, 3, 5, 5, 7, 6, 6, 5, 8, 8, 6, 8, 5, 6, 8, 7, 5, 6, 8, 7, 4, 6, 5, 6, 6, 5, 7, 4, 6, 4, 9, 5, 5, 7, 6, 6, 5, 9, 8, 10, 7, 8, 6, 7, 10, 5, 5, 6, 5, 5, 6, 4, 8, 7, 6, 4, 8, 8, 6, 7, 6, 5, 7, 8, 6, 5, 5, 7, 7, 7, 8, 7, 5, 6, 8, 5, 5, 7, 9, 5, 6, 5, 7, 8, 6, 5, 7, 4, 6], \"z\": [64500, 218000, 116500, 220000, 119000, 147000, 402000, 126500, 135000, 166000, 205000, 113000, 215200, 99900, 112000, 127000, 145000, 213000, 215000, 177000, 136500, 173500, 167000, 204000, 128000, 214000, 137500, 317000, 118000, 124500, 140000, 185850, 224000, 124500, 350000, 139000, 181134, 132500, 192000, 134900, 164500, 160000, 100000, 154000, 147000, 155000, 167500, 108500, 213500, 55993, 279500, 186700, 99500, 165000, 153500, 245350, 211000, 130000, 165500, 144500, 123500, 90000, 202500, 143000, 187000, 167000, 212900, 194500, 148000, 278000, 168000, 244000, 179540, 129900, 354000, 149300, 438780, 110000, 90000, 213500, 145000, 135900, 250000, 236500, 121600, 100000, 115000, 104900, 127000, 106500, 109500, 144000, 60000, 234000, 265979, 109008, 189000, 105000, 211000, 281213, 227000, 220000, 215000, 313000, 611657, 301000, 226000, 235000, 191000, 260000, 157000, 215000, 125000, 177000, 75000, 174000, 117000, 151000, 233000, 135960, 132000, 108000, 93500, 372402, 125000, 169900, 145000, 225000, 230000, 228000, 153000, 85000, 155000, 235000, 157500, 282922, 290000, 176500, 250000, 179900, 137000, 199900, 222000, 136500, 195000, 169500, 197500, 446261, 200000, 185900, 176500, 171500, 214000, 395000, 106250, 109500, 97500, 137500, 302000, 145000, 159000, 264561, 184100, 135000, 232000, 171000, 123000, 156000, 205000, 115000, 280000, 158900, 244000, 120000, 80500, 188000, 125000, 110000, 175000, 149500, 179000, 173000, 194000, 372500, 232000, 163500, 318000, 190000, 240000, 466500, 227680, 138887, 221000, 143000, 110000, 126000, 175500, 128500, 109000, 168500, 150000, 255000, 235000, 310000, 260400, 183900, 160000, 250580, 83500, 134432, 181000, 252678, 92000, 163000, 150000, 81000, 98000, 318061, 139000, 440000, 230500, 97000, 173900, 128000, 179665, 155000, 180000, 160000, 251000, 180000, 137500, 117500, 130000, 225000, 275500, 276000, 147000, 178000, 186500, 176000, 187750, 285000, 157000, 141000, 152000, 123000, 237000, 159434, 180000, 100000, 213000, 164000, 168000, 140000, 314813, 163500, 185000, 190000, 110000, 280000, 183500, 160000, 113000, 305900, 154500, 155000, 34900, 155000, 248328, 143000, 200500, 556581, 105000, 275000, 149900, 125000, 207500, 215000, 113000, 415298, 139400, 222000, 147000, 141000, 277000, 118500, 97000, 135000, 93500, 193879, 197000, 269500, 98300, 95000, 136000, 260000, 180000, 172000, 128950, 237000, 130000, 162000, 88000, 207500, 172785, 248000, 135000, 68400, 121000, 176000, 124900, 262500, 136500, 133900, 158000, 235128, 350000, 167900, 135000, 112500, 180000, 128000, 183000, 205000, 146000, 157000, 270000, 191000, 129000, 200000, 149000, 118000, 185000, 116000, 144900, 165500, 133000, 223500, 129000, 161000, 106000, 87000, 140000, 123600, 210000, 175000, 341000, 235000, 179900, 155000, 189950, 125000, 154000, 200000, 84500, 144000, 170000, 141000, 39300, 187500, 538000, 157000, 136000, 165000, 139400, 191000, 178000, 128200, 98600, 126000, 200100, 172500, 269790, 141000, 174500, 83000, 230000, 197000, 202500, 108000, 240000, 274000, 178000, 210000, 156932, 181000, 256300, 189000, 143000, 172500, 225000, 152000, 285000, 123000, 175000, 115000, 385000, 148000, 158000, 109900, 140000, 131000, 111250, 165000, 127000, 141000, 165000, 410000, 231500, 142000, 266000, 185000, 119000, 168500, 68500, 132500, 175900, 290000, 118500, 152000, 203000, 129000, 284000, 132500, 271000, 140000, 149900, 271000, 127500, 190000, 85000, 207000, 181500, 117000, 117500, 105000, 202665, 142000, 110000, 88000, 155000, 87000, 268000, 175000, 268000, 125000, 274970, 175000, 160000, 124000, 112000, 84000, 91000, 260000, 333168, 306000, 128000, 128500, 151000, 255500, 35311, 212000, 163900, 170000, 340000, 125000, 140000, 274900, 195000, 150900, 260000, 121500, 108480, 60000, 275000, 139000, 105900, 178000, 151000, 129900, 175500, 120000, 149900, 475000, 137000, 242000, 119000, 82500, 230000, 170000, 208500, 206300, 263000, 119200, 116050, 240000, 275000, 170000, 87500, 162000, 175000, 261500, 234000, 88000, 174000, 86000, 290000, 319000, 109900, 100000, 107500, 185000, 140000, 226000, 135500, 176000, 159500, 124000, 146000, 188000, 220000, 148500, 179000, 110000, 582933, 200500, 127000, 174000, 337500, 135000, 172400, 128500, 40000, 127500, 239000, 114500, 179500, 82000, 201000, 152000, 154000, 114500, 88000, 109000, 194000, 102000, 155000, 142500, 149500, 217500, 148800, 132000, 177500, 143000, 91300, 163000, 140000, 188000, 239799, 270000, 225000, 239500, 345000, 163000, 147500, 284000, 243000, 146000, 186000, 201000, 151500, 182900, 184000, 157900, 140000, 130500, 124000, 137500, 89471, 311500, 130000, 154900, 127000, 316600, 127500, 167000, 228500, 134500, 111000, 233230, 66500, 266000, 132500, 248900, 128900, 143500, 187500, 139000, 256000, 219500, 138000, 140000, 199900, 84900, 145000, 190000, 90000, 120000, 120500, 167240, 122000, 395192, 135000, 156000, 169000, 155835, 135000, 360000, 164500, 109500, 164700, 76000, 260000, 190000, 193500, 625000, 113000, 143750, 179200, 165400, 142125, 412500, 167000, 159950, 115000, 190000, 318000, 181000, 191000, 94500, 127000, 173000, 224500, 192500, 79000, 78000, 190000, 325624, 138500, 219500, 82000, 178400, 144000, 241000, 196000, 745000, 150000, 392000, 127000, 167500, 280000, 227000, 324000, 501837, 72500, 204900, 194500, 133500, 230000, 139900, 272000, 52500, 270000, 194500, 128000, 139000, 320000, 130500, 149350, 128000, 162500, 110000, 176000, 142953, 171000, 132000, 108000, 159000, 189000, 223500, 129900, 107000, 239686, 198500, 118000, 124500, 205000, 106000, 402861, 185000, 311872, 100000, 320000, 212000, 81000, 136500, 145000, 240000, 162000, 233170, 394432, 119500, 175500, 130000, 130000, 185000, 137000, 315750, 127000, 133000, 144000, 115000, 124000, 132000, 225000, 235000, 131400, 167500, 197500, 242000, 101800, 168500, 134900, 152000, 133000, 137500, 437154, 141000, 173733, 237500, 180500, 194000, 139000, 293077, 178900, 129900, 265000, 107500, 175000, 115000, 177000, 205000, 177500, 135000, 151000, 189000, 144000, 140000, 192000, 157500, 190000, 92900, 175000, 170000, 143000, 138500, 159500, 165000, 108000, 158000, 145000, 114504, 137900, 239900, 185000, 197900, 133000, 147000, 135000, 272000, 154000, 236000, 79000, 140200, 254000, 183200, 250000, 134500, 117000, 112000, 216000, 259000, 280000, 117000, 116000, 210000, 187500, 374000, 132500, 193000, 155000, 186500, 125500, 213490, 157000, 133900, 164900, 122000, 196000, 119000, 148500, 202900, 137500, 132500, 160000, 100000, 151400, 161000, 140000, 164000, 79500, 205000, 103000, 315500, 138000, 190000, 148000, 230000, 179900, 177000, 125500, 156000, 112000, 157900, 228500, 177500, 259500, 139000, 102776, 169000, 153000, 86000, 230000, 133000, 212000, 162900, 214000, 134000, 140000, 133700, 187100, 145000, 93000, 336000, 170000, 115000, 76500, 325000, 148500, 342643, 253000, 84500, 172500, 169000, 105500, 208300, 134800, 181000, 181000, 144000, 196000, 85000, 250000, 112000, 241500, 153900, 174000, 301500, 105000, 149000, 325300, 176432, 91000, 185750, 192500, 755000, 262500, 87000, 189000, 155000, 58500, 271900, 239000, 125000, 281000, 204000, 235000, 426000, 337000, 145500, 168000, 285000, 169500, 148000, 230000, 140000, 299800, 257500, 202500, 124500, 250000, 67000, 392500, 60000, 208900, 171000, 139500, 239000, 277000, 150500, 178000, 139600, 277500, 172500, 153900, 394617, 75500, 167900, 140000, 120000, 161500, 175000, 119500, 158000, 424870, 135000, 175900, 115000, 124900, 110000, 348000, 219500, 108959, 244400, 192000, 119000, 130250, 110000, 137000, 67000, 263435, 115000, 122900, 173000, 216837, 147000, 124000, 110000, 485000, 176485, 165000, 188700, 197900, 225000, 103600, 241500, 140000, 144000, 156500, 236000, 377500, 250000, 123000, 149900, 164000, 158500, 305000, 147000, 142600, 118858, 141000, 197000, 174000, 381000, 129000, 126000, 165000, 297000, 130000, 215000, 181900, 193500, 187000, 169990, 120500, 214000, 120000, 143000, 258000, 153000, 328900, 290000, 226700, 155000, 250000, 262280, 156000, 105000, 148000, 264132, 375000, 275000, 147000, 222000, 179400, 160000, 179200, 140000, 201000, 200000, 132250, 239000, 178740, 135000, 84500, 55000, 112500, 95000, 266500, 201800, 190000, 91500, 107900, 174900, 204750, 119000, 159500, 184900, 162000, 190000, 148000, 216500, 85400, 129500, 55000, 119750, 143000, 248000, 377426, 85500, 198900, 295000, 215000, 107000, 173000, 214000, 430000, 149700, 209500, 119000, 378500, 146800, 136500, 151000, 465000, 145000, 206900, 177000, 184000, 302000, 227875, 110000, 131000, 144500, 136900, 135000, 340000, 207000, 245500, 124000, 81000, 150750, 106500, 254900, 159000, 187500, 62383, 423000, 359100, 128000, 310000, 228950, 256000, 239000, 180000, 165500, 189000, 235000, 229000, 107000, 140000, 132000, 155900, 165600, 109500, 335000, 113000, 180500, 80000, 325000, 155000, 149000, 200000, 89500, 200000, 122500, 367294, 244600, 555000, 178000, 286000, 217000, 179600, 160000, 170000, 160000, 129500, 80000, 166000, 153575, 118000, 255000, 335000, 208900, 103200, 295493, 249700, 127500, 187500, 231500, 108000, 213000, 255900, 158000, 154300, 137000, 192000, 203000, 222500, 192000, 214900, 119900, 115000, 287000, 144000, 139000, 171750, 315000, 142000, 194700, 113000, 240000, 232600, 185000, 130500, 294000, 135000, 180500]}],\n",
              "                        {\"legend\": {\"tracegroupgap\": 0}, \"scene\": {\"domain\": {\"x\": [0.0, 1.0], \"y\": [0.0, 1.0]}, \"xaxis\": {\"title\": {\"text\": \"GrLivArea\"}}, \"yaxis\": {\"title\": {\"text\": \"OverallQual\"}}, \"zaxis\": {\"title\": {\"text\": \"SalePrice\"}}}, \"template\": {\"data\": {\"bar\": [{\"error_x\": {\"color\": \"#2a3f5f\"}, \"error_y\": {\"color\": \"#2a3f5f\"}, \"marker\": {\"line\": {\"color\": \"#E5ECF6\", \"width\": 0.5}}, \"type\": \"bar\"}], \"barpolar\": [{\"marker\": {\"line\": {\"color\": \"#E5ECF6\", \"width\": 0.5}}, \"type\": \"barpolar\"}], \"carpet\": [{\"aaxis\": {\"endlinecolor\": \"#2a3f5f\", \"gridcolor\": \"white\", \"linecolor\": \"white\", \"minorgridcolor\": \"white\", \"startlinecolor\": \"#2a3f5f\"}, \"baxis\": {\"endlinecolor\": \"#2a3f5f\", \"gridcolor\": \"white\", \"linecolor\": \"white\", \"minorgridcolor\": \"white\", \"startlinecolor\": \"#2a3f5f\"}, \"type\": \"carpet\"}], \"choropleth\": [{\"colorbar\": {\"outlinewidth\": 0, \"ticks\": \"\"}, \"type\": \"choropleth\"}], \"contour\": [{\"colorbar\": {\"outlinewidth\": 0, \"ticks\": \"\"}, \"colorscale\": [[0.0, \"#0d0887\"], [0.1111111111111111, \"#46039f\"], [0.2222222222222222, \"#7201a8\"], [0.3333333333333333, \"#9c179e\"], [0.4444444444444444, \"#bd3786\"], [0.5555555555555556, \"#d8576b\"], [0.6666666666666666, \"#ed7953\"], [0.7777777777777778, \"#fb9f3a\"], [0.8888888888888888, \"#fdca26\"], [1.0, \"#f0f921\"]], \"type\": \"contour\"}], \"contourcarpet\": [{\"colorbar\": {\"outlinewidth\": 0, \"ticks\": \"\"}, \"type\": \"contourcarpet\"}], \"heatmap\": [{\"colorbar\": {\"outlinewidth\": 0, \"ticks\": \"\"}, \"colorscale\": [[0.0, \"#0d0887\"], [0.1111111111111111, \"#46039f\"], [0.2222222222222222, \"#7201a8\"], [0.3333333333333333, \"#9c179e\"], [0.4444444444444444, \"#bd3786\"], [0.5555555555555556, \"#d8576b\"], [0.6666666666666666, \"#ed7953\"], [0.7777777777777778, \"#fb9f3a\"], [0.8888888888888888, \"#fdca26\"], [1.0, \"#f0f921\"]], \"type\": \"heatmap\"}], \"heatmapgl\": [{\"colorbar\": {\"outlinewidth\": 0, \"ticks\": \"\"}, \"colorscale\": [[0.0, \"#0d0887\"], [0.1111111111111111, \"#46039f\"], [0.2222222222222222, \"#7201a8\"], [0.3333333333333333, \"#9c179e\"], [0.4444444444444444, \"#bd3786\"], [0.5555555555555556, \"#d8576b\"], [0.6666666666666666, \"#ed7953\"], [0.7777777777777778, \"#fb9f3a\"], [0.8888888888888888, \"#fdca26\"], [1.0, \"#f0f921\"]], \"type\": \"heatmapgl\"}], \"histogram\": [{\"marker\": {\"colorbar\": {\"outlinewidth\": 0, \"ticks\": \"\"}}, \"type\": \"histogram\"}], \"histogram2d\": [{\"colorbar\": {\"outlinewidth\": 0, \"ticks\": \"\"}, \"colorscale\": [[0.0, \"#0d0887\"], [0.1111111111111111, \"#46039f\"], [0.2222222222222222, \"#7201a8\"], [0.3333333333333333, \"#9c179e\"], [0.4444444444444444, \"#bd3786\"], [0.5555555555555556, \"#d8576b\"], [0.6666666666666666, \"#ed7953\"], [0.7777777777777778, \"#fb9f3a\"], [0.8888888888888888, \"#fdca26\"], [1.0, \"#f0f921\"]], \"type\": \"histogram2d\"}], \"histogram2dcontour\": [{\"colorbar\": {\"outlinewidth\": 0, \"ticks\": \"\"}, \"colorscale\": [[0.0, \"#0d0887\"], [0.1111111111111111, \"#46039f\"], [0.2222222222222222, \"#7201a8\"], [0.3333333333333333, \"#9c179e\"], [0.4444444444444444, \"#bd3786\"], [0.5555555555555556, \"#d8576b\"], [0.6666666666666666, \"#ed7953\"], [0.7777777777777778, \"#fb9f3a\"], [0.8888888888888888, \"#fdca26\"], [1.0, \"#f0f921\"]], \"type\": \"histogram2dcontour\"}], \"mesh3d\": [{\"colorbar\": {\"outlinewidth\": 0, \"ticks\": \"\"}, \"type\": \"mesh3d\"}], \"parcoords\": [{\"line\": {\"colorbar\": {\"outlinewidth\": 0, \"ticks\": \"\"}}, \"type\": \"parcoords\"}], \"pie\": [{\"automargin\": true, \"type\": \"pie\"}], \"scatter\": [{\"marker\": {\"colorbar\": {\"outlinewidth\": 0, \"ticks\": \"\"}}, \"type\": \"scatter\"}], \"scatter3d\": [{\"line\": {\"colorbar\": {\"outlinewidth\": 0, \"ticks\": \"\"}}, \"marker\": {\"colorbar\": {\"outlinewidth\": 0, \"ticks\": \"\"}}, \"type\": \"scatter3d\"}], \"scattercarpet\": [{\"marker\": {\"colorbar\": {\"outlinewidth\": 0, \"ticks\": \"\"}}, \"type\": \"scattercarpet\"}], \"scattergeo\": [{\"marker\": {\"colorbar\": {\"outlinewidth\": 0, \"ticks\": \"\"}}, \"type\": \"scattergeo\"}], \"scattergl\": [{\"marker\": {\"colorbar\": {\"outlinewidth\": 0, \"ticks\": \"\"}}, \"type\": \"scattergl\"}], \"scattermapbox\": [{\"marker\": {\"colorbar\": {\"outlinewidth\": 0, \"ticks\": \"\"}}, \"type\": \"scattermapbox\"}], \"scatterpolar\": [{\"marker\": {\"colorbar\": {\"outlinewidth\": 0, \"ticks\": \"\"}}, \"type\": \"scatterpolar\"}], \"scatterpolargl\": [{\"marker\": {\"colorbar\": {\"outlinewidth\": 0, \"ticks\": \"\"}}, \"type\": \"scatterpolargl\"}], \"scatterternary\": [{\"marker\": {\"colorbar\": {\"outlinewidth\": 0, \"ticks\": \"\"}}, \"type\": \"scatterternary\"}], \"surface\": [{\"colorbar\": {\"outlinewidth\": 0, \"ticks\": \"\"}, \"colorscale\": [[0.0, \"#0d0887\"], [0.1111111111111111, \"#46039f\"], [0.2222222222222222, \"#7201a8\"], [0.3333333333333333, \"#9c179e\"], [0.4444444444444444, \"#bd3786\"], [0.5555555555555556, \"#d8576b\"], [0.6666666666666666, \"#ed7953\"], [0.7777777777777778, \"#fb9f3a\"], [0.8888888888888888, \"#fdca26\"], [1.0, \"#f0f921\"]], \"type\": \"surface\"}], \"table\": [{\"cells\": {\"fill\": {\"color\": \"#EBF0F8\"}, \"line\": {\"color\": \"white\"}}, \"header\": {\"fill\": {\"color\": \"#C8D4E3\"}, \"line\": {\"color\": \"white\"}}, \"type\": \"table\"}]}, \"layout\": {\"annotationdefaults\": {\"arrowcolor\": \"#2a3f5f\", \"arrowhead\": 0, \"arrowwidth\": 1}, \"coloraxis\": {\"colorbar\": {\"outlinewidth\": 0, \"ticks\": \"\"}}, \"colorscale\": {\"diverging\": [[0, \"#8e0152\"], [0.1, \"#c51b7d\"], [0.2, \"#de77ae\"], [0.3, \"#f1b6da\"], [0.4, \"#fde0ef\"], [0.5, \"#f7f7f7\"], [0.6, \"#e6f5d0\"], [0.7, \"#b8e186\"], [0.8, \"#7fbc41\"], [0.9, \"#4d9221\"], [1, \"#276419\"]], \"sequential\": [[0.0, \"#0d0887\"], [0.1111111111111111, \"#46039f\"], [0.2222222222222222, \"#7201a8\"], [0.3333333333333333, \"#9c179e\"], [0.4444444444444444, \"#bd3786\"], [0.5555555555555556, \"#d8576b\"], [0.6666666666666666, \"#ed7953\"], [0.7777777777777778, \"#fb9f3a\"], [0.8888888888888888, \"#fdca26\"], [1.0, \"#f0f921\"]], \"sequentialminus\": [[0.0, \"#0d0887\"], [0.1111111111111111, \"#46039f\"], [0.2222222222222222, \"#7201a8\"], [0.3333333333333333, \"#9c179e\"], [0.4444444444444444, \"#bd3786\"], [0.5555555555555556, \"#d8576b\"], [0.6666666666666666, \"#ed7953\"], [0.7777777777777778, \"#fb9f3a\"], [0.8888888888888888, \"#fdca26\"], [1.0, \"#f0f921\"]]}, \"colorway\": [\"#636efa\", \"#EF553B\", \"#00cc96\", \"#ab63fa\", \"#FFA15A\", \"#19d3f3\", \"#FF6692\", \"#B6E880\", \"#FF97FF\", \"#FECB52\"], \"font\": {\"color\": \"#2a3f5f\"}, \"geo\": {\"bgcolor\": \"white\", \"lakecolor\": \"white\", \"landcolor\": \"#E5ECF6\", \"showlakes\": true, \"showland\": true, \"subunitcolor\": \"white\"}, \"hoverlabel\": {\"align\": \"left\"}, \"hovermode\": \"closest\", \"mapbox\": {\"style\": \"light\"}, \"paper_bgcolor\": \"white\", \"plot_bgcolor\": \"#E5ECF6\", \"polar\": {\"angularaxis\": {\"gridcolor\": \"white\", \"linecolor\": \"white\", \"ticks\": \"\"}, \"bgcolor\": \"#E5ECF6\", \"radialaxis\": {\"gridcolor\": \"white\", \"linecolor\": \"white\", \"ticks\": \"\"}}, \"scene\": {\"xaxis\": {\"backgroundcolor\": \"#E5ECF6\", \"gridcolor\": \"white\", \"gridwidth\": 2, \"linecolor\": \"white\", \"showbackground\": true, \"ticks\": \"\", \"zerolinecolor\": \"white\"}, \"yaxis\": {\"backgroundcolor\": \"#E5ECF6\", \"gridcolor\": \"white\", \"gridwidth\": 2, \"linecolor\": \"white\", \"showbackground\": true, \"ticks\": \"\", \"zerolinecolor\": \"white\"}, \"zaxis\": {\"backgroundcolor\": \"#E5ECF6\", \"gridcolor\": \"white\", \"gridwidth\": 2, \"linecolor\": \"white\", \"showbackground\": true, \"ticks\": \"\", \"zerolinecolor\": \"white\"}}, \"shapedefaults\": {\"line\": {\"color\": \"#2a3f5f\"}}, \"ternary\": {\"aaxis\": {\"gridcolor\": \"white\", \"linecolor\": \"white\", \"ticks\": \"\"}, \"baxis\": {\"gridcolor\": \"white\", \"linecolor\": \"white\", \"ticks\": \"\"}, \"bgcolor\": \"#E5ECF6\", \"caxis\": {\"gridcolor\": \"white\", \"linecolor\": \"white\", \"ticks\": \"\"}}, \"title\": {\"x\": 0.05}, \"xaxis\": {\"automargin\": true, \"gridcolor\": \"white\", \"linecolor\": \"white\", \"ticks\": \"\", \"title\": {\"standoff\": 15}, \"zerolinecolor\": \"white\", \"zerolinewidth\": 2}, \"yaxis\": {\"automargin\": true, \"gridcolor\": \"white\", \"linecolor\": \"white\", \"ticks\": \"\", \"title\": {\"standoff\": 15}, \"zerolinecolor\": \"white\", \"zerolinewidth\": 2}}}, \"title\": {\"text\": \"House Price\"}},\n",
              "                        {\"responsive\": true}\n",
              "                    ).then(function(){\n",
              "                            \n",
              "var gd = document.getElementById('e7828dc4-5896-4c55-b685-1f845c7c4ac1');\n",
              "var x = new MutationObserver(function (mutations, observer) {{\n",
              "        var display = window.getComputedStyle(gd).display;\n",
              "        if (!display || display === 'none') {{\n",
              "            console.log([gd, 'removed!']);\n",
              "            Plotly.purge(gd);\n",
              "            observer.disconnect();\n",
              "        }}\n",
              "}});\n",
              "\n",
              "// Listen for the removal of the full notebook cells\n",
              "var notebookContainer = gd.closest('#notebook-container');\n",
              "if (notebookContainer) {{\n",
              "    x.observe(notebookContainer, {childList: true});\n",
              "}}\n",
              "\n",
              "// Listen for the clearing of the current output cell\n",
              "var outputEl = gd.closest('.output');\n",
              "if (outputEl) {{\n",
              "    x.observe(outputEl, {childList: true});\n",
              "}}\n",
              "\n",
              "                        })\n",
              "                };\n",
              "                \n",
              "            </script>\n",
              "        </div>\n",
              "</body>\n",
              "</html>"
            ]
          },
          "metadata": {
            "tags": []
          }
        }
      ]
    },
    {
      "cell_type": "code",
      "metadata": {
        "colab": {
          "base_uri": "https://localhost:8080/"
        },
        "id": "vi208N-IRIJi",
        "outputId": "bfd65bb1-3fe5-4a3b-ce03-6d4224c96c5c"
      },
      "source": [
        "# 다중모델 학습 - MAE 평가지표로 단순선형 모델과 비교\r\n",
        "lr.fit(df_train[feature],df_train[target])\r\n",
        "pred=lr.predict(df_test[feature])\r\n",
        "mae_1 = mean_absolute_error(pred, df_test[target])\r\n",
        "print('mae : ',mae_1)\r\n",
        "\r\n",
        "if mae>mae_1:\r\n",
        "  print('다중선형 학습 모델은 단순선형 학습 모델보다 {}만큼 mae 값이 더 적다.'.format(round(mae-mae_1,2)))\r\n",
        "else:\r\n",
        "  print('단순선형 학습 모델은 다중선형 학습 모델보다 {}만큼 mae 값이 더 적다.'.format(round(mae_1-mae,2)))"
      ],
      "execution_count": null,
      "outputs": [
        {
          "output_type": "stream",
          "text": [
            "mae :  29007.74529783036\n",
            "다중선형 학습 모델은 단순선형 학습 모델보다 10489.63만큼 mae 값이 더 적다.\n"
          ],
          "name": "stdout"
        }
      ]
    },
    {
      "cell_type": "code",
      "metadata": {
        "colab": {
          "base_uri": "https://localhost:8080/"
        },
        "id": "sdnJ5-L0TNFi",
        "outputId": "439fcdfd-81b6-4a5f-9df0-199d7cfb7ccb"
      },
      "source": [
        "# 이외 회귀 모델의 평가지표\r\n",
        "mae = mean_absolute_error(df_test[target],pred)\r\n",
        "mse = mean_squared_error(df_test[target],pred)\r\n",
        "r2 = r2_score(df_test[target],pred)\r\n",
        "print('mae: ',mae,'\\nmse: ',mse,'\\nr2: ',r2)"
      ],
      "execution_count": null,
      "outputs": [
        {
          "output_type": "stream",
          "text": [
            "mae:  29007.74529783036 \n",
            "mse:  1662092878.7631946 \n",
            "r2:  0.6871258535326786\n"
          ],
          "name": "stdout"
        }
      ]
    },
    {
      "cell_type": "code",
      "metadata": {
        "colab": {
          "base_uri": "https://localhost:8080/"
        },
        "id": "204eZWPjS2If",
        "outputId": "5ba41ef6-11d6-4c24-d063-8059f641242b"
      },
      "source": [
        "# Coefficients & intercept\r\n",
        "print(lr.coef_, lr.intercept_)"
      ],
      "execution_count": null,
      "outputs": [
        {
          "output_type": "stream",
          "text": [
            "[[   59.10868607 32829.03940894]] [-107529.22190613]\n"
          ],
          "name": "stdout"
        }
      ]
    },
    {
      "cell_type": "markdown",
      "metadata": {
        "id": "G7HperJUNKuy"
      },
      "source": [
        "### 결론\r\n",
        "\r\n",
        "**대체적으로**, 단순선형회귀 모델보다 **다중선형회귀 모델의 성능이 더 좋음**\r\n",
        "\r\n",
        "\r\n",
        "회귀 모델은 **MAE, MSE, RMSE, MSLE, RMSLE, R^2** 등을 지표로 삼음\r\n",
        "\r\n",
        "R^2값을 제외한 나머지 지표는 **값이 작을수록** 모델성능이 좋다고 평가\r\n",
        "\r\n",
        "R^2값은 **0과 1**사이에 존재하며, **값이 클수록** 모델성능이 좋다고 평가"
      ]
    }
  ]
}
