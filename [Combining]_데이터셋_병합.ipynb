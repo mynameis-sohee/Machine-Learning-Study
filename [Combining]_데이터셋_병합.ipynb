{
  "nbformat": 4,
  "nbformat_minor": 0,
  "metadata": {
    "colab": {
      "name": "[Combining] 데이터셋 병합",
      "provenance": [],
      "collapsed_sections": [],
      "include_colab_link": true
    },
    "kernelspec": {
      "display_name": "Python 3",
      "language": "python",
      "name": "python3"
    },
    "language_info": {
      "codemirror_mode": {
        "name": "ipython",
        "version": 3
      },
      "file_extension": ".py",
      "mimetype": "text/x-python",
      "name": "python",
      "nbconvert_exporter": "python",
      "pygments_lexer": "ipython3",
      "version": "3.8.5"
    }
  },
  "cells": [
    {
      "cell_type": "markdown",
      "metadata": {
        "id": "view-in-github",
        "colab_type": "text"
      },
      "source": [
        "<a href=\"https://colab.research.google.com/github/mynameis-sohee/Machine-Learning-Study/blob/main/%5BCombining%5D_%EB%8D%B0%EC%9D%B4%ED%84%B0%EC%85%8B_%EB%B3%91%ED%95%A9.ipynb\" target=\"_parent\"><img src=\"https://colab.research.google.com/assets/colab-badge.svg\" alt=\"Open In Colab\"/></a>"
      ]
    },
    {
      "cell_type": "markdown",
      "metadata": {
        "id": "09t5hjvoInz1"
      },
      "source": [
        "## Concat과 Merge 를 활용해, 데이터셋을 병합합니다. \r\n",
        "* concat 활용1 : 데이터셋 세로 병합\r\n",
        "* concat 활용2 : 데이터셋 가로 병합\r\n",
        "* merge : 데이터셋 가로 병합\r\n",
        "\r\n",
        "---\r\n",
        "**Concat, Merge 차이점**\r\n",
        "1. Concat은 다수의 데이터셋을 한 번에 병합 가능하나, Merge는 2개의 병합만 가능\r\n",
        "2. Merge는 'how'를 이용해 비교적 다양한 조건 별 데이터셋 병합이 가능"
      ]
    },
    {
      "cell_type": "code",
      "metadata": {
        "id": "Bi7BreXYUnh9"
      },
      "source": [
        "# 필요한 라이브러리를 import 합니다.\r\n",
        "import pandas as pd"
      ],
      "execution_count": null,
      "outputs": []
    },
    {
      "cell_type": "code",
      "metadata": {
        "id": "fCO-jACqVGSb"
      },
      "source": [
        "# 6개의 데이터셋을 한 번에 불러오는 함수를 만듭니다. (url: 비공개처리)\r\n",
        "\r\n",
        "urlhead = '[비공개]'\r\n",
        "\r\n",
        "def url(num):\r\n",
        "  df=pd.read_csv(urlhead+num+'.csv')\r\n",
        "  df=df.transpose() # 전치\r\n",
        "  header=df.iloc[0]\r\n",
        "  df.columns=header\r\n",
        "  df=df[1:]\r\n",
        "  df=df.filter(['매출액','자본총계','EPS(원)'],axis=1)\r\n",
        "  df.sort_index(axis=1)\r\n",
        "  return df[-1:]"
      ],
      "execution_count": null,
      "outputs": []
    },
    {
      "cell_type": "code",
      "metadata": {
        "id": "WnInJ-JPZMPd"
      },
      "source": [
        "# 함수를 적용합니다.\r\n",
        "df1=url('01')\r\n",
        "df2=url('02')\r\n",
        "df3=url('03')\r\n",
        "df4=url('04')\r\n",
        "df5=url('05')\r\n",
        "df6=url('06')"
      ],
      "execution_count": null,
      "outputs": []
    },
    {
      "cell_type": "markdown",
      "metadata": {
        "id": "NjlLtLWdIG7D"
      },
      "source": [
        "### Concat"
      ]
    },
    {
      "cell_type": "markdown",
      "metadata": {
        "id": "Xt-_DUG8IJWX"
      },
      "source": [
        "**Concat 활용 1. 데이터셋을 세로로 병합**"
      ]
    },
    {
      "cell_type": "code",
      "metadata": {
        "id": "TGgUdqbwH3Zg"
      },
      "source": [
        "# Concat 활용 1: 앞서 출력한 데이터셋을 세로로 합칩니다.\r\n",
        "data_concat=pd.concat([df1,df2,df3,df4,df5,df6])"
      ],
      "execution_count": null,
      "outputs": []
    },
    {
      "cell_type": "markdown",
      "metadata": {
        "id": "_FNTD3qMIQC_"
      },
      "source": [
        "**Concat 활용 2. 데이터셋을 가로로 병합**"
      ]
    },
    {
      "cell_type": "code",
      "metadata": {
        "id": "eUMMCht4Z2Im",
        "colab": {
          "base_uri": "https://localhost:8080/",
          "height": 223
        },
        "outputId": "13d1c809-150c-4c5e-d542-fa1efc37af27"
      },
      "source": [
        "# 종목 별 종목명, 테마를 구분짓는 새로운 데이터셋을 만듭니다.\r\n",
        "\r\n",
        "thema = pd.DataFrame(\r\n",
        "    {'종목' : ['000080', '000890', '005300', '027740', '035810', '136480'],\r\n",
        "     '종목명': ['하이트진로', '보해양조', '롯데칠성', '마니커', '이지홀딩스', '하림'], \r\n",
        "     '테마' : ['주류', '주류', '주류', '육계', '육계', '육계']})\r\n",
        "thema"
      ],
      "execution_count": null,
      "outputs": [
        {
          "output_type": "execute_result",
          "data": {
            "text/html": [
              "<div>\n",
              "<style scoped>\n",
              "    .dataframe tbody tr th:only-of-type {\n",
              "        vertical-align: middle;\n",
              "    }\n",
              "\n",
              "    .dataframe tbody tr th {\n",
              "        vertical-align: top;\n",
              "    }\n",
              "\n",
              "    .dataframe thead th {\n",
              "        text-align: right;\n",
              "    }\n",
              "</style>\n",
              "<table border=\"1\" class=\"dataframe\">\n",
              "  <thead>\n",
              "    <tr style=\"text-align: right;\">\n",
              "      <th></th>\n",
              "      <th>종목</th>\n",
              "      <th>종목명</th>\n",
              "      <th>테마</th>\n",
              "    </tr>\n",
              "  </thead>\n",
              "  <tbody>\n",
              "    <tr>\n",
              "      <th>0</th>\n",
              "      <td>000080</td>\n",
              "      <td>하이트진로</td>\n",
              "      <td>주류</td>\n",
              "    </tr>\n",
              "    <tr>\n",
              "      <th>1</th>\n",
              "      <td>000890</td>\n",
              "      <td>보해양조</td>\n",
              "      <td>주류</td>\n",
              "    </tr>\n",
              "    <tr>\n",
              "      <th>2</th>\n",
              "      <td>005300</td>\n",
              "      <td>롯데칠성</td>\n",
              "      <td>주류</td>\n",
              "    </tr>\n",
              "    <tr>\n",
              "      <th>3</th>\n",
              "      <td>027740</td>\n",
              "      <td>마니커</td>\n",
              "      <td>육계</td>\n",
              "    </tr>\n",
              "    <tr>\n",
              "      <th>4</th>\n",
              "      <td>035810</td>\n",
              "      <td>이지홀딩스</td>\n",
              "      <td>육계</td>\n",
              "    </tr>\n",
              "    <tr>\n",
              "      <th>5</th>\n",
              "      <td>136480</td>\n",
              "      <td>하림</td>\n",
              "      <td>육계</td>\n",
              "    </tr>\n",
              "  </tbody>\n",
              "</table>\n",
              "</div>"
            ],
            "text/plain": [
              "       종목    종목명  테마\n",
              "0  000080  하이트진로  주류\n",
              "1  000890   보해양조  주류\n",
              "2  005300   롯데칠성  주류\n",
              "3  027740    마니커  육계\n",
              "4  035810  이지홀딩스  육계\n",
              "5  136480     하림  육계"
            ]
          },
          "metadata": {
            "tags": []
          },
          "execution_count": 104
        }
      ]
    },
    {
      "cell_type": "code",
      "metadata": {
        "colab": {
          "base_uri": "https://localhost:8080/",
          "height": 223
        },
        "id": "8P1GBiGWGhSz",
        "outputId": "a3fefc8e-f936-4a11-93d6-cad597b2601c"
      },
      "source": [
        "# Concat 활용 2: 앞서 출력한 데이터셋(data_concat, thema)을 세로로 합칩니다.\r\n",
        "data_concat=pd.concat([data_concat.reset_index(),thema['종목명']], axis=1) #axis=1 : 행으로 합친다는 의미\r\n",
        "data_concat"
      ],
      "execution_count": null,
      "outputs": [
        {
          "output_type": "execute_result",
          "data": {
            "text/html": [
              "<div>\n",
              "<style scoped>\n",
              "    .dataframe tbody tr th:only-of-type {\n",
              "        vertical-align: middle;\n",
              "    }\n",
              "\n",
              "    .dataframe tbody tr th {\n",
              "        vertical-align: top;\n",
              "    }\n",
              "\n",
              "    .dataframe thead th {\n",
              "        text-align: right;\n",
              "    }\n",
              "</style>\n",
              "<table border=\"1\" class=\"dataframe\">\n",
              "  <thead>\n",
              "    <tr style=\"text-align: right;\">\n",
              "      <th></th>\n",
              "      <th>index</th>\n",
              "      <th>매출액</th>\n",
              "      <th>자본총계</th>\n",
              "      <th>EPS(원)</th>\n",
              "      <th>종목명</th>\n",
              "    </tr>\n",
              "  </thead>\n",
              "  <tbody>\n",
              "    <tr>\n",
              "      <th>0</th>\n",
              "      <td>2020/09\\n(IFRS연결)</td>\n",
              "      <td>6,243</td>\n",
              "      <td>10,897</td>\n",
              "      <td>453</td>\n",
              "      <td>하이트진로</td>\n",
              "    </tr>\n",
              "    <tr>\n",
              "      <th>1</th>\n",
              "      <td>2020/09\\n(IFRS연결)</td>\n",
              "      <td>205</td>\n",
              "      <td>816</td>\n",
              "      <td>3</td>\n",
              "      <td>보해양조</td>\n",
              "    </tr>\n",
              "    <tr>\n",
              "      <th>2</th>\n",
              "      <td>2020/09\\n(IFRS연결)</td>\n",
              "      <td>5,980</td>\n",
              "      <td>12,096</td>\n",
              "      <td>1,682</td>\n",
              "      <td>롯데칠성</td>\n",
              "    </tr>\n",
              "    <tr>\n",
              "      <th>3</th>\n",
              "      <td>2020/09\\n(IFRS연결)</td>\n",
              "      <td>521</td>\n",
              "      <td>624</td>\n",
              "      <td>-61</td>\n",
              "      <td>마니커</td>\n",
              "    </tr>\n",
              "    <tr>\n",
              "      <th>4</th>\n",
              "      <td>2020/06\\n(IFRS연결)</td>\n",
              "      <td>4,108</td>\n",
              "      <td>7,534</td>\n",
              "      <td>1,168</td>\n",
              "      <td>이지홀딩스</td>\n",
              "    </tr>\n",
              "    <tr>\n",
              "      <th>5</th>\n",
              "      <td>2020/09\\n(IFRS연결)</td>\n",
              "      <td>2,613</td>\n",
              "      <td>2,695</td>\n",
              "      <td>62</td>\n",
              "      <td>하림</td>\n",
              "    </tr>\n",
              "  </tbody>\n",
              "</table>\n",
              "</div>"
            ],
            "text/plain": [
              "               index    매출액    자본총계 EPS(원)    종목명\n",
              "0  2020/09\\n(IFRS연결)  6,243  10,897    453  하이트진로\n",
              "1  2020/09\\n(IFRS연결)    205     816      3   보해양조\n",
              "2  2020/09\\n(IFRS연결)  5,980  12,096  1,682   롯데칠성\n",
              "3  2020/09\\n(IFRS연결)    521     624    -61    마니커\n",
              "4  2020/06\\n(IFRS연결)  4,108   7,534  1,168  이지홀딩스\n",
              "5  2020/09\\n(IFRS연결)  2,613   2,695     62     하림"
            ]
          },
          "metadata": {
            "tags": []
          },
          "execution_count": 150
        }
      ]
    },
    {
      "cell_type": "markdown",
      "metadata": {
        "id": "9rnPznG1IdEu"
      },
      "source": [
        "**(추가) 간단한 Feature Engineering**"
      ]
    },
    {
      "cell_type": "code",
      "metadata": {
        "id": "WBBAIbTvmk_o",
        "colab": {
          "base_uri": "https://localhost:8080/",
          "height": 223
        },
        "outputId": "9cadc40d-6db6-444c-fec4-e26a1986163c"
      },
      "source": [
        "# 'index' Feature명을 '날짜'로 변경합니다.\r\n",
        "# 날짜 데이터는 '\\'을 중심으로 왼쪽에 위치하며, 오른쪽 값은 유의미한 값이 아닙니다. 따라서 '\\'을 중심으로 왼쪽 값만 살리고, 나머지는 제거합니다.\r\n",
        "\r\n",
        "data_concat=data_concat.rename({'index':'날짜'}, axis=1)\r\n",
        "data_concat['날짜'] = data_concat['날짜'].str.split(\"\\n\").str[0] \r\n",
        "data_concat"
      ],
      "execution_count": null,
      "outputs": [
        {
          "output_type": "execute_result",
          "data": {
            "text/html": [
              "<div>\n",
              "<style scoped>\n",
              "    .dataframe tbody tr th:only-of-type {\n",
              "        vertical-align: middle;\n",
              "    }\n",
              "\n",
              "    .dataframe tbody tr th {\n",
              "        vertical-align: top;\n",
              "    }\n",
              "\n",
              "    .dataframe thead th {\n",
              "        text-align: right;\n",
              "    }\n",
              "</style>\n",
              "<table border=\"1\" class=\"dataframe\">\n",
              "  <thead>\n",
              "    <tr style=\"text-align: right;\">\n",
              "      <th></th>\n",
              "      <th>날짜</th>\n",
              "      <th>매출액</th>\n",
              "      <th>자본총계</th>\n",
              "      <th>EPS(원)</th>\n",
              "      <th>종목명</th>\n",
              "    </tr>\n",
              "  </thead>\n",
              "  <tbody>\n",
              "    <tr>\n",
              "      <th>0</th>\n",
              "      <td>2020/09</td>\n",
              "      <td>6,243</td>\n",
              "      <td>10,897</td>\n",
              "      <td>453</td>\n",
              "      <td>하이트진로</td>\n",
              "    </tr>\n",
              "    <tr>\n",
              "      <th>1</th>\n",
              "      <td>2020/09</td>\n",
              "      <td>205</td>\n",
              "      <td>816</td>\n",
              "      <td>3</td>\n",
              "      <td>보해양조</td>\n",
              "    </tr>\n",
              "    <tr>\n",
              "      <th>2</th>\n",
              "      <td>2020/09</td>\n",
              "      <td>5,980</td>\n",
              "      <td>12,096</td>\n",
              "      <td>1,682</td>\n",
              "      <td>롯데칠성</td>\n",
              "    </tr>\n",
              "    <tr>\n",
              "      <th>3</th>\n",
              "      <td>2020/09</td>\n",
              "      <td>521</td>\n",
              "      <td>624</td>\n",
              "      <td>-61</td>\n",
              "      <td>마니커</td>\n",
              "    </tr>\n",
              "    <tr>\n",
              "      <th>4</th>\n",
              "      <td>2020/06</td>\n",
              "      <td>4,108</td>\n",
              "      <td>7,534</td>\n",
              "      <td>1,168</td>\n",
              "      <td>이지홀딩스</td>\n",
              "    </tr>\n",
              "    <tr>\n",
              "      <th>5</th>\n",
              "      <td>2020/09</td>\n",
              "      <td>2,613</td>\n",
              "      <td>2,695</td>\n",
              "      <td>62</td>\n",
              "      <td>하림</td>\n",
              "    </tr>\n",
              "  </tbody>\n",
              "</table>\n",
              "</div>"
            ],
            "text/plain": [
              "        날짜    매출액    자본총계 EPS(원)    종목명\n",
              "0  2020/09  6,243  10,897    453  하이트진로\n",
              "1  2020/09    205     816      3   보해양조\n",
              "2  2020/09  5,980  12,096  1,682   롯데칠성\n",
              "3  2020/09    521     624    -61    마니커\n",
              "4  2020/06  4,108   7,534  1,168  이지홀딩스\n",
              "5  2020/09  2,613   2,695     62     하림"
            ]
          },
          "metadata": {
            "tags": []
          },
          "execution_count": 154
        }
      ]
    },
    {
      "cell_type": "markdown",
      "metadata": {
        "id": "8Yscu0NtMmRM"
      },
      "source": [
        "## Merge \n",
        "\n",
        "\n"
      ]
    },
    {
      "cell_type": "code",
      "metadata": {
        "id": "DlrGYjByMvn6"
      },
      "source": [
        "# Merge할 데이터셋을 생성합니다.\n",
        "left = pd.DataFrame({'key1': ['K0', 'K0', 'K1', 'K2'],\n",
        "                     'key2': ['K0', 'K1', 'K0', 'K1'],\n",
        "                     'A': ['A0', 'A1', 'A2', 'A3'],\n",
        "                     'B': ['B0', 'B1', 'B2', 'B3']})\n",
        "\n",
        "right = pd.DataFrame({'key1': ['K0', 'K1', 'K1', 'K2'],\n",
        "                      'key2': ['K0', 'K0', 'K0', 'K0'],\n",
        "                      'C': ['C0', 'C1', 'C2', 'C3'],\n",
        "                      'D': ['D0', 'D1', 'D2', 'D3']})"
      ],
      "execution_count": 1,
      "outputs": []
    },
    {
      "cell_type": "code",
      "metadata": {
        "colab": {
          "base_uri": "https://localhost:8080/",
          "height": 166
        },
        "id": "Il7Nguz5HHvJ",
        "outputId": "1208b5bb-8657-4391-a0af-3a8ee35751ff"
      },
      "source": [
        "# 데이터셋을 확인합니다 (1)\r\n",
        "left"
      ],
      "execution_count": 2,
      "outputs": [
        {
          "output_type": "execute_result",
          "data": {
            "text/html": [
              "<div>\n",
              "<style scoped>\n",
              "    .dataframe tbody tr th:only-of-type {\n",
              "        vertical-align: middle;\n",
              "    }\n",
              "\n",
              "    .dataframe tbody tr th {\n",
              "        vertical-align: top;\n",
              "    }\n",
              "\n",
              "    .dataframe thead th {\n",
              "        text-align: right;\n",
              "    }\n",
              "</style>\n",
              "<table border=\"1\" class=\"dataframe\">\n",
              "  <thead>\n",
              "    <tr style=\"text-align: right;\">\n",
              "      <th></th>\n",
              "      <th>key1</th>\n",
              "      <th>key2</th>\n",
              "      <th>A</th>\n",
              "      <th>B</th>\n",
              "    </tr>\n",
              "  </thead>\n",
              "  <tbody>\n",
              "    <tr>\n",
              "      <th>0</th>\n",
              "      <td>K0</td>\n",
              "      <td>K0</td>\n",
              "      <td>A0</td>\n",
              "      <td>B0</td>\n",
              "    </tr>\n",
              "    <tr>\n",
              "      <th>1</th>\n",
              "      <td>K0</td>\n",
              "      <td>K1</td>\n",
              "      <td>A1</td>\n",
              "      <td>B1</td>\n",
              "    </tr>\n",
              "    <tr>\n",
              "      <th>2</th>\n",
              "      <td>K1</td>\n",
              "      <td>K0</td>\n",
              "      <td>A2</td>\n",
              "      <td>B2</td>\n",
              "    </tr>\n",
              "    <tr>\n",
              "      <th>3</th>\n",
              "      <td>K2</td>\n",
              "      <td>K1</td>\n",
              "      <td>A3</td>\n",
              "      <td>B3</td>\n",
              "    </tr>\n",
              "  </tbody>\n",
              "</table>\n",
              "</div>"
            ],
            "text/plain": [
              "  key1 key2   A   B\n",
              "0   K0   K0  A0  B0\n",
              "1   K0   K1  A1  B1\n",
              "2   K1   K0  A2  B2\n",
              "3   K2   K1  A3  B3"
            ]
          },
          "metadata": {
            "tags": []
          },
          "execution_count": 2
        }
      ]
    },
    {
      "cell_type": "code",
      "metadata": {
        "colab": {
          "base_uri": "https://localhost:8080/",
          "height": 166
        },
        "id": "6fyeK_iAHLQ-",
        "outputId": "c2efcf93-9b85-45da-d73f-0ec259a734ff"
      },
      "source": [
        "# 데이터셋을 확인합니다 (2)\r\n",
        "right"
      ],
      "execution_count": 3,
      "outputs": [
        {
          "output_type": "execute_result",
          "data": {
            "text/html": [
              "<div>\n",
              "<style scoped>\n",
              "    .dataframe tbody tr th:only-of-type {\n",
              "        vertical-align: middle;\n",
              "    }\n",
              "\n",
              "    .dataframe tbody tr th {\n",
              "        vertical-align: top;\n",
              "    }\n",
              "\n",
              "    .dataframe thead th {\n",
              "        text-align: right;\n",
              "    }\n",
              "</style>\n",
              "<table border=\"1\" class=\"dataframe\">\n",
              "  <thead>\n",
              "    <tr style=\"text-align: right;\">\n",
              "      <th></th>\n",
              "      <th>key1</th>\n",
              "      <th>key2</th>\n",
              "      <th>C</th>\n",
              "      <th>D</th>\n",
              "    </tr>\n",
              "  </thead>\n",
              "  <tbody>\n",
              "    <tr>\n",
              "      <th>0</th>\n",
              "      <td>K0</td>\n",
              "      <td>K0</td>\n",
              "      <td>C0</td>\n",
              "      <td>D0</td>\n",
              "    </tr>\n",
              "    <tr>\n",
              "      <th>1</th>\n",
              "      <td>K1</td>\n",
              "      <td>K0</td>\n",
              "      <td>C1</td>\n",
              "      <td>D1</td>\n",
              "    </tr>\n",
              "    <tr>\n",
              "      <th>2</th>\n",
              "      <td>K1</td>\n",
              "      <td>K0</td>\n",
              "      <td>C2</td>\n",
              "      <td>D2</td>\n",
              "    </tr>\n",
              "    <tr>\n",
              "      <th>3</th>\n",
              "      <td>K2</td>\n",
              "      <td>K0</td>\n",
              "      <td>C3</td>\n",
              "      <td>D3</td>\n",
              "    </tr>\n",
              "  </tbody>\n",
              "</table>\n",
              "</div>"
            ],
            "text/plain": [
              "  key1 key2   C   D\n",
              "0   K0   K0  C0  D0\n",
              "1   K1   K0  C1  D1\n",
              "2   K1   K0  C2  D2\n",
              "3   K2   K0  C3  D3"
            ]
          },
          "metadata": {
            "tags": []
          },
          "execution_count": 3
        }
      ]
    },
    {
      "cell_type": "code",
      "metadata": {
        "colab": {
          "base_uri": "https://localhost:8080/",
          "height": 194
        },
        "id": "9TALK9y3eU3s",
        "outputId": "a097eebb-57d6-451d-bd61-1b1757407222"
      },
      "source": [
        "# 'left' 데이터셋의 key를 기준으로 병합합니다.\r\n",
        "answer=left.merge(right, how = 'left', on = ['key1','key2']) #how = left : 키를 left 기준으로 병합, outer : 모든 두 프레임 키 통합해 모두 병합, inner :  두 프레임 키 통합해 두 프레임이 모두 해당하는 키만 병합\r\n",
        "answer"
      ],
      "execution_count": null,
      "outputs": [
        {
          "output_type": "execute_result",
          "data": {
            "text/html": [
              "<div>\n",
              "<style scoped>\n",
              "    .dataframe tbody tr th:only-of-type {\n",
              "        vertical-align: middle;\n",
              "    }\n",
              "\n",
              "    .dataframe tbody tr th {\n",
              "        vertical-align: top;\n",
              "    }\n",
              "\n",
              "    .dataframe thead th {\n",
              "        text-align: right;\n",
              "    }\n",
              "</style>\n",
              "<table border=\"1\" class=\"dataframe\">\n",
              "  <thead>\n",
              "    <tr style=\"text-align: right;\">\n",
              "      <th></th>\n",
              "      <th>key1</th>\n",
              "      <th>key2</th>\n",
              "      <th>A</th>\n",
              "      <th>B</th>\n",
              "      <th>C</th>\n",
              "      <th>D</th>\n",
              "    </tr>\n",
              "  </thead>\n",
              "  <tbody>\n",
              "    <tr>\n",
              "      <th>0</th>\n",
              "      <td>K0</td>\n",
              "      <td>K0</td>\n",
              "      <td>A0</td>\n",
              "      <td>B0</td>\n",
              "      <td>C0</td>\n",
              "      <td>D0</td>\n",
              "    </tr>\n",
              "    <tr>\n",
              "      <th>1</th>\n",
              "      <td>K0</td>\n",
              "      <td>K1</td>\n",
              "      <td>A1</td>\n",
              "      <td>B1</td>\n",
              "      <td>NaN</td>\n",
              "      <td>NaN</td>\n",
              "    </tr>\n",
              "    <tr>\n",
              "      <th>2</th>\n",
              "      <td>K1</td>\n",
              "      <td>K0</td>\n",
              "      <td>A2</td>\n",
              "      <td>B2</td>\n",
              "      <td>C1</td>\n",
              "      <td>D1</td>\n",
              "    </tr>\n",
              "    <tr>\n",
              "      <th>3</th>\n",
              "      <td>K1</td>\n",
              "      <td>K0</td>\n",
              "      <td>A2</td>\n",
              "      <td>B2</td>\n",
              "      <td>C2</td>\n",
              "      <td>D2</td>\n",
              "    </tr>\n",
              "    <tr>\n",
              "      <th>4</th>\n",
              "      <td>K2</td>\n",
              "      <td>K1</td>\n",
              "      <td>A3</td>\n",
              "      <td>B3</td>\n",
              "      <td>NaN</td>\n",
              "      <td>NaN</td>\n",
              "    </tr>\n",
              "  </tbody>\n",
              "</table>\n",
              "</div>"
            ],
            "text/plain": [
              "  key1 key2   A   B    C    D\n",
              "0   K0   K0  A0  B0   C0   D0\n",
              "1   K0   K1  A1  B1  NaN  NaN\n",
              "2   K1   K0  A2  B2   C1   D1\n",
              "3   K1   K0  A2  B2   C2   D2\n",
              "4   K2   K1  A3  B3  NaN  NaN"
            ]
          },
          "metadata": {
            "tags": []
          },
          "execution_count": 165
        }
      ]
    }
  ]
}