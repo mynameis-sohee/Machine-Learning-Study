{
  "nbformat": 4,
  "nbformat_minor": 0,
  "metadata": {
    "colab": {
      "name": "[Load] 데이터로드, 라이브러리 임포트 (기초)",
      "provenance": [],
      "collapsed_sections": [],
      "include_colab_link": true
    },
    "kernelspec": {
      "display_name": "Python 3",
      "language": "python",
      "name": "python3"
    },
    "language_info": {
      "codemirror_mode": {
        "name": "ipython",
        "version": 3
      },
      "file_extension": ".py",
      "mimetype": "text/x-python",
      "name": "python",
      "nbconvert_exporter": "python",
      "pygments_lexer": "ipython3",
      "version": "3.8.5"
    }
  },
  "cells": [
    {
      "cell_type": "markdown",
      "metadata": {
        "id": "view-in-github",
        "colab_type": "text"
      },
      "source": [
        "<a href=\"https://colab.research.google.com/github/mynameis-sohee/Machine-Learning-Study/blob/main/%5BLoad%5D_%EB%8D%B0%EC%9D%B4%ED%84%B0%EB%A1%9C%EB%93%9C%2C_%EB%9D%BC%EC%9D%B4%EB%B8%8C%EB%9F%AC%EB%A6%AC_%EC%9E%84%ED%8F%AC%ED%8A%B8_(%EA%B8%B0%EC%B4%88).ipynb\" target=\"_parent\"><img src=\"https://colab.research.google.com/assets/colab-badge.svg\" alt=\"Open In Colab\"/></a>"
      ]
    },
    {
      "cell_type": "markdown",
      "metadata": {
        "id": "nYlzwsLEXaJE"
      },
      "source": [
        "### 라이브러리 import, 데이터 로드 연습"
      ]
    },
    {
      "cell_type": "markdown",
      "metadata": {
        "id": "dejnPnpEXeKh"
      },
      "source": [
        "가장 기본이자, 가장 중요한 첫 단계입니다.\r\n",
        "필요한 라이브러리를 자유롭게 import하고, 그 의미를 이해해보았습니다.\r\n",
        "\r\n",
        "colab에서 데이터를 로드하는 방법을 익혀보았습니다."
      ]
    },
    {
      "cell_type": "code",
      "metadata": {
        "id": "PvHk0DywU8pd"
      },
      "source": [
        "# 필요한 라이브러리 import\r\n",
        "\r\n",
        "import pandas as pd\r\n",
        "import matplotlib as mpl\r\n",
        "import matplotlib.pyplot as plt \r\n",
        "import matplotlib.font_manager as fm"
      ],
      "execution_count": null,
      "outputs": []
    },
    {
      "cell_type": "code",
      "metadata": {
        "id": "wMxnu2SmTS8Z"
      },
      "source": [
        "# 데이터 로드\r\n",
        "data_url='https://ds-lecture-data.s3.ap-northeast-2.amazonaws.com/stocks/Travel.xlsx' \r\n",
        "\r\n",
        "data_1 = pd.read_excel(data_url)                                                       \r\n",
        "data_2 = pd.read_excel(data_url, sheet_name='035250')                                  "
      ],
      "execution_count": null,
      "outputs": []
    },
    {
      "cell_type": "code",
      "metadata": {
        "colab": {
          "base_uri": "https://localhost:8080/",
          "height": 278
        },
        "id": "YoVUaesEV0sI",
        "outputId": "a8428c25-9d28-49a5-9aaa-934f7350e8d8"
      },
      "source": [
        "data_1.head(2)"
      ],
      "execution_count": null,
      "outputs": [
        {
          "output_type": "execute_result",
          "data": {
            "text/html": [
              "<div>\n",
              "<style scoped>\n",
              "    .dataframe tbody tr th:only-of-type {\n",
              "        vertical-align: middle;\n",
              "    }\n",
              "\n",
              "    .dataframe tbody tr th {\n",
              "        vertical-align: top;\n",
              "    }\n",
              "\n",
              "    .dataframe thead th {\n",
              "        text-align: right;\n",
              "    }\n",
              "</style>\n",
              "<table border=\"1\" class=\"dataframe\">\n",
              "  <thead>\n",
              "    <tr style=\"text-align: right;\">\n",
              "      <th>주요재무정보</th>\n",
              "      <th>매출액</th>\n",
              "      <th>영업이익</th>\n",
              "      <th>영업이익(발표기준)</th>\n",
              "      <th>세전계속사업이익</th>\n",
              "      <th>당기순이익</th>\n",
              "      <th>당기순이익(지배)</th>\n",
              "      <th>당기순이익(비지배)</th>\n",
              "      <th>자산총계</th>\n",
              "      <th>부채총계</th>\n",
              "      <th>자본총계</th>\n",
              "      <th>자본총계(지배)</th>\n",
              "      <th>자본총계(비지배)</th>\n",
              "      <th>자본금</th>\n",
              "      <th>영업활동현금흐름</th>\n",
              "      <th>투자활동현금흐름</th>\n",
              "      <th>재무활동현금흐름</th>\n",
              "      <th>CAPEX</th>\n",
              "      <th>FCF</th>\n",
              "      <th>이자발생부채</th>\n",
              "      <th>영업이익률</th>\n",
              "      <th>순이익률</th>\n",
              "      <th>ROE(%)</th>\n",
              "      <th>ROA(%)</th>\n",
              "      <th>부채비율</th>\n",
              "      <th>자본유보율</th>\n",
              "      <th>EPS(원)</th>\n",
              "      <th>PER(배)</th>\n",
              "      <th>BPS(원)</th>\n",
              "      <th>PBR(배)</th>\n",
              "      <th>현금DPS(원)</th>\n",
              "      <th>현금배당수익률</th>\n",
              "      <th>현금배당성향(%)</th>\n",
              "    </tr>\n",
              "  </thead>\n",
              "  <tbody>\n",
              "    <tr>\n",
              "      <th>2019/09\\n(IFRS연결)</th>\n",
              "      <td>14753.0</td>\n",
              "      <td>574.0</td>\n",
              "      <td>574.0</td>\n",
              "      <td>376.0</td>\n",
              "      <td>274.0</td>\n",
              "      <td>277.0</td>\n",
              "      <td>-3.0</td>\n",
              "      <td>37747.0</td>\n",
              "      <td>28854.0</td>\n",
              "      <td>8893.0</td>\n",
              "      <td>8889.0</td>\n",
              "      <td>4.0</td>\n",
              "      <td>2000.0</td>\n",
              "      <td>1652.0</td>\n",
              "      <td>-284.0</td>\n",
              "      <td>-900.0</td>\n",
              "      <td>159.0</td>\n",
              "      <td>1493.0</td>\n",
              "      <td>19035.0</td>\n",
              "      <td>3.89</td>\n",
              "      <td>1.86</td>\n",
              "      <td>13.18</td>\n",
              "      <td>3.62</td>\n",
              "      <td>324.45</td>\n",
              "      <td>395.10</td>\n",
              "      <td>692.0</td>\n",
              "      <td>31.19</td>\n",
              "      <td>23484.0</td>\n",
              "      <td>3.67</td>\n",
              "      <td>0.0</td>\n",
              "      <td>0.0</td>\n",
              "      <td>0.00</td>\n",
              "    </tr>\n",
              "    <tr>\n",
              "      <th>2019/12\\n(IFRS연결)</th>\n",
              "      <td>15440.0</td>\n",
              "      <td>776.0</td>\n",
              "      <td>776.0</td>\n",
              "      <td>538.0</td>\n",
              "      <td>380.0</td>\n",
              "      <td>380.0</td>\n",
              "      <td>0.0</td>\n",
              "      <td>35273.0</td>\n",
              "      <td>26077.0</td>\n",
              "      <td>9195.0</td>\n",
              "      <td>9192.0</td>\n",
              "      <td>4.0</td>\n",
              "      <td>2000.0</td>\n",
              "      <td>-480.0</td>\n",
              "      <td>-208.0</td>\n",
              "      <td>1230.0</td>\n",
              "      <td>109.0</td>\n",
              "      <td>-589.0</td>\n",
              "      <td>15615.0</td>\n",
              "      <td>5.03</td>\n",
              "      <td>2.46</td>\n",
              "      <td>20.16</td>\n",
              "      <td>5.81</td>\n",
              "      <td>283.59</td>\n",
              "      <td>411.78</td>\n",
              "      <td>950.0</td>\n",
              "      <td>21.40</td>\n",
              "      <td>24282.0</td>\n",
              "      <td>3.74</td>\n",
              "      <td>350.0</td>\n",
              "      <td>0.0</td>\n",
              "      <td>34.94</td>\n",
              "    </tr>\n",
              "  </tbody>\n",
              "</table>\n",
              "</div>"
            ],
            "text/plain": [
              "주요재무정보                 매출액   영업이익  영업이익(발표기준)  ...  현금DPS(원)  현금배당수익률  현금배당성향(%)\n",
              "2019/09\\n(IFRS연결)  14753.0  574.0       574.0  ...       0.0      0.0       0.00\n",
              "2019/12\\n(IFRS연결)  15440.0  776.0       776.0  ...     350.0      0.0      34.94\n",
              "\n",
              "[2 rows x 32 columns]"
            ]
          },
          "metadata": {
            "tags": []
          },
          "execution_count": 12
        }
      ]
    },
    {
      "cell_type": "code",
      "metadata": {
        "colab": {
          "base_uri": "https://localhost:8080/",
          "height": 278
        },
        "id": "usVca7P2V2MU",
        "outputId": "b1e0cc2d-7958-4d5b-cf63-defb94cd8871"
      },
      "source": [
        "data_2.head(2)"
      ],
      "execution_count": null,
      "outputs": [
        {
          "output_type": "execute_result",
          "data": {
            "text/html": [
              "<div>\n",
              "<style scoped>\n",
              "    .dataframe tbody tr th:only-of-type {\n",
              "        vertical-align: middle;\n",
              "    }\n",
              "\n",
              "    .dataframe tbody tr th {\n",
              "        vertical-align: top;\n",
              "    }\n",
              "\n",
              "    .dataframe thead th {\n",
              "        text-align: right;\n",
              "    }\n",
              "</style>\n",
              "<table border=\"1\" class=\"dataframe\">\n",
              "  <thead>\n",
              "    <tr style=\"text-align: right;\">\n",
              "      <th>주요재무정보</th>\n",
              "      <th>매출액</th>\n",
              "      <th>영업이익</th>\n",
              "      <th>영업이익(발표기준)</th>\n",
              "      <th>세전계속사업이익</th>\n",
              "      <th>당기순이익</th>\n",
              "      <th>당기순이익(지배)</th>\n",
              "      <th>당기순이익(비지배)</th>\n",
              "      <th>자산총계</th>\n",
              "      <th>부채총계</th>\n",
              "      <th>자본총계</th>\n",
              "      <th>자본총계(지배)</th>\n",
              "      <th>자본총계(비지배)</th>\n",
              "      <th>자본금</th>\n",
              "      <th>영업활동현금흐름</th>\n",
              "      <th>투자활동현금흐름</th>\n",
              "      <th>재무활동현금흐름</th>\n",
              "      <th>CAPEX</th>\n",
              "      <th>FCF</th>\n",
              "      <th>이자발생부채</th>\n",
              "      <th>영업이익률</th>\n",
              "      <th>순이익률</th>\n",
              "      <th>ROE(%)</th>\n",
              "      <th>ROA(%)</th>\n",
              "      <th>부채비율</th>\n",
              "      <th>자본유보율</th>\n",
              "      <th>EPS(원)</th>\n",
              "      <th>PER(배)</th>\n",
              "      <th>BPS(원)</th>\n",
              "      <th>PBR(배)</th>\n",
              "      <th>현금DPS(원)</th>\n",
              "      <th>현금배당수익률</th>\n",
              "      <th>현금배당성향(%)</th>\n",
              "    </tr>\n",
              "  </thead>\n",
              "  <tbody>\n",
              "    <tr>\n",
              "      <th>2019/09\\n(IFRS연결)</th>\n",
              "      <td>4055.0</td>\n",
              "      <td>1392.0</td>\n",
              "      <td>1392.0</td>\n",
              "      <td>1554.0</td>\n",
              "      <td>1286.0</td>\n",
              "      <td>1286.0</td>\n",
              "      <td>0.0</td>\n",
              "      <td>41698.0</td>\n",
              "      <td>4781.0</td>\n",
              "      <td>36917.0</td>\n",
              "      <td>36916.0</td>\n",
              "      <td>0.0</td>\n",
              "      <td>1070.0</td>\n",
              "      <td>-22.0</td>\n",
              "      <td>-1260.0</td>\n",
              "      <td>-4.0</td>\n",
              "      <td>167.0</td>\n",
              "      <td>-189.0</td>\n",
              "      <td>48.0</td>\n",
              "      <td>34.33</td>\n",
              "      <td>31.72</td>\n",
              "      <td>8.27</td>\n",
              "      <td>7.20</td>\n",
              "      <td>12.95</td>\n",
              "      <td>3513.86</td>\n",
              "      <td>601.0</td>\n",
              "      <td>21.00</td>\n",
              "      <td>18209.0</td>\n",
              "      <td>1.62</td>\n",
              "      <td>0.0</td>\n",
              "      <td>0.0</td>\n",
              "      <td>0.00</td>\n",
              "    </tr>\n",
              "    <tr>\n",
              "      <th>2019/12\\n(IFRS연결)</th>\n",
              "      <td>3728.0</td>\n",
              "      <td>641.0</td>\n",
              "      <td>641.0</td>\n",
              "      <td>769.0</td>\n",
              "      <td>526.0</td>\n",
              "      <td>526.0</td>\n",
              "      <td>0.0</td>\n",
              "      <td>44381.0</td>\n",
              "      <td>7204.0</td>\n",
              "      <td>37178.0</td>\n",
              "      <td>37177.0</td>\n",
              "      <td>0.0</td>\n",
              "      <td>1070.0</td>\n",
              "      <td>2067.0</td>\n",
              "      <td>-2370.0</td>\n",
              "      <td>-4.0</td>\n",
              "      <td>383.0</td>\n",
              "      <td>1684.0</td>\n",
              "      <td>680.0</td>\n",
              "      <td>17.18</td>\n",
              "      <td>14.11</td>\n",
              "      <td>9.16</td>\n",
              "      <td>7.72</td>\n",
              "      <td>19.38</td>\n",
              "      <td>3538.24</td>\n",
              "      <td>246.0</td>\n",
              "      <td>18.92</td>\n",
              "      <td>18337.0</td>\n",
              "      <td>1.61</td>\n",
              "      <td>900.0</td>\n",
              "      <td>0.0</td>\n",
              "      <td>346.75</td>\n",
              "    </tr>\n",
              "  </tbody>\n",
              "</table>\n",
              "</div>"
            ],
            "text/plain": [
              "주요재무정보                매출액    영업이익  영업이익(발표기준)  ...  현금DPS(원)  현금배당수익률  현금배당성향(%)\n",
              "2019/09\\n(IFRS연결)  4055.0  1392.0      1392.0  ...       0.0      0.0       0.00\n",
              "2019/12\\n(IFRS연결)  3728.0   641.0       641.0  ...     900.0      0.0     346.75\n",
              "\n",
              "[2 rows x 32 columns]"
            ]
          },
          "metadata": {
            "tags": []
          },
          "execution_count": 13
        }
      ]
    },
    {
      "cell_type": "markdown",
      "metadata": {
        "id": "156P6ndeKojO"
      },
      "source": [
        "## 2. 데이터 확인\n",
        "\n",
        "- 데이터의 dimension을 확인하세요.\n",
        "- 데이터의 결측치가 어디에 있는지 확인 후 0으로 대체하세요.\n",
        "- 각 데이터 별로 ROA의 값을 barplot으로 시각화하세요.\n"
      ]
    },
    {
      "cell_type": "markdown",
      "metadata": {
        "id": "lYNKb_eTVtjk"
      },
      "source": [
        "### 데이터셋의 Dimension 확인"
      ]
    },
    {
      "cell_type": "code",
      "metadata": {
        "id": "mZzecs5pU1a1",
        "colab": {
          "base_uri": "https://localhost:8080/"
        },
        "outputId": "3cbd7d6d-dd1e-4331-a809-1004a6461a09"
      },
      "source": [
        "data_1=pd.DataFrame(data_1)                                                             \r\n",
        "print(\"data_1의 디멘션: \", data_1.shape, '\\n') \r\n",
        "\r\n",
        "data_2=pd.DataFrame(data_2)                                                             \r\n",
        "print(\"data_2의 디멘션: \", data_2.shape)"
      ],
      "execution_count": null,
      "outputs": [
        {
          "output_type": "stream",
          "text": [
            "data_1의 디멘션:  (32, 9) \n",
            "\n",
            "data_2의 디멘션:  (32, 9)\n"
          ],
          "name": "stdout"
        }
      ]
    },
    {
      "cell_type": "markdown",
      "metadata": {
        "id": "7XB1dn_SWAUZ"
      },
      "source": [
        "### 데이터셋의 결측치 확인 후 0으로 채우기"
      ]
    },
    {
      "cell_type": "code",
      "metadata": {
        "id": "b4lYyywNogUl",
        "colab": {
          "base_uri": "https://localhost:8080/"
        },
        "outputId": "6c6f76e2-bd03-4767-b2f8-41b3d24d1bd6"
      },
      "source": [
        "data_1.set_index(keys='주요재무정보',inplace=True)\r\n",
        "data_1=data_1.T                                                                        \r\n",
        "print(\"data_1의 null 위치: \\n\",data_1.isnull())                                 \r\n",
        "data_1= data_1.fillna(0)                                                               \r\n",
        "print(\"\\n data_1의 null값 채운 후의 null 위치: \\n\",data_1.isnull(), '\\n')"
      ],
      "execution_count": null,
      "outputs": [
        {
          "output_type": "stream",
          "text": [
            "data_1의 null 위치: \n",
            " 주요재무정보                  매출액   영업이익  영업이익(발표기준)  ...  현금DPS(원)  현금배당수익률  현금배당성향(%)\n",
            "2019/09\\n(IFRS연결)     False  False       False  ...     False     True      False\n",
            "2019/12\\n(IFRS연결)     False  False       False  ...     False     True      False\n",
            "2020/03\\n(IFRS연결)     False  False       False  ...      True     True      False\n",
            "2020/06\\n(IFRS연결)     False  False       False  ...      True     True      False\n",
            "2020/09\\n(IFRS연결)     False  False       False  ...      True     True       True\n",
            "2020/12(E)\\n(IFRS연결)  False  False        True  ...      True     True       True\n",
            "2021/03(E)\\n(IFRS연결)  False  False        True  ...      True     True       True\n",
            "2021/06(E)\\n(IFRS연결)  False  False        True  ...      True     True       True\n",
            "\n",
            "[8 rows x 32 columns]\n",
            "\n",
            " data_1의 null값 채운 후의 null 위치: \n",
            " 주요재무정보                  매출액   영업이익  영업이익(발표기준)  ...  현금DPS(원)  현금배당수익률  현금배당성향(%)\n",
            "2019/09\\n(IFRS연결)     False  False       False  ...     False    False      False\n",
            "2019/12\\n(IFRS연결)     False  False       False  ...     False    False      False\n",
            "2020/03\\n(IFRS연결)     False  False       False  ...     False    False      False\n",
            "2020/06\\n(IFRS연결)     False  False       False  ...     False    False      False\n",
            "2020/09\\n(IFRS연결)     False  False       False  ...     False    False      False\n",
            "2020/12(E)\\n(IFRS연결)  False  False       False  ...     False    False      False\n",
            "2021/03(E)\\n(IFRS연결)  False  False       False  ...     False    False      False\n",
            "2021/06(E)\\n(IFRS연결)  False  False       False  ...     False    False      False\n",
            "\n",
            "[8 rows x 32 columns] \n",
            "\n"
          ],
          "name": "stdout"
        }
      ]
    },
    {
      "cell_type": "code",
      "metadata": {
        "colab": {
          "base_uri": "https://localhost:8080/"
        },
        "id": "fDT7DGPGWN8Y",
        "outputId": "ca80b369-a4c7-47e9-8fb1-3077a6bb8b70"
      },
      "source": [
        "data_2.set_index(keys='주요재무정보',inplace=True)\r\n",
        "data_2=data_2.T                                                                        \r\n",
        "print(\"data_2의 null 위치: \\n\",data_2.isnull())                                 \r\n",
        "data_2= data_2.fillna(0)                                                               \r\n",
        "print(\"\\n data_2의 null값 채운 후의 null 위치: \\n\",data_2.isnull(), '\\n')"
      ],
      "execution_count": null,
      "outputs": [
        {
          "output_type": "stream",
          "text": [
            "data_2의 null 위치: \n",
            " 주요재무정보                  매출액   영업이익  영업이익(발표기준)  ...  현금DPS(원)  현금배당수익률  현금배당성향(%)\n",
            "2019/09\\n(IFRS연결)     False  False       False  ...     False     True      False\n",
            "2019/12\\n(IFRS연결)     False  False       False  ...     False     True      False\n",
            "2020/03\\n(IFRS연결)     False  False       False  ...      True     True       True\n",
            "2020/06\\n(IFRS연결)     False  False       False  ...      True     True      False\n",
            "2020/09\\n(IFRS연결)     False  False       False  ...      True     True       True\n",
            "2020/12(E)\\n(IFRS연결)  False  False        True  ...      True     True       True\n",
            "2021/03(E)\\n(IFRS연결)  False  False        True  ...      True     True       True\n",
            "2021/06(E)\\n(IFRS연결)  False  False        True  ...      True     True       True\n",
            "\n",
            "[8 rows x 32 columns]\n",
            "\n",
            " data_2의 null값 채운 후의 null 위치: \n",
            " 주요재무정보                  매출액   영업이익  영업이익(발표기준)  ...  현금DPS(원)  현금배당수익률  현금배당성향(%)\n",
            "2019/09\\n(IFRS연결)     False  False       False  ...     False    False      False\n",
            "2019/12\\n(IFRS연결)     False  False       False  ...     False    False      False\n",
            "2020/03\\n(IFRS연결)     False  False       False  ...     False    False      False\n",
            "2020/06\\n(IFRS연결)     False  False       False  ...     False    False      False\n",
            "2020/09\\n(IFRS연결)     False  False       False  ...     False    False      False\n",
            "2020/12(E)\\n(IFRS연결)  False  False       False  ...     False    False      False\n",
            "2021/03(E)\\n(IFRS연결)  False  False       False  ...     False    False      False\n",
            "2021/06(E)\\n(IFRS연결)  False  False       False  ...     False    False      False\n",
            "\n",
            "[8 rows x 32 columns] \n",
            "\n"
          ],
          "name": "stdout"
        }
      ]
    }
  ]
}