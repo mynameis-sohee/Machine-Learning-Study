{
  "nbformat": 4,
  "nbformat_minor": 0,
  "metadata": {
    "colab": {
      "name": "[텍스트마이닝] 02. NLP 실습 - 옷 리뷰 추천 별 토큰 분포 비교",
      "provenance": [],
      "collapsed_sections": []
    },
    "kernelspec": {
      "name": "python3",
      "display_name": "Python 3"
    },
    "toc-autonumbering": false,
    "language_info": {
      "name": "python"
    },
    "accelerator": "GPU"
  },
  "cells": [
    {
      "cell_type": "markdown",
      "metadata": {
        "id": "F7MZjWleb4qv"
      },
      "source": [
        "# **Text Preprocessing for NLP**\n",
        "\n",
        "* 사용할 데이터:  https://www.kaggle.com/nicapotato/womens-ecommerce-clothing-reviews\n",
        "\n",
        "* 분석 목표: 캐글 옷 리뷰 데이터의 텍스트 칼럼(Review Text)에서 토큰(단어)를 추출하고 추천(Recommended IND)을 할지(1) 안 할지(0)에 따른 토큰의 빈도를 살펴 보는 것"
      ]
    },
    {
      "cell_type": "markdown",
      "metadata": {
        "id": "cnaggR-HSrLT"
      },
      "source": [
        "### **Kaggle 데이터를 Colab에 업로드**"
      ]
    },
    {
      "cell_type": "code",
      "metadata": {
        "colab": {
          "resources": {
            "http://localhost:8080/nbextensions/google.colab/files.js": {
              "data": "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",
              "ok": true,
              "headers": [
                [
                  "content-type",
                  "application/javascript"
                ]
              ],
              "status": 200,
              "status_text": ""
            }
          },
          "base_uri": "https://localhost:8080/",
          "height": 94
        },
        "id": "fT7hZVGaQ2c6",
        "outputId": "742ca9af-6565-4745-e208-114e642371aa"
      },
      "source": [
        "# Kaggle 데이터를 Colab에 업로드하는 방법: 1. Kaggle API 발급 후 files에 업로드   2. 아래 코드 진행  3. !kaggle datasets download -d 데이터작성자명/데이터이름\n",
        "\n",
        "from google.colab import files\n",
        "files.upload()"
      ],
      "execution_count": 1,
      "outputs": [
        {
          "output_type": "display_data",
          "data": {
            "text/html": [
              "\n",
              "     <input type=\"file\" id=\"files-0fa77bcc-f195-4478-bbf1-14ea4090725a\" name=\"files[]\" multiple disabled\n",
              "        style=\"border:none\" />\n",
              "     <output id=\"result-0fa77bcc-f195-4478-bbf1-14ea4090725a\">\n",
              "      Upload widget is only available when the cell has been executed in the\n",
              "      current browser session. Please rerun this cell to enable.\n",
              "      </output>\n",
              "      <script src=\"/nbextensions/google.colab/files.js\"></script> "
            ],
            "text/plain": [
              "<IPython.core.display.HTML object>"
            ]
          },
          "metadata": {
            "tags": []
          }
        },
        {
          "output_type": "stream",
          "text": [
            "Saving kaggle.json to kaggle.json\n"
          ],
          "name": "stdout"
        },
        {
          "output_type": "execute_result",
          "data": {
            "text/plain": [
              "{'kaggle.json': b'{\"username\":\"soheeh\",\"key\":\"77999eec7191489836bb985c79610edf\"}'}"
            ]
          },
          "metadata": {
            "tags": []
          },
          "execution_count": 1
        }
      ]
    },
    {
      "cell_type": "code",
      "metadata": {
        "id": "lZxyDO0DSC2G"
      },
      "source": [
        "!mkdir -p ~/.kaggle\n",
        "!cp kaggle.json ~/.kaggle/\n",
        "!chmod 600 ~/.kaggle/kaggle.json"
      ],
      "execution_count": 2,
      "outputs": []
    },
    {
      "cell_type": "code",
      "metadata": {
        "colab": {
          "base_uri": "https://localhost:8080/"
        },
        "id": "6fkhNlaASHkG",
        "outputId": "0935d1ba-80f6-497a-e1a3-8b756792bb54"
      },
      "source": [
        "!kaggle datasets download -d nicapotato/womens-ecommerce-clothing-reviews"
      ],
      "execution_count": 3,
      "outputs": [
        {
          "output_type": "stream",
          "text": [
            "Downloading womens-ecommerce-clothing-reviews.zip to /content\n",
            "\r  0% 0.00/2.79M [00:00<?, ?B/s]\n",
            "\r100% 2.79M/2.79M [00:00<00:00, 93.7MB/s]\n"
          ],
          "name": "stdout"
        }
      ]
    },
    {
      "cell_type": "code",
      "metadata": {
        "colab": {
          "base_uri": "https://localhost:8080/"
        },
        "id": "6hIq0zJ6uWw4",
        "outputId": "a010928a-8da7-4d32-f7e4-f33be872f8f5"
      },
      "source": [
        "!unzip womens-ecommerce-clothing-reviews.zip"
      ],
      "execution_count": 4,
      "outputs": [
        {
          "output_type": "stream",
          "text": [
            "Archive:  womens-ecommerce-clothing-reviews.zip\n",
            "  inflating: Womens Clothing E-Commerce Reviews.csv  \n"
          ],
          "name": "stdout"
        }
      ]
    },
    {
      "cell_type": "code",
      "metadata": {
        "colab": {
          "base_uri": "https://localhost:8080/",
          "height": 186
        },
        "id": "MBLzxdR-uPNQ",
        "outputId": "67a353b0-6f75-418d-c20c-621e5f4973b1"
      },
      "source": [
        "import pandas as pd\n",
        "\n",
        "df = pd.read_csv(\"Womens Clothing E-Commerce Reviews.csv\")\n",
        "df.head(3)"
      ],
      "execution_count": 5,
      "outputs": [
        {
          "output_type": "execute_result",
          "data": {
            "text/html": [
              "<div>\n",
              "<style scoped>\n",
              "    .dataframe tbody tr th:only-of-type {\n",
              "        vertical-align: middle;\n",
              "    }\n",
              "\n",
              "    .dataframe tbody tr th {\n",
              "        vertical-align: top;\n",
              "    }\n",
              "\n",
              "    .dataframe thead th {\n",
              "        text-align: right;\n",
              "    }\n",
              "</style>\n",
              "<table border=\"1\" class=\"dataframe\">\n",
              "  <thead>\n",
              "    <tr style=\"text-align: right;\">\n",
              "      <th></th>\n",
              "      <th>Unnamed: 0</th>\n",
              "      <th>Clothing ID</th>\n",
              "      <th>Age</th>\n",
              "      <th>Title</th>\n",
              "      <th>Review Text</th>\n",
              "      <th>Rating</th>\n",
              "      <th>Recommended IND</th>\n",
              "      <th>Positive Feedback Count</th>\n",
              "      <th>Division Name</th>\n",
              "      <th>Department Name</th>\n",
              "      <th>Class Name</th>\n",
              "    </tr>\n",
              "  </thead>\n",
              "  <tbody>\n",
              "    <tr>\n",
              "      <th>0</th>\n",
              "      <td>0</td>\n",
              "      <td>767</td>\n",
              "      <td>33</td>\n",
              "      <td>NaN</td>\n",
              "      <td>Absolutely wonderful - silky and sexy and comf...</td>\n",
              "      <td>4</td>\n",
              "      <td>1</td>\n",
              "      <td>0</td>\n",
              "      <td>Initmates</td>\n",
              "      <td>Intimate</td>\n",
              "      <td>Intimates</td>\n",
              "    </tr>\n",
              "    <tr>\n",
              "      <th>1</th>\n",
              "      <td>1</td>\n",
              "      <td>1080</td>\n",
              "      <td>34</td>\n",
              "      <td>NaN</td>\n",
              "      <td>Love this dress!  it's sooo pretty.  i happene...</td>\n",
              "      <td>5</td>\n",
              "      <td>1</td>\n",
              "      <td>4</td>\n",
              "      <td>General</td>\n",
              "      <td>Dresses</td>\n",
              "      <td>Dresses</td>\n",
              "    </tr>\n",
              "    <tr>\n",
              "      <th>2</th>\n",
              "      <td>2</td>\n",
              "      <td>1077</td>\n",
              "      <td>60</td>\n",
              "      <td>Some major design flaws</td>\n",
              "      <td>I had such high hopes for this dress and reall...</td>\n",
              "      <td>3</td>\n",
              "      <td>0</td>\n",
              "      <td>0</td>\n",
              "      <td>General</td>\n",
              "      <td>Dresses</td>\n",
              "      <td>Dresses</td>\n",
              "    </tr>\n",
              "  </tbody>\n",
              "</table>\n",
              "</div>"
            ],
            "text/plain": [
              "   Unnamed: 0  Clothing ID  Age  ... Division Name Department Name  Class Name\n",
              "0           0          767   33  ...     Initmates        Intimate   Intimates\n",
              "1           1         1080   34  ...       General         Dresses     Dresses\n",
              "2           2         1077   60  ...       General         Dresses     Dresses\n",
              "\n",
              "[3 rows x 11 columns]"
            ]
          },
          "metadata": {
            "tags": []
          },
          "execution_count": 5
        }
      ]
    },
    {
      "cell_type": "code",
      "metadata": {
        "colab": {
          "base_uri": "https://localhost:8080/"
        },
        "id": "Yqgojsv1ueCr",
        "outputId": "6396ab10-6e1f-4ddc-cc83-f56314732f1f"
      },
      "source": [
        "df.info()"
      ],
      "execution_count": 6,
      "outputs": [
        {
          "output_type": "stream",
          "text": [
            "<class 'pandas.core.frame.DataFrame'>\n",
            "RangeIndex: 23486 entries, 0 to 23485\n",
            "Data columns (total 11 columns):\n",
            " #   Column                   Non-Null Count  Dtype \n",
            "---  ------                   --------------  ----- \n",
            " 0   Unnamed: 0               23486 non-null  int64 \n",
            " 1   Clothing ID              23486 non-null  int64 \n",
            " 2   Age                      23486 non-null  int64 \n",
            " 3   Title                    19676 non-null  object\n",
            " 4   Review Text              22641 non-null  object\n",
            " 5   Rating                   23486 non-null  int64 \n",
            " 6   Recommended IND          23486 non-null  int64 \n",
            " 7   Positive Feedback Count  23486 non-null  int64 \n",
            " 8   Division Name            23472 non-null  object\n",
            " 9   Department Name          23472 non-null  object\n",
            " 10  Class Name               23472 non-null  object\n",
            "dtypes: int64(6), object(5)\n",
            "memory usage: 2.0+ MB\n"
          ],
          "name": "stdout"
        }
      ]
    },
    {
      "cell_type": "markdown",
      "metadata": {
        "id": "gM63NqETSwij"
      },
      "source": [
        "### **전처리 진행 - 1. 소문자로 통일화**"
      ]
    },
    {
      "cell_type": "code",
      "metadata": {
        "id": "BEDzIMdaNJ_O"
      },
      "source": [
        "# 분석 대상 feature와 target값을 지정합니다.\n",
        "feature = 'Review Text'\n",
        "target = 'Recommended IND'"
      ],
      "execution_count": 7,
      "outputs": []
    },
    {
      "cell_type": "code",
      "metadata": {
        "colab": {
          "base_uri": "https://localhost:8080/"
        },
        "id": "bWGrutrxOg8K",
        "outputId": "480d6e2e-74b4-48ba-d812-65ba287371ac"
      },
      "source": [
        "# 데이터 타입을 String으로 변경 후, lower 함수 활용해 소문자로 변경/저장합니다.\n",
        "df[feature] = df[feature].astype(str)\n",
        "df[feature] = df[feature].apply(lambda x: x.lower())\n",
        "df[feature].head(3)"
      ],
      "execution_count": 9,
      "outputs": [
        {
          "output_type": "execute_result",
          "data": {
            "text/plain": [
              "0    absolutely wonderful - silky and sexy and comf...\n",
              "1    love this dress!  it's sooo pretty.  i happene...\n",
              "2    i had such high hopes for this dress and reall...\n",
              "Name: Review Text, dtype: object"
            ]
          },
          "metadata": {
            "tags": []
          },
          "execution_count": 9
        }
      ]
    },
    {
      "cell_type": "markdown",
      "metadata": {
        "id": "X2lFP1vSTOOc"
      },
      "source": [
        "### **전처리 진행 - 2.필요 없는 부호,공백 등 제거**"
      ]
    },
    {
      "cell_type": "code",
      "metadata": {
        "id": "MGnG8fhrW1g9"
      },
      "source": [
        "# re 라이브러리를 활용해 제거합니다.\n",
        "import re\n",
        "regex = r\"[^a-zA-Z0-9 ]\"\n",
        "subst = \"\"\n",
        "\n",
        "df[feature] = df[feature].apply(lambda x: re.sub(regex, subst, str(x)))"
      ],
      "execution_count": 10,
      "outputs": []
    },
    {
      "cell_type": "code",
      "metadata": {
        "colab": {
          "base_uri": "https://localhost:8080/"
        },
        "id": "SpUXoX_eXtgC",
        "outputId": "4c482cea-cd3a-4edb-9595-de8d8d20307f"
      },
      "source": [
        "# 잘 제거되었는지 확인합니다.\n",
        "df[feature].head(3)"
      ],
      "execution_count": 11,
      "outputs": [
        {
          "output_type": "execute_result",
          "data": {
            "text/plain": [
              "0    absolutely wonderful  silky and sexy and comfo...\n",
              "1    love this dress  its sooo pretty  i happened t...\n",
              "2    i had such high hopes for this dress and reall...\n",
              "Name: Review Text, dtype: object"
            ]
          },
          "metadata": {
            "tags": []
          },
          "execution_count": 11
        }
      ]
    },
    {
      "cell_type": "markdown",
      "metadata": {
        "id": "E2wl-SGOTxIc"
      },
      "source": [
        "### **Tokenization**"
      ]
    },
    {
      "cell_type": "code",
      "metadata": {
        "colab": {
          "base_uri": "https://localhost:8080/"
        },
        "id": "gR_pF5eOT22A",
        "outputId": "0576826d-8cea-4d6d-dcab-96133dcf446e"
      },
      "source": [
        "# 소문자 정제를 완료했으므로, karas에 비해 세밀하게 쪼개는 nltk tokenizer를 활용해 토큰화를 진행합니다.\n",
        "\n",
        "from nltk.tokenize import WordPunctTokenizer\n",
        "\n",
        "df['tokens'] = df[feature].apply(lambda x: WordPunctTokenizer().tokenize(x))\n",
        "df['tokens'].head(3)"
      ],
      "execution_count": 12,
      "outputs": [
        {
          "output_type": "execute_result",
          "data": {
            "text/plain": [
              "0    [absolutely, wonderful, silky, and, sexy, and,...\n",
              "1    [love, this, dress, its, sooo, pretty, i, happ...\n",
              "2    [i, had, such, high, hopes, for, this, dress, ...\n",
              "Name: tokens, dtype: object"
            ]
          },
          "metadata": {
            "tags": []
          },
          "execution_count": 12
        }
      ]
    },
    {
      "cell_type": "markdown",
      "metadata": {
        "id": "RdgRqlzsnxVT"
      },
      "source": [
        "### 3) 정제한 토큰을 시각화 합니다.\n",
        "- Top 10 토큰을 프린트 합니다.\n",
        "- 토큰의 수, 빈도 순위, 존재 문서 수, 비율 등 정보를 계산합니다.\n",
        "- 토큰 순위에 따른 퍼센트 누적 분포 그래프를 시각화 합니다.\n",
        "- 추천(recommended_ind)/비추천에 따라 비교되는 토큰을 시각화 합니다.\n",
        "- 문항 3) 추천 토큰 순위 10개 단어를 입력하시오."
      ]
    },
    {
      "cell_type": "code",
      "metadata": {
        "id": "Ii533sC-nxVT"
      },
      "source": [
        "### 이곳에서 과제를 진행해 주세요 ### "
      ],
      "execution_count": null,
      "outputs": []
    },
    {
      "cell_type": "markdown",
      "metadata": {
        "id": "08DwMzizVuml"
      },
      "source": [
        "### **Token 정보 확인 - 1. 최빈 Token값 확인 (상위 10개)**"
      ]
    },
    {
      "cell_type": "code",
      "metadata": {
        "colab": {
          "base_uri": "https://localhost:8080/"
        },
        "id": "d1xEbB9tVDpS",
        "outputId": "cb4f1380-1fc4-4c53-a4b9-3d9979ee46ab"
      },
      "source": [
        "!pip install squarify"
      ],
      "execution_count": 13,
      "outputs": [
        {
          "output_type": "stream",
          "text": [
            "Collecting squarify\n",
            "  Downloading https://files.pythonhosted.org/packages/0b/2b/2e77c35326efec19819cd1d729540d4d235e6c2a3f37658288a363a67da5/squarify-0.4.3-py3-none-any.whl\n",
            "Installing collected packages: squarify\n",
            "Successfully installed squarify-0.4.3\n"
          ],
          "name": "stdout"
        }
      ]
    },
    {
      "cell_type": "code",
      "metadata": {
        "id": "GZHA9bh72gmV"
      },
      "source": [
        "# 필요한 lib를 import 합니다.\n",
        "from collections import Counter\n",
        "import squarify\n",
        "import matplotlib.pyplot as plt\n",
        "import seaborn as sns\n",
        "from nltk.stem import PorterStemmer"
      ],
      "execution_count": 14,
      "outputs": []
    },
    {
      "cell_type": "code",
      "metadata": {
        "colab": {
          "base_uri": "https://localhost:8080/"
        },
        "id": "yhbsG-8aVMMc",
        "outputId": "b8c68aef-6cb8-4f23-d894-c89c44103472"
      },
      "source": [
        "# df['tokens']의 토큰값들을 Counter 함수에 update 시켜줍니다. 그러면 Counter 함수가 자체적으로 가장 빈도가 높은 토큰들을 순차적으로 출력해줍니다.\n",
        "\n",
        "word_counts = Counter()\n",
        "df['tokens'].apply(lambda x: word_counts.update(x))\n",
        "\n",
        "word_counts.most_common(10)"
      ],
      "execution_count": 15,
      "outputs": [
        {
          "output_type": "execute_result",
          "data": {
            "text/plain": [
              "[('the', 75568),\n",
              " ('i', 58428),\n",
              " ('and', 48805),\n",
              " ('a', 42776),\n",
              " ('it', 42325),\n",
              " ('is', 30614),\n",
              " ('this', 25603),\n",
              " ('to', 24434),\n",
              " ('in', 20550),\n",
              " ('but', 16361)]"
            ]
          },
          "metadata": {
            "tags": []
          },
          "execution_count": 15
        }
      ]
    },
    {
      "cell_type": "markdown",
      "metadata": {
        "id": "ISAxNy0KV-IM"
      },
      "source": [
        "### **Token 정보 확인 - 2. Token의 수**"
      ]
    },
    {
      "cell_type": "code",
      "metadata": {
        "colab": {
          "base_uri": "https://localhost:8080/"
        },
        "id": "u_UFyp_ZV_8Q",
        "outputId": "8f29d115-e37e-4fd0-bfd2-cc75b6756fbc"
      },
      "source": [
        "# 토큰의 종류 수 확인\n",
        "len(word_counts.values())"
      ],
      "execution_count": 16,
      "outputs": [
        {
          "output_type": "execute_result",
          "data": {
            "text/plain": [
              "21078"
            ]
          },
          "metadata": {
            "tags": []
          },
          "execution_count": 16
        }
      ]
    },
    {
      "cell_type": "code",
      "metadata": {
        "colab": {
          "base_uri": "https://localhost:8080/"
        },
        "id": "VwbQIUmDvaPj",
        "outputId": "7603b216-4e79-4b46-8e53-869bb5ed69c9"
      },
      "source": [
        "# 총 토큰 수 확인\n",
        "sum(word_counts.values())"
      ],
      "execution_count": 17,
      "outputs": [
        {
          "output_type": "execute_result",
          "data": {
            "text/plain": [
              "1355958"
            ]
          },
          "metadata": {
            "tags": []
          },
          "execution_count": 17
        }
      ]
    },
    {
      "cell_type": "code",
      "metadata": {
        "id": "Y1Rp4pNUvksI"
      },
      "source": [
        "# 전체 토큰 수 대비 토큰의 차지 비율 확인\n",
        "\n",
        "def word_count(docs):\n",
        "  \n",
        "    # 전체 코퍼스에서 단어 빈도 카운트\n",
        "    word_counts = Counter()\n",
        "\n",
        "    # 단어가 존재하는 문서의 빈도 카운트, 단어가 한 번 이상 존재하면 +1\n",
        "    word_in_docs = Counter()\n",
        "\n",
        "    # 전체 문서의 갯수\n",
        "    total_docs = len(docs)\n",
        "\n",
        "    for doc in docs:\n",
        "        word_counts.update(doc)\n",
        "        word_in_docs.update(set(doc))\n",
        "\n",
        "    temp = zip(word_counts.keys(), word_counts.values())\n",
        "    wc = pd.DataFrame(temp, columns = ['word', 'count'])\n",
        "\n",
        "    # 단어의 순위\n",
        "    # method='first': 같은 값의 경우 먼저나온 요소를 우선\n",
        "    wc['rank'] = wc['count'].rank(method='first', ascending=False)\n",
        "    total = wc['count'].sum()\n",
        "\n",
        "    # 코퍼스 내 단어의 비율\n",
        "    wc['percent'] = wc['count'].apply(lambda x: x / total)\n",
        "    wc = wc.sort_values(by='rank')\n",
        "\n",
        "    # 누적 비율\n",
        "    # cumsum() : cumulative sum\n",
        "    wc['cul_percent'] = wc['percent'].cumsum()\n",
        "\n",
        "    temp2 = zip(word_in_docs.keys(), word_in_docs.values())\n",
        "    ac = pd.DataFrame(temp2, columns=['word', 'word_in_docs'])\n",
        "    wc = ac.merge(wc, on='word')\n",
        "    \n",
        "    # 전체 문서 중 존재하는 비율\n",
        "    wc['word_in_docs_percent'] = wc['word_in_docs'].apply(lambda x: x / total_docs)\n",
        "\n",
        "    return wc.sort_values(by='rank')"
      ],
      "execution_count": 18,
      "outputs": []
    },
    {
      "cell_type": "code",
      "metadata": {
        "id": "IH5kxiWbwHH0"
      },
      "source": [
        "wc_manual = word_count(df['tokens'])"
      ],
      "execution_count": 19,
      "outputs": []
    },
    {
      "cell_type": "code",
      "metadata": {
        "colab": {
          "base_uri": "https://localhost:8080/",
          "height": 343
        },
        "id": "Urg3rgNxwIod",
        "outputId": "0b354d44-bd20-4f44-bb1f-8c45aa9638a1"
      },
      "source": [
        "# 결과 데이터프레임 \n",
        "\n",
        "wc_manual.head(10)"
      ],
      "execution_count": 20,
      "outputs": [
        {
          "output_type": "execute_result",
          "data": {
            "text/html": [
              "<div>\n",
              "<style scoped>\n",
              "    .dataframe tbody tr th:only-of-type {\n",
              "        vertical-align: middle;\n",
              "    }\n",
              "\n",
              "    .dataframe tbody tr th {\n",
              "        vertical-align: top;\n",
              "    }\n",
              "\n",
              "    .dataframe thead th {\n",
              "        text-align: right;\n",
              "    }\n",
              "</style>\n",
              "<table border=\"1\" class=\"dataframe\">\n",
              "  <thead>\n",
              "    <tr style=\"text-align: right;\">\n",
              "      <th></th>\n",
              "      <th>word</th>\n",
              "      <th>word_in_docs</th>\n",
              "      <th>count</th>\n",
              "      <th>rank</th>\n",
              "      <th>percent</th>\n",
              "      <th>cul_percent</th>\n",
              "      <th>word_in_docs_percent</th>\n",
              "    </tr>\n",
              "  </thead>\n",
              "  <tbody>\n",
              "    <tr>\n",
              "      <th>8</th>\n",
              "      <td>the</td>\n",
              "      <td>19673</td>\n",
              "      <td>75568</td>\n",
              "      <td>1.0</td>\n",
              "      <td>0.055730</td>\n",
              "      <td>0.055730</td>\n",
              "      <td>0.837648</td>\n",
              "    </tr>\n",
              "    <tr>\n",
              "      <th>16</th>\n",
              "      <td>i</td>\n",
              "      <td>18902</td>\n",
              "      <td>58428</td>\n",
              "      <td>2.0</td>\n",
              "      <td>0.043090</td>\n",
              "      <td>0.098820</td>\n",
              "      <td>0.804820</td>\n",
              "    </tr>\n",
              "    <tr>\n",
              "      <th>5</th>\n",
              "      <td>and</td>\n",
              "      <td>19535</td>\n",
              "      <td>48805</td>\n",
              "      <td>3.0</td>\n",
              "      <td>0.035993</td>\n",
              "      <td>0.134813</td>\n",
              "      <td>0.831772</td>\n",
              "    </tr>\n",
              "    <tr>\n",
              "      <th>9</th>\n",
              "      <td>a</td>\n",
              "      <td>17747</td>\n",
              "      <td>42776</td>\n",
              "      <td>4.0</td>\n",
              "      <td>0.031547</td>\n",
              "      <td>0.166360</td>\n",
              "      <td>0.755642</td>\n",
              "    </tr>\n",
              "    <tr>\n",
              "      <th>14</th>\n",
              "      <td>it</td>\n",
              "      <td>16284</td>\n",
              "      <td>42325</td>\n",
              "      <td>5.0</td>\n",
              "      <td>0.031214</td>\n",
              "      <td>0.197574</td>\n",
              "      <td>0.693349</td>\n",
              "    </tr>\n",
              "    <tr>\n",
              "      <th>47</th>\n",
              "      <td>is</td>\n",
              "      <td>15337</td>\n",
              "      <td>30614</td>\n",
              "      <td>6.0</td>\n",
              "      <td>0.022577</td>\n",
              "      <td>0.220151</td>\n",
              "      <td>0.653027</td>\n",
              "    </tr>\n",
              "    <tr>\n",
              "      <th>32</th>\n",
              "      <td>this</td>\n",
              "      <td>16467</td>\n",
              "      <td>25603</td>\n",
              "      <td>7.0</td>\n",
              "      <td>0.018882</td>\n",
              "      <td>0.239033</td>\n",
              "      <td>0.701141</td>\n",
              "    </tr>\n",
              "    <tr>\n",
              "      <th>28</th>\n",
              "      <td>to</td>\n",
              "      <td>13827</td>\n",
              "      <td>24434</td>\n",
              "      <td>8.0</td>\n",
              "      <td>0.018020</td>\n",
              "      <td>0.257053</td>\n",
              "      <td>0.588734</td>\n",
              "    </tr>\n",
              "    <tr>\n",
              "      <th>44</th>\n",
              "      <td>in</td>\n",
              "      <td>12302</td>\n",
              "      <td>20550</td>\n",
              "      <td>9.0</td>\n",
              "      <td>0.015155</td>\n",
              "      <td>0.272208</td>\n",
              "      <td>0.523801</td>\n",
              "    </tr>\n",
              "    <tr>\n",
              "      <th>96</th>\n",
              "      <td>but</td>\n",
              "      <td>11704</td>\n",
              "      <td>16361</td>\n",
              "      <td>10.0</td>\n",
              "      <td>0.012066</td>\n",
              "      <td>0.284274</td>\n",
              "      <td>0.498339</td>\n",
              "    </tr>\n",
              "  </tbody>\n",
              "</table>\n",
              "</div>"
            ],
            "text/plain": [
              "    word  word_in_docs  count  ...   percent  cul_percent  word_in_docs_percent\n",
              "8    the         19673  75568  ...  0.055730     0.055730              0.837648\n",
              "16     i         18902  58428  ...  0.043090     0.098820              0.804820\n",
              "5    and         19535  48805  ...  0.035993     0.134813              0.831772\n",
              "9      a         17747  42776  ...  0.031547     0.166360              0.755642\n",
              "14    it         16284  42325  ...  0.031214     0.197574              0.693349\n",
              "47    is         15337  30614  ...  0.022577     0.220151              0.653027\n",
              "32  this         16467  25603  ...  0.018882     0.239033              0.701141\n",
              "28    to         13827  24434  ...  0.018020     0.257053              0.588734\n",
              "44    in         12302  20550  ...  0.015155     0.272208              0.523801\n",
              "96   but         11704  16361  ...  0.012066     0.284274              0.498339\n",
              "\n",
              "[10 rows x 7 columns]"
            ]
          },
          "metadata": {
            "tags": []
          },
          "execution_count": 20
        }
      ]
    },
    {
      "cell_type": "markdown",
      "metadata": {
        "id": "5TTCpmlRx2eI"
      },
      "source": [
        "### **추천(recommended_ind)/비추천에 따라 비교되는 토큰을 시각화**\n"
      ]
    },
    {
      "cell_type": "code",
      "metadata": {
        "id": "_ZT05dWnyaRe"
      },
      "source": [
        "# Recommend, Unrecommend 여부에 따라 달라지는 텍스트 비중 확인위해, df['Recommended IND'] 나눠 token값 집계한 결과값을 추가\n",
        "recomend = Counter()\n",
        "unrecomend = Counter()\n",
        "\n",
        "for index, val in enumerate(df['Recommended IND']) :\n",
        "  if val == 1 :\n",
        "    recomend.update(df['tokens'][index]) \n",
        "  else :\n",
        "    unrecomend.update(df['tokens'][index])\n",
        "\n",
        "unrecommend_df = pd.DataFrame(zip(unrecomend.keys(), unrecomend.values()), columns =['word','unrecommend'])\n",
        "recommend_df = pd.DataFrame(zip(recomend.keys(), recomend.values()), columns =['word','recommend'])"
      ],
      "execution_count": 21,
      "outputs": []
    },
    {
      "cell_type": "code",
      "metadata": {
        "id": "SHAohvxY04lX"
      },
      "source": [
        "wc_manual = wc_manual.merge(unrecommend_df, on='word')\n",
        "wc_manual = wc_manual.merge(recommend_df, on='word')"
      ],
      "execution_count": 22,
      "outputs": []
    },
    {
      "cell_type": "code",
      "metadata": {
        "colab": {
          "base_uri": "https://localhost:8080/",
          "height": 136
        },
        "id": "7r5ZC5Ifz-cE",
        "outputId": "d9bac574-6572-48f9-9f6b-8dc71721d920"
      },
      "source": [
        "wc_manual.head(3)"
      ],
      "execution_count": 23,
      "outputs": [
        {
          "output_type": "execute_result",
          "data": {
            "text/html": [
              "<div>\n",
              "<style scoped>\n",
              "    .dataframe tbody tr th:only-of-type {\n",
              "        vertical-align: middle;\n",
              "    }\n",
              "\n",
              "    .dataframe tbody tr th {\n",
              "        vertical-align: top;\n",
              "    }\n",
              "\n",
              "    .dataframe thead th {\n",
              "        text-align: right;\n",
              "    }\n",
              "</style>\n",
              "<table border=\"1\" class=\"dataframe\">\n",
              "  <thead>\n",
              "    <tr style=\"text-align: right;\">\n",
              "      <th></th>\n",
              "      <th>word</th>\n",
              "      <th>word_in_docs</th>\n",
              "      <th>count</th>\n",
              "      <th>rank</th>\n",
              "      <th>percent</th>\n",
              "      <th>cul_percent</th>\n",
              "      <th>word_in_docs_percent</th>\n",
              "      <th>unrecommend</th>\n",
              "      <th>recommend</th>\n",
              "    </tr>\n",
              "  </thead>\n",
              "  <tbody>\n",
              "    <tr>\n",
              "      <th>0</th>\n",
              "      <td>the</td>\n",
              "      <td>19673</td>\n",
              "      <td>75568</td>\n",
              "      <td>1.0</td>\n",
              "      <td>0.055730</td>\n",
              "      <td>0.055730</td>\n",
              "      <td>0.837648</td>\n",
              "      <td>16012</td>\n",
              "      <td>59556</td>\n",
              "    </tr>\n",
              "    <tr>\n",
              "      <th>1</th>\n",
              "      <td>i</td>\n",
              "      <td>18902</td>\n",
              "      <td>58428</td>\n",
              "      <td>2.0</td>\n",
              "      <td>0.043090</td>\n",
              "      <td>0.098820</td>\n",
              "      <td>0.804820</td>\n",
              "      <td>10654</td>\n",
              "      <td>47774</td>\n",
              "    </tr>\n",
              "    <tr>\n",
              "      <th>2</th>\n",
              "      <td>and</td>\n",
              "      <td>19535</td>\n",
              "      <td>48805</td>\n",
              "      <td>3.0</td>\n",
              "      <td>0.035993</td>\n",
              "      <td>0.134813</td>\n",
              "      <td>0.831772</td>\n",
              "      <td>8188</td>\n",
              "      <td>40617</td>\n",
              "    </tr>\n",
              "  </tbody>\n",
              "</table>\n",
              "</div>"
            ],
            "text/plain": [
              "  word  word_in_docs  count  ...  word_in_docs_percent  unrecommend  recommend\n",
              "0  the         19673  75568  ...              0.837648        16012      59556\n",
              "1    i         18902  58428  ...              0.804820        10654      47774\n",
              "2  and         19535  48805  ...              0.831772         8188      40617\n",
              "\n",
              "[3 rows x 9 columns]"
            ]
          },
          "metadata": {
            "tags": []
          },
          "execution_count": 23
        }
      ]
    },
    {
      "cell_type": "code",
      "metadata": {
        "colab": {
          "base_uri": "https://localhost:8080/",
          "height": 614
        },
        "id": "eiEDmEJw1UrA",
        "outputId": "335e7b02-a8e3-43dc-9fcd-fe284ae532a4"
      },
      "source": [
        "# 트리맵 차트를 이용한 시각화\n",
        "fig, ax = plt.subplots(figsize=(20,10))\n",
        "wc_manual_top10 = wc_manual.sort_values(by='rank')[:10]\n",
        "\n",
        "squarify.plot(sizes=wc_manual_top10['percent'], label=wc_manual_top10['word'], value = wc_manual_top10['count'], alpha=0.6, text_kwargs={'fontsize':15})"
      ],
      "execution_count": 96,
      "outputs": [
        {
          "output_type": "execute_result",
          "data": {
            "text/plain": [
              "<matplotlib.axes._subplots.AxesSubplot at 0x7fbe540cf810>"
            ]
          },
          "metadata": {
            "tags": []
          },
          "execution_count": 96
        },
        {
          "output_type": "display_data",
          "data": {
            "image/png": "[encoded data removed]",
            "text/plain": [
              "<Figure size 1440x720 with 1 Axes>"
            ]
          },
          "metadata": {
            "tags": [],
            "needs_background": "light"
          }
        }
      ]
    },
    {
      "cell_type": "markdown",
      "metadata": {
        "id": "vdnVrk012VQN"
      },
      "source": [
        "**그래프 확인 결과, 불용어가 많은 비율을 차지하여 정제가 필요할 것으로 보임**"
      ]
    },
    {
      "cell_type": "markdown",
      "metadata": {
        "id": "sURsv85FnxVU"
      },
      "source": [
        "### 4) 확장된 불용어 사전을 사용해 토큰을 정제합니다.\n",
        "\n",
        "- 문항 4) 불용어를 제거하고 난 뒤 토큰 순위 10개의 단어를 입력하시오."
      ]
    },
    {
      "cell_type": "markdown",
      "metadata": {
        "id": "_83_4wMswgtr"
      },
      "source": [
        "### **불용어 제거 (Stop Words)**\n",
        "\n",
        "참고링크: 토크나이저 설명 https://spacy.io/api/tokenizer"
      ]
    },
    {
      "cell_type": "code",
      "metadata": {
        "id": "WAGyh77enxVU"
      },
      "source": [
        "# 불용어 제거를 위해 필요한 lib import\n",
        "import spacy\n",
        "from spacy.tokenizer import Tokenizer\n",
        "\n",
        "# tokenizer 생성\n",
        "nlp = spacy.load(\"en_core_web_sm\")\n",
        "tokenizer = Tokenizer(nlp.vocab)\n",
        "\n",
        "# 불용어 사전 검색\n",
        "nlp.Defaults.stop_words"
      ],
      "execution_count": null,
      "outputs": []
    },
    {
      "cell_type": "code",
      "metadata": {
        "id": "SQQmjEen3ONb"
      },
      "source": [
        "# 추가할 불용어 지정\n",
        "STOP_WORDS = nlp.Defaults.stop_words.union(['i','you', 'it', \"'\", 'but', 'to', 'it.', 'the', 'this', ' ', 'im'])"
      ],
      "execution_count": 41,
      "outputs": []
    },
    {
      "cell_type": "code",
      "metadata": {
        "id": "URckluob3k8b"
      },
      "source": [
        "# 토큰을 재정의\n",
        "\n",
        "tokens = []\n",
        "\n",
        "for doc in tokenizer.pipe(df[feature]):\n",
        "    doc_tokens = []\n",
        "    \n",
        "    for token in doc: \n",
        "        if token.text.lower() not in nlp.Defaults.stop_words and token.text.lower() not in STOP_WORDS:\n",
        "            doc_tokens.append(token.text.lower())\n",
        "   \n",
        "    tokens.append(doc_tokens)\n",
        "    \n",
        "df['tokens'] = tokens"
      ],
      "execution_count": 42,
      "outputs": []
    },
    {
      "cell_type": "code",
      "metadata": {
        "id": "fuxGkrur5Svz",
        "colab": {
          "base_uri": "https://localhost:8080/",
          "height": 343
        },
        "outputId": "3be3580b-573c-4ce3-c546-3da2c72b9123"
      },
      "source": [
        "# 불용어 제거된 토큰의 통계값 산출\n",
        "wc_manual = word_count(df['tokens'])\n",
        "wc_manual.head(10)"
      ],
      "execution_count": 43,
      "outputs": [
        {
          "output_type": "execute_result",
          "data": {
            "text/html": [
              "<div>\n",
              "<style scoped>\n",
              "    .dataframe tbody tr th:only-of-type {\n",
              "        vertical-align: middle;\n",
              "    }\n",
              "\n",
              "    .dataframe tbody tr th {\n",
              "        vertical-align: top;\n",
              "    }\n",
              "\n",
              "    .dataframe thead th {\n",
              "        text-align: right;\n",
              "    }\n",
              "</style>\n",
              "<table border=\"1\" class=\"dataframe\">\n",
              "  <thead>\n",
              "    <tr style=\"text-align: right;\">\n",
              "      <th></th>\n",
              "      <th>word</th>\n",
              "      <th>word_in_docs</th>\n",
              "      <th>count</th>\n",
              "      <th>rank</th>\n",
              "      <th>percent</th>\n",
              "      <th>cul_percent</th>\n",
              "      <th>word_in_docs_percent</th>\n",
              "    </tr>\n",
              "  </thead>\n",
              "  <tbody>\n",
              "    <tr>\n",
              "      <th>11</th>\n",
              "      <td>dress</td>\n",
              "      <td>6034</td>\n",
              "      <td>10428</td>\n",
              "      <td>1.0</td>\n",
              "      <td>0.017934</td>\n",
              "      <td>0.017934</td>\n",
              "      <td>0.256919</td>\n",
              "    </tr>\n",
              "    <tr>\n",
              "      <th>17</th>\n",
              "      <td>love</td>\n",
              "      <td>7386</td>\n",
              "      <td>8883</td>\n",
              "      <td>2.0</td>\n",
              "      <td>0.015277</td>\n",
              "      <td>0.033212</td>\n",
              "      <td>0.314485</td>\n",
              "    </tr>\n",
              "    <tr>\n",
              "      <th>46</th>\n",
              "      <td>size</td>\n",
              "      <td>6517</td>\n",
              "      <td>8653</td>\n",
              "      <td>3.0</td>\n",
              "      <td>0.014882</td>\n",
              "      <td>0.048093</td>\n",
              "      <td>0.277484</td>\n",
              "    </tr>\n",
              "    <tr>\n",
              "      <th>58</th>\n",
              "      <td>fit</td>\n",
              "      <td>6107</td>\n",
              "      <td>7191</td>\n",
              "      <td>4.0</td>\n",
              "      <td>0.012367</td>\n",
              "      <td>0.060461</td>\n",
              "      <td>0.260027</td>\n",
              "    </tr>\n",
              "    <tr>\n",
              "      <th>123</th>\n",
              "      <td>like</td>\n",
              "      <td>5722</td>\n",
              "      <td>6984</td>\n",
              "      <td>5.0</td>\n",
              "      <td>0.012011</td>\n",
              "      <td>0.072472</td>\n",
              "      <td>0.243635</td>\n",
              "    </tr>\n",
              "    <tr>\n",
              "      <th>67</th>\n",
              "      <td>wear</td>\n",
              "      <td>5514</td>\n",
              "      <td>6407</td>\n",
              "      <td>6.0</td>\n",
              "      <td>0.011019</td>\n",
              "      <td>0.083491</td>\n",
              "      <td>0.234778</td>\n",
              "    </tr>\n",
              "    <tr>\n",
              "      <th>66</th>\n",
              "      <td>great</td>\n",
              "      <td>5157</td>\n",
              "      <td>6053</td>\n",
              "      <td>7.0</td>\n",
              "      <td>0.010410</td>\n",
              "      <td>0.093901</td>\n",
              "      <td>0.219578</td>\n",
              "    </tr>\n",
              "    <tr>\n",
              "      <th>181</th>\n",
              "      <td>fabric</td>\n",
              "      <td>4102</td>\n",
              "      <td>4731</td>\n",
              "      <td>8.0</td>\n",
              "      <td>0.008137</td>\n",
              "      <td>0.102038</td>\n",
              "      <td>0.174657</td>\n",
              "    </tr>\n",
              "    <tr>\n",
              "      <th>56</th>\n",
              "      <td>small</td>\n",
              "      <td>3643</td>\n",
              "      <td>4530</td>\n",
              "      <td>9.0</td>\n",
              "      <td>0.007791</td>\n",
              "      <td>0.109828</td>\n",
              "      <td>0.155114</td>\n",
              "    </tr>\n",
              "    <tr>\n",
              "      <th>99</th>\n",
              "      <td>color</td>\n",
              "      <td>3999</td>\n",
              "      <td>4530</td>\n",
              "      <td>10.0</td>\n",
              "      <td>0.007791</td>\n",
              "      <td>0.117619</td>\n",
              "      <td>0.170272</td>\n",
              "    </tr>\n",
              "  </tbody>\n",
              "</table>\n",
              "</div>"
            ],
            "text/plain": [
              "       word  word_in_docs  count  ...   percent  cul_percent  word_in_docs_percent\n",
              "11    dress          6034  10428  ...  0.017934     0.017934              0.256919\n",
              "17     love          7386   8883  ...  0.015277     0.033212              0.314485\n",
              "46     size          6517   8653  ...  0.014882     0.048093              0.277484\n",
              "58      fit          6107   7191  ...  0.012367     0.060461              0.260027\n",
              "123    like          5722   6984  ...  0.012011     0.072472              0.243635\n",
              "67     wear          5514   6407  ...  0.011019     0.083491              0.234778\n",
              "66    great          5157   6053  ...  0.010410     0.093901              0.219578\n",
              "181  fabric          4102   4731  ...  0.008137     0.102038              0.174657\n",
              "56    small          3643   4530  ...  0.007791     0.109828              0.155114\n",
              "99    color          3999   4530  ...  0.007791     0.117619              0.170272\n",
              "\n",
              "[10 rows x 7 columns]"
            ]
          },
          "metadata": {
            "tags": []
          },
          "execution_count": 43
        }
      ]
    },
    {
      "cell_type": "code",
      "metadata": {
        "id": "Tc8pA_HH5cx1"
      },
      "source": [
        "recomend = Counter()\n",
        "unrecomend = Counter()\n",
        "\n",
        "for index, val in enumerate(df['Recommended IND']) :\n",
        "  if val == 1 :\n",
        "    recomend.update(df['tokens'][index]) \n",
        "  else :\n",
        "    unrecomend.update(df['tokens'][index])\n",
        "\n",
        "unrecommend_df = pd.DataFrame(zip(unrecomend.keys(), unrecomend.values()), columns =['word','unrecommend'])\n",
        "recommend_df = pd.DataFrame(zip(recomend.keys(), recomend.values()), columns =['word','recommend'])\n",
        "\n",
        "wc_manual = wc_manual.merge(unrecommend_df, on='word')\n",
        "wc_manual = wc_manual.merge(recommend_df, on='word')"
      ],
      "execution_count": 44,
      "outputs": []
    },
    {
      "cell_type": "code",
      "metadata": {
        "colab": {
          "base_uri": "https://localhost:8080/",
          "height": 343
        },
        "id": "7qItbqANNAdP",
        "outputId": "e132aa7f-c07b-46cc-a8c2-443899ac169f"
      },
      "source": [
        "wc_manual.head(10)"
      ],
      "execution_count": 45,
      "outputs": [
        {
          "output_type": "execute_result",
          "data": {
            "text/html": [
              "<div>\n",
              "<style scoped>\n",
              "    .dataframe tbody tr th:only-of-type {\n",
              "        vertical-align: middle;\n",
              "    }\n",
              "\n",
              "    .dataframe tbody tr th {\n",
              "        vertical-align: top;\n",
              "    }\n",
              "\n",
              "    .dataframe thead th {\n",
              "        text-align: right;\n",
              "    }\n",
              "</style>\n",
              "<table border=\"1\" class=\"dataframe\">\n",
              "  <thead>\n",
              "    <tr style=\"text-align: right;\">\n",
              "      <th></th>\n",
              "      <th>word</th>\n",
              "      <th>word_in_docs</th>\n",
              "      <th>count</th>\n",
              "      <th>rank</th>\n",
              "      <th>percent</th>\n",
              "      <th>cul_percent</th>\n",
              "      <th>word_in_docs_percent</th>\n",
              "      <th>unrecommend</th>\n",
              "      <th>recommend</th>\n",
              "    </tr>\n",
              "  </thead>\n",
              "  <tbody>\n",
              "    <tr>\n",
              "      <th>0</th>\n",
              "      <td>dress</td>\n",
              "      <td>6034</td>\n",
              "      <td>10428</td>\n",
              "      <td>1.0</td>\n",
              "      <td>0.017934</td>\n",
              "      <td>0.017934</td>\n",
              "      <td>0.256919</td>\n",
              "      <td>1957</td>\n",
              "      <td>8471</td>\n",
              "    </tr>\n",
              "    <tr>\n",
              "      <th>1</th>\n",
              "      <td>love</td>\n",
              "      <td>7386</td>\n",
              "      <td>8883</td>\n",
              "      <td>2.0</td>\n",
              "      <td>0.015277</td>\n",
              "      <td>0.033212</td>\n",
              "      <td>0.314485</td>\n",
              "      <td>922</td>\n",
              "      <td>7961</td>\n",
              "    </tr>\n",
              "    <tr>\n",
              "      <th>2</th>\n",
              "      <td>size</td>\n",
              "      <td>6517</td>\n",
              "      <td>8653</td>\n",
              "      <td>3.0</td>\n",
              "      <td>0.014882</td>\n",
              "      <td>0.048093</td>\n",
              "      <td>0.277484</td>\n",
              "      <td>1191</td>\n",
              "      <td>7462</td>\n",
              "    </tr>\n",
              "    <tr>\n",
              "      <th>3</th>\n",
              "      <td>fit</td>\n",
              "      <td>6107</td>\n",
              "      <td>7191</td>\n",
              "      <td>4.0</td>\n",
              "      <td>0.012367</td>\n",
              "      <td>0.060461</td>\n",
              "      <td>0.260027</td>\n",
              "      <td>1308</td>\n",
              "      <td>5883</td>\n",
              "    </tr>\n",
              "    <tr>\n",
              "      <th>4</th>\n",
              "      <td>like</td>\n",
              "      <td>5722</td>\n",
              "      <td>6984</td>\n",
              "      <td>5.0</td>\n",
              "      <td>0.012011</td>\n",
              "      <td>0.072472</td>\n",
              "      <td>0.243635</td>\n",
              "      <td>1735</td>\n",
              "      <td>5249</td>\n",
              "    </tr>\n",
              "    <tr>\n",
              "      <th>5</th>\n",
              "      <td>wear</td>\n",
              "      <td>5514</td>\n",
              "      <td>6407</td>\n",
              "      <td>6.0</td>\n",
              "      <td>0.011019</td>\n",
              "      <td>0.083491</td>\n",
              "      <td>0.234778</td>\n",
              "      <td>752</td>\n",
              "      <td>5655</td>\n",
              "    </tr>\n",
              "    <tr>\n",
              "      <th>6</th>\n",
              "      <td>great</td>\n",
              "      <td>5157</td>\n",
              "      <td>6053</td>\n",
              "      <td>7.0</td>\n",
              "      <td>0.010410</td>\n",
              "      <td>0.093901</td>\n",
              "      <td>0.219578</td>\n",
              "      <td>526</td>\n",
              "      <td>5527</td>\n",
              "    </tr>\n",
              "    <tr>\n",
              "      <th>7</th>\n",
              "      <td>fabric</td>\n",
              "      <td>4102</td>\n",
              "      <td>4731</td>\n",
              "      <td>8.0</td>\n",
              "      <td>0.008137</td>\n",
              "      <td>0.102038</td>\n",
              "      <td>0.174657</td>\n",
              "      <td>1231</td>\n",
              "      <td>3500</td>\n",
              "    </tr>\n",
              "    <tr>\n",
              "      <th>8</th>\n",
              "      <td>small</td>\n",
              "      <td>3643</td>\n",
              "      <td>4530</td>\n",
              "      <td>9.0</td>\n",
              "      <td>0.007791</td>\n",
              "      <td>0.109828</td>\n",
              "      <td>0.155114</td>\n",
              "      <td>877</td>\n",
              "      <td>3653</td>\n",
              "    </tr>\n",
              "    <tr>\n",
              "      <th>9</th>\n",
              "      <td>color</td>\n",
              "      <td>3999</td>\n",
              "      <td>4530</td>\n",
              "      <td>10.0</td>\n",
              "      <td>0.007791</td>\n",
              "      <td>0.117619</td>\n",
              "      <td>0.170272</td>\n",
              "      <td>705</td>\n",
              "      <td>3825</td>\n",
              "    </tr>\n",
              "  </tbody>\n",
              "</table>\n",
              "</div>"
            ],
            "text/plain": [
              "     word  word_in_docs  count  ...  word_in_docs_percent  unrecommend  recommend\n",
              "0   dress          6034  10428  ...              0.256919         1957       8471\n",
              "1    love          7386   8883  ...              0.314485          922       7961\n",
              "2    size          6517   8653  ...              0.277484         1191       7462\n",
              "3     fit          6107   7191  ...              0.260027         1308       5883\n",
              "4    like          5722   6984  ...              0.243635         1735       5249\n",
              "5    wear          5514   6407  ...              0.234778          752       5655\n",
              "6   great          5157   6053  ...              0.219578          526       5527\n",
              "7  fabric          4102   4731  ...              0.174657         1231       3500\n",
              "8   small          3643   4530  ...              0.155114          877       3653\n",
              "9   color          3999   4530  ...              0.170272          705       3825\n",
              "\n",
              "[10 rows x 9 columns]"
            ]
          },
          "metadata": {
            "tags": []
          },
          "execution_count": 45
        }
      ]
    },
    {
      "cell_type": "markdown",
      "metadata": {
        "id": "yYg-7lGXnxVU"
      },
      "source": [
        "### 5) 통계적 트리밍 사용 전/후 토큰 분포를 비교합니다.\n",
        "- 문서 등장 비율이 20% 미만이고, 최소 1% 이상 등장하는 단어만 선택한 뒤,\n",
        "- 통계적 트리밍 사용 전/후 토큰 분포 시각화하고,\n",
        "- 문항 5-1) 통계적 트리밍 후 상위 토큰 10개의 단어를 입력하시오.\n",
        "- 문항 5-2) 불용어 처리 & 통계적 트리밍 후 상위 토큰 10개의 단어를 입력하시오."
      ]
    },
    {
      "cell_type": "markdown",
      "metadata": {
        "id": "gJ1iKv4JR3Ax"
      },
      "source": [
        "### **통계적 트리밍**\n",
        "※ 통계적 트리밍이란 : 기존에 알려진 불용어를 제거하는 대신 코퍼스에서 통계적인 방법을 통해 단어를 제거하는 방법"
      ]
    },
    {
      "cell_type": "code",
      "metadata": {
        "id": "ImuyJNmenxVU",
        "colab": {
          "base_uri": "https://localhost:8080/",
          "height": 279
        },
        "outputId": "5cf0e8e1-cfb1-4462-ed5a-c7495c8ad30e"
      },
      "source": [
        "# 통계적 트리밍 사용 이전 결과. 상위 1,500여개가 전체의 약 80% 이상을 차지하는 것을 알 수 있음\n",
        "sns.lineplot(x='rank', y='cul_percent', data=wc_manual);"
      ],
      "execution_count": 54,
      "outputs": [
        {
          "output_type": "display_data",
          "data": {
            "image/png": "[encoded data removed]",
            "text/plain": [
              "<Figure size 432x288 with 1 Axes>"
            ]
          },
          "metadata": {
            "tags": [],
            "needs_background": "light"
          }
        }
      ]
    },
    {
      "cell_type": "code",
      "metadata": {
        "colab": {
          "base_uri": "https://localhost:8080/",
          "height": 369
        },
        "id": "NKZG3k3sSJgB",
        "outputId": "c981c5d4-a6bc-4ed8-8f49-ac5742196ab4"
      },
      "source": [
        "# 통계적 트리밍 사용 이후 결과. 문서 등장 비율이 20% 미만이고, 최소 1% 이상 등장하는 단어만 지정\n",
        "wc_manual_trimming = wc_manual[(wc_manual['word_in_docs_percent']<=0.2) & (wc_manual['word_in_docs_percent']>=0.01)]\n",
        "\n",
        "# 선형 그래프 출력해야 하므로, kind='kde'로 지정\n",
        "sns.displot(wc_manual_trimming['word_in_docs_percent'], kind='kde');"
      ],
      "execution_count": 58,
      "outputs": [
        {
          "output_type": "display_data",
          "data": {
            "image/png": "[encoded data removed]",
            "text/plain": [
              "<Figure size 360x360 with 1 Axes>"
            ]
          },
          "metadata": {
            "tags": [],
            "needs_background": "light"
          }
        }
      ]
    },
    {
      "cell_type": "code",
      "metadata": {
        "colab": {
          "base_uri": "https://localhost:8080/",
          "height": 343
        },
        "id": "m7n6LRsaULVr",
        "outputId": "3d5285b5-1a0e-42c0-9ea2-69a495abd1be"
      },
      "source": [
        "# 통계적 트리밍 이후 토큰 분포 확인\n",
        "wc_manual_trimming.head(10)"
      ],
      "execution_count": 62,
      "outputs": [
        {
          "output_type": "execute_result",
          "data": {
            "text/html": [
              "<div>\n",
              "<style scoped>\n",
              "    .dataframe tbody tr th:only-of-type {\n",
              "        vertical-align: middle;\n",
              "    }\n",
              "\n",
              "    .dataframe tbody tr th {\n",
              "        vertical-align: top;\n",
              "    }\n",
              "\n",
              "    .dataframe thead th {\n",
              "        text-align: right;\n",
              "    }\n",
              "</style>\n",
              "<table border=\"1\" class=\"dataframe\">\n",
              "  <thead>\n",
              "    <tr style=\"text-align: right;\">\n",
              "      <th></th>\n",
              "      <th>word</th>\n",
              "      <th>word_in_docs</th>\n",
              "      <th>count</th>\n",
              "      <th>rank</th>\n",
              "      <th>percent</th>\n",
              "      <th>cul_percent</th>\n",
              "      <th>word_in_docs_percent</th>\n",
              "      <th>unrecommend</th>\n",
              "      <th>recommend</th>\n",
              "    </tr>\n",
              "  </thead>\n",
              "  <tbody>\n",
              "    <tr>\n",
              "      <th>7</th>\n",
              "      <td>fabric</td>\n",
              "      <td>4102</td>\n",
              "      <td>4731</td>\n",
              "      <td>8.0</td>\n",
              "      <td>0.008137</td>\n",
              "      <td>0.102038</td>\n",
              "      <td>0.174657</td>\n",
              "      <td>1231</td>\n",
              "      <td>3500</td>\n",
              "    </tr>\n",
              "    <tr>\n",
              "      <th>8</th>\n",
              "      <td>small</td>\n",
              "      <td>3643</td>\n",
              "      <td>4530</td>\n",
              "      <td>9.0</td>\n",
              "      <td>0.007791</td>\n",
              "      <td>0.109828</td>\n",
              "      <td>0.155114</td>\n",
              "      <td>877</td>\n",
              "      <td>3653</td>\n",
              "    </tr>\n",
              "    <tr>\n",
              "      <th>9</th>\n",
              "      <td>color</td>\n",
              "      <td>3999</td>\n",
              "      <td>4530</td>\n",
              "      <td>10.0</td>\n",
              "      <td>0.007791</td>\n",
              "      <td>0.117619</td>\n",
              "      <td>0.170272</td>\n",
              "      <td>705</td>\n",
              "      <td>3825</td>\n",
              "    </tr>\n",
              "    <tr>\n",
              "      <th>10</th>\n",
              "      <td>look</td>\n",
              "      <td>3490</td>\n",
              "      <td>4001</td>\n",
              "      <td>11.0</td>\n",
              "      <td>0.006881</td>\n",
              "      <td>0.124500</td>\n",
              "      <td>0.148599</td>\n",
              "      <td>958</td>\n",
              "      <td>3043</td>\n",
              "    </tr>\n",
              "    <tr>\n",
              "      <th>11</th>\n",
              "      <td>ordered</td>\n",
              "      <td>3449</td>\n",
              "      <td>3824</td>\n",
              "      <td>12.0</td>\n",
              "      <td>0.006577</td>\n",
              "      <td>0.131077</td>\n",
              "      <td>0.146853</td>\n",
              "      <td>821</td>\n",
              "      <td>3003</td>\n",
              "    </tr>\n",
              "    <tr>\n",
              "      <th>12</th>\n",
              "      <td>little</td>\n",
              "      <td>3282</td>\n",
              "      <td>3768</td>\n",
              "      <td>13.0</td>\n",
              "      <td>0.006480</td>\n",
              "      <td>0.137557</td>\n",
              "      <td>0.139743</td>\n",
              "      <td>363</td>\n",
              "      <td>3405</td>\n",
              "    </tr>\n",
              "    <tr>\n",
              "      <th>13</th>\n",
              "      <td>perfect</td>\n",
              "      <td>3337</td>\n",
              "      <td>3718</td>\n",
              "      <td>14.0</td>\n",
              "      <td>0.006394</td>\n",
              "      <td>0.143952</td>\n",
              "      <td>0.142085</td>\n",
              "      <td>197</td>\n",
              "      <td>3521</td>\n",
              "    </tr>\n",
              "    <tr>\n",
              "      <th>14</th>\n",
              "      <td>flattering</td>\n",
              "      <td>3292</td>\n",
              "      <td>3458</td>\n",
              "      <td>15.0</td>\n",
              "      <td>0.005947</td>\n",
              "      <td>0.149899</td>\n",
              "      <td>0.140169</td>\n",
              "      <td>449</td>\n",
              "      <td>3009</td>\n",
              "    </tr>\n",
              "    <tr>\n",
              "      <th>15</th>\n",
              "      <td>soft</td>\n",
              "      <td>3140</td>\n",
              "      <td>3297</td>\n",
              "      <td>16.0</td>\n",
              "      <td>0.005670</td>\n",
              "      <td>0.155569</td>\n",
              "      <td>0.133697</td>\n",
              "      <td>290</td>\n",
              "      <td>3007</td>\n",
              "    </tr>\n",
              "    <tr>\n",
              "      <th>16</th>\n",
              "      <td>comfortable</td>\n",
              "      <td>2912</td>\n",
              "      <td>3016</td>\n",
              "      <td>17.0</td>\n",
              "      <td>0.005187</td>\n",
              "      <td>0.160756</td>\n",
              "      <td>0.123989</td>\n",
              "      <td>170</td>\n",
              "      <td>2846</td>\n",
              "    </tr>\n",
              "  </tbody>\n",
              "</table>\n",
              "</div>"
            ],
            "text/plain": [
              "           word  word_in_docs  ...  unrecommend  recommend\n",
              "7        fabric          4102  ...         1231       3500\n",
              "8         small          3643  ...          877       3653\n",
              "9         color          3999  ...          705       3825\n",
              "10         look          3490  ...          958       3043\n",
              "11      ordered          3449  ...          821       3003\n",
              "12       little          3282  ...          363       3405\n",
              "13      perfect          3337  ...          197       3521\n",
              "14   flattering          3292  ...          449       3009\n",
              "15         soft          3140  ...          290       3007\n",
              "16  comfortable          2912  ...          170       2846\n",
              "\n",
              "[10 rows x 9 columns]"
            ]
          },
          "metadata": {
            "tags": []
          },
          "execution_count": 62
        }
      ]
    },
    {
      "cell_type": "markdown",
      "metadata": {
        "id": "f0iyh_gFnxVV"
      },
      "source": [
        "### 6) Lemmatization 사용 효과를 분석해 봅니다.\n",
        "- 문항 6-1) Stemming한 뒤 상위 10개 단어를 입력하시오.\n",
        "- 문항 6-2) Lemmatization을 진행한 뒤 상위 10개 단어를 입력하시오."
      ]
    },
    {
      "cell_type": "markdown",
      "metadata": {
        "id": "hVpGBmriUkf0"
      },
      "source": [
        "### **Stemming**"
      ]
    },
    {
      "cell_type": "code",
      "metadata": {
        "id": "xbjOhvKmU6Qf"
      },
      "source": [
        "# 필요한 lib import 및 PorterStemmer 정의\n",
        "from nltk.stem import PorterStemmer\n",
        "ps = PorterStemmer()\n",
        "\n",
        "# 토큰화된 자료를 불러 와 stemming한 뒤, df['stem']에 저장.\n",
        "tokens = []\n",
        "for doc in df['tokens']:\n",
        "    doc_tokens = []\n",
        "    for token in doc:\n",
        "        doc_tokens.append(ps.stem(token))\n",
        "    tokens.append(doc_tokens)\n",
        "\n",
        "df['stems'] = tokens\n",
        "\n",
        "# 토큰의 비율 등 자료 산출하는 함수(이전에 정의)에 df['stems'] 입력\n",
        "wc = word_count(df['stems'])"
      ],
      "execution_count": 99,
      "outputs": []
    },
    {
      "cell_type": "code",
      "metadata": {
        "colab": {
          "base_uri": "https://localhost:8080/",
          "height": 343
        },
        "id": "9gKmZD8Efz72",
        "outputId": "a41b9d86-21d8-41f6-f6e3-670809d4d8dc"
      },
      "source": [
        "# Recommend, Unrecommend 여부에 따라 달라지는 텍스트 비중 확인위해, df['Recommended IND'] 나눠 token값 집계한 결과값을 추가\n",
        "recomend = Counter()\n",
        "unrecomend = Counter()\n",
        "\n",
        "for index, val in enumerate(df['Recommended IND']) :\n",
        "  if val == 1 :\n",
        "    recomend.update(df['lemmas'][index]) \n",
        "  else :\n",
        "    unrecomend.update(df['lemmas'][index])\n",
        "\n",
        "unrecommend_df = pd.DataFrame(zip(unrecomend.keys(), unrecomend.values()), columns =['word','unrecommend'])\n",
        "recommend_df = pd.DataFrame(zip(recomend.keys(), recomend.values()), columns =['word','recommend'])\n",
        "\n",
        "wc = wc.merge(unrecommend_df, on='word')\n",
        "wc = wc.merge(recommend_df, on='word')\n",
        "\n",
        "wc.head(10)"
      ],
      "execution_count": 100,
      "outputs": [
        {
          "output_type": "execute_result",
          "data": {
            "text/html": [
              "<div>\n",
              "<style scoped>\n",
              "    .dataframe tbody tr th:only-of-type {\n",
              "        vertical-align: middle;\n",
              "    }\n",
              "\n",
              "    .dataframe tbody tr th {\n",
              "        vertical-align: top;\n",
              "    }\n",
              "\n",
              "    .dataframe thead th {\n",
              "        text-align: right;\n",
              "    }\n",
              "</style>\n",
              "<table border=\"1\" class=\"dataframe\">\n",
              "  <thead>\n",
              "    <tr style=\"text-align: right;\">\n",
              "      <th></th>\n",
              "      <th>word</th>\n",
              "      <th>word_in_docs</th>\n",
              "      <th>count</th>\n",
              "      <th>rank</th>\n",
              "      <th>percent</th>\n",
              "      <th>cul_percent</th>\n",
              "      <th>word_in_docs_percent</th>\n",
              "      <th>unrecommend</th>\n",
              "      <th>recommend</th>\n",
              "    </tr>\n",
              "  </thead>\n",
              "  <tbody>\n",
              "    <tr>\n",
              "      <th>0</th>\n",
              "      <td>dress</td>\n",
              "      <td>6747</td>\n",
              "      <td>12022</td>\n",
              "      <td>1.0</td>\n",
              "      <td>0.020676</td>\n",
              "      <td>0.020676</td>\n",
              "      <td>0.287278</td>\n",
              "      <td>2093</td>\n",
              "      <td>9843</td>\n",
              "    </tr>\n",
              "    <tr>\n",
              "      <th>1</th>\n",
              "      <td>love</td>\n",
              "      <td>9165</td>\n",
              "      <td>11302</td>\n",
              "      <td>2.0</td>\n",
              "      <td>0.019438</td>\n",
              "      <td>0.040113</td>\n",
              "      <td>0.390232</td>\n",
              "      <td>1320</td>\n",
              "      <td>8922</td>\n",
              "    </tr>\n",
              "    <tr>\n",
              "      <th>2</th>\n",
              "      <td>fit</td>\n",
              "      <td>8971</td>\n",
              "      <td>11252</td>\n",
              "      <td>3.0</td>\n",
              "      <td>0.019352</td>\n",
              "      <td>0.059465</td>\n",
              "      <td>0.381972</td>\n",
              "      <td>1581</td>\n",
              "      <td>9109</td>\n",
              "    </tr>\n",
              "    <tr>\n",
              "      <th>3</th>\n",
              "      <td>size</td>\n",
              "      <td>7446</td>\n",
              "      <td>10551</td>\n",
              "      <td>4.0</td>\n",
              "      <td>0.018146</td>\n",
              "      <td>0.077611</td>\n",
              "      <td>0.317040</td>\n",
              "      <td>1455</td>\n",
              "      <td>8564</td>\n",
              "    </tr>\n",
              "    <tr>\n",
              "      <th>4</th>\n",
              "      <td>look</td>\n",
              "      <td>7116</td>\n",
              "      <td>9253</td>\n",
              "      <td>5.0</td>\n",
              "      <td>0.015914</td>\n",
              "      <td>0.093524</td>\n",
              "      <td>0.302989</td>\n",
              "      <td>2377</td>\n",
              "      <td>6832</td>\n",
              "    </tr>\n",
              "    <tr>\n",
              "      <th>5</th>\n",
              "      <td>wear</td>\n",
              "      <td>6672</td>\n",
              "      <td>8037</td>\n",
              "      <td>6.0</td>\n",
              "      <td>0.013822</td>\n",
              "      <td>0.107347</td>\n",
              "      <td>0.284084</td>\n",
              "      <td>1231</td>\n",
              "      <td>8825</td>\n",
              "    </tr>\n",
              "    <tr>\n",
              "      <th>6</th>\n",
              "      <td>like</td>\n",
              "      <td>6207</td>\n",
              "      <td>7705</td>\n",
              "      <td>7.0</td>\n",
              "      <td>0.013251</td>\n",
              "      <td>0.120598</td>\n",
              "      <td>0.264285</td>\n",
              "      <td>1887</td>\n",
              "      <td>5690</td>\n",
              "    </tr>\n",
              "    <tr>\n",
              "      <th>7</th>\n",
              "      <td>color</td>\n",
              "      <td>6093</td>\n",
              "      <td>7142</td>\n",
              "      <td>8.0</td>\n",
              "      <td>0.012283</td>\n",
              "      <td>0.132881</td>\n",
              "      <td>0.259431</td>\n",
              "      <td>1016</td>\n",
              "      <td>5916</td>\n",
              "    </tr>\n",
              "    <tr>\n",
              "      <th>8</th>\n",
              "      <td>great</td>\n",
              "      <td>5158</td>\n",
              "      <td>6054</td>\n",
              "      <td>9.0</td>\n",
              "      <td>0.010412</td>\n",
              "      <td>0.143293</td>\n",
              "      <td>0.219620</td>\n",
              "      <td>526</td>\n",
              "      <td>5536</td>\n",
              "    </tr>\n",
              "    <tr>\n",
              "      <th>9</th>\n",
              "      <td>order</td>\n",
              "      <td>4198</td>\n",
              "      <td>4975</td>\n",
              "      <td>10.0</td>\n",
              "      <td>0.008556</td>\n",
              "      <td>0.151849</td>\n",
              "      <td>0.178745</td>\n",
              "      <td>989</td>\n",
              "      <td>3977</td>\n",
              "    </tr>\n",
              "  </tbody>\n",
              "</table>\n",
              "</div>"
            ],
            "text/plain": [
              "    word  word_in_docs  count  ...  word_in_docs_percent  unrecommend  recommend\n",
              "0  dress          6747  12022  ...              0.287278         2093       9843\n",
              "1   love          9165  11302  ...              0.390232         1320       8922\n",
              "2    fit          8971  11252  ...              0.381972         1581       9109\n",
              "3   size          7446  10551  ...              0.317040         1455       8564\n",
              "4   look          7116   9253  ...              0.302989         2377       6832\n",
              "5   wear          6672   8037  ...              0.284084         1231       8825\n",
              "6   like          6207   7705  ...              0.264285         1887       5690\n",
              "7  color          6093   7142  ...              0.259431         1016       5916\n",
              "8  great          5158   6054  ...              0.219620          526       5536\n",
              "9  order          4198   4975  ...              0.178745          989       3977\n",
              "\n",
              "[10 rows x 9 columns]"
            ]
          },
          "metadata": {
            "tags": []
          },
          "execution_count": 100
        }
      ]
    },
    {
      "cell_type": "code",
      "metadata": {
        "colab": {
          "base_uri": "https://localhost:8080/",
          "height": 545
        },
        "id": "KY-9Ujfnf3hr",
        "outputId": "fd754b35-04ae-4ca4-bc69-186cf8bb8492"
      },
      "source": [
        "# df['Recommended IND'] 별 token 수 시각화\n",
        "wc_top10 = wc.sort_values(by='unrecommend', ascending=False)[:10]\n",
        "squarify.plot(sizes=wc_top10['unrecommend'], label=wc_top10['word'], value = wc_manual_top10['unrecommend'], alpha=0.6, text_kwargs={'fontsize':15})\n",
        "plt.title('Unrecomended Token TOP 10')\n",
        "plt.show()\n",
        "\n",
        "wc_top10 = wc.sort_values(by='recommend', ascending=False)[:10]\n",
        "squarify.plot(sizes=wc_top10['recommend'], label=wc_top10['word'], value = wc_manual_top10['recommend'], alpha=0.6, text_kwargs={'fontsize':15})\n",
        "plt.title('Recomended Token TOP 10')\n",
        "plt.show()"
      ],
      "execution_count": 101,
      "outputs": [
        {
          "output_type": "display_data",
          "data": {
            "image/png": "[encoded data removed]",
            "text/plain": [
              "<Figure size 432x288 with 1 Axes>"
            ]
          },
          "metadata": {
            "tags": [],
            "needs_background": "light"
          }
        },
        {
          "output_type": "display_data",
          "data": {
            "image/png": "[encoded data removed]",
            "text/plain": [
              "<Figure size 432x288 with 1 Axes>"
            ]
          },
          "metadata": {
            "tags": [],
            "needs_background": "light"
          }
        }
      ]
    },
    {
      "cell_type": "markdown",
      "metadata": {
        "id": "gF3V_d8kWd6G"
      },
      "source": [
        "### **Lemmatization**"
      ]
    },
    {
      "cell_type": "code",
      "metadata": {
        "colab": {
          "base_uri": "https://localhost:8080/",
          "height": 248
        },
        "id": "sTNN1gJCWhHu",
        "outputId": "f1d6ef91-1cfa-4f6d-827a-a6b8106b79cd"
      },
      "source": [
        "def get_lemmas(text):\n",
        "\n",
        "    lemmas = []\n",
        "    \n",
        "    doc = nlp(text)\n",
        "\n",
        "    for token in doc: \n",
        "        # 불용어/구두점/대명사(?)/추가 불용어에 해당하는지 확인 후, 모두 해당하지 않으면 리스트에 df['lammas'] 리스트에 저장\n",
        "        ### STOP_WORDS 적용 안되어 문제 해결 필요\n",
        "        if ((token.is_stop == False) and (token.is_punct == False)) and (token.pos_ != 'PRON') and (token not in STOP_WORDS):\n",
        "            lemmas.append(token.lemma_)\n",
        "    \n",
        "    return lemmas\n",
        "\n",
        "df['lemmas'] = df[feature].apply(get_lemmas)\n",
        "\n",
        "# 토큰의 비율 등 자료 산출하는 함수(이전에 정의)에 df['lemmas'] 입력\n",
        "wc = word_count(df['lemmas'])\n",
        "\n",
        "# 상기 wc를 통해, 상위 10개의 토큰 시각화\n",
        "wc_top10 = wc[wc['rank'] <= 10]\n",
        "squarify.plot(sizes=wc_top10['percent'], label=wc_top10['word'], alpha=0.6)\n",
        "plt.axis('off')\n",
        "plt.show()"
      ],
      "execution_count": 95,
      "outputs": [
        {
          "output_type": "display_data",
          "data": {
            "image/png": "[encoded data removed]",
            "text/plain": [
              "<Figure size 432x288 with 1 Axes>"
            ]
          },
          "metadata": {
            "tags": [],
            "needs_background": "light"
          }
        }
      ]
    },
    {
      "cell_type": "code",
      "metadata": {
        "colab": {
          "base_uri": "https://localhost:8080/",
          "height": 343
        },
        "id": "LgSIC8kXcLxU",
        "outputId": "36f4f807-5321-40f1-d2f9-90e21a4e648a"
      },
      "source": [
        "# Recommend, Unrecommend 여부에 따라 달라지는 텍스트 비중 확인위해, df['Recommended IND'] 나눠 token값 집계한 결과값을 추가\n",
        "recomend = Counter()\n",
        "unrecomend = Counter()\n",
        "\n",
        "for index, val in enumerate(df['Recommended IND']) :\n",
        "  if val == 1 :\n",
        "    recomend.update(df['lemmas'][index]) \n",
        "  else :\n",
        "    unrecomend.update(df['lemmas'][index])\n",
        "\n",
        "unrecommend_df = pd.DataFrame(zip(unrecomend.keys(), unrecomend.values()), columns =['word','unrecommend'])\n",
        "recommend_df = pd.DataFrame(zip(recomend.keys(), recomend.values()), columns =['word','recommend'])\n",
        "\n",
        "wc = wc.merge(unrecommend_df, on='word')\n",
        "wc = wc.merge(recommend_df, on='word')\n",
        "\n",
        "wc.head(10)"
      ],
      "execution_count": 97,
      "outputs": [
        {
          "output_type": "execute_result",
          "data": {
            "text/html": [
              "<div>\n",
              "<style scoped>\n",
              "    .dataframe tbody tr th:only-of-type {\n",
              "        vertical-align: middle;\n",
              "    }\n",
              "\n",
              "    .dataframe tbody tr th {\n",
              "        vertical-align: top;\n",
              "    }\n",
              "\n",
              "    .dataframe thead th {\n",
              "        text-align: right;\n",
              "    }\n",
              "</style>\n",
              "<table border=\"1\" class=\"dataframe\">\n",
              "  <thead>\n",
              "    <tr style=\"text-align: right;\">\n",
              "      <th></th>\n",
              "      <th>word</th>\n",
              "      <th>word_in_docs</th>\n",
              "      <th>count</th>\n",
              "      <th>rank</th>\n",
              "      <th>percent</th>\n",
              "      <th>cul_percent</th>\n",
              "      <th>word_in_docs_percent</th>\n",
              "      <th>unrecommend</th>\n",
              "      <th>recommend</th>\n",
              "    </tr>\n",
              "  </thead>\n",
              "  <tbody>\n",
              "    <tr>\n",
              "      <th>0</th>\n",
              "      <td>dress</td>\n",
              "      <td>6690</td>\n",
              "      <td>11936</td>\n",
              "      <td>1.0</td>\n",
              "      <td>0.020076</td>\n",
              "      <td>0.020076</td>\n",
              "      <td>0.284851</td>\n",
              "      <td>2093</td>\n",
              "      <td>9843</td>\n",
              "    </tr>\n",
              "    <tr>\n",
              "      <th>1</th>\n",
              "      <td>fit</td>\n",
              "      <td>8664</td>\n",
              "      <td>10690</td>\n",
              "      <td>2.0</td>\n",
              "      <td>0.017980</td>\n",
              "      <td>0.038056</td>\n",
              "      <td>0.368901</td>\n",
              "      <td>1581</td>\n",
              "      <td>9109</td>\n",
              "    </tr>\n",
              "    <tr>\n",
              "      <th>2</th>\n",
              "      <td>love</td>\n",
              "      <td>8449</td>\n",
              "      <td>10242</td>\n",
              "      <td>3.0</td>\n",
              "      <td>0.017227</td>\n",
              "      <td>0.055283</td>\n",
              "      <td>0.359746</td>\n",
              "      <td>1320</td>\n",
              "      <td>8922</td>\n",
              "    </tr>\n",
              "    <tr>\n",
              "      <th>3</th>\n",
              "      <td>wear</td>\n",
              "      <td>7896</td>\n",
              "      <td>10056</td>\n",
              "      <td>4.0</td>\n",
              "      <td>0.016914</td>\n",
              "      <td>0.072197</td>\n",
              "      <td>0.336200</td>\n",
              "      <td>1231</td>\n",
              "      <td>8825</td>\n",
              "    </tr>\n",
              "    <tr>\n",
              "      <th>4</th>\n",
              "      <td>size</td>\n",
              "      <td>7156</td>\n",
              "      <td>10019</td>\n",
              "      <td>5.0</td>\n",
              "      <td>0.016852</td>\n",
              "      <td>0.089049</td>\n",
              "      <td>0.304692</td>\n",
              "      <td>1455</td>\n",
              "      <td>8564</td>\n",
              "    </tr>\n",
              "    <tr>\n",
              "      <th>5</th>\n",
              "      <td>look</td>\n",
              "      <td>7095</td>\n",
              "      <td>9209</td>\n",
              "      <td>6.0</td>\n",
              "      <td>0.015489</td>\n",
              "      <td>0.104538</td>\n",
              "      <td>0.302095</td>\n",
              "      <td>2377</td>\n",
              "      <td>6832</td>\n",
              "    </tr>\n",
              "    <tr>\n",
              "      <th>6</th>\n",
              "      <td>not</td>\n",
              "      <td>6464</td>\n",
              "      <td>8303</td>\n",
              "      <td>7.0</td>\n",
              "      <td>0.013965</td>\n",
              "      <td>0.118503</td>\n",
              "      <td>0.275228</td>\n",
              "      <td>1982</td>\n",
              "      <td>6321</td>\n",
              "    </tr>\n",
              "    <tr>\n",
              "      <th>7</th>\n",
              "      <td>like</td>\n",
              "      <td>6121</td>\n",
              "      <td>7577</td>\n",
              "      <td>8.0</td>\n",
              "      <td>0.012744</td>\n",
              "      <td>0.131247</td>\n",
              "      <td>0.260623</td>\n",
              "      <td>1887</td>\n",
              "      <td>5690</td>\n",
              "    </tr>\n",
              "    <tr>\n",
              "      <th>8</th>\n",
              "      <td></td>\n",
              "      <td>4193</td>\n",
              "      <td>7530</td>\n",
              "      <td>9.0</td>\n",
              "      <td>0.012665</td>\n",
              "      <td>0.143913</td>\n",
              "      <td>0.178532</td>\n",
              "      <td>1271</td>\n",
              "      <td>6259</td>\n",
              "    </tr>\n",
              "    <tr>\n",
              "      <th>9</th>\n",
              "      <td>color</td>\n",
              "      <td>5960</td>\n",
              "      <td>6932</td>\n",
              "      <td>10.0</td>\n",
              "      <td>0.011659</td>\n",
              "      <td>0.155572</td>\n",
              "      <td>0.253768</td>\n",
              "      <td>1016</td>\n",
              "      <td>5916</td>\n",
              "    </tr>\n",
              "  </tbody>\n",
              "</table>\n",
              "</div>"
            ],
            "text/plain": [
              "    word  word_in_docs  count  ...  word_in_docs_percent  unrecommend  recommend\n",
              "0  dress          6690  11936  ...              0.284851         2093       9843\n",
              "1    fit          8664  10690  ...              0.368901         1581       9109\n",
              "2   love          8449  10242  ...              0.359746         1320       8922\n",
              "3   wear          7896  10056  ...              0.336200         1231       8825\n",
              "4   size          7156  10019  ...              0.304692         1455       8564\n",
              "5   look          7095   9209  ...              0.302095         2377       6832\n",
              "6    not          6464   8303  ...              0.275228         1982       6321\n",
              "7   like          6121   7577  ...              0.260623         1887       5690\n",
              "8                 4193   7530  ...              0.178532         1271       6259\n",
              "9  color          5960   6932  ...              0.253768         1016       5916\n",
              "\n",
              "[10 rows x 9 columns]"
            ]
          },
          "metadata": {
            "tags": []
          },
          "execution_count": 97
        }
      ]
    },
    {
      "cell_type": "code",
      "metadata": {
        "colab": {
          "base_uri": "https://localhost:8080/",
          "height": 545
        },
        "id": "p2inta1sckqv",
        "outputId": "89426ba8-3de6-456b-bfba-606852f39751"
      },
      "source": [
        "# df['Recommended IND'] 별 token 수 시각화\n",
        "wc_top10 = wc.sort_values(by='unrecommend', ascending=False)[:10]\n",
        "squarify.plot(sizes=wc_top10['unrecommend'], label=wc_top10['word'], value = wc_manual_top10['unrecommend'], alpha=0.6, text_kwargs={'fontsize':15})\n",
        "plt.title('Unrecomended Token TOP 10')\n",
        "plt.show()\n",
        "\n",
        "wc_top10 = wc.sort_values(by='recommend', ascending=False)[:10]\n",
        "squarify.plot(sizes=wc_top10['recommend'], label=wc_top10['word'], value = wc_manual_top10['recommend'], alpha=0.6, text_kwargs={'fontsize':15})\n",
        "plt.title('Recomended Token TOP 10')\n",
        "plt.show()"
      ],
      "execution_count": 98,
      "outputs": [
        {
          "output_type": "display_data",
          "data": {
            "image/png": "[encoded data removed]",
            "text/plain": [
              "<Figure size 432x288 with 1 Axes>"
            ]
          },
          "metadata": {
            "tags": [],
            "needs_background": "light"
          }
        },
        {
          "output_type": "display_data",
          "data": {
            "image/png": "[encoded data removed]",
            "text/plain": [
              "<Figure size 432x288 with 1 Axes>"
            ]
          },
          "metadata": {
            "tags": [],
            "needs_background": "light"
          }
        }
      ]
    },
    {
      "cell_type": "markdown",
      "metadata": {
        "id": "fXK19yoPnxVV"
      },
      "source": [
        "### 도전과제🔥 \n",
        "- Spacy 기능을 추가적으로 한 가지 사용해 봅니다.\n",
        "- 다른 자연어 데이터셋을 이용해서 지금까지 배운 내용을 복습해 봅시다."
      ]
    },
    {
      "cell_type": "code",
      "metadata": {
        "id": "n37naUF9nxVV"
      },
      "source": [
        "### 이곳에서 과제를 진행해 주세요 ### "
      ],
      "execution_count": null,
      "outputs": []
    }
  ]
}